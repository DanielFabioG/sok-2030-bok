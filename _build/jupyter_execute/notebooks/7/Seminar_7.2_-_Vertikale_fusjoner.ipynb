{
 "cells": [
  {
   "cell_type": "markdown",
   "id": "6326cda8",
   "metadata": {},
   "source": [
    "# Seminar 7.2: Vertikale fusjoner"
   ]
  },
  {
   "cell_type": "code",
   "execution_count": 1,
   "id": "4dd1e255",
   "metadata": {},
   "outputs": [],
   "source": [
    "import numpy as np\n",
    "import sympy as sp"
   ]
  },
  {
   "cell_type": "markdown",
   "id": "749caf66",
   "metadata": {},
   "source": [
    "## Vertikale fusjoner og dobbel-marginalisering\n",
    "\n",
    "I det siste seminaret skal vi nå se på hvordan vertikale fusjoner kan være en løsning på problemet med dobbel-marginalisering. Vi skal se på hvordan en vertikal fusjon kan føre til lavere priser og høyere profitt for produsenten, og hvordan dette kan påvirke forbrukerne.\n",
    "\n",
    "Vi antar at vi har to bedrifter, en oppstrømsbedrift som produserer en vare og en nedstrømsbedrift som distribuerer varen.\n",
    "\n",
    "Etterspørselen etter varen er gitt ved:\n",
    "\n",
    "$$\n",
    "Q = \\frac{a - P}{b}\n",
    "$$\n",
    "\n",
    "hvor $Q$ er etterspørselen, $P$ er prisen, og $a$ og $b$ er konstanter. Vi gjør også antagelsen at $a > 0$ og $b > 0$.\n",
    "\n",
    "Oppstrømsbedriften produserer innsatsfaktor som selges til nedstrømsbedriften til en pris lik $r$, og har marginalkostnad $c$. Nedstrømsbedriften har kun innkjøpskostnaden $r$.\n",
    "\n",
    "Vi regner det ut algebraisk i kode, så for å få tallverdier som svar, så setter man bare inn verdier for $a$, $b$, $c$ og $r$ i koden.\n",
    "\n",
    "Som normalt trenger vi å finne invers etterspørsel, og løser dette ved å isolere $P$ i etterspørselen:\n",
    "\n",
    "$$\n",
    "P = a - bQ\n",
    "$$\n"
   ]
  },
  {
   "cell_type": "code",
   "execution_count": 2,
   "id": "4edc41d8",
   "metadata": {},
   "outputs": [
    {
     "data": {
      "text/latex": [
       "$\\displaystyle q_{1} = \\frac{- P + a}{b}$"
      ],
      "text/plain": [
       "Eq(q_1, (-P + a)/b)"
      ]
     },
     "metadata": {},
     "output_type": "display_data"
    },
    {
     "data": {
      "text/latex": [
       "$\\displaystyle a - b q_{1}$"
      ],
      "text/plain": [
       "a - b*q_1"
      ]
     },
     "metadata": {},
     "output_type": "display_data"
    }
   ],
   "source": [
    "# Definerer symboler\n",
    "P,Q,q_1,q_2,b,c,r,a = sp.symbols('P Q q_1 q_2 b c r a')\n",
    "\n",
    "# Definerer etterspørselsfunksjonen\n",
    "Etterspørsel = sp.Eq(q_1, (a-P)/b)\n",
    "\n",
    "# Løser for P\n",
    "Invers_etterspørsel = sp.solve(Etterspørsel, P)[0]\n",
    "\n",
    "# Viser løsningene\n",
    "display(Etterspørsel, Invers_etterspørsel)"
   ]
  },
  {
   "cell_type": "code",
   "execution_count": 3,
   "id": "3ff10b93",
   "metadata": {},
   "outputs": [
    {
     "data": {
      "text/latex": [
       "$\\displaystyle q_{1} \\left(a - b q_{1}\\right)$"
      ],
      "text/plain": [
       "q_1*(a - b*q_1)"
      ]
     },
     "metadata": {},
     "output_type": "display_data"
    }
   ],
   "source": [
    "# Totalinntekt\n",
    "Totalinntekt = Invers_etterspørsel * q_1\n",
    "\n",
    "# Viser totalinntekt\n",
    "display(sp.simplify(Totalinntekt))"
   ]
  },
  {
   "cell_type": "code",
   "execution_count": 4,
   "id": "11f61329",
   "metadata": {},
   "outputs": [
    {
     "data": {
      "text/latex": [
       "$\\displaystyle a - 2 b q_{1}$"
      ],
      "text/plain": [
       "a - 2*b*q_1"
      ]
     },
     "metadata": {},
     "output_type": "display_data"
    }
   ],
   "source": [
    "# Marginalinntekt\n",
    "Marginalinntekt_1 = sp.diff(Totalinntekt, q_1)\n",
    "\n",
    "# Viser marginalinntekt\n",
    "display(Marginalinntekt_1)"
   ]
  },
  {
   "cell_type": "code",
   "execution_count": 5,
   "id": "feb9b7b0",
   "metadata": {},
   "outputs": [
    {
     "data": {
      "text/latex": [
       "$\\displaystyle a - 2 b q_{1} = r$"
      ],
      "text/plain": [
       "Eq(a - 2*b*q_1, r)"
      ]
     },
     "metadata": {},
     "output_type": "display_data"
    }
   ],
   "source": [
    "# Setter marginalinntekt lik optimal pris\n",
    "Marginalkostnad = sp.Eq(Marginalinntekt_1, r)\n",
    "\n",
    "# Viser marginalkostnad\n",
    "display(Marginalkostnad)"
   ]
  },
  {
   "cell_type": "markdown",
   "id": "7b593643",
   "metadata": {},
   "source": [
    "## To-trinns spill\n",
    "\n",
    "Hvor trinn 1 er at oppstrømsbedriften velger optimal pris i innsatsfaktormarkedet $r$, og trinn 2 er at nedstrømsbedriften velger kvantum og pris i sluttbrukermarkedet.\n",
    "\n",
    "### Trinn 2: Nedstrømsbedriften velger kvantum og pris i sluttbrukermarkedet\n",
    "\n",
    "Videre så har vi baklengs induksjon, og starter med trinn 2.\n",
    "\n",
    "Vi multipliserer invers etterspørsel med kvantum $q_1$ for å få total inntekt $TR$ til nedstrømsbedriften:\n",
    "\n",
    "$$\n",
    "TR = P \\cdot q_1 =  q_{1} \\left(a - b q_{1}\\right)\n",
    "$$\n",
    "\n",
    "Deretter så finner vi marginalinntekt $MR$ ved å derivere $TR$ med hensyn på $q_1$:\n",
    "\n",
    "$$\n",
    "MR = \\frac{dTR}{dq_1} = a - 2bq_1\n",
    "$$\n",
    "\n",
    "Nedstrømsbedriften maksimerer profitt ved å sette $MR = r$, og vi får:\n",
    "\n",
    "$$\n",
    "MR = r \\implies a - 2bq_1 = r \\implies q_1 = \\frac{a - r}{2b}\n",
    "$$\n",
    "\n",
    "Nedstrømsbedriften setter prisen $P$ i henhold til invers etterspørsel:\n",
    "\n",
    "$$\n",
    "P = a - bq_1 = a - b \\cdot \\frac{a - r}{2b} = \\frac{a + r}{2}\n",
    "$$\n",
    "\n",
    "Nedstrømsbedriften har nå funnet sitt optimale kvantum og pris, og vi kan nå gå videre til trinn 1."
   ]
  },
  {
   "cell_type": "code",
   "execution_count": 6,
   "id": "faa1b4c6",
   "metadata": {},
   "outputs": [
    {
     "data": {
      "text/latex": [
       "$\\displaystyle \\frac{a - r}{2 b}$"
      ],
      "text/plain": [
       "(a - r)/(2*b)"
      ]
     },
     "metadata": {},
     "output_type": "display_data"
    }
   ],
   "source": [
    "# Løser for q_1\n",
    "q1 = sp.solve(Marginalkostnad, q_1)[0]\n",
    "\n",
    "# Viser optimalt kvantum\n",
    "display(q1)"
   ]
  },
  {
   "cell_type": "code",
   "execution_count": 7,
   "id": "647ee03c",
   "metadata": {},
   "outputs": [
    {
     "data": {
      "text/latex": [
       "$\\displaystyle \\frac{a}{2} + \\frac{r}{2}$"
      ],
      "text/plain": [
       "a/2 + r/2"
      ]
     },
     "metadata": {},
     "output_type": "display_data"
    }
   ],
   "source": [
    "# Setter så optimalt kvantum inn i invers etterspørsel for å finne optimal pris\n",
    "Optimal_pris = Invers_etterspørsel.subs(q_1, q1)\n",
    "\n",
    "# Viser optimal pris\n",
    "display(Optimal_pris)"
   ]
  },
  {
   "cell_type": "markdown",
   "id": "4da5ec85",
   "metadata": {},
   "source": [
    "### Trinn 1: Oppstrømsbedriften velger optimal pris $r$\n",
    "\n",
    "Oppstrømsbedriften selger samme kvantum som nedstrømsbedriften $q_1$ og står ovenfor en invers etterspørsel:\n",
    "\n",
    "$$\n",
    "r = a-2bq_2\n",
    "$$\n",
    "\n",
    "Finner totalinntekt $TR$ til oppstrømsbedriften:\n",
    "\n",
    "$$\n",
    "TR = r \\cdot q_2 = \\left(a - 2bq_2\\right)q_2 = aq_2 - 2bq_2^2\n",
    "$$\n",
    "\n",
    "Deretter finner vi marginalinntekt $MR$ ved å derivere $TR$ med hensyn på $q_2$:\n",
    "\n",
    "$$\n",
    "MR = \\frac{dTR}{dq_2} = a - 4bq_2\n",
    "$$\n",
    "\n",
    "Oppstrømsbedriften maksimerer profitt ved å sette $MR = c$, og løser for $q_2$:\n",
    "\n",
    "$$\n",
    "MR = c \\implies a - 4bq_2 = c \\implies q_2 = \\frac{a - c}{4b}\n",
    "$$\n",
    "\n",
    "Finner optimal pris FRA oppstrømsbedriften:\n",
    "$$\n",
    "r = a - 2bq_2 = a - 2b \\cdot \\frac{a - c}{4b} = \\frac{a + c}{2}\n",
    "$$\n",
    "\n",
    "Finner prisen nedstrømsbedriften setter ved å ta totalt kvantum og pris fra oppstrømsbedriften inn i etterspørselen til nedstrømsbedriften:\n",
    "\n",
    "$$\n",
    "P = a - bq_1 = a - b \\cdot \\frac{a - c}{4b} =  \\frac{3 a}{4} + \\frac{c}{4}\n",
    "$$\n",
    "\n",
    "Optimalt kvantum i sluttbrukermarkedet:\n",
    "\n",
    "$$\n",
    "q_1 = \\frac{a - c}{4b}\n",
    "$$\n",
    "\n",
    "Profitt for oppstrømsbedriften:\n",
    "\n",
    "$$\n",
    "\\pi_{up} = \\left(\\frac{a + c}{2} - c\\right)q_2 = \\left(\\frac{a - c}{2}\\right)q_2 = \\frac{(a - c)^2}{8b}\n",
    "$$\n",
    "\n",
    "Profitt for nedstrømsbedriften:\n",
    "\n",
    "$$\n",
    "\\pi_{down} = \\left(\\frac{3 a}{4} + \\frac{c}{4} - r\\right)q_1 = \\left(\\frac{3 a}{4} + \\frac{c}{4} - \\frac{a + c}{2}\\right)q_1 = \\left(\\frac{a - c}{4}\\right)q_1 = \\frac{(a - c)^2}{16b}\n",
    "$$"
   ]
  },
  {
   "cell_type": "code",
   "execution_count": 8,
   "id": "f282a17d",
   "metadata": {},
   "outputs": [
    {
     "data": {
      "text/latex": [
       "$\\displaystyle q_{2} \\left(a - 2 b q_{2}\\right)$"
      ],
      "text/plain": [
       "q_2*(a - 2*b*q_2)"
      ]
     },
     "metadata": {},
     "output_type": "display_data"
    }
   ],
   "source": [
    "# Substituerer inn q_2 i marginalinntekt\n",
    "Marginalinntekt_2 = Marginalinntekt_1.subs(q_1, q_2)\n",
    "\n",
    "# Oppstrømsbedriftens etterspørsel\n",
    "Invers_etterspørsel_oppstrom= Marginalinntekt_2 * q_2\n",
    "\n",
    "# Viser oppstrømsbedriftens etterspørsel\n",
    "display(Invers_etterspørsel_oppstrom)"
   ]
  },
  {
   "cell_type": "code",
   "execution_count": 9,
   "id": "f40c559f",
   "metadata": {},
   "outputs": [
    {
     "data": {
      "text/latex": [
       "$\\displaystyle a - 4 b q_{2}$"
      ],
      "text/plain": [
       "a - 4*b*q_2"
      ]
     },
     "metadata": {},
     "output_type": "display_data"
    }
   ],
   "source": [
    "# Deriverer totalinntekt med hensyn på q_2\n",
    "\n",
    "Marginalinntekt_2 = sp.diff(Invers_etterspørsel_oppstrom, q_2)\n",
    "\n",
    "# Viser marginalinntekt\n",
    "display(Marginalinntekt_2)"
   ]
  },
  {
   "cell_type": "code",
   "execution_count": 10,
   "id": "22bd8f6b",
   "metadata": {},
   "outputs": [
    {
     "data": {
      "text/latex": [
       "$\\displaystyle a - 4 b q_{2} = c$"
      ],
      "text/plain": [
       "Eq(a - 4*b*q_2, c)"
      ]
     },
     "metadata": {},
     "output_type": "display_data"
    }
   ],
   "source": [
    "# Setter marginalinntekt lik marginalkostnad\n",
    "Marginalkostnad = sp.Eq(Marginalinntekt_2, c)\n",
    "\n",
    "# Viser marginalkostnad\n",
    "display(Marginalkostnad)"
   ]
  },
  {
   "cell_type": "code",
   "execution_count": 11,
   "id": "473d0fb8",
   "metadata": {},
   "outputs": [
    {
     "data": {
      "text/latex": [
       "$\\displaystyle \\frac{a - c}{4 b}$"
      ],
      "text/plain": [
       "(a - c)/(4*b)"
      ]
     },
     "metadata": {},
     "output_type": "display_data"
    }
   ],
   "source": [
    "# Løser for q_2 for å finne optimal kvantum for oppstrømsbedriften\n",
    "q2 = sp.solve(Marginalkostnad, q_2)[0]\n",
    "\n",
    "# Viser optimalt kvantum for oppstrømsbedriften\n",
    "display(q2)"
   ]
  },
  {
   "cell_type": "code",
   "execution_count": 12,
   "id": "2cead762",
   "metadata": {},
   "outputs": [
    {
     "data": {
      "text/latex": [
       "$\\displaystyle \\frac{a}{2} + \\frac{c}{2}$"
      ],
      "text/plain": [
       "a/2 + c/2"
      ]
     },
     "metadata": {},
     "output_type": "display_data"
    }
   ],
   "source": [
    "# Optimal pris FRA oppstrømsbedriften\n",
    "\n",
    "Optimal_pris_oppstrom = Marginalinntekt_1.subs(q_1, q2)\n",
    "\n",
    "# Viser optimal pris for oppstrømsbedriften\n",
    "display(Optimal_pris_oppstrom)"
   ]
  },
  {
   "cell_type": "code",
   "execution_count": 13,
   "id": "8cf6bd7b",
   "metadata": {},
   "outputs": [
    {
     "data": {
      "text/latex": [
       "$\\displaystyle \\frac{3 a}{4} + \\frac{c}{4}$"
      ],
      "text/plain": [
       "3*a/4 + c/4"
      ]
     },
     "metadata": {},
     "output_type": "display_data"
    }
   ],
   "source": [
    "# Finner prisen nedstrømsbedriften setter ved å ta totalt kvantum og pris fra oppstrømsbedriften inn i etterspørselen til nedstrømsbedriften\n",
    "\n",
    "Optimal_pris_nedstrom = Invers_etterspørsel.subs(q_1, q2)\n",
    "\n",
    "# Viser optimal pris for nedstrømsbedriften\n",
    "display(sp.simplify(Optimal_pris_nedstrom))"
   ]
  },
  {
   "cell_type": "code",
   "execution_count": 14,
   "id": "3fd662e7",
   "metadata": {},
   "outputs": [
    {
     "data": {
      "text/latex": [
       "$\\displaystyle \\frac{a - c}{4 b}$"
      ],
      "text/plain": [
       "(a - c)/(4*b)"
      ]
     },
     "execution_count": 14,
     "metadata": {},
     "output_type": "execute_result"
    }
   ],
   "source": [
    "q2"
   ]
  },
  {
   "cell_type": "code",
   "execution_count": 15,
   "id": "cd871bbc",
   "metadata": {},
   "outputs": [
    {
     "data": {
      "text/latex": [
       "$\\displaystyle \\frac{a - c}{4 b}$"
      ],
      "text/plain": [
       "(a - c)/(4*b)"
      ]
     },
     "metadata": {},
     "output_type": "display_data"
    }
   ],
   "source": [
    "# Optimalt kvantum i sluttmarkedet\n",
    "Optimal_kvantum_q1 = q1.subs(r, Optimal_pris_oppstrom)\n",
    "\n",
    "# Viser optimalt kvantum i sluttmarkedet\n",
    "display(sp.simplify(Optimal_kvantum_q1))"
   ]
  },
  {
   "cell_type": "code",
   "execution_count": 16,
   "id": "acca75d0",
   "metadata": {},
   "outputs": [
    {
     "data": {
      "text/latex": [
       "$\\displaystyle \\frac{\\left(a - c\\right)^{2}}{8 b}$"
      ],
      "text/plain": [
       "(a - c)**2/(8*b)"
      ]
     },
     "metadata": {},
     "output_type": "display_data"
    }
   ],
   "source": [
    "# Profitt for oppstrømsbedriften\n",
    "Profitt_oppstrom = (Optimal_pris_oppstrom - c) * q2\n",
    "\n",
    "# Viser profitt for oppstrømsbedriften\n",
    "display(sp.simplify(Profitt_oppstrom))"
   ]
  },
  {
   "cell_type": "code",
   "execution_count": 17,
   "id": "81a7ce58",
   "metadata": {},
   "outputs": [
    {
     "data": {
      "text/latex": [
       "$\\displaystyle \\frac{\\left(a - c\\right)^{2}}{16 b}$"
      ],
      "text/plain": [
       "(a - c)**2/(16*b)"
      ]
     },
     "metadata": {},
     "output_type": "display_data"
    }
   ],
   "source": [
    "# Profitt for nedstrømsbedriften\n",
    "Profitt_nedstrom = (Optimal_pris_nedstrom - Optimal_pris_oppstrom) * Optimal_kvantum_q1 \n",
    "\n",
    "# Viser profitt for nedstrømsbedriften\n",
    "display(sp.simplify(Profitt_nedstrom))"
   ]
  },
  {
   "cell_type": "markdown",
   "id": "b75f8ace",
   "metadata": {},
   "source": [
    "## Vertikal integrasjon\n",
    "\n",
    "Vi antar at oppstrømsbedriften fusjonerer med nedstrømsbedriften, og at de nå er en og samme bedrift og opptre som monopolist. Vi ser på hvordan dette påvirker prisen og profitt.\n",
    "\n",
    "Det vi får er et monopol, så vi følger samme fremgangsmåte som seminar 1.1.\n",
    "\n",
    "Oppsummert så får vi ny optimal pris og kvantum og profitt for den fusjonerte bedriften:\n",
    "\n",
    "$$\n",
    "P = \\frac{a + c}{2}\n",
    "$$\n",
    "\n",
    "$$\n",
    "Q = \\frac{a - c}{2b}\n",
    "$$\n",
    "\n",
    "$$\n",
    "\\pi_{merged} = \\left(\\frac{a + c}{2} - c\\right)Q = \\left(\\frac{a - c}{2}\\right)Q = \\frac{(a - c)^2}{4b}\n",
    "$$\n",
    "\n",
    "Som vi kan se så er profitt for den fusjonerte bedriften høyere enn summen av profitt for oppstrøms- og nedstrømsbedriftene før fusjonen:\n",
    "\n",
    "$$\n",
    "\\pi_{merged} = \\frac{(a - c)^2}{4b} > \\pi_{up} + \\pi_{down} = \\frac{(a - c)^2}{8b} + \\frac{(a - c)^2}{16b} = \\frac{3(a - c)^2}{16b}\n",
    "$$"
   ]
  },
  {
   "cell_type": "code",
   "execution_count": 18,
   "id": "3a58d1fb",
   "metadata": {},
   "outputs": [
    {
     "data": {
      "text/latex": [
       "$\\displaystyle P = - Q b + a$"
      ],
      "text/plain": [
       "Eq(P, -Q*b + a)"
      ]
     },
     "metadata": {},
     "output_type": "display_data"
    }
   ],
   "source": [
    "# Definerer inverse etterspørselen\n",
    "Invers_etterspørsel = sp.Eq(P, a-b*Q)\n",
    "\n",
    "# Viser invers etterspørsel\n",
    "display(Invers_etterspørsel)"
   ]
  },
  {
   "cell_type": "code",
   "execution_count": 19,
   "id": "c11bf639",
   "metadata": {},
   "outputs": [
    {
     "data": {
      "text/latex": [
       "$\\displaystyle Q \\left(- Q b + a\\right)$"
      ],
      "text/plain": [
       "Q*(-Q*b + a)"
      ]
     },
     "metadata": {},
     "output_type": "display_data"
    }
   ],
   "source": [
    "# Totalinntekt\n",
    "Totalinntekt = Invers_etterspørsel.rhs * Q\n",
    "\n",
    "# Viser totalinntekt\n",
    "display(sp.simplify(Totalinntekt))"
   ]
  },
  {
   "cell_type": "code",
   "execution_count": 20,
   "id": "b490cfd5",
   "metadata": {},
   "outputs": [
    {
     "data": {
      "text/latex": [
       "$\\displaystyle - 2 Q b + a$"
      ],
      "text/plain": [
       "-2*Q*b + a"
      ]
     },
     "metadata": {},
     "output_type": "display_data"
    }
   ],
   "source": [
    "# Marginalinntekt\n",
    "Marginalinntekt = sp.diff(Totalinntekt, Q)\n",
    "\n",
    "# Viser marginalinntekt\n",
    "display(Marginalinntekt)"
   ]
  },
  {
   "cell_type": "code",
   "execution_count": 21,
   "id": "1f788429",
   "metadata": {},
   "outputs": [
    {
     "data": {
      "text/latex": [
       "$\\displaystyle - 2 Q b + a = c$"
      ],
      "text/plain": [
       "Eq(-2*Q*b + a, c)"
      ]
     },
     "metadata": {},
     "output_type": "display_data"
    }
   ],
   "source": [
    "# Setter marginalinntekt lik marginalkostnad\n",
    "\n",
    "Marginalkostnad = sp.Eq(Marginalinntekt, c)\n",
    "\n",
    "# Viser marginalkostnad\n",
    "display(Marginalkostnad)"
   ]
  },
  {
   "cell_type": "code",
   "execution_count": 22,
   "id": "d91e0ce4",
   "metadata": {},
   "outputs": [
    {
     "data": {
      "text/latex": [
       "$\\displaystyle \\frac{a - c}{2 b}$"
      ],
      "text/plain": [
       "(a - c)/(2*b)"
      ]
     },
     "metadata": {},
     "output_type": "display_data"
    }
   ],
   "source": [
    "# Løser for kvantum\n",
    "Optimal_Q = sp.solve(Marginalkostnad, Q)[0]\n",
    "\n",
    "# Viser optimalt kvantum\n",
    "display(Optimal_Q)"
   ]
  },
  {
   "cell_type": "code",
   "execution_count": 23,
   "id": "b37de885",
   "metadata": {},
   "outputs": [
    {
     "data": {
      "text/latex": [
       "$\\displaystyle \\frac{a}{2} + \\frac{c}{2}$"
      ],
      "text/plain": [
       "a/2 + c/2"
      ]
     },
     "metadata": {},
     "output_type": "display_data"
    }
   ],
   "source": [
    "# Løser for pris\n",
    "\n",
    "Optimal_pris = Invers_etterspørsel.rhs.subs(Q, Optimal_Q)\n",
    "\n",
    "# Viser optimal pris\n",
    "display(sp.simplify(Optimal_pris))"
   ]
  },
  {
   "cell_type": "code",
   "execution_count": 24,
   "id": "3fd59555",
   "metadata": {},
   "outputs": [
    {
     "data": {
      "text/latex": [
       "$\\displaystyle \\frac{\\left(a - c\\right)^{2}}{4 b}$"
      ],
      "text/plain": [
       "(a - c)**2/(4*b)"
      ]
     },
     "metadata": {},
     "output_type": "display_data"
    }
   ],
   "source": [
    "# Profitt for monopolist etter vertikal integrasjon\n",
    "Profitt_monopolist = (Optimal_pris - c) * Optimal_Q\n",
    "\n",
    "# Viser profitt for monopolist etter vertikal integrasjon\n",
    "display(sp.simplify(Profitt_monopolist))"
   ]
  },
  {
   "cell_type": "markdown",
   "id": "53ad442b",
   "metadata": {},
   "source": [
    "## Vertikale fusjoner\n",
    "\n",
    "Vi antar et marked bestående av to oppstrømsbedrifter, $M1$ og $M2$, og to nedstrømsbedrifter, $R1$ og $R2$. \n",
    "\n",
    "Invers ettersprøsel er gitt ved: \n",
    "\n",
    "$$\n",
    "P(Q) = A - B(q1+q2)\n",
    "$$\n",
    "\n",
    "Oppstrømsbedriftene produserer innsatsfaktor som selges til nedstrømsbedriftene til pris lik $w$. Oppstrømsbedriftene har marginalkostnader lik $c$, og nedstrømsbedriften har marginalkostand lik $k$, pluss innkjøpskostander på $w$.\n",
    "\n",
    "Vi antar nå at $M1$ og $R1$ fusjonerer, og at den fusjonerte bedriften ikke ønsker å selge innsatsfaktoren til $R2$. Vi ser på hvordan dette påvirker prisen og profitt.\n",
    "\n",
    "### To-trinns spill:\n",
    "\n",
    "Trinn 1: Oppstrømsbedriften $R2$ velger optimal pris til nedstrømsbedriften $R2; w$\n",
    "Trinn 2: Nedstrømsbedriftene velger optimalt kvantum og pris i sluttbrukermarkedet; $P$\n",
    "\n",
    "Vi bruker baklengs induksjon og starter med Trinn 2.\n",
    "\n",
    "## Trinn 2: Nedstrømsbedriftene velger optimalt kvantum og pris i sluttbrukermarkedet\n",
    "\n",
    "Marginalkostnader til den funksjonerte bedriften: $c + k$\n",
    "\n",
    "Marginalkostnad til $R2$ er $w$ + $k$, hvor $w > c$\n",
    "\n",
    "Ikke ferdig med denne notatblokken."
   ]
  },
  {
   "cell_type": "code",
   "execution_count": 25,
   "id": "4951a365",
   "metadata": {},
   "outputs": [],
   "source": [
    "qMR1, qR2,  qM2,c,k,w, A, B, QR, QM, P = sp.symbols('q^MR_1 q^R_2 q^M_2 c k w A B Q^R Q^M P ', positive=True)"
   ]
  },
  {
   "cell_type": "code",
   "execution_count": 26,
   "id": "abafaa6c",
   "metadata": {},
   "outputs": [],
   "source": [
    "def demand_1R(qMR1):\n",
    "           return (A-B*qMR1-B*qR2)"
   ]
  },
  {
   "cell_type": "code",
   "execution_count": 27,
   "id": "87a89d79",
   "metadata": {},
   "outputs": [],
   "source": [
    "def demand_2R(qR2):\n",
    "           return (A-B*qMR1-B*qR2)"
   ]
  },
  {
   "cell_type": "code",
   "execution_count": 28,
   "id": "0c931f25",
   "metadata": {},
   "outputs": [],
   "source": [
    "def marginalrevenue_1R(qMR1):\n",
    "    return (A-2*B*qMR1-B*qR2)"
   ]
  },
  {
   "cell_type": "code",
   "execution_count": 29,
   "id": "032c0db1",
   "metadata": {},
   "outputs": [],
   "source": [
    "def marginalrevenue_2R(qR2):\n",
    "    return (A-B*qMR1-2*B*qR2)"
   ]
  },
  {
   "cell_type": "markdown",
   "id": "0532f97a",
   "metadata": {},
   "source": [
    "## Optimal tilpasning der MR = MC"
   ]
  },
  {
   "cell_type": "code",
   "execution_count": 30,
   "id": "23c97248",
   "metadata": {},
   "outputs": [
    {
     "data": {
      "text/latex": [
       "$\\displaystyle A - 2 B q^{MR}_{1} - B q^{R}_{2} = c + k$"
      ],
      "text/plain": [
       "Eq(A - 2*B*q^MR_1 - B*q^R_2, c + k)"
      ]
     },
     "execution_count": 30,
     "metadata": {},
     "output_type": "execute_result"
    }
   ],
   "source": [
    "# Optimal tilpasning for R1 der MR = c + k\n",
    "\n",
    "equ_MR1 = sp.Eq(marginalrevenue_1R(qMR1),c+k)\n",
    "equ_MR1"
   ]
  },
  {
   "cell_type": "code",
   "execution_count": 31,
   "id": "0e8adba0",
   "metadata": {},
   "outputs": [
    {
     "data": {
      "text/latex": [
       "$\\displaystyle A - B q^{MR}_{1} - 2 B q^{R}_{2} = k + w$"
      ],
      "text/plain": [
       "Eq(A - B*q^MR_1 - 2*B*q^R_2, k + w)"
      ]
     },
     "execution_count": 31,
     "metadata": {},
     "output_type": "execute_result"
    }
   ],
   "source": [
    "# Optimal tilpasning for R2 der MR = w + k\n",
    "\n",
    "equ_R2 = sp.Eq(marginalrevenue_2R(qR2),w+k)\n",
    "equ_R2"
   ]
  },
  {
   "cell_type": "code",
   "execution_count": 32,
   "id": "b495e7a2",
   "metadata": {},
   "outputs": [
    {
     "data": {
      "text/latex": [
       "$\\displaystyle \\frac{A - B q^{R}_{2} - c - k}{2 B}$"
      ],
      "text/plain": [
       "(A - B*q^R_2 - c - k)/(2*B)"
      ]
     },
     "execution_count": 32,
     "metadata": {},
     "output_type": "execute_result"
    }
   ],
   "source": [
    "#reaksjonsfunksjon til bedrift 1\n",
    "\n",
    "qMR1_equ = sp.solve(equ_MR1, qMR1)[0]\n",
    "qMR1_equ"
   ]
  },
  {
   "cell_type": "code",
   "execution_count": 33,
   "id": "a0dfaccb",
   "metadata": {},
   "outputs": [
    {
     "data": {
      "text/latex": [
       "$\\displaystyle \\frac{A - B q^{MR}_{1} - k - w}{2 B}$"
      ],
      "text/plain": [
       "(A - B*q^MR_1 - k - w)/(2*B)"
      ]
     },
     "execution_count": 33,
     "metadata": {},
     "output_type": "execute_result"
    }
   ],
   "source": [
    "#reaksjonsfunksjon til bedrift 2\n",
    "\n",
    "qR2_equ=sp.solve(equ_R2,qR2)[0]\n",
    "qR2_equ"
   ]
  },
  {
   "cell_type": "code",
   "execution_count": 34,
   "id": "45f5358c",
   "metadata": {},
   "outputs": [
    {
     "data": {
      "text/latex": [
       "$\\displaystyle \\frac{A - 2 c - k + w}{3 B}$"
      ],
      "text/plain": [
       "(A - 2*c - k + w)/(3*B)"
      ]
     },
     "execution_count": 34,
     "metadata": {},
     "output_type": "execute_result"
    }
   ],
   "source": [
    "# setter uttrykk for RF(q2) inn i RF(q1)\n",
    "\n",
    "qMR1_unresv_eq = qMR1_equ.subs(qR2, qR2_equ)\n",
    "qMR1_opt = sp.solve(sp.Eq(qMR1, qMR1_unresv_eq), qMR1)[0]\n",
    "qMR1_opt"
   ]
  },
  {
   "cell_type": "code",
   "execution_count": 35,
   "id": "7c17579f",
   "metadata": {},
   "outputs": [
    {
     "data": {
      "text/latex": [
       "$\\displaystyle q^{MR}_{1} = \\frac{A - 2 c - k + w}{3 B}$"
      ],
      "text/plain": [
       "Eq(q^MR_1, (A - 2*c - k + w)/(3*B))"
      ]
     },
     "execution_count": 35,
     "metadata": {},
     "output_type": "execute_result"
    }
   ],
   "source": [
    "# Kvantum for MR1\n",
    "\n",
    "qMR1_unresv = sp.Eq(qMR1, qMR1_opt)\n",
    "qMR1_unresv"
   ]
  },
  {
   "cell_type": "code",
   "execution_count": 36,
   "id": "53cfc44a",
   "metadata": {},
   "outputs": [
    {
     "data": {
      "text/latex": [
       "$\\displaystyle \\frac{A + c - k - 2 w}{3 B}$"
      ],
      "text/plain": [
       "(A + c - k - 2*w)/(3*B)"
      ]
     },
     "execution_count": 36,
     "metadata": {},
     "output_type": "execute_result"
    }
   ],
   "source": [
    "# setter uttrykk for RF(q1) inn i RF(q2)\n",
    "\n",
    "qR2_unresv_eq = qR2_equ.subs(qMR1, qMR1_equ)\n",
    "qR2_opt = sp.solve(sp.Eq(qR2, qR2_unresv_eq), qR2)[0]\n",
    "qR2_opt"
   ]
  },
  {
   "cell_type": "code",
   "execution_count": 37,
   "id": "a24af8a0",
   "metadata": {},
   "outputs": [
    {
     "data": {
      "text/latex": [
       "$\\displaystyle q^{R}_{2} = \\frac{A + c - k - 2 w}{3 B}$"
      ],
      "text/plain": [
       "Eq(q^R_2, (A + c - k - 2*w)/(3*B))"
      ]
     },
     "execution_count": 37,
     "metadata": {},
     "output_type": "execute_result"
    }
   ],
   "source": [
    "# Kvantum for R2\n",
    "\n",
    "qR2_unresv = sp.Eq(qR2, qR2_opt)\n",
    "qR2_unresv"
   ]
  },
  {
   "cell_type": "code",
   "execution_count": 38,
   "id": "532998b5",
   "metadata": {},
   "outputs": [
    {
     "data": {
      "text/latex": [
       "$\\displaystyle \\frac{A}{2} - \\frac{3 B q^{R}_{2}}{2} + \\frac{c}{2} - \\frac{k}{2}$"
      ],
      "text/plain": [
       "A/2 - 3*B*q^R_2/2 + c/2 - k/2"
      ]
     },
     "execution_count": 38,
     "metadata": {},
     "output_type": "execute_result"
    }
   ],
   "source": [
    "# Invers etterspørsel til M2 vil være lik optimalt kvantum til R2\n",
    "w_equ = sp.solve(qR2_unresv, w)[0]\n",
    "w_equ"
   ]
  },
  {
   "cell_type": "code",
   "execution_count": 39,
   "id": "142d66fa",
   "metadata": {},
   "outputs": [
    {
     "data": {
      "text/latex": [
       "$\\displaystyle w = \\frac{A}{2} - \\frac{3 B q^{R}_{2}}{2} + \\frac{c}{2} - \\frac{k}{2}$"
      ],
      "text/plain": [
       "Eq(w, A/2 - 3*B*q^R_2/2 + c/2 - k/2)"
      ]
     },
     "execution_count": 39,
     "metadata": {},
     "output_type": "execute_result"
    }
   ],
   "source": [
    "# Invers etterspørsel til M2\n",
    "w_unresv = sp.Eq(w, w_equ)\n",
    "w_unresv"
   ]
  },
  {
   "cell_type": "markdown",
   "id": "6776e1aa",
   "metadata": {},
   "source": [
    "## Monopoltilpasning for M2\n",
    "\n",
    "Siden M2 er eneste tilbyder til R2 vil vi bedriften opptre som monopolist."
   ]
  },
  {
   "cell_type": "code",
   "execution_count": 40,
   "id": "b8faf59e",
   "metadata": {},
   "outputs": [],
   "source": [
    "def demand_2M(qM2):\n",
    "           return (A-k+c-(3*B*(qM2)/2))"
   ]
  },
  {
   "cell_type": "code",
   "execution_count": 41,
   "id": "7e7e23f9",
   "metadata": {},
   "outputs": [],
   "source": [
    "def marginalrevenue_2M(qM2):\n",
    "    return ((A-k+c)/2-3*B*qM2)"
   ]
  },
  {
   "cell_type": "code",
   "execution_count": 42,
   "id": "effa7bee",
   "metadata": {},
   "outputs": [
    {
     "data": {
      "text/latex": [
       "$\\displaystyle \\frac{A}{2} - 3 B q^{M}_{2} + \\frac{c}{2} - \\frac{k}{2} = c$"
      ],
      "text/plain": [
       "Eq(A/2 - 3*B*q^M_2 + c/2 - k/2, c)"
      ]
     },
     "execution_count": 42,
     "metadata": {},
     "output_type": "execute_result"
    }
   ],
   "source": [
    "# Optimal tilpasning der MR = c\n",
    "\n",
    "qM2_equ=sp.Eq(marginalrevenue_2M(qM2),c)\n",
    "qM2_equ"
   ]
  },
  {
   "cell_type": "code",
   "execution_count": 43,
   "id": "5233f87b",
   "metadata": {},
   "outputs": [
    {
     "data": {
      "text/latex": [
       "$\\displaystyle \\frac{A - c - k}{6 B}$"
      ],
      "text/plain": [
       "(A - c - k)/(6*B)"
      ]
     },
     "execution_count": 43,
     "metadata": {},
     "output_type": "execute_result"
    }
   ],
   "source": [
    "# optimalt kvantum på trinn 2 for M2, som da også er salget for R2\n",
    "\n",
    "qM2_equ=sp.solve(qM2_equ,qM2)[0]\n",
    "qM2_equ"
   ]
  },
  {
   "cell_type": "code",
   "execution_count": 44,
   "id": "46211f2c",
   "metadata": {},
   "outputs": [
    {
     "data": {
      "text/latex": [
       "$\\displaystyle A = - 3 c + k + 4 w$"
      ],
      "text/plain": [
       "Eq(A, -3*c + k + 4*w)"
      ]
     },
     "execution_count": 44,
     "metadata": {},
     "output_type": "execute_result"
    }
   ],
   "source": [
    "# For å finne pris til nedstømsberiften R2 setter vi qM2 inn etterspørselsfunskjonen, som er w = (a-k+c)/2-3B/2*qR2 \n",
    "\n",
    "w_opt=w_unresv.subs({qR2:qM2_equ})\n",
    "sp.simplify(w_opt)"
   ]
  },
  {
   "cell_type": "code",
   "execution_count": 45,
   "id": "1963d3c7",
   "metadata": {},
   "outputs": [
    {
     "data": {
      "text/latex": [
       "$\\displaystyle \\frac{A}{4} + \\frac{3 c}{4} - \\frac{k}{4}$"
      ],
      "text/plain": [
       "A/4 + 3*c/4 - k/4"
      ]
     },
     "execution_count": 45,
     "metadata": {},
     "output_type": "execute_result"
    }
   ],
   "source": [
    "# Pris på innsatsfaktor til R2\n",
    "w_equ = sp.solve(w_opt, w)[0]\n",
    "w_equ"
   ]
  },
  {
   "cell_type": "code",
   "execution_count": 46,
   "id": "fc6eaaa7",
   "metadata": {},
   "outputs": [
    {
     "data": {
      "text/latex": [
       "$\\displaystyle w = \\frac{A}{4} + \\frac{3 c}{4} - \\frac{k}{4}$"
      ],
      "text/plain": [
       "Eq(w, A/4 + 3*c/4 - k/4)"
      ]
     },
     "execution_count": 46,
     "metadata": {},
     "output_type": "execute_result"
    }
   ],
   "source": [
    "w_unresv = sp.Eq(w,w_equ)\n",
    "w_unresv"
   ]
  },
  {
   "cell_type": "markdown",
   "id": "fa055bd6",
   "metadata": {},
   "source": [
    "## Optimalt kvantum og pris i sluttbrukermarkedet"
   ]
  },
  {
   "cell_type": "code",
   "execution_count": 47,
   "id": "a2d0700e",
   "metadata": {},
   "outputs": [
    {
     "data": {
      "text/latex": [
       "$\\displaystyle \\frac{5 \\left(A - c - k\\right)}{12 B}$"
      ],
      "text/plain": [
       "5*(A - c - k)/(12*B)"
      ]
     },
     "execution_count": 47,
     "metadata": {},
     "output_type": "execute_result"
    }
   ],
   "source": [
    " # Vi setter w_equ inn i optimalt kvantum for den vertikalt integrete bedriften og for salg fra MR1 til sluttbruker: \n",
    "\n",
    "qMR1_opt1=qMR1_opt.subs({w:w_equ})\n",
    "sp.simplify(qMR1_opt1)"
   ]
  },
  {
   "cell_type": "code",
   "execution_count": 48,
   "id": "f34d102e",
   "metadata": {},
   "outputs": [
    {
     "data": {
      "text/latex": [
       "$\\displaystyle \\frac{5 A}{12} + \\frac{7 c}{12} + \\frac{7 k}{12}$"
      ],
      "text/plain": [
       "5*A/12 + 7*c/12 + 7*k/12"
      ]
     },
     "execution_count": 48,
     "metadata": {},
     "output_type": "execute_result"
    }
   ],
   "source": [
    "# Optimal pris til sluttbruker\n",
    "\n",
    "demand_1R(qMR1).subs({qMR1:qMR1_opt1,qR2:qM2_equ})"
   ]
  },
  {
   "cell_type": "code",
   "execution_count": 49,
   "id": "a77cd066",
   "metadata": {},
   "outputs": [
    {
     "data": {
      "text/latex": [
       "$\\displaystyle P = \\frac{5 A}{12} + \\frac{7 c}{12} + \\frac{7 k}{12}$"
      ],
      "text/plain": [
       "Eq(P, 5*A/12 + 7*c/12 + 7*k/12)"
      ]
     },
     "execution_count": 49,
     "metadata": {},
     "output_type": "execute_result"
    }
   ],
   "source": [
    "P_equ = sp.Eq(P, demand_1R(qMR1).subs({qMR1:qMR1_opt1,qR2:qM2_equ}))\n",
    "P_equ"
   ]
  },
  {
   "cell_type": "code",
   "execution_count": 50,
   "id": "c6dab729",
   "metadata": {},
   "outputs": [
    {
     "data": {
      "text/latex": [
       "$\\displaystyle \\frac{25 \\left(- A + c + k\\right)^{2}}{144 B}$"
      ],
      "text/plain": [
       "25*(-A + c + k)**2/(144*B)"
      ]
     },
     "execution_count": 50,
     "metadata": {},
     "output_type": "execute_result"
    }
   ],
   "source": [
    "# Profitt til MR1 er lik (p-k-c)qRM1:\n",
    "def profitt(qMR1):\n",
    "    return (demand_1R(qMR1).subs({qMR1:qMR1_opt1,qR2:qM2_equ})-k-c)*qMR1_opt1\n",
    "\n",
    "sp.simplify(profitt(qMR1))"
   ]
  },
  {
   "cell_type": "code",
   "execution_count": 51,
   "id": "6abca112",
   "metadata": {},
   "outputs": [
    {
     "data": {
      "text/latex": [
       "$\\displaystyle \\frac{\\left(- A + c + k\\right)^{2}}{36 B}$"
      ],
      "text/plain": [
       "(-A + c + k)**2/(36*B)"
      ]
     },
     "execution_count": 51,
     "metadata": {},
     "output_type": "execute_result"
    }
   ],
   "source": [
    "# Profitt til R2 er lik (p-k-w)qM2:\n",
    "def profitt(qR2):\n",
    "    return (demand_1R(qMR1).subs({qMR1:qMR1_opt1,qR2:qM2_equ})-k-w.subs({w:w_equ}))*qM2_equ\n",
    "\n",
    "sp.simplify(profitt(qR2))"
   ]
  },
  {
   "cell_type": "code",
   "execution_count": 52,
   "id": "1572e80a",
   "metadata": {},
   "outputs": [
    {
     "data": {
      "text/latex": [
       "$\\displaystyle \\frac{\\left(- A + c + k\\right)^{2}}{24 B}$"
      ],
      "text/plain": [
       "(-A + c + k)**2/(24*B)"
      ]
     },
     "execution_count": 52,
     "metadata": {},
     "output_type": "execute_result"
    }
   ],
   "source": [
    "# Profitt til M2 er lik (w-c)qM2:\n",
    "def profitt(qM2):\n",
    "    return (w_equ-c)*qM2_equ\n",
    "\n",
    "sp.simplify(profitt(qM2))"
   ]
  }
 ],
 "metadata": {
  "kernelspec": {
   "display_name": "Python 3",
   "language": "python",
   "name": "python3"
  },
  "language_info": {
   "codemirror_mode": {
    "name": "ipython",
    "version": 3
   },
   "file_extension": ".py",
   "mimetype": "text/x-python",
   "name": "python",
   "nbconvert_exporter": "python",
   "pygments_lexer": "ipython3",
   "version": "3.11.1"
  }
 },
 "nbformat": 4,
 "nbformat_minor": 5
}