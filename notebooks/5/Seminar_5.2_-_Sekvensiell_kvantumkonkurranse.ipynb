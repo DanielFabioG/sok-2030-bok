{
 "cells": [
  {
   "cell_type": "markdown",
   "metadata": {},
   "source": [
    "# Seminar 5.2: Sekvensiell kvantumskonkurranse (Stackelberg med kvantum)"
   ]
  },
  {
   "cell_type": "code",
   "execution_count": 69,
   "metadata": {},
   "outputs": [],
   "source": [
    "import numpy as np\n",
    "import sympy as sp"
   ]
  },
  {
   "cell_type": "markdown",
   "metadata": {},
   "source": [
    "## Seminar 5.2: Sekvensiell kvantumskonkurranse (Stackelberg med kvantum)\n",
    "\n",
    "I stackelberg konkurranse, er det mulig for leder og følgerbedrift å konkurrere i både pris og kvantum. I forrige seminar 5.1 så vi på to bedrifter som konkurrerte i pris. I dette seminaret skal vi se på en situasjon hvor lederen bestemmer seg for kvantum først, og følgeren bestemmer seg for kvantum etterpå.\n",
    "\n",
    "Ved kvantumskonkurranse blir stackelberg modellen satt opp som følger:\n",
    "\n",
    "$$\n",
    "Q = \\frac{a - P}{b}\n",
    "$$\n",
    "\n",
    "der $Q$ er mengden som etterspørres, $P$ er prisen, og $a$ og $b$ er positive konstanter. \n",
    "\n",
    "Q er også lik summen av mengden som produseres av de to bedriftene:\n",
    "\n",
    "$$\n",
    "Q = q_1 + q_2\n",
    "$$\n",
    "\n",
    "Siden vi har to bedrifter i en Stackelberg modell, så har vi en leder og en følger. Lederen bestemmer seg for kvantum først, og følgeren bestemmer seg for kvantum etterpå.\n",
    "\n",
    "Videre så antar vi at marginalkostnaden er konstant, og lik $c$ for begge bedriftene.\n",
    "\n",
    "Vi starter med å finne invers etterspørselfunksjon for å finne prisen som funksjon av mengden som produseres. Denne er gitt ved å løse etterspørselsfunksjonen for $P$:\n",
    "\n",
    "$$\n",
    "a - P = bQ \\Rightarrow P = a - bQ\n",
    "$$\n",
    "\n",
    "Som gir den inverse etterspørselfunksjonen:\n",
    "\n",
    "$$\n",
    "P = a - b(q_1 + q_2)\n",
    "$$\n",
    "\n",
    "Som den observante student kanskje kan se, så er oppsettet så langt veldig likt cournot modell-oppsettet så langt ved symmetriske bedrifter."
   ]
  },
  {
   "cell_type": "code",
   "execution_count": 70,
   "metadata": {},
   "outputs": [
    {
     "data": {
      "text/latex": [
       "$\\displaystyle q_{1} + q_{2} = \\frac{- P + a}{b}$"
      ],
      "text/plain": [
       "Eq(q_1 + q_2, (-P + a)/b)"
      ]
     },
     "metadata": {},
     "output_type": "display_data"
    },
    {
     "data": {
      "text/latex": [
       "$\\displaystyle a - b q_{1} - b q_{2}$"
      ],
      "text/plain": [
       "a - b*q_1 - b*q_2"
      ]
     },
     "metadata": {},
     "output_type": "display_data"
    }
   ],
   "source": [
    "# Definerer symbol\n",
    "P,Q,q_1,q_2,a,b,c,FK = sp.symbols('P Q q_1 q_2 a b c FK')\n",
    "\n",
    "# Q = q_1 + q_2\n",
    "Q = q_1 + q_2\n",
    "\n",
    "# Definerer etterspørselsfunksjonen\n",
    "Etterspørsel = sp.Eq(Q, (a-P)/b)\n",
    "\n",
    "# Løser for P\n",
    "Invers_etterspørsel = sp.solve(Etterspørsel, P)[0]\n",
    "\n",
    "# Viser løsningene\n",
    "display(Etterspørsel, Invers_etterspørsel)"
   ]
  },
  {
   "cell_type": "markdown",
   "metadata": {},
   "source": [
    "## Totalinntekt og marginalinntekt\n",
    "\n",
    "Finner så totalinntekten til hver bedrift, som er gitt ved prisen ganget med kvantum:\n",
    "\n",
    "$$\n",
    "TR_1 = P \\times q_1 = q_1(a-bq_1 -bq_2)\n",
    "$$\n",
    "\n",
    "og for bedrift 2:\n",
    "\n",
    "$$\n",
    "TR_2 = P \\times q_2 = q_2(a-bq_1 -bq_2)\n",
    "$$\n",
    "\n",
    "Finner så marginalinntekten kun for bedrift 2, siden vi trenger marginalinntekten til lederbedriften for å finne reaksjonsfunksjonen til følgerbedriften.\n",
    "\n",
    "$$\n",
    "MR_2 = \\frac{\\partial TR_2}{\\partial q_2} = a-2bq_2 - bq_1\n",
    "$$"
   ]
  },
  {
   "cell_type": "code",
   "execution_count": 71,
   "metadata": {},
   "outputs": [
    {
     "data": {
      "text/latex": [
       "$\\displaystyle q_{1} \\left(a - b q_{1} - b q_{2}\\right)$"
      ],
      "text/plain": [
       "q_1*(a - b*q_1 - b*q_2)"
      ]
     },
     "metadata": {},
     "output_type": "display_data"
    },
    {
     "data": {
      "text/latex": [
       "$\\displaystyle q_{2} \\left(a - b q_{1} - b q_{2}\\right)$"
      ],
      "text/plain": [
       "q_2*(a - b*q_1 - b*q_2)"
      ]
     },
     "metadata": {},
     "output_type": "display_data"
    }
   ],
   "source": [
    "# Multipliserer prisen med kvantumet for å finne totalinntekten\n",
    "Totalinntekt = Invers_etterspørsel*q_1\n",
    "Totalinntekt2 = Invers_etterspørsel*q_2\n",
    "\n",
    "# Viser totalinntekten\n",
    "display(Totalinntekt, Totalinntekt2)"
   ]
  },
  {
   "cell_type": "code",
   "execution_count": 72,
   "metadata": {},
   "outputs": [
    {
     "data": {
      "text/latex": [
       "$\\displaystyle a - b q_{1} - 2 b q_{2}$"
      ],
      "text/plain": [
       "a - b*q_1 - 2*b*q_2"
      ]
     },
     "metadata": {},
     "output_type": "display_data"
    }
   ],
   "source": [
    "# Deriverer totalinntekten for å finne marginalinntekten\n",
    "Marginalinntekt_q2 = sp.diff(Totalinntekt2, q_2)\n",
    "\n",
    "# Viser marginalinntekten\n",
    "display(Marginalinntekt_q2)"
   ]
  },
  {
   "cell_type": "markdown",
   "metadata": {},
   "source": [
    "## Stackelberg modellen\n",
    "\n",
    "### Trinn 2\n",
    "\n",
    "I Stackelberg-kvantumskonkurranse bestemmer lederbedriften (bedrift 1) først hvilket kvantum den ønsker å produsere. Deretter observerer følgerbedriften (bedrift 2) dette kvantumet og velger sitt kvantum basert på lederens valg.\n",
    "\n",
    "Vi løser Stackelberg-modellen ved baklengs induksjon som følger:\n",
    "\n",
    "Følgerbedriften maksimerer sin profitt ved å velge kvantum som maksimerer profitten gitt lederbedriftens valg $q_1$. \n",
    "\n",
    "Følgerens reaksjonsfunksjon finner vi ved å sette marginalinntekten lik marginalkostnaden:\n",
    "​\n",
    "$$\n",
    "MR_2 = MC \\Rightarrow a-2bq_2 - bq_1 = c\n",
    "$$\n",
    "\n",
    "Vi løser denne for $q_2$:\n",
    "\n",
    "$$\n",
    "q_2 =  \\frac{a - b q_{1} - c}{2 b}\n",
    "$$\n",
    "\n",
    "Dette gir oss følgerens reaksjonsfunksjon, som er følgerens optimale respons på lederbedriftens valg.\n"
   ]
  },
  {
   "cell_type": "code",
   "execution_count": 73,
   "metadata": {},
   "outputs": [
    {
     "data": {
      "text/latex": [
       "$\\displaystyle c = a - b q_{1} - 2 b q_{2}$"
      ],
      "text/plain": [
       "Eq(c, a - b*q_1 - 2*b*q_2)"
      ]
     },
     "metadata": {},
     "output_type": "display_data"
    }
   ],
   "source": [
    "# Trinn 2\n",
    "\n",
    "# Setter marginalinntekten lik kostnaden\n",
    "likevekt_q2 = sp.Eq(Marginalinntekt_q2, c)\n",
    "\n",
    "display(sp.simplify(likevekt_q2))"
   ]
  },
  {
   "cell_type": "code",
   "execution_count": 74,
   "metadata": {},
   "outputs": [
    {
     "data": {
      "text/latex": [
       "$\\displaystyle \\frac{a - b q_{1} - c}{2 b}$"
      ],
      "text/plain": [
       "(a - b*q_1 - c)/(2*b)"
      ]
     },
     "metadata": {},
     "output_type": "display_data"
    }
   ],
   "source": [
    "# Løser for q2 for å finne reaksjonsfunksjon til bedrift 2\n",
    "q2 = sp.solve(likevekt_q2, q_2)[0]\n",
    "\n",
    "display(q2)"
   ]
  },
  {
   "cell_type": "markdown",
   "metadata": {},
   "source": [
    "### Trinn 1\n",
    "\n",
    "Lederbedriften vet at følgerbedriften vil velge kvantum som gitt av reaksjonsfunksjonen.\n",
    "\n",
    "Lederbedriften setter derfor inn følgerens reaksjonsfunksjon i sin egen profittfunksjon, og finner det optimale kvantumet ved å derivere denne med hensyn på eget kvantum og sette uttrykket lik null. Merk at her løser jeg det litt annerledes siden vi ikke har profittfunksjonen til lederbedriften. \n",
    "\n",
    "Vi kommer frem til samme løsning ved å substituere inn $q_2$ i totalinntekten til lederbedriften og deretter derivere denne med hensyn på $q_1$.\n",
    "\n",
    "Dette vil da gi oss lederens profittmaksimerende kvantum:\n",
    "\n",
    "$$\n",
    "\\pi_{B_1} = \\frac{a}{2} - b q_{1} + \\frac{c}{2}\n",
    "$$\n",
    "\n",
    "Så setter vi profittmaksimerende kvantum likt kostnadene:\n",
    "\n",
    "$$\n",
    "\\frac{a}{2} - b q_{1} + \\frac{c}{2} = c\n",
    "$$\n",
    "\n",
    "Og nå trenger vi bare å løse denne likningen for $q_1$, for å finne lederens optimale kvantum:\n",
    "\n",
    "$$\n",
    "q_{1}^* = \\frac{a - c}{2b}\n",
    "$$\n",
    "\n",
    "For følgerbedriften setter vi inn $q_1^*$ i reaksjonsfunksjonen for å finne følgerens optimale kvantum:\n",
    "\n",
    "$$\n",
    "q_{2}^* = \\frac{a - b \\frac{a - c}{2b} - c}{2b} = \\frac{a-c}{4 b}\n",
    "$$"
   ]
  },
  {
   "cell_type": "code",
   "execution_count": 75,
   "metadata": {},
   "outputs": [
    {
     "data": {
      "text/latex": [
       "$\\displaystyle \\frac{a}{2} - b q_{1} + \\frac{c}{2}$"
      ],
      "text/plain": [
       "a/2 - b*q_1 + c/2"
      ]
     },
     "metadata": {},
     "output_type": "display_data"
    }
   ],
   "source": [
    "# Trinn 1\n",
    "\n",
    "# Vi setter så reaksjonsfunksjonen til bedrift 2 inn i bedrift 1 sin Totalinntekt og deriverer med hensyn på q1\n",
    "profitt_1_q = sp.diff(Totalinntekt.subs(q_2, q2), q_1)\n",
    "\n",
    "display(profitt_1_q)"
   ]
  },
  {
   "cell_type": "code",
   "execution_count": 76,
   "metadata": {},
   "outputs": [
    {
     "data": {
      "text/latex": [
       "$\\displaystyle \\frac{a - c}{2 b}$"
      ],
      "text/plain": [
       "(a - c)/(2*b)"
      ]
     },
     "metadata": {},
     "output_type": "display_data"
    }
   ],
   "source": [
    "# Finner optimalt kvantum for lederbedrift ved å løse for q1\n",
    "q1_sol = sp.solve(sp.Eq(profitt_1_q,c), q_1)[0]\n",
    "\n",
    "display(q1_sol)"
   ]
  },
  {
   "cell_type": "code",
   "execution_count": 77,
   "metadata": {},
   "outputs": [
    {
     "data": {
      "text/latex": [
       "$\\displaystyle \\frac{a - c}{4 b}$"
      ],
      "text/plain": [
       "(a - c)/(4*b)"
      ]
     },
     "metadata": {},
     "output_type": "display_data"
    }
   ],
   "source": [
    "# Finner optimalt kvantum for følgerbedrift ved å sette q1_sol inn i reaksjonsfunksjonen til bedrift 2\n",
    "q2_sol = q2.subs(q_1, q1_sol)\n",
    "\n",
    "display(sp.simplify(q2_sol))"
   ]
  },
  {
   "cell_type": "markdown",
   "metadata": {},
   "source": [
    "## Optimalt kvantum i sluttmarked og profitt\n",
    "\n",
    "Vi setter inn løsningene for $q_1^*$ og $q_2^*$ i etterspørselsfunksjonen for å finne prisen i sluttmarkedet:\n",
    "\n",
    "$$\n",
    "P = a - b(q_1^* + q_2^*) = a - b(\\frac{a - c}{2b} + \\frac{a-c}{4 b})\n",
    "$$\n",
    "\n",
    "$$\n",
    "P = \\displaystyle \\frac{a}{4} + \\frac{3 c}{4}\n",
    "$$\n",
    "\n",
    "Profitten for leder og følgerbedrift blir optimal pris minus marginalkostnad ganget med optimalt kvantum:\n",
    "\n",
    "$$\n",
    "\\pi_{B_1} =  (\\frac{a}{4} + \\frac{3 c}{4} - c) \\cdot \\frac{a - c}{2b} =  \\frac{a - c}{8 b}\n",
    "$$\n",
    "\n",
    "$$\n",
    "\\pi_{B_2} = (\\frac{a}{4} + \\frac{3 c}{4} - c) \\cdot \\frac{a-c}{4 b} = \\frac{\\left(a - c\\right)^{2}}{16 b}\n",
    "$$"
   ]
  },
  {
   "cell_type": "code",
   "execution_count": 78,
   "metadata": {},
   "outputs": [
    {
     "data": {
      "text/latex": [
       "$\\displaystyle \\frac{a}{4} + \\frac{3 c}{4}$"
      ],
      "text/plain": [
       "a/4 + 3*c/4"
      ]
     },
     "metadata": {},
     "output_type": "display_data"
    }
   ],
   "source": [
    "# Optimal pris i likevekt (sluttmarkedet)\n",
    "optimal_pris = Invers_etterspørsel.subs({q_1: q1_sol, q_2: q2_sol})\n",
    "\n",
    "display(optimal_pris)"
   ]
  },
  {
   "cell_type": "code",
   "execution_count": 79,
   "metadata": {},
   "outputs": [
    {
     "data": {
      "text/latex": [
       "$\\displaystyle \\frac{\\left(a - c\\right)^{2}}{8 b}$"
      ],
      "text/plain": [
       "(a - c)**2/(8*b)"
      ]
     },
     "metadata": {},
     "output_type": "display_data"
    }
   ],
   "source": [
    "# Profitt for lederbedrift\n",
    "profitt_1 = (optimal_pris - c)*q1_sol\n",
    "\n",
    "display(sp.simplify(profitt_1))"
   ]
  },
  {
   "cell_type": "code",
   "execution_count": 80,
   "metadata": {},
   "outputs": [
    {
     "data": {
      "text/latex": [
       "$\\displaystyle \\frac{\\left(a - c\\right)^{2}}{16 b}$"
      ],
      "text/plain": [
       "(a - c)**2/(16*b)"
      ]
     },
     "metadata": {},
     "output_type": "display_data"
    }
   ],
   "source": [
    "# Profitt for følgerbedrift\n",
    "profitt_2 = (optimal_pris - c)*q2_sol\n",
    "\n",
    "display(sp.simplify(profitt_2))"
   ]
  },
  {
   "cell_type": "markdown",
   "metadata": {},
   "source": [
    "## Oppgave sekvensiell konkurranse (Stackelberg)\n",
    "\n",
    "For å møte fremtidige vekstmuligheter i markedet har Hurtigruten ASA valgt å spisse de ulike delene av konsernet. Selskapet har opprettet enhetene Hurtigruten Norge, som skal drive ordinær rutetrafikk langs norskekysten, og Hurtigruten Expeditions, som skal drive den internasjonale ekspedisjonscruise-virksomheten.\n",
    "\n",
    "I markedet for ekspedisjonscruise vil Hurtigruten Expeditions være en ledende aktør, hvor de vil ha mulighet til å gjøre sine valg av kapasitet før en eventuell konkurrent kommer inn i markedet.\n",
    "\n",
    "I markedet for ekspedisjonscruise vil total invers etterspørsel være gitt ved:\n",
    "\n",
    "$$\n",
    "P = 5000 - \\frac{1}{10} \\cdot (q_E + q_N)\n",
    "$$\n",
    "\n",
    "hvor $q_E$ er antall passasjerer som vil reise med Hurtigruten Expeditions, $q_N$ er antall passasjerer som vil reise med nykommeren og $P$ er pris på cruise. På ekspedisjonscruise vil marginalkostnadene per passasjer være noe høyere siden det her er lagt opp til flere utflukter under seilasen. Hurtigruten Expeditions vil ha konstante marginalkostnader på 1500 per passasjer, mens nykommeren er noe mindre effektiv i sin drift og vil ha marginalkostnader på 1800 per\n",
    "passasjer. \n",
    "\n",
    "Faste kostnader for de nye cruiseskipene er på 3 millioner.\n",
    "\n",
    "a) Hva blir optimal tilpasning i dette markedet når Hurtigruten Expeditions kan gjøre sitt valg av kapasitet før nykommeren velger sitt kvantum.\n",
    "\n",
    "Vil det være en fordel for Hurtigruten Expeditions å ha mulighet til å gjøre valg av kvantum før konkurrenten?"
   ]
  },
  {
   "cell_type": "code",
   "execution_count": 81,
   "metadata": {},
   "outputs": [],
   "source": [
    "# Skriv ditt svar her"
   ]
  }
 ],
 "metadata": {
  "kernelspec": {
   "display_name": "Python 3",
   "language": "python",
   "name": "python3"
  },
  "language_info": {
   "codemirror_mode": {
    "name": "ipython",
    "version": 3
   },
   "file_extension": ".py",
   "mimetype": "text/x-python",
   "name": "python",
   "nbconvert_exporter": "python",
   "pygments_lexer": "ipython3",
   "version": "3.11.1"
  }
 },
 "nbformat": 4,
 "nbformat_minor": 2
}
