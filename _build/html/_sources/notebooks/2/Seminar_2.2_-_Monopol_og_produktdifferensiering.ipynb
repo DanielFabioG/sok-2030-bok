{
 "cells": [
  {
   "cell_type": "markdown",
   "metadata": {},
   "source": [
    "# Seminar 2.2: Monopol og produktdifferensiering"
   ]
  },
  {
   "cell_type": "code",
   "execution_count": 1,
   "metadata": {},
   "outputs": [],
   "source": [
    "import sympy as sp\n",
    "import numpy as np\n",
    "import matplotlib.pyplot as plt"
   ]
  },
  {
   "cell_type": "markdown",
   "metadata": {},
   "source": [
    "### Forklaring av variabler\n",
    "\n",
    "- $V$: Reservasjonspris\n",
    "- $c$: Kostnad per enhet\n",
    "- $t$: Transportkostnad per enhet\n",
    "- $n$: Antall utsalgsteder\n",
    "- $F$: Fast kostnad\n",
    "- $N$: Antall kunder\n",
    "\n",
    "### Optimalt valg av antall utsalgssteder\n",
    "\n",
    "En bedrift har monopol på et produkt og ønsker å bestemme optimalt valg av antall utsalgsteder. Profitten ved å ha $N$ kunder og $n$ utsalgsteder er gitt ved:\n",
    "\n",
    "$$\n",
    "\\pi = (V-c-\\frac{t}{2n})  N - n  F\n",
    "$$\n",
    "\n",
    "For å finne optimalt antall utsalgsteder, må vi derivere profitten med hensyn på $n$ og sette den deriverte lik null:\n",
    "\n",
    "$$\n",
    "\\frac{d\\pi}{dn} = -\\frac{t}{2n^2} N - F = 0\n",
    "$$\n",
    "\n",
    "Og løser for $n$:\n",
    "\n",
    "$$\n",
    "n = \\sqrt{\\frac{tN}{2F}}\n",
    "$$"
   ]
  },
  {
   "cell_type": "code",
   "execution_count": null,
   "metadata": {},
   "outputs": [
    {
     "data": {
      "text/latex": [
       "$\\displaystyle \\pi = - F n + N \\left(V - c - \\frac{t}{2 n}\\right)$"
      ],
      "text/plain": [
       "Eq(\\pi, -F*n + N*(V - c - t/(2*n)))"
      ]
     },
     "metadata": {},
     "output_type": "display_data"
    }
   ],
   "source": [
    "# Definerer symbol\n",
    "n, N ,V, c, pi, F,t, Q,Z,P = sp.symbols('n N V c \\pi F t Q Z P')\n",
    "\n",
    "# Definerer profittfunksjonen\n",
    "profitt = sp.Eq(pi, (V-(t/(2*n))-c)*N-n*F)\n",
    "\n",
    "display(profitt)"
   ]
  },
  {
   "cell_type": "code",
   "execution_count": 3,
   "metadata": {},
   "outputs": [
    {
     "data": {
      "text/latex": [
       "$\\displaystyle \\frac{\\sqrt{2} \\sqrt{\\frac{N t}{F}}}{2}$"
      ],
      "text/plain": [
       "sqrt(2)*sqrt(N*t/F)/2"
      ]
     },
     "metadata": {},
     "output_type": "display_data"
    }
   ],
   "source": [
    "# Deriverer profittfunksjonen mhp. n\n",
    "profitt_N = sp.diff(profitt.rhs, n)\n",
    "\n",
    "# Setter den deriverte lik 0 (python trenger ikke sette lik 0) og løser for n\n",
    "n_løsning = sp.solve(profitt_N, n)\n",
    "\n",
    "# Vi får to løsninger den ene er negativ og den andre er positiv, så derfor velger vi den positive\n",
    "display(n_løsning[1])"
   ]
  },
  {
   "cell_type": "markdown",
   "metadata": {},
   "source": [
    "## Eksempel av optimalt antall utsalgsteder\n",
    "\n",
    "Hvis vi har følgende verdier:\n",
    "\n",
    "- $N = 5.000.000$\n",
    "- $t = 1$\n",
    "- $F = 50.000$\n",
    "\n",
    "Så vil det optimale antallet utsalgsteder være:\n",
    "\n",
    "$$\n",
    "n = \\sqrt{\\frac{1 \\times 5.000.000}{2 \\times 50.000}} = 7.07\n",
    "$$\n",
    "\n",
    "Dermed vil det optimale antallet utsalgsteder være 7.07."
   ]
  },
  {
   "cell_type": "code",
   "execution_count": 4,
   "metadata": {},
   "outputs": [
    {
     "data": {
      "text/latex": [
       "$\\displaystyle 7.07$"
      ],
      "text/plain": [
       "7.07"
      ]
     },
     "metadata": {},
     "output_type": "display_data"
    }
   ],
   "source": [
    "# Eksempelverdier\n",
    "Optimalt_utsalg = n_løsning[1].subs({F: 50000, t: 1, N: 5000000})\n",
    "\n",
    "display(round(Optimalt_utsalg, 2))"
   ]
  },
  {
   "cell_type": "markdown",
   "metadata": {},
   "source": [
    "## Samfunnsøkonomisk optimalt antall utsalgsteder\n",
    "\n",
    "Vi kommer fram til uttrykket for samfunnsøkonomisk optimalt antall utsalgsteder ved å legge sammen to kostnadskomponeneter, transaksjonskostnader og etableringskostnader. \n",
    "\n",
    "Transportkostnaden er gitt ved:\n",
    "\n",
    "$$\n",
    "TK = \\frac{tN}{4n}\n",
    "$$\n",
    "\n",
    "Og etableringskostnaden er gitt ved:\n",
    "\n",
    "$$\n",
    "EK = nF\n",
    "$$\n",
    "\n",
    "Når vi legger sammen disse to komponentene, får vi den totale samfunnsøkonomiske kostnaden:\n",
    "\n",
    "$$\n",
    "C(N,n) = TK + EK = \\frac{tN}{4n} + nF\n",
    "$$"
   ]
  },
  {
   "cell_type": "code",
   "execution_count": 5,
   "metadata": {},
   "outputs": [
    {
     "data": {
      "text/latex": [
       "$\\displaystyle F n + \\frac{N t}{4 n}$"
      ],
      "text/plain": [
       "F*n + N*t/(4*n)"
      ]
     },
     "metadata": {},
     "output_type": "display_data"
    }
   ],
   "source": [
    "# Transaksjonskostnaden/transportkostnaden\n",
    "TK = (t*N)/(4*n)\n",
    "\n",
    "# Etableringskostnaden\n",
    "EK = n*F\n",
    "\n",
    "# Legger disse sammen for å få totalkostnaden C\n",
    "\n",
    "C = EK + TK\n",
    "\n",
    "display(C)"
   ]
  },
  {
   "cell_type": "markdown",
   "metadata": {},
   "source": [
    "For å finne samfunnsøkonomisk optimalt antall utsalgsteder, må vi derivere den totalkostnaden med hensyn på $n$ og sette den deriverte lik null:\n",
    "\n",
    "$$\n",
    "\\frac{dC}{dn} = -\\frac{tN}{4n^2} + F = 0\n",
    "$$\n",
    "\n",
    "Og løser for $n$:\n",
    "\n",
    "$$\n",
    "n = \\frac{\\sqrt{\\frac{Nt}{F}}}{2}\n",
    "$$"
   ]
  },
  {
   "cell_type": "code",
   "execution_count": 6,
   "metadata": {},
   "outputs": [
    {
     "data": {
      "text/latex": [
       "$\\displaystyle \\frac{\\sqrt{\\frac{N t}{F}}}{2}$"
      ],
      "text/plain": [
       "sqrt(N*t/F)/2"
      ]
     },
     "metadata": {},
     "output_type": "display_data"
    }
   ],
   "source": [
    "# Deriverer totalkostnaden mhp. n\n",
    "C_N = sp.diff(C, n)\n",
    "\n",
    "# Setter den deriverte lik 0 (python trenger ikke sette lik 0) og løser for n\n",
    "n_løsning_2 = sp.solve(C_N, n)\n",
    "\n",
    "# Vi får to løsninger den ene er negativ og den andre er positiv, så derfor velger vi den positive\n",
    "display(n_løsning_2[1])"
   ]
  },
  {
   "cell_type": "markdown",
   "metadata": {},
   "source": [
    "## Eksempel av samfunnsøkonomisk optimalt antall utsalgsteder\n",
    "\n",
    "Hvis vi har følgende verdier:\n",
    "\n",
    "- $N = 5.000.000$\n",
    "- $t = 1$\n",
    "- $F = 50.000$\n",
    "\n",
    "Så vil det samfunnsøkonomiske optimale antallet utsalgsteder være:\n",
    "\n",
    "$$\n",
    "n = \\frac{\\sqrt{\\frac{5.000.000 \\times 1}{50.000}}}{2} = 5\n",
    "$$\n",
    "\n",
    "Dermed vil det samfunnsøkonomiske optimale antallet utsalgsteder være 5."
   ]
  },
  {
   "cell_type": "code",
   "execution_count": 7,
   "metadata": {},
   "outputs": [
    {
     "data": {
      "text/latex": [
       "$\\displaystyle 5$"
      ],
      "text/plain": [
       "5"
      ]
     },
     "metadata": {},
     "output_type": "display_data"
    }
   ],
   "source": [
    "# Eksempelverdier\n",
    "Optimalt_utsalg = n_løsning_2[1].subs({F: 50000, t: 1, N: 5000000})\n",
    "\n",
    "display(round(Optimalt_utsalg,2))"
   ]
  },
  {
   "cell_type": "markdown",
   "metadata": {},
   "source": [
    "## Optimalt valg av kvantum og kvalitet\n",
    "\n",
    "### Vi starter med \n",
    "\n",
    "En bedrift har monopol på et produkt og ønsker å bestemme optimalt valg av kvantum og kvalitet.\n",
    "\n",
    "Først vil vi finne optimalt nivå på kvantum. Vi har følgende etterspørselsfunksjon:\n",
    "\n",
    "$$\n",
    "Q = 50 - \\frac{P}{Z}\n",
    "$$\n",
    "\n",
    "Der $Q$ er kvantum, $Z$ er kvalitet og $P$ er pris. \n",
    "\n",
    "Vi finner invers etterspørselsfunksjonen ved å løse for $P$:\n",
    "\n",
    "$$\n",
    "P = Z(50-Q)\n",
    "$$\n",
    "\n",
    "Vi får også vite at marginalkostnaden er gitt ved:\n",
    "\n",
    "$$\n",
    "MC = 0\n",
    "$$\n",
    "\n",
    "og at faste kostnader er gitt ved:\n",
    "\n",
    "$$\n",
    "F = 5Z^2\n",
    "$$\n",
    "\n"
   ]
  },
  {
   "cell_type": "code",
   "execution_count": 8,
   "metadata": {},
   "outputs": [
    {
     "data": {
      "text/latex": [
       "$\\displaystyle Q = - \\frac{P}{Z} + 50$"
      ],
      "text/plain": [
       "Eq(Q, -P/Z + 50)"
      ]
     },
     "metadata": {},
     "output_type": "display_data"
    }
   ],
   "source": [
    "# Etterspørselsfunksjonen\n",
    "Etterspørsel = sp.Eq(Q, 50-P/Z)\n",
    "\n",
    "display(Etterspørsel)"
   ]
  },
  {
   "cell_type": "code",
   "execution_count": 9,
   "metadata": {},
   "outputs": [
    {
     "data": {
      "text/latex": [
       "$\\displaystyle Z \\left(50 - Q\\right)$"
      ],
      "text/plain": [
       "Z*(50 - Q)"
      ]
     },
     "metadata": {},
     "output_type": "display_data"
    }
   ],
   "source": [
    "# Finner invers etterspørsel ved å løse for P\n",
    "invers_ettersp = sp.solve(Etterspørsel, P)\n",
    "\n",
    "display(invers_ettersp[0])"
   ]
  },
  {
   "cell_type": "code",
   "execution_count": 10,
   "metadata": {},
   "outputs": [
    {
     "data": {
      "text/latex": [
       "$\\displaystyle 5 Z^{2}$"
      ],
      "text/plain": [
       "5*Z**2"
      ]
     },
     "execution_count": 10,
     "metadata": {},
     "output_type": "execute_result"
    }
   ],
   "source": [
    "# Definerer marginalkostnaden\n",
    "MC = 0\n",
    "\n",
    "# Definerer faste kostnader\n",
    "F_eq = 5*Z**2\n",
    "\n",
    "F_eq"
   ]
  },
  {
   "cell_type": "markdown",
   "metadata": {},
   "source": [
    "Vi trenger å finne profittfunksjonen til bedriften. Med opplysningene vi har blitt gitt så vet vi at profitten er gitt ved inntektene minus kostnadene. \n",
    "\n",
    "Inntektene er gitt ved $P \\cdot Q$ og kostnadene er gitt ved $F$. La oss først finne total inntekt:\n",
    "\n",
    "$$\n",
    "TR = P \\cdot Q = Z(50-Q) \\cdot Q = 50ZQ - Q^2\n",
    "$$\n",
    "\n",
    "Deretter finner vi profitten:\n",
    "\n",
    "$$\n",
    "\\pi = TR - F = 50ZQ - Q^2 - 5Z^2\n",
    "$$\n",
    "\n",
    "For å finne optimalt kvantum, må vi derivere profitten med hensyn på $Q$ og sette den deriverte lik null:\n",
    "\n",
    "$$\n",
    "\\frac{d\\pi}{dQ} = 50Z - 2Q = 0\n",
    "$$\n",
    "\n",
    "Og løser for $Q$:\n",
    "\n",
    "$$\n",
    "Q = 25\n",
    "$$\n",
    "\n",
    "Dermed vil det optimale kvantumet være 25."
   ]
  },
  {
   "cell_type": "code",
   "execution_count": 11,
   "metadata": {},
   "outputs": [
    {
     "data": {
      "text/latex": [
       "$\\displaystyle Q Z \\left(50 - Q\\right)$"
      ],
      "text/plain": [
       "Q*Z*(50 - Q)"
      ]
     },
     "metadata": {},
     "output_type": "display_data"
    }
   ],
   "source": [
    "# Multipliserer prisen med kvantumet for å finne totalinntekten\n",
    "TR = invers_ettersp[0]*Q\n",
    "\n",
    "display(TR)"
   ]
  },
  {
   "cell_type": "code",
   "execution_count": 12,
   "metadata": {},
   "outputs": [
    {
     "data": {
      "text/latex": [
       "$\\displaystyle \\pi = Q Z \\left(50 - Q\\right) - 5 Z^{2}$"
      ],
      "text/plain": [
       "Eq(\\pi, Q*Z*(50 - Q) - 5*Z**2)"
      ]
     },
     "metadata": {},
     "output_type": "display_data"
    }
   ],
   "source": [
    "# Definerer profittfunksjonen \n",
    "profitt = sp.Eq(pi, TR - F_eq)\n",
    "\n",
    "display(profitt)"
   ]
  },
  {
   "cell_type": "code",
   "execution_count": 13,
   "metadata": {},
   "outputs": [
    {
     "data": {
      "text/latex": [
       "$\\displaystyle - Q Z + Z \\left(50 - Q\\right)$"
      ],
      "text/plain": [
       "-Q*Z + Z*(50 - Q)"
      ]
     },
     "metadata": {},
     "output_type": "display_data"
    }
   ],
   "source": [
    "# Deriverer profittfunksjonen mhp. Q\n",
    "profitt_Q = sp.diff(profitt.rhs, Q)\n",
    "\n",
    "\n",
    "display(profitt_Q)"
   ]
  },
  {
   "cell_type": "code",
   "execution_count": 14,
   "metadata": {},
   "outputs": [
    {
     "data": {
      "text/latex": [
       "$\\displaystyle 25$"
      ],
      "text/plain": [
       "25"
      ]
     },
     "metadata": {},
     "output_type": "display_data"
    }
   ],
   "source": [
    "# Løser for Q\n",
    "Q_optimal = sp.solve(profitt_Q, Q)[0]\n",
    "\n",
    "display(Q_optimal)"
   ]
  },
  {
   "cell_type": "markdown",
   "metadata": {},
   "source": [
    "## Optimalt valg av kvalitet\n",
    "\n",
    "Nå som vi har regnet ut optimalt kvantum, kan vi finne optimalt nivå på kvalitet. Vi setter inn $Q = 25$ i invers etterspørselsfunksjonen:\n",
    "\n",
    "$$\n",
    " \\pi = - 5 Z^{2} + 625 Z\n",
    "$$\n"
   ]
  },
  {
   "cell_type": "code",
   "execution_count": 15,
   "metadata": {},
   "outputs": [
    {
     "data": {
      "text/latex": [
       "$\\displaystyle \\pi = - 5 Z^{2} + 625 Z$"
      ],
      "text/plain": [
       "Eq(\\pi, -5*Z**2 + 625*Z)"
      ]
     },
     "metadata": {},
     "output_type": "display_data"
    }
   ],
   "source": [
    "# Optimal profitt ved å settet inn Q_optimal i profittfunksjonen\n",
    "profitt_optimal = profitt.subs(Q, Q_optimal)\n",
    "\n",
    "display(profitt_optimal)"
   ]
  },
  {
   "cell_type": "markdown",
   "metadata": {},
   "source": [
    "Og vi finner optimalt nivå på kvalitet ved å derivere profitten med hensyn på $Z$, og sette den deriverte lik null:\n",
    "\n",
    "$$\n",
    "\\frac{d\\pi}{dZ} = -10Z + 625 = 0\n",
    "$$\n",
    "\n",
    "Og løser for $Z$:\n",
    "\n",
    "$$\n",
    "Z = 62.5\n",
    "$$\n",
    "\n",
    "Dermed vil det optimale nivået på kvalitet være 62.5.\n",
    "\n",
    "Og til slutt finner vi optimal pris ved å sette inn optimale verdier for kvantum og kvalitet i innvers etterspørsel:\n",
    "\n",
    "$$\n",
    "P(Q,Z) = Z(50-Q) \\rightarrow P(25,62.5) = 62.5*(50-25) = 1562.5\n",
    "$$\n",
    "\n",
    "Og finner at den optimale prisen blir 1562.5."
   ]
  },
  {
   "cell_type": "code",
   "execution_count": 16,
   "metadata": {},
   "outputs": [
    {
     "data": {
      "text/latex": [
       "$\\displaystyle 62.5$"
      ],
      "text/plain": [
       "62.50"
      ]
     },
     "metadata": {},
     "output_type": "display_data"
    }
   ],
   "source": [
    "# Finn optimalt nivå på kvalitet ved å derivere profittfunksjonen mhp. Z\n",
    "profitt_Z = sp.diff(profitt_optimal.rhs, Z)\n",
    "\n",
    "# Setter den deriverte lik 0 (python trenger ikke sette lik 0) og løser for Z\n",
    "Z_optimal = sp.solve(profitt_Z, Z)[0]\n",
    "\n",
    "display(round(Z_optimal,2))"
   ]
  },
  {
   "cell_type": "code",
   "execution_count": 17,
   "metadata": {},
   "outputs": [
    {
     "data": {
      "text/latex": [
       "$\\displaystyle 1561.0$"
      ],
      "text/plain": [
       "1561."
      ]
     },
     "metadata": {},
     "output_type": "display_data"
    }
   ],
   "source": [
    "# Finner optimal pris ved å sette inn optimalt kvantum og kvalitet i innvers etterspørsel\n",
    "\n",
    "P_optimal = invers_ettersp[0].subs({Q: Q_optimal, Z: round(Z_optimal,2)})\n",
    "\n",
    "display(round(P_optimal,2))"
   ]
  },
  {
   "cell_type": "markdown",
   "metadata": {},
   "source": [
    "## Oppgave - monopol og produktdifferensiering\n",
    "\n",
    "Kaffebønna er lokalisert i Tromsø med flere utsalgssteder. I første omgang antar vi at Kaffebønna er monopolist i sitt marked hvor kundene er horisontalt differensiert (den linære byen). \n",
    "\n",
    "Anta at Kaffebønna har 30 000 kunder (N=30 000) som er jevnt fordelt langs lokaliseringsområdet til utsalgsstedene, og at hver kunde kjøper en kopp kaffe per dag. \n",
    "\n",
    "Kostnaden ved å produsere en kopp kaffe er NOK 5, og bedriften har faste kostnader per utsalgssted på NOK 25 000.\n",
    "\n",
    "Transportkostnadene for kundene er på NOK 50.\n",
    "\n",
    "Hva er optimalt antall utsalgssteder for Kaffebønna i Tromsø?"
   ]
  },
  {
   "cell_type": "code",
   "execution_count": null,
   "metadata": {},
   "outputs": [],
   "source": [
    "# Skriv svaret ditt her\n"
   ]
  }
 ],
 "metadata": {
  "kernelspec": {
   "display_name": "Python 3",
   "language": "python",
   "name": "python3"
  },
  "language_info": {
   "codemirror_mode": {
    "name": "ipython",
    "version": 3
   },
   "file_extension": ".py",
   "mimetype": "text/x-python",
   "name": "python",
   "nbconvert_exporter": "python",
   "pygments_lexer": "ipython3",
   "version": "3.11.1"
  }
 },
 "nbformat": 4,
 "nbformat_minor": 2
}
