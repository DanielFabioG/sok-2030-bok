{
 "cells": [
  {
   "cell_type": "markdown",
   "id": "6326cda8",
   "metadata": {},
   "source": [
    "# Seminar 7.2: Vertikale fusjoner"
   ]
  },
  {
   "cell_type": "code",
   "execution_count": 499,
   "id": "4dd1e255",
   "metadata": {},
   "outputs": [],
   "source": [
    "import numpy as np\n",
    "import sympy as sp"
   ]
  },
  {
   "cell_type": "markdown",
   "id": "749caf66",
   "metadata": {},
   "source": [
    "## Vertikale fusjoner og dobbel-marginalisering\n",
    "\n",
    "I det siste seminaret skal vi nå se på hvordan vertikale fusjoner kan være en løsning på problemet med dobbel-marginalisering. Vi skal se på hvordan en vertikal fusjon kan føre til lavere priser og høyere profitt for produsenten, og hvordan dette kan påvirke forbrukerne.\n",
    "\n",
    "Vi antar at vi har to bedrifter, en oppstrømsbedrift som produserer en vare og en nedstrømsbedrift som distribuerer varen.\n",
    "\n",
    "Etterspørselen etter varen er gitt ved:\n",
    "\n",
    "$$\n",
    "Q = \\frac{a - P}{b}\n",
    "$$\n",
    "\n",
    "hvor $Q$ er etterspørselen, $P$ er prisen, og $a$ og $b$ er konstanter. Vi gjør også antagelsen at $a > 0$ og $b > 0$.\n",
    "\n",
    "Oppstrømsbedriften produserer innsatsfaktor som selges til nedstrømsbedriften til en pris lik $r$, og har marginalkostnad $c$. Nedstrømsbedriften har kun innkjøpskostnaden $r$.\n",
    "\n",
    "Vi regner det ut algebraisk i kode, så for å få tallverdier som svar, så setter man bare inn verdier for $a$, $b$, $c$ og $r$ i koden.\n",
    "\n",
    "Som normalt trenger vi å finne invers etterspørsel, og løser dette ved å isolere $P$ i etterspørselen:\n",
    "\n",
    "$$\n",
    "P = a - bQ\n",
    "$$\n"
   ]
  },
  {
   "cell_type": "code",
   "execution_count": 500,
   "id": "4edc41d8",
   "metadata": {},
   "outputs": [
    {
     "data": {
      "text/latex": [
       "$\\displaystyle q_{1} = \\frac{- P + a}{b}$"
      ],
      "text/plain": [
       "Eq(q_1, (-P + a)/b)"
      ]
     },
     "metadata": {},
     "output_type": "display_data"
    },
    {
     "data": {
      "text/latex": [
       "$\\displaystyle a - b q_{1}$"
      ],
      "text/plain": [
       "a - b*q_1"
      ]
     },
     "metadata": {},
     "output_type": "display_data"
    }
   ],
   "source": [
    "# Definerer symboler\n",
    "P,Q,q_1,q_2,b,c,r,a = sp.symbols('P Q q_1 q_2 b c r a')\n",
    "\n",
    "# Definerer etterspørselsfunksjonen\n",
    "Etterspørsel = sp.Eq(q_1, (a-P)/b)\n",
    "\n",
    "# Løser for P\n",
    "Invers_etterspørsel = sp.solve(Etterspørsel, P)[0]\n",
    "\n",
    "# Viser løsningene\n",
    "display(Etterspørsel, Invers_etterspørsel)"
   ]
  },
  {
   "cell_type": "code",
   "execution_count": 501,
   "id": "3ff10b93",
   "metadata": {},
   "outputs": [
    {
     "data": {
      "text/latex": [
       "$\\displaystyle q_{1} \\left(a - b q_{1}\\right)$"
      ],
      "text/plain": [
       "q_1*(a - b*q_1)"
      ]
     },
     "metadata": {},
     "output_type": "display_data"
    }
   ],
   "source": [
    "# Totalinntekt\n",
    "Totalinntekt = Invers_etterspørsel * q_1\n",
    "\n",
    "# Viser totalinntekt\n",
    "display(sp.simplify(Totalinntekt))"
   ]
  },
  {
   "cell_type": "code",
   "execution_count": 502,
   "id": "11f61329",
   "metadata": {},
   "outputs": [
    {
     "data": {
      "text/latex": [
       "$\\displaystyle a - 2 b q_{1}$"
      ],
      "text/plain": [
       "a - 2*b*q_1"
      ]
     },
     "metadata": {},
     "output_type": "display_data"
    }
   ],
   "source": [
    "# Marginalinntekt\n",
    "Marginalinntekt_1 = sp.diff(Totalinntekt, q_1)\n",
    "\n",
    "# Viser marginalinntekt\n",
    "display(Marginalinntekt_1)"
   ]
  },
  {
   "cell_type": "code",
   "execution_count": 503,
   "id": "feb9b7b0",
   "metadata": {},
   "outputs": [
    {
     "data": {
      "text/latex": [
       "$\\displaystyle a - 2 b q_{1} = r$"
      ],
      "text/plain": [
       "Eq(a - 2*b*q_1, r)"
      ]
     },
     "metadata": {},
     "output_type": "display_data"
    }
   ],
   "source": [
    "# Setter marginalinntekt lik optimal pris\n",
    "Marginalkostnad = sp.Eq(Marginalinntekt_1, r)\n",
    "\n",
    "# Viser marginalkostnad\n",
    "display(Marginalkostnad)"
   ]
  },
  {
   "cell_type": "markdown",
   "id": "7b593643",
   "metadata": {},
   "source": [
    "## To-trinns spill\n",
    "\n",
    "Hvor trinn 1 er at oppstrømsbedriften velger optimal pris i innsatsfaktormarkedet $r$, og trinn 2 er at nedstrømsbedriften velger kvantum og pris i sluttbrukermarkedet.\n",
    "\n",
    "### Trinn 2: Nedstrømsbedriften velger kvantum og pris i sluttbrukermarkedet\n",
    "\n",
    "Vi har baklengs induksjon, og starter med trinn 2.\n",
    "\n",
    "Vi multipliserer invers etterspørsel med kvantum $q_1$ for å få total inntekt $TR$ til nedstrømsbedriften:\n",
    "\n",
    "$$\n",
    "TR = P \\cdot q_1 =  q_{1} \\left(a - b q_{1}\\right)\n",
    "$$\n",
    "\n",
    "Deretter så finner vi marginalinntekt $MR$ ved å derivere $TR$ med hensyn på $q_1$:\n",
    "\n",
    "$$\n",
    "MR = \\frac{dTR}{dq_1} = a - 2bq_1\n",
    "$$\n",
    "\n",
    "Nedstrømsbedriften maksimerer profitt ved å sette $MR = r$, og vi får:\n",
    "\n",
    "$$\n",
    "MR = r \\implies a - 2bq_1 = r \\implies q_1 = \\frac{a - r}{2b}\n",
    "$$\n",
    "\n",
    "Nedstrømsbedriften setter prisen $P$ i henhold til invers etterspørsel:\n",
    "\n",
    "$$\n",
    "P = a - bq_1 = a - b \\cdot \\frac{a - r}{2b} = \\frac{a + r}{2}\n",
    "$$\n",
    "\n",
    "Nedstrømsbedriften har nå funnet sitt optimale kvantum og pris, og vi kan nå gå videre til trinn 1."
   ]
  },
  {
   "cell_type": "code",
   "execution_count": 504,
   "id": "faa1b4c6",
   "metadata": {},
   "outputs": [
    {
     "data": {
      "text/latex": [
       "$\\displaystyle \\frac{a - r}{2 b}$"
      ],
      "text/plain": [
       "(a - r)/(2*b)"
      ]
     },
     "metadata": {},
     "output_type": "display_data"
    }
   ],
   "source": [
    "# Løser for q_1\n",
    "q1 = sp.solve(Marginalkostnad, q_1)[0]\n",
    "\n",
    "# Viser optimalt kvantum\n",
    "display(q1)"
   ]
  },
  {
   "cell_type": "code",
   "execution_count": 505,
   "id": "647ee03c",
   "metadata": {},
   "outputs": [
    {
     "data": {
      "text/latex": [
       "$\\displaystyle \\frac{a}{2} + \\frac{r}{2}$"
      ],
      "text/plain": [
       "a/2 + r/2"
      ]
     },
     "metadata": {},
     "output_type": "display_data"
    }
   ],
   "source": [
    "# Setter så optimalt kvantum inn i invers etterspørsel for å finne optimal pris\n",
    "Optimal_pris = Invers_etterspørsel.subs(q_1, q1)\n",
    "\n",
    "# Viser optimal pris\n",
    "display(Optimal_pris)"
   ]
  },
  {
   "cell_type": "markdown",
   "id": "4da5ec85",
   "metadata": {},
   "source": [
    "### Trinn 1: Oppstrømsbedriften velger optimal pris $r$\n",
    "\n",
    "Oppstrømsbedriften selger samme kvantum som nedstrømsbedriften $q_1$ og står ovenfor en invers etterspørsel:\n",
    "\n",
    "$$\n",
    "r = a-2bq_2\n",
    "$$\n",
    "\n",
    "Finner totalinntekt $TR$ til oppstrømsbedriften:\n",
    "\n",
    "$$\n",
    "TR = r \\cdot q_2 = \\left(a - 2bq_2\\right)q_2 = aq_2 - 2bq_2^2\n",
    "$$\n",
    "\n",
    "Deretter finner vi marginalinntekt $MR$ ved å derivere $TR$ med hensyn på $q_2$:\n",
    "\n",
    "$$\n",
    "MR = \\frac{dTR}{dq_2} = a - 4bq_2\n",
    "$$\n",
    "\n",
    "Oppstrømsbedriften maksimerer profitt ved å sette $MR = c$, og løser for $q_2$:\n",
    "\n",
    "$$\n",
    "MR = c \\implies a - 4bq_2 = c \\implies q_2 = \\frac{a - c}{4b}\n",
    "$$\n",
    "\n",
    "Finner optimal pris FRA oppstrømsbedriften:\n",
    "$$\n",
    "r = a - 2bq_2 = a - 2b \\cdot \\frac{a - c}{4b} = \\frac{a + c}{2}\n",
    "$$\n",
    "\n",
    "Finner prisen nedstrømsbedriften setter ved å ta totalt kvantum og pris fra oppstrømsbedriften inn i etterspørselen til nedstrømsbedriften:\n",
    "\n",
    "$$\n",
    "P = a - bq_1 = a - b \\cdot \\frac{a - c}{4b} =  \\frac{3 a}{4} + \\frac{c}{4}\n",
    "$$\n",
    "\n",
    "Optimalt kvantum i sluttbrukermarkedet:\n",
    "\n",
    "$$\n",
    "q_1 = \\frac{a - c}{4b}\n",
    "$$\n",
    "\n",
    "Profitt for oppstrømsbedriften:\n",
    "\n",
    "$$\n",
    "\\pi_{up} = \\left(\\frac{a + c}{2} - c\\right)q_2 = \\left(\\frac{a - c}{2}\\right)q_2 = \\frac{(a - c)^2}{8b}\n",
    "$$\n",
    "\n",
    "Profitt for nedstrømsbedriften:\n",
    "\n",
    "$$\n",
    "\\pi_{down} = \\left(\\frac{3 a}{4} + \\frac{c}{4} - r\\right)q_1 = \\left(\\frac{3 a}{4} + \\frac{c}{4} - \\frac{a + c}{2}\\right)q_1 = \\left(\\frac{a - c}{4}\\right)q_1 = \\frac{(a - c)^2}{16b}\n",
    "$$"
   ]
  },
  {
   "cell_type": "code",
   "execution_count": 506,
   "id": "f282a17d",
   "metadata": {},
   "outputs": [
    {
     "data": {
      "text/latex": [
       "$\\displaystyle q_{2} \\left(a - 2 b q_{2}\\right)$"
      ],
      "text/plain": [
       "q_2*(a - 2*b*q_2)"
      ]
     },
     "metadata": {},
     "output_type": "display_data"
    }
   ],
   "source": [
    "# Substituerer inn q_2 i marginalinntekt\n",
    "Marginalinntekt_2 = Marginalinntekt_1.subs(q_1, q_2)\n",
    "\n",
    "# Oppstrømsbedriftens etterspørsel\n",
    "Invers_etterspørsel_oppstrom= Marginalinntekt_2 * q_2\n",
    "\n",
    "# Viser oppstrømsbedriftens etterspørsel\n",
    "display(Invers_etterspørsel_oppstrom)"
   ]
  },
  {
   "cell_type": "code",
   "execution_count": 507,
   "id": "f40c559f",
   "metadata": {},
   "outputs": [
    {
     "data": {
      "text/latex": [
       "$\\displaystyle a - 4 b q_{2}$"
      ],
      "text/plain": [
       "a - 4*b*q_2"
      ]
     },
     "metadata": {},
     "output_type": "display_data"
    }
   ],
   "source": [
    "# Deriverer totalinntekt med hensyn på q_2\n",
    "\n",
    "Marginalinntekt_2 = sp.diff(Invers_etterspørsel_oppstrom, q_2)\n",
    "\n",
    "# Viser marginalinntekt\n",
    "display(Marginalinntekt_2)"
   ]
  },
  {
   "cell_type": "code",
   "execution_count": 508,
   "id": "22bd8f6b",
   "metadata": {},
   "outputs": [
    {
     "data": {
      "text/latex": [
       "$\\displaystyle a - 4 b q_{2} = c$"
      ],
      "text/plain": [
       "Eq(a - 4*b*q_2, c)"
      ]
     },
     "metadata": {},
     "output_type": "display_data"
    }
   ],
   "source": [
    "# Setter marginalinntekt lik marginalkostnad\n",
    "Marginalkostnad = sp.Eq(Marginalinntekt_2, c)\n",
    "\n",
    "# Viser marginalkostnad\n",
    "display(Marginalkostnad)"
   ]
  },
  {
   "cell_type": "code",
   "execution_count": 509,
   "id": "473d0fb8",
   "metadata": {},
   "outputs": [
    {
     "data": {
      "text/latex": [
       "$\\displaystyle \\frac{a - c}{4 b}$"
      ],
      "text/plain": [
       "(a - c)/(4*b)"
      ]
     },
     "metadata": {},
     "output_type": "display_data"
    }
   ],
   "source": [
    "# Løser for q_2 for å finne optimal kvantum for oppstrømsbedriften\n",
    "q2 = sp.solve(Marginalkostnad, q_2)[0]\n",
    "\n",
    "# Viser optimalt kvantum for oppstrømsbedriften\n",
    "display(q2)"
   ]
  },
  {
   "cell_type": "code",
   "execution_count": 510,
   "id": "2cead762",
   "metadata": {},
   "outputs": [
    {
     "data": {
      "text/latex": [
       "$\\displaystyle \\frac{a}{2} + \\frac{c}{2}$"
      ],
      "text/plain": [
       "a/2 + c/2"
      ]
     },
     "metadata": {},
     "output_type": "display_data"
    }
   ],
   "source": [
    "# Optimal pris FRA oppstrømsbedriften\n",
    "\n",
    "Optimal_pris_oppstrom = Marginalinntekt_1.subs(q_1, q2)\n",
    "\n",
    "# Viser optimal pris for oppstrømsbedriften\n",
    "display(Optimal_pris_oppstrom)"
   ]
  },
  {
   "cell_type": "code",
   "execution_count": 511,
   "id": "8cf6bd7b",
   "metadata": {},
   "outputs": [
    {
     "data": {
      "text/latex": [
       "$\\displaystyle \\frac{3 a}{4} + \\frac{c}{4}$"
      ],
      "text/plain": [
       "3*a/4 + c/4"
      ]
     },
     "metadata": {},
     "output_type": "display_data"
    }
   ],
   "source": [
    "# Finner prisen nedstrømsbedriften setter ved å ta totalt kvantum og pris fra oppstrømsbedriften inn i etterspørselen til nedstrømsbedriften\n",
    "\n",
    "Optimal_pris_nedstrom = Invers_etterspørsel.subs(q_1, q2)\n",
    "\n",
    "# Viser optimal pris for nedstrømsbedriften\n",
    "display(sp.simplify(Optimal_pris_nedstrom))"
   ]
  },
  {
   "cell_type": "code",
   "execution_count": 512,
   "id": "3fd662e7",
   "metadata": {},
   "outputs": [
    {
     "data": {
      "text/latex": [
       "$\\displaystyle \\frac{a - c}{4 b}$"
      ],
      "text/plain": [
       "(a - c)/(4*b)"
      ]
     },
     "execution_count": 512,
     "metadata": {},
     "output_type": "execute_result"
    }
   ],
   "source": [
    "q2"
   ]
  },
  {
   "cell_type": "code",
   "execution_count": 513,
   "id": "cd871bbc",
   "metadata": {},
   "outputs": [
    {
     "data": {
      "text/latex": [
       "$\\displaystyle \\frac{a - c}{4 b}$"
      ],
      "text/plain": [
       "(a - c)/(4*b)"
      ]
     },
     "metadata": {},
     "output_type": "display_data"
    }
   ],
   "source": [
    "# Optimalt kvantum i sluttmarkedet\n",
    "Optimal_kvantum_q1 = q1.subs(r, Optimal_pris_oppstrom)\n",
    "\n",
    "# Viser optimalt kvantum i sluttmarkedet\n",
    "display(sp.simplify(Optimal_kvantum_q1))"
   ]
  },
  {
   "cell_type": "code",
   "execution_count": 514,
   "id": "acca75d0",
   "metadata": {},
   "outputs": [
    {
     "data": {
      "text/latex": [
       "$\\displaystyle \\frac{\\left(a - c\\right)^{2}}{8 b}$"
      ],
      "text/plain": [
       "(a - c)**2/(8*b)"
      ]
     },
     "metadata": {},
     "output_type": "display_data"
    }
   ],
   "source": [
    "# Profitt for oppstrømsbedriften\n",
    "Profitt_oppstrom = (Optimal_pris_oppstrom - c) * q2\n",
    "\n",
    "# Viser profitt for oppstrømsbedriften\n",
    "display(sp.simplify(Profitt_oppstrom))"
   ]
  },
  {
   "cell_type": "code",
   "execution_count": 515,
   "id": "81a7ce58",
   "metadata": {},
   "outputs": [
    {
     "data": {
      "text/latex": [
       "$\\displaystyle \\frac{\\left(a - c\\right)^{2}}{16 b}$"
      ],
      "text/plain": [
       "(a - c)**2/(16*b)"
      ]
     },
     "metadata": {},
     "output_type": "display_data"
    }
   ],
   "source": [
    "# Profitt for nedstrømsbedriften\n",
    "Profitt_nedstrom = (Optimal_pris_nedstrom - Optimal_pris_oppstrom) * Optimal_kvantum_q1 \n",
    "\n",
    "# Viser profitt for nedstrømsbedriften\n",
    "display(sp.simplify(Profitt_nedstrom))"
   ]
  },
  {
   "cell_type": "markdown",
   "id": "b75f8ace",
   "metadata": {},
   "source": [
    "## Vertikal integrasjon\n",
    "\n",
    "Vi antar at oppstrømsbedriften fusjonerer med nedstrømsbedriften, og at de nå er en og samme bedrift og opptre som monopolist. Vi ser på hvordan dette påvirker prisen og profitt.\n",
    "\n",
    "Det vi får er et monopol, så vi følger samme fremgangsmåte som seminar 1.1.\n",
    "\n",
    "Oppsummert så får vi ny optimal pris og kvantum og profitt for den fusjonerte bedriften:\n",
    "\n",
    "$$\n",
    "P^* =  \\frac{a+c}{2}\n",
    "$$\n",
    "\n",
    "$$\n",
    "Q^* =  \\frac{a - c}{2 b}\n",
    "$$\n",
    "\n",
    "$$\n",
    "\\pi^* = \\frac{\\left(a - c\\right)^{2}}{4 b}\n",
    "$$"
   ]
  },
  {
   "cell_type": "code",
   "execution_count": 516,
   "id": "3a58d1fb",
   "metadata": {},
   "outputs": [
    {
     "data": {
      "text/latex": [
       "$\\displaystyle P = - Q b + a$"
      ],
      "text/plain": [
       "Eq(P, -Q*b + a)"
      ]
     },
     "metadata": {},
     "output_type": "display_data"
    }
   ],
   "source": [
    "# Definerer inverse etterspørselen\n",
    "Invers_etterspørsel = sp.Eq(P, a-b*Q)\n",
    "\n",
    "# Viser invers etterspørsel\n",
    "display(Invers_etterspørsel)"
   ]
  },
  {
   "cell_type": "code",
   "execution_count": 517,
   "id": "c11bf639",
   "metadata": {},
   "outputs": [
    {
     "data": {
      "text/latex": [
       "$\\displaystyle Q \\left(- Q b + a\\right)$"
      ],
      "text/plain": [
       "Q*(-Q*b + a)"
      ]
     },
     "metadata": {},
     "output_type": "display_data"
    }
   ],
   "source": [
    "# Totalinntekt\n",
    "Totalinntekt = Invers_etterspørsel.rhs * Q\n",
    "\n",
    "# Viser totalinntekt\n",
    "display(sp.simplify(Totalinntekt))"
   ]
  },
  {
   "cell_type": "code",
   "execution_count": 518,
   "id": "b490cfd5",
   "metadata": {},
   "outputs": [
    {
     "data": {
      "text/latex": [
       "$\\displaystyle - 2 Q b + a$"
      ],
      "text/plain": [
       "-2*Q*b + a"
      ]
     },
     "metadata": {},
     "output_type": "display_data"
    }
   ],
   "source": [
    "# Marginalinntekt\n",
    "Marginalinntekt = sp.diff(Totalinntekt, Q)\n",
    "\n",
    "# Viser marginalinntekt\n",
    "display(Marginalinntekt)"
   ]
  },
  {
   "cell_type": "code",
   "execution_count": 519,
   "id": "1f788429",
   "metadata": {},
   "outputs": [
    {
     "data": {
      "text/latex": [
       "$\\displaystyle - 2 Q b + a = c$"
      ],
      "text/plain": [
       "Eq(-2*Q*b + a, c)"
      ]
     },
     "metadata": {},
     "output_type": "display_data"
    }
   ],
   "source": [
    "# Setter marginalinntekt lik marginalkostnad\n",
    "\n",
    "Marginalkostnad = sp.Eq(Marginalinntekt, c)\n",
    "\n",
    "# Viser marginalkostnad\n",
    "display(Marginalkostnad)"
   ]
  },
  {
   "cell_type": "code",
   "execution_count": 520,
   "id": "d91e0ce4",
   "metadata": {},
   "outputs": [
    {
     "data": {
      "text/latex": [
       "$\\displaystyle \\frac{a - c}{2 b}$"
      ],
      "text/plain": [
       "(a - c)/(2*b)"
      ]
     },
     "metadata": {},
     "output_type": "display_data"
    }
   ],
   "source": [
    "# Løser for kvantum\n",
    "Optimal_Q = sp.solve(Marginalkostnad, Q)[0]\n",
    "\n",
    "# Viser optimalt kvantum\n",
    "display(Optimal_Q)"
   ]
  },
  {
   "cell_type": "code",
   "execution_count": 521,
   "id": "b37de885",
   "metadata": {},
   "outputs": [
    {
     "data": {
      "text/latex": [
       "$\\displaystyle \\frac{a}{2} + \\frac{c}{2}$"
      ],
      "text/plain": [
       "a/2 + c/2"
      ]
     },
     "metadata": {},
     "output_type": "display_data"
    }
   ],
   "source": [
    "# Løser for pris\n",
    "Optimal_pris = Invers_etterspørsel.rhs.subs(Q, Optimal_Q)\n",
    "\n",
    "# Viser optimal pris\n",
    "display(sp.simplify(Optimal_pris))"
   ]
  },
  {
   "cell_type": "code",
   "execution_count": 522,
   "id": "3fd59555",
   "metadata": {},
   "outputs": [
    {
     "data": {
      "text/latex": [
       "$\\displaystyle \\frac{\\left(a - c\\right)^{2}}{4 b}$"
      ],
      "text/plain": [
       "(a - c)**2/(4*b)"
      ]
     },
     "metadata": {},
     "output_type": "display_data"
    }
   ],
   "source": [
    "# Profitt for monopolist etter vertikal integrasjon\n",
    "Profitt_monopolist = (Optimal_pris - c) * Optimal_Q\n",
    "\n",
    "# Viser profitt for monopolist etter vertikal integrasjon\n",
    "display(sp.simplify(Profitt_monopolist))"
   ]
  },
  {
   "cell_type": "markdown",
   "id": "53ad442b",
   "metadata": {},
   "source": [
    "## Vertikal integrasjon og utestengelse\n",
    "\n",
    "Merk at når det brukes sp.simplify i koden, så vil det forenkle uttrykkene og gjøre dem lettere å lese. Men om du skal regne med numeriske verdier, så kan det være en fordel å bare fjerne sp.simplify og bruke de mer kompliserte uttrykkene for å ikke få feilmeldinger om at det ikke er mulig å forenkle tall-uttrykket, eller at det ikke er mulig å forenkle uttrykket til en numerisk verdi.\n",
    "\n",
    "Vi antar et marked bestående av to oppstrømsbedrifter, $M1$ og $M2$, og to nedstrømsbedrifter, $R1$ og $R2$. \n",
    "\n",
    "Invers ettersprøsel er gitt ved: \n",
    "\n",
    "$$\n",
    "P = a - b(q1+q2)\n",
    "$$\n",
    "\n",
    "Oppstrømsbedriftene produserer innsatsfaktor som selges til nedstrømsbedriftene til pris lik $w$. Oppstrømsbedriftene har marginalkostnader lik $c$, og nedstrømsbedriften har marginalkostand lik $k$, pluss innkjøpskostander på $w$.\n",
    "\n",
    "Vi antar nå at $M1$ og $R1$ fusjonerer, og at den fusjonerte bedriften ikke ønsker å selge innsatsfaktoren til $R2$. Vi ser på hvordan dette påvirker prisen og profitt.\n",
    "\n",
    "### To-trinns spill:\n",
    "\n",
    "Trinn 1: Oppstrømsbedriften $R2$ velger optimal pris til nedstrømsbedriften $R2; w$\n",
    "Trinn 2: Nedstrømsbedriftene velger optimalt kvantum og pris i sluttbrukermarkedet; $P$\n",
    "\n",
    "Vi bruker baklengs induksjon og starter med Trinn 2.\n",
    "\n",
    "## Trinn 2: Nedstrømsbedriftene velger optimalt kvantum og pris i sluttbrukermarkedet\n",
    "\n",
    "Marginalkostnader til den funksjonerte bedriften: $c + k$\n",
    "\n",
    "Marginalkostnad til $R2$ er $w$ + $k$, hvor $w > c$"
   ]
  },
  {
   "cell_type": "code",
   "execution_count": 523,
   "id": "c44e3e18",
   "metadata": {},
   "outputs": [
    {
     "data": {
      "text/latex": [
       "$\\displaystyle P = a - b q^{m}_{R1} - b q_{R2}$"
      ],
      "text/plain": [
       "Eq(P, a - b*q^m_R1 - b*q_R2)"
      ]
     },
     "metadata": {},
     "output_type": "display_data"
    }
   ],
   "source": [
    "# Definerer symboler\n",
    "q_mR1, q_R2, q_M2,k,w, Q_r, Q_m = sp.symbols('q^m_R1 q_R2 q_M2 k w Q^r Q^m ', positive=True)\n",
    "\n",
    "\n",
    "# Definerer invers etterspørsel\n",
    "invers_etterspørsel = sp.Eq(P,a-b*q_mR1-b*q_R2)\n",
    "\n",
    "# Viser invers etterspørsel\n",
    "display(invers_etterspørsel)"
   ]
  },
  {
   "cell_type": "code",
   "execution_count": 524,
   "id": "e6403ee7",
   "metadata": {},
   "outputs": [
    {
     "data": {
      "text/latex": [
       "$\\displaystyle q^{m}_{R1} \\left(a - b q^{m}_{R1} - b q_{R2}\\right)$"
      ],
      "text/plain": [
       "q^m_R1*(a - b*q^m_R1 - b*q_R2)"
      ]
     },
     "metadata": {},
     "output_type": "display_data"
    },
    {
     "data": {
      "text/latex": [
       "$\\displaystyle q_{R2} \\left(a - b q^{m}_{R1} - b q_{R2}\\right)$"
      ],
      "text/plain": [
       "q_R2*(a - b*q^m_R1 - b*q_R2)"
      ]
     },
     "metadata": {},
     "output_type": "display_data"
    }
   ],
   "source": [
    "# Finner Totalinntekt for nedstrømsbedrift 1 og 2\n",
    "Totalinntekt_1R = invers_etterspørsel.rhs*q_mR1\n",
    "Totalinntekt_2R = invers_etterspørsel.rhs*q_R2\n",
    "\n",
    "\n",
    "# Viser totalinntekt for nedstrømsbedrift 1 og 2\n",
    "display(Totalinntekt_1R, Totalinntekt_2R)"
   ]
  },
  {
   "cell_type": "code",
   "execution_count": 525,
   "id": "38d8dd43",
   "metadata": {},
   "outputs": [
    {
     "data": {
      "text/latex": [
       "$\\displaystyle a - 2 b q^{m}_{R1} - b q_{R2}$"
      ],
      "text/plain": [
       "a - 2*b*q^m_R1 - b*q_R2"
      ]
     },
     "metadata": {},
     "output_type": "display_data"
    },
    {
     "data": {
      "text/latex": [
       "$\\displaystyle a - b q^{m}_{R1} - 2 b q_{R2}$"
      ],
      "text/plain": [
       "a - b*q^m_R1 - 2*b*q_R2"
      ]
     },
     "metadata": {},
     "output_type": "display_data"
    }
   ],
   "source": [
    "# Deriverer totalinntekt med hensyn på q_mR1 og q_R2\n",
    "Marginalinntekt_1R = sp.diff(Totalinntekt_1R, q_mR1)\n",
    "Marginalinntekt_2R = sp.diff(Totalinntekt_2R, q_R2)\n",
    "\n",
    "# Viser marginalinntekt for nedstrømsbedrift 1 og 2\n",
    "display(Marginalinntekt_1R, Marginalinntekt_2R)"
   ]
  },
  {
   "cell_type": "code",
   "execution_count": 526,
   "id": "23c97248",
   "metadata": {},
   "outputs": [
    {
     "data": {
      "text/latex": [
       "$\\displaystyle a - 2 b q^{m}_{R1} - b q_{R2} = c + k$"
      ],
      "text/plain": [
       "Eq(a - 2*b*q^m_R1 - b*q_R2, c + k)"
      ]
     },
     "metadata": {},
     "output_type": "display_data"
    },
    {
     "data": {
      "text/latex": [
       "$\\displaystyle a - b q^{m}_{R1} - 2 b q_{R2} = k + w$"
      ],
      "text/plain": [
       "Eq(a - b*q^m_R1 - 2*b*q_R2, k + w)"
      ]
     },
     "metadata": {},
     "output_type": "display_data"
    }
   ],
   "source": [
    "# Optimal tilpasning for R1 der MR = c + k\n",
    "equ_MR1 = sp.Eq(Marginalinntekt_1R, c+k)\n",
    "equ_R2 = sp.Eq(Marginalinntekt_2R, w+k)\n",
    "\n",
    "# Viser optimal tilpasning for nedstrømsbedrift 1 og 2\n",
    "display(equ_MR1,equ_R2)"
   ]
  },
  {
   "cell_type": "code",
   "execution_count": 527,
   "id": "b495e7a2",
   "metadata": {},
   "outputs": [
    {
     "data": {
      "text/latex": [
       "$\\displaystyle \\frac{a - b q_{R2} - c - k}{2 b}$"
      ],
      "text/plain": [
       "(a - b*q_R2 - c - k)/(2*b)"
      ]
     },
     "metadata": {},
     "output_type": "display_data"
    },
    {
     "data": {
      "text/latex": [
       "$\\displaystyle \\frac{a - b q^{m}_{R1} - k - w}{2 b}$"
      ],
      "text/plain": [
       "(a - b*q^m_R1 - k - w)/(2*b)"
      ]
     },
     "metadata": {},
     "output_type": "display_data"
    }
   ],
   "source": [
    "# Reaksjonsfunksjon til bedrift 1 og 2\n",
    "qMR1_equ = sp.solve(equ_MR1, q_mR1)[0]\n",
    "qR2_equ= sp.solve(equ_R2,q_R2)[0]\n",
    "\n",
    "# Viser reaksjonsfunksjonene til nedstrømsbedrift 1 og 2\n",
    "display(qMR1_equ,qR2_equ)"
   ]
  },
  {
   "cell_type": "code",
   "execution_count": 528,
   "id": "45f5358c",
   "metadata": {},
   "outputs": [
    {
     "data": {
      "text/latex": [
       "$\\displaystyle \\frac{a + b q^{m}_{R1} - 2 c - k + w}{4 b}$"
      ],
      "text/plain": [
       "(a + b*q^m_R1 - 2*c - k + w)/(4*b)"
      ]
     },
     "metadata": {},
     "output_type": "display_data"
    }
   ],
   "source": [
    "# Setter uttrykk for RF(q2) inn i RF(q1)\n",
    "qMR1_unresv_eq = qMR1_equ.subs(q_R2, qR2_equ)\n",
    "\n",
    "# Viser reaksjonsfunksjon for nedstrømsbedrift 1\n",
    "display(sp.simplify(qMR1_unresv_eq))"
   ]
  },
  {
   "cell_type": "code",
   "execution_count": 529,
   "id": "7fa4d293",
   "metadata": {},
   "outputs": [
    {
     "data": {
      "text/latex": [
       "$\\displaystyle \\frac{a - 2 c - k + w}{3 b}$"
      ],
      "text/plain": [
       "(a - 2*c - k + w)/(3*b)"
      ]
     },
     "metadata": {},
     "output_type": "display_data"
    }
   ],
   "source": [
    "# Løser for q_mR1 i reaksjonsfunksjonen til nedstrømsbedrift 1 og finner kvantum\n",
    "qMR1_opt = sp.solve(sp.Eq(q_mR1, qMR1_unresv_eq), q_mR1)[0]\n",
    "\n",
    "display(qMR1_opt)"
   ]
  },
  {
   "cell_type": "code",
   "execution_count": 530,
   "id": "53cfc44a",
   "metadata": {},
   "outputs": [
    {
     "data": {
      "text/latex": [
       "$\\displaystyle \\frac{\\frac{a}{2} + \\frac{b q_{R2}}{2} + \\frac{c}{2} - \\frac{k}{2} - w}{2 b}$"
      ],
      "text/plain": [
       "(a/2 + b*q_R2/2 + c/2 - k/2 - w)/(2*b)"
      ]
     },
     "metadata": {},
     "output_type": "display_data"
    }
   ],
   "source": [
    "# Setter uttrykk for RF(q1) inn i RF(q2)\n",
    "qR2_unresv_eq = qR2_equ.subs(q_mR1, qMR1_equ)\n",
    "\n",
    "# Viser reaksjonsfunksjon for nedstrømsbedrift 2\n",
    "display(qR2_unresv_eq)"
   ]
  },
  {
   "cell_type": "code",
   "execution_count": 531,
   "id": "a24af8a0",
   "metadata": {},
   "outputs": [
    {
     "data": {
      "text/latex": [
       "$\\displaystyle \\frac{a + c - k - 2 w}{3 b}$"
      ],
      "text/plain": [
       "(a + c - k - 2*w)/(3*b)"
      ]
     },
     "execution_count": 531,
     "metadata": {},
     "output_type": "execute_result"
    }
   ],
   "source": [
    "# Løser for q_mR1 i reaksjonsfunksjonen til nedstrømsbedrift 2 og finner kvantum\n",
    "qR2_opt = sp.solve(sp.Eq(q_R2, qR2_unresv_eq), q_R2)[0]\n",
    "\n",
    "# Viser optimalt kvantum for nedstrømsbedrift 2\n",
    "qR2_opt"
   ]
  },
  {
   "cell_type": "markdown",
   "id": "ece05c53",
   "metadata": {},
   "source": [
    "## Trinn 1: Oppstømsbedriften R2 velger optimal pris til M2"
   ]
  },
  {
   "cell_type": "code",
   "execution_count": 532,
   "id": "532998b5",
   "metadata": {},
   "outputs": [
    {
     "data": {
      "text/latex": [
       "$\\displaystyle \\frac{a}{2} - \\frac{3 b q_{R2}}{2} + \\frac{c}{2} - \\frac{k}{2}$"
      ],
      "text/plain": [
       "a/2 - 3*b*q_R2/2 + c/2 - k/2"
      ]
     },
     "metadata": {},
     "output_type": "display_data"
    }
   ],
   "source": [
    "# W_r2 til M2 vil være lik optimalt kvantum til R2\n",
    "W_r2 = sp.solve(sp.Eq(q_R2,qR2_unresv_eq), w)[0]\n",
    "\n",
    "# Viser invers etterspørsel til M2\n",
    "display(W_r2)"
   ]
  },
  {
   "cell_type": "markdown",
   "id": "6776e1aa",
   "metadata": {},
   "source": [
    "## Monopoltilpasning for oppstrømsbedriften ($M2$)\n",
    "\n",
    "Siden oppstrømsbedriften $M2$ er eneste tilbyder til nedstrømsbedriften $R2$ vil vi bedriften opptre som monopolist."
   ]
  },
  {
   "cell_type": "code",
   "execution_count": 533,
   "id": "36a2f95a",
   "metadata": {},
   "outputs": [
    {
     "data": {
      "text/latex": [
       "$\\displaystyle q_{M2} \\left(\\frac{a}{2} - \\frac{3 b q_{M2}}{2} + \\frac{c}{2} - \\frac{k}{2}\\right)$"
      ],
      "text/plain": [
       "q_M2*(a/2 - 3*b*q_M2/2 + c/2 - k/2)"
      ]
     },
     "metadata": {},
     "output_type": "display_data"
    }
   ],
   "source": [
    "# W_r2 er invers etterspørsel til M2, så vi bruker den til å finne totalinntekt, men vi må bruke q_M2 i stedet for q_R2\n",
    "invers_etterspørsel_M2 = sp.Eq(w,W_r2.subs(q_R2,q_M2))\n",
    "\n",
    "Totalinntekt_m2 = invers_etterspørsel_M2.rhs*q_M2\n",
    "\n",
    "# Viser totalinntekt for M2\n",
    "display(Totalinntekt_m2)"
   ]
  },
  {
   "cell_type": "code",
   "execution_count": 534,
   "id": "7e7e23f9",
   "metadata": {},
   "outputs": [
    {
     "data": {
      "text/latex": [
       "$\\displaystyle \\frac{a}{2} - 3 b q_{M2} + \\frac{c}{2} - \\frac{k}{2}$"
      ],
      "text/plain": [
       "a/2 - 3*b*q_M2 + c/2 - k/2"
      ]
     },
     "metadata": {},
     "output_type": "display_data"
    }
   ],
   "source": [
    "# Finner marginalinntekt for M2\n",
    "Marginalinntekt_m2 = sp.diff(Totalinntekt_m2, q_M2)\n",
    "\n",
    "# Viser marginalinntekt for M2\n",
    "display(Marginalinntekt_m2)"
   ]
  },
  {
   "cell_type": "code",
   "execution_count": 535,
   "id": "effa7bee",
   "metadata": {},
   "outputs": [
    {
     "data": {
      "text/latex": [
       "$\\displaystyle \\frac{a}{2} - 3 b q_{M2} + \\frac{c}{2} - \\frac{k}{2} = c$"
      ],
      "text/plain": [
       "Eq(a/2 - 3*b*q_M2 + c/2 - k/2, c)"
      ]
     },
     "execution_count": 535,
     "metadata": {},
     "output_type": "execute_result"
    }
   ],
   "source": [
    "# Optimal tilpasning der marginalinntekt = marginalkostnad\n",
    "qM2_equ=sp.Eq(Marginalinntekt_m2,c)\n",
    "\n",
    "qM2_equ"
   ]
  },
  {
   "cell_type": "code",
   "execution_count": 536,
   "id": "5233f87b",
   "metadata": {},
   "outputs": [
    {
     "data": {
      "text/latex": [
       "$\\displaystyle \\frac{a - c - k}{6 b}$"
      ],
      "text/plain": [
       "(a - c - k)/(6*b)"
      ]
     },
     "execution_count": 536,
     "metadata": {},
     "output_type": "execute_result"
    }
   ],
   "source": [
    "# optimalt kvantum på trinn 2 for M2, som da også er salget for R2\n",
    "qM2_equ=sp.solve(qM2_equ,q_M2)[0]\n",
    "\n",
    "qM2_equ"
   ]
  },
  {
   "cell_type": "code",
   "execution_count": 537,
   "id": "46211f2c",
   "metadata": {},
   "outputs": [
    {
     "data": {
      "text/latex": [
       "$\\displaystyle a = - 3 c + k + 4 w$"
      ],
      "text/plain": [
       "Eq(a, -3*c + k + 4*w)"
      ]
     },
     "execution_count": 537,
     "metadata": {},
     "output_type": "execute_result"
    }
   ],
   "source": [
    "# For å finne pris til nedstømsberiften R2 setter vi qM2 inn etterspørselsfunskjonen, som er w = (a-k+c)/2-3B/2*qR2 \n",
    "w_opt=sp.Eq(w,W_r2).subs({q_R2:qM2_equ})\n",
    "\n",
    "sp.simplify(w_opt)"
   ]
  },
  {
   "cell_type": "code",
   "execution_count": 538,
   "id": "1963d3c7",
   "metadata": {},
   "outputs": [
    {
     "data": {
      "text/latex": [
       "$\\displaystyle \\frac{a}{4} + \\frac{3 c}{4} - \\frac{k}{4}$"
      ],
      "text/plain": [
       "a/4 + 3*c/4 - k/4"
      ]
     },
     "execution_count": 538,
     "metadata": {},
     "output_type": "execute_result"
    }
   ],
   "source": [
    "# Pris på innsatsfaktor til R2\n",
    "w_equ = sp.solve(w_opt, w)[0]\n",
    "w_equ"
   ]
  },
  {
   "cell_type": "markdown",
   "id": "fa055bd6",
   "metadata": {},
   "source": [
    "## Optimalt kvantum og pris i sluttbrukermarkedet"
   ]
  },
  {
   "cell_type": "code",
   "execution_count": 539,
   "id": "a2d0700e",
   "metadata": {},
   "outputs": [
    {
     "data": {
      "text/latex": [
       "$\\displaystyle \\frac{5 \\left(a - c - k\\right)}{12 b}$"
      ],
      "text/plain": [
       "5*(a - c - k)/(12*b)"
      ]
     },
     "metadata": {},
     "output_type": "display_data"
    }
   ],
   "source": [
    "# Vi setter w_equ inn i optimalt kvantum for den vertikalt integrete bedriften og for salg fra MR1 til sluttbruker: \n",
    "qMR1_opt1=qMR1_opt.subs({w:w_equ})\n",
    "\n",
    "# Viser optimalt kvantum for nedstrømsbedrift 1\n",
    "display(sp.simplify(qMR1_opt1))"
   ]
  },
  {
   "cell_type": "code",
   "execution_count": 540,
   "id": "7be0fd65",
   "metadata": {},
   "outputs": [
    {
     "data": {
      "text/latex": [
       "$\\displaystyle \\frac{a - c - k}{6 b}$"
      ],
      "text/plain": [
       "(a - c - k)/(6*b)"
      ]
     },
     "execution_count": 540,
     "metadata": {},
     "output_type": "execute_result"
    }
   ],
   "source": [
    "# Vi setter w_equ inn i optimalt kvantum for oppstrømsbedrift R2 og for salg fra nedstrømsbedrift R2 til sluttbruker: \n",
    "qR2_opt1=qR2_opt.subs({w:w_equ})\n",
    "\n",
    "# Viser optimalt kvantum for nedstrømsbedrift 2\n",
    "sp.simplify(qR2_opt1)"
   ]
  },
  {
   "cell_type": "code",
   "execution_count": 542,
   "id": "6a703987",
   "metadata": {},
   "outputs": [
    {
     "data": {
      "text/latex": [
       "$\\displaystyle \\frac{5 a}{12} + \\frac{7 c}{12} + \\frac{7 k}{12}$"
      ],
      "text/plain": [
       "5*a/12 + 7*c/12 + 7*k/12"
      ]
     },
     "metadata": {},
     "output_type": "display_data"
    }
   ],
   "source": [
    "# Optimal pris til sluttbruker\n",
    "invers_etterspørsel_slutt = invers_etterspørsel.rhs.subs({q_mR1:qMR1_opt1,q_R2:qM2_equ})\n",
    "\n",
    "# Viser optimal pris til sluttbruker\n",
    "display(sp.simplify(invers_etterspørsel_slutt))"
   ]
  },
  {
   "cell_type": "code",
   "execution_count": null,
   "id": "c6dab729",
   "metadata": {},
   "outputs": [
    {
     "data": {
      "text/latex": [
       "$\\displaystyle \\frac{25 \\left(- a + c + k\\right)^{2}}{144 b}$"
      ],
      "text/plain": [
       "25*(-a + c + k)**2/(144*b)"
      ]
     },
     "metadata": {},
     "output_type": "display_data"
    }
   ],
   "source": [
    "# Profitt til MR1 er lik optimal pris sluttbruker -k- c*optimalt kvantum MR1\n",
    "profitt_mr1 = (invers_etterspørsel_slutt-k-c)*qMR1_opt1\n",
    "\n",
    "# Viser profitt til nedstrømsbedrift 1\n",
    "display(sp.simplify(profitt_mr1))"
   ]
  },
  {
   "cell_type": "code",
   "execution_count": 556,
   "id": "f29e034a",
   "metadata": {},
   "outputs": [
    {
     "data": {
      "text/latex": [
       "$\\displaystyle \\frac{\\left(- a + c + k\\right)^{2}}{36 b}$"
      ],
      "text/plain": [
       "(-a + c + k)**2/(36*b)"
      ]
     },
     "metadata": {},
     "output_type": "display_data"
    }
   ],
   "source": [
    "# Profitt til R2 er lik optimal pris sluttbruker -k-optimal w*optimalt kvantum R2\n",
    "profitt_R2 = (invers_etterspørsel_slutt-k-w.subs({w:w_equ}))*qM2_equ\n",
    "\n",
    "# Viser profitt til oppstrømsbedrift R2\n",
    "display(sp.simplify(profitt_R2))"
   ]
  },
  {
   "cell_type": "code",
   "execution_count": 557,
   "id": "1572e80a",
   "metadata": {},
   "outputs": [
    {
     "data": {
      "text/latex": [
       "$\\displaystyle \\frac{\\left(- a + c + k\\right)^{2}}{24 b}$"
      ],
      "text/plain": [
       "(-a + c + k)**2/(24*b)"
      ]
     },
     "metadata": {},
     "output_type": "display_data"
    }
   ],
   "source": [
    "# Profitt til M2 er lik (optimal w - c)*optimalt kvantum M2\n",
    "profitt_M2 = (w_equ-c)*qM2_equ\n",
    "\n",
    "# Viser profitt til oppstrømsbedrift M2\n",
    "display(sp.simplify(profitt_M2))"
   ]
  },
  {
   "cell_type": "markdown",
   "id": "837e1d07",
   "metadata": {},
   "source": [
    "## Seminar 8 - horisontal og vertikal fusjon\n",
    "\n",
    "### Oppgave\n",
    "\n",
    "Bakeribransjen i Nord-Norge består av to bakeri, Bakehuset AS og Bakst AS. Disse to produksjonsbedriftene kjøper mel fra Mølleren AS, som har monopol på salg av mel i Nord-Norge. Både Bakst og Bakehuset selger sine produkter til dagligvarekjedene Norges gruppen, Coop og Rema. \n",
    "\n",
    "Etterspørselen etter ferske bakervarer fra dagligvarekjedene er $P = 50 - (q_1 + q_2)$, hvor $q_1$ er produsert kvantum fra Bakehuset og $q_2$ er kvantum fra Bakst. $P$ er prisen på bakervarene som selges til\n",
    "dagligvarekjedene.\n",
    "\n",
    "Begge bakeriene har konstante marginalkostnader i produksjon på $k$ = 5, i tillegg til kostnader for kjøp av mel fra Mølleren. For produksjon av mel hos Mølleren er marginalkostnaden lik $c$ = 5. I produksjon av bakervarer bestemmes kvantum først og deretter settes markedsprisen.\n",
    "\n",
    "På siste strategisamling i Bakehuset har styret diskutert om de kan gjøre strukturendringer i produksjonen for å forbedre lønnsomheten til bakeriet. Ledelsen i selskapet har lagt frem to forslag:\n",
    "\n",
    "1. For å styrke sin forhandlingsposisjon til dagligvarekjedene, og dermed oppnå høyere pris fra\n",
    "dagligvarebutikkene, vurderer de å fusjonere med sin konkurrent Bakst.\n",
    "\n",
    "2. En annen mulighet for å styrke sin markedsposisjon og samtidig oppnå lavere\n",
    "produksjonskostnader er å fusjonere med leverandørbedriften Mølleren.\n",
    "\n",
    "a) Hvilken av disse to forslagene vil du, som styremedlem i Bakehuset AS, anbefale ledelsen av\n",
    "bedriften å gjennomføre?"
   ]
  },
  {
   "cell_type": "code",
   "execution_count": null,
   "id": "dbe6438d",
   "metadata": {},
   "outputs": [],
   "source": [
    "# Svar her"
   ]
  },
  {
   "cell_type": "markdown",
   "id": "013ea771",
   "metadata": {},
   "source": [
    "b) Hva blir de samfunnsøkonomiske effektene av disse to forslagene som ledelsen i Bakehuset\n",
    "har presentert?"
   ]
  },
  {
   "cell_type": "code",
   "execution_count": null,
   "id": "92c5f928",
   "metadata": {},
   "outputs": [],
   "source": [
    "# Svar her"
   ]
  }
 ],
 "metadata": {
  "kernelspec": {
   "display_name": "Python 3",
   "language": "python",
   "name": "python3"
  },
  "language_info": {
   "codemirror_mode": {
    "name": "ipython",
    "version": 3
   },
   "file_extension": ".py",
   "mimetype": "text/x-python",
   "name": "python",
   "nbconvert_exporter": "python",
   "pygments_lexer": "ipython3",
   "version": "3.11.1"
  }
 },
 "nbformat": 4,
 "nbformat_minor": 5
}
