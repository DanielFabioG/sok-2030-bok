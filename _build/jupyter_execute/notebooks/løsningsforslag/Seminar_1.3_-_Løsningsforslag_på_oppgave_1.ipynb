{
 "cells": [
  {
   "cell_type": "markdown",
   "metadata": {},
   "source": [
    "# Løsningsforslag monopol og tredjegrads prisdiskriminering\n",
    "\n",
    "### a) *Vis hvordan en monopolist, som tilbyr sitt produkt til ulike kundesegmenter eller i ulike geografiske områder (med ulik betalingsvillighet), kan bruke prismekanismen til å øke bedriftens lønnsomhet.*"
   ]
  },
  {
   "cell_type": "markdown",
   "metadata": {},
   "source": [
    "Prisdiskriminering gir høyere profitt fordi det tillater selgeren å fange opp mer av konsumentoverskuddet ved å tilpasse prisen til betalingsvilligheten i hvert marked. \n",
    "\n",
    "Dette fører til at selgeren kan selge flere enheter til høyere priser i markeder med høy betalingsvillighet og fortsatt selge i markeder med lavere betalingsvillighet uten å måtte senke prisen for alle kunder."
   ]
  },
  {
   "cell_type": "markdown",
   "metadata": {},
   "source": [
    "### b) *Forklar hvordan de ulike markedstilpasninger til monopolbedriften vil påvirke det samfunnsøkonomiske overskuddet.*"
   ]
  },
  {
   "cell_type": "markdown",
   "metadata": {},
   "source": [
    "Ulike markedstilpasninger til monopolbedriften vil påvirke det samfunnsøkonomiske overskuddet på følgende måter:\n",
    "\n",
    "- Monopol: \n",
    "\n",
    "Monopolistens profitt er større enn i et perfekt konkurransemarked fordi monopolisten setter prisen høyere enn grensekostnaden. Dette fører til at monopolisten produserer mindre enn i et perfekt konkurransemarked og at det samfunnsøkonomiske overskuddet er mindre enn i et perfekt konkurransemarked.\n",
    "\n",
    "- Monopol med prisdiskriminering: \n",
    "\n",
    "Monopolistens profitt er større enn i et monopol fordi monopolisten kan fange opp mer av konsumentoverskuddet ved å tilpasse prisen til betalingsvilligheten i hvert marked. Dette fører til at monopolisten produserer mer enn i et monopol og at det samfunnsøkonomiske overskuddet er større enn i et monopol.\n",
    "\n",
    "- Perfekt konkurranse: \n",
    "\n",
    "Samfunnsøkonomisk overskudd er maksimert i et perfekt konkurransemarked fordi prisen er lik grensekostnaden. Dette fører til at produsentoverskuddet og konsumentoverskuddet er maksimert i et perfekt konkurransemarked."
   ]
  },
  {
   "cell_type": "markdown",
   "metadata": {},
   "source": [
    "Som styremedlem i hotellet på Sommarøy mener du at bedriften bør bruke prismekanismen til å maksimere sitt overskudd. Erfaringer viser at etterspørselen etter hotellrom er høyere i sommersesongen og noe lavere på vinteren. \n",
    "\n",
    "Hotellet er den eneste tilbyderen av hotellrom i dette området, og står ovenfor følgende etterspørsel: \n",
    "\n",
    "$$\n",
    "Q_S = 4200 - P_{S}\n",
    "$$\n",
    "\n",
    "$$\n",
    "Q_V = 1500 - \\frac{P_{V}}{2}\n",
    "$$\n",
    "\n",
    "Som følge av investeringer i nytt hotellbygg har bedriften faste kostander på NOK 2 millioner per år, og konstante variable kostnader på NOK 600 per rom (til vask av rom og sengetøy). Ledelsen ved hotellet skal gjøre en vurdering av sin prisstrategi, hvor de vurderer enten en uniform prising, med lik pris gjennom hele året, eller en diskriminering av pris for de ulike sesongene.\n",
    "\n",
    "### c) *Hvilken strategi vil du anbefale ledelsen? Hva blir overskuddet til bedriften ved de to ulike prisstrategiene?*\n",
    "\n",
    "## Ved prisdiskriminering\n",
    "\n",
    "Først finner vi marginalinnteken ved å multiplisere invers etterspørsel med kvantum og deretter derivere med hensyn på kvantum, for sommer blir dette:\n",
    "\n",
    "$$\n",
    "MR_S = 4200 - 2Q_S\n",
    "$$\n",
    "\n",
    "Og for vinter:\n",
    "\n",
    "$$\n",
    "MR_V = 3000 - 4Q_V\n",
    "$$"
   ]
  },
  {
   "cell_type": "code",
   "execution_count": 1,
   "metadata": {},
   "outputs": [],
   "source": [
    "import numpy as np\n",
    "import matplotlib.pyplot as plt\n",
    "import sympy as sp"
   ]
  },
  {
   "cell_type": "code",
   "execution_count": 2,
   "metadata": {},
   "outputs": [
    {
     "data": {
      "text/latex": [
       "$\\displaystyle Q_{S} = 4200 - P_{S}$"
      ],
      "text/plain": [
       "Eq(Q_S, 4200 - P_S)"
      ]
     },
     "metadata": {},
     "output_type": "display_data"
    },
    {
     "data": {
      "text/latex": [
       "$\\displaystyle Q_{V} = 1500 - \\frac{P_{V}}{2}$"
      ],
      "text/plain": [
       "Eq(Q_V, 1500 - P_V/2)"
      ]
     },
     "metadata": {},
     "output_type": "display_data"
    }
   ],
   "source": [
    "# Definerer symboler\n",
    "P_S, P_V, Q_S, Q_V = sp.symbols('P_S P_V Q_S Q_V', real=True, positive=True)\n",
    "\n",
    "# Definerer etterpørselsfunksjonene for begge markeder\n",
    "Etterspørsel_S = sp.Eq(Q_S, 4200 - (P_S))\n",
    "Etterspørsel_V = sp.Eq(Q_V, 1500 - (P_V/2))\n",
    "\n",
    "display(Etterspørsel_S,Etterspørsel_V)"
   ]
  },
  {
   "cell_type": "code",
   "execution_count": 3,
   "metadata": {},
   "outputs": [
    {
     "data": {
      "text/latex": [
       "$\\displaystyle 4200 - Q_{S}$"
      ],
      "text/plain": [
       "4200 - Q_S"
      ]
     },
     "metadata": {},
     "output_type": "display_data"
    },
    {
     "data": {
      "text/latex": [
       "$\\displaystyle 3000 - 2 Q_{V}$"
      ],
      "text/plain": [
       "3000 - 2*Q_V"
      ]
     },
     "metadata": {},
     "output_type": "display_data"
    }
   ],
   "source": [
    "# Løser begge for P\n",
    "invers_S = sp.solve(Etterspørsel_S, P_S)[0]\n",
    "invers_V = sp.solve(Etterspørsel_V, P_V)[0]\n",
    "\n",
    "display(invers_S,invers_V)"
   ]
  },
  {
   "cell_type": "code",
   "execution_count": 4,
   "metadata": {},
   "outputs": [
    {
     "data": {
      "text/latex": [
       "$\\displaystyle Q_{S} \\left(4200 - Q_{S}\\right)$"
      ],
      "text/plain": [
       "Q_S*(4200 - Q_S)"
      ]
     },
     "metadata": {},
     "output_type": "display_data"
    },
    {
     "data": {
      "text/latex": [
       "$\\displaystyle Q_{V} \\left(3000 - 2 Q_{V}\\right)$"
      ],
      "text/plain": [
       "Q_V*(3000 - 2*Q_V)"
      ]
     },
     "metadata": {},
     "output_type": "display_data"
    }
   ],
   "source": [
    "# Multipliserer prisen med kvantumet for å finne totalinntekten for sommer og vintermarkedet\n",
    "TR_S = invers_S*Q_S\n",
    "TR_V = invers_V*Q_V\n",
    "\n",
    "display(TR_S,TR_V)"
   ]
  },
  {
   "cell_type": "code",
   "execution_count": 5,
   "metadata": {},
   "outputs": [
    {
     "data": {
      "text/latex": [
       "$\\displaystyle 4200 - 2 Q_{S}$"
      ],
      "text/plain": [
       "4200 - 2*Q_S"
      ]
     },
     "metadata": {},
     "output_type": "display_data"
    },
    {
     "data": {
      "text/latex": [
       "$\\displaystyle 3000 - 4 Q_{V}$"
      ],
      "text/plain": [
       "3000 - 4*Q_V"
      ]
     },
     "metadata": {},
     "output_type": "display_data"
    }
   ],
   "source": [
    "# Deriverer totalinntekten med hensyn på kvantumet for å finne marginalinntekten\n",
    "MR_S = TR_S.diff(Q_S)\n",
    "MR_V = TR_V.diff(Q_V)\n",
    "\n",
    "display(MR_S,MR_V)"
   ]
  },
  {
   "cell_type": "markdown",
   "metadata": {},
   "source": [
    "Så finner vi marginalkostnaden, den er gitt ved faste kostnader og er konstant:\n",
    "\n",
    "$$\n",
    "MC = 600\n",
    "$$\n",
    "\n",
    "For å finne optimal prissetting, setter vi marginalinntekten lik marginalkostnaden, først for sommer:\n",
    "\n",
    "$$\n",
    "MR = MC\n",
    "$$\n",
    "\n",
    "$$\n",
    "4200 - 2Q_{S} = 600\n",
    "$$\n",
    "\n",
    "$$\n",
    "2Q_{S} = 3600\n",
    "$$\n",
    "\n",
    "$$\n",
    "Q_{S}^* = 1800\n",
    "$$\n",
    "\n",
    "Så for vinter:\n",
    "\n",
    "$$\n",
    "3000 - 4Q_{V} = 600\n",
    "$$\n",
    "\n",
    "$$\n",
    "4Q_{V} = 2400\n",
    "$$\n",
    "\n",
    "$$\n",
    "Q_{V}^* = 600\n",
    "$$"
   ]
  },
  {
   "cell_type": "code",
   "execution_count": 6,
   "metadata": {},
   "outputs": [
    {
     "data": {
      "text/latex": [
       "$\\displaystyle 4200 - 2 Q_{S} = 600$"
      ],
      "text/plain": [
       "Eq(4200 - 2*Q_S, 600)"
      ]
     },
     "metadata": {},
     "output_type": "display_data"
    },
    {
     "data": {
      "text/latex": [
       "$\\displaystyle 3000 - 4 Q_{V} = 600$"
      ],
      "text/plain": [
       "Eq(3000 - 4*Q_V, 600)"
      ]
     },
     "metadata": {},
     "output_type": "display_data"
    }
   ],
   "source": [
    "# Vi har MC = 600\n",
    "MC = 600\n",
    "# Setter MR = MC for å finne likevektskvantumet\n",
    "likevekt_S = sp.Eq(MR_S, MC)\n",
    "likevekt_V = sp.Eq(MR_V, MC)\n",
    "\n",
    "display(likevekt_S,likevekt_V)"
   ]
  },
  {
   "cell_type": "code",
   "execution_count": 7,
   "metadata": {},
   "outputs": [
    {
     "data": {
      "text/latex": [
       "$\\displaystyle 1800$"
      ],
      "text/plain": [
       "1800"
      ]
     },
     "metadata": {},
     "output_type": "display_data"
    },
    {
     "data": {
      "text/latex": [
       "$\\displaystyle 600$"
      ],
      "text/plain": [
       "600"
      ]
     },
     "metadata": {},
     "output_type": "display_data"
    }
   ],
   "source": [
    "# Løser for kvantum for begge markeder\n",
    "kvantum_S = sp.solve(likevekt_S, Q_S)[0]\n",
    "kvantum_V = sp.solve(likevekt_V, Q_V)[0]\n",
    "\n",
    "display(kvantum_S,kvantum_V)"
   ]
  },
  {
   "cell_type": "code",
   "execution_count": 8,
   "metadata": {},
   "outputs": [
    {
     "data": {
      "text/latex": [
       "$\\displaystyle 2400$"
      ],
      "text/plain": [
       "2400"
      ]
     },
     "metadata": {},
     "output_type": "display_data"
    },
    {
     "data": {
      "text/latex": [
       "$\\displaystyle 1800$"
      ],
      "text/plain": [
       "1800"
      ]
     },
     "metadata": {},
     "output_type": "display_data"
    }
   ],
   "source": [
    "# Setter kvantumet inn i etterspørselsfunksjonen for å finne prisen\n",
    "likevekt_S_pris = invers_S.subs(Q_S, kvantum_S)\n",
    "likevekt_V_pris = invers_V.subs(Q_V, kvantum_V)\n",
    "\n",
    "display(likevekt_S_pris,likevekt_V_pris)"
   ]
  },
  {
   "cell_type": "code",
   "execution_count": 9,
   "metadata": {},
   "outputs": [
    {
     "data": {
      "text/latex": [
       "$\\displaystyle 3240000$"
      ],
      "text/plain": [
       "3240000"
      ]
     },
     "metadata": {},
     "output_type": "display_data"
    },
    {
     "data": {
      "text/latex": [
       "$\\displaystyle 720000$"
      ],
      "text/plain": [
       "720000"
      ]
     },
     "metadata": {},
     "output_type": "display_data"
    },
    {
     "data": {
      "text/latex": [
       "$\\displaystyle 1960000$"
      ],
      "text/plain": [
       "1960000"
      ]
     },
     "metadata": {},
     "output_type": "display_data"
    }
   ],
   "source": [
    "# Faste kostnader er 2 millioner\n",
    "FK = 2000000\n",
    "\n",
    "# Finner profitten\n",
    "profitt_S = TR_S.subs(Q_S, kvantum_S) - MC*kvantum_S\n",
    "profitt_V = TR_V.subs(Q_V, kvantum_V) - MC*kvantum_V\n",
    "\n",
    "# Total profitt for hotellet minus faste kostnader\n",
    "total_profitt = profitt_S + profitt_V - FK\n",
    "\n",
    "display(profitt_S,profitt_V,total_profitt)"
   ]
  },
  {
   "cell_type": "markdown",
   "metadata": {},
   "source": [
    "For å finne pris, setter vi kvantum inn i etterspørselsfunksjonene først for sommer:\n",
    "\n",
    "$$\n",
    "P_{V}^* = 3000 - 2 * 600 = 1800\n",
    "$$\n",
    "\n",
    "Og for vinter:\n",
    "\n",
    "$$\n",
    "P_{S}^* = 4200 - 1800 = 2400\n",
    "$$\n",
    "\n",
    "Profitten til bedriften for sommeren blir:\n",
    "\n",
    "$$\n",
    "\\pi_S = TR{_S^*} - MC \\cdot Q{_S^*} = 4 320 000 - 600 \\cdot 1800 = 3 240 000\n",
    "$$\n",
    "\n",
    "Og for vinter:\n",
    "\n",
    "$$\n",
    "\\pi_V = TR{_V^*} - MC \\cdot Q{_V^*} = 1 080 000 - 600 \\cdot 600 = 720 000\n",
    "$$\n",
    "\n",
    "Total profitt blir:\n",
    "\n",
    "$$\n",
    "\\pi = \\pi_S + \\pi_V = 3 240 000 + 720 000 - 2 000 000 = 1 960 000\n",
    "$$\n",
    "\n",
    "## Ved uniform prising"
   ]
  },
  {
   "cell_type": "code",
   "execution_count": 10,
   "metadata": {},
   "outputs": [
    {
     "data": {
      "text/latex": [
       "$\\displaystyle 5700 - \\frac{3 P}{2}$"
      ],
      "text/plain": [
       "5700 - 3*P/2"
      ]
     },
     "execution_count": 10,
     "metadata": {},
     "output_type": "execute_result"
    }
   ],
   "source": [
    "# I koden når vi aggregerer etterpørselen, så legger vi sammen kvantumet fra Sommer og Vinter. Derfor bruker vi nå Q og P istedenfor Q_S, Q_V, P_S og P_V.\n",
    "Q,P = sp.symbols('Q P', real=True, positive=True)\n",
    "Etterspørsel_S = sp.Eq(Q,4200 - (P))\n",
    "Etterspørsel_V = sp.Eq(Q,1500 - (P/2))\n",
    "\n",
    "# Aggregerer etterpørselen\n",
    "Etterspørsel_aggregert = Etterspørsel_S.rhs + Etterspørsel_V.rhs\n",
    "\n",
    "Etterspørsel_aggregert"
   ]
  },
  {
   "cell_type": "code",
   "execution_count": 11,
   "metadata": {},
   "outputs": [
    {
     "data": {
      "text/latex": [
       "$\\displaystyle 3800 - \\frac{2 Q}{3}$"
      ],
      "text/plain": [
       "3800 - 2*Q/3"
      ]
     },
     "execution_count": 11,
     "metadata": {},
     "output_type": "execute_result"
    }
   ],
   "source": [
    "# Løser for prisen\n",
    "invers_aggregert = sp.solve(Etterspørsel_aggregert - Q, P)[0]\n",
    "\n",
    "invers_aggregert"
   ]
  },
  {
   "cell_type": "code",
   "execution_count": 12,
   "metadata": {},
   "outputs": [
    {
     "data": {
      "text/latex": [
       "$\\displaystyle Q \\left(3800 - \\frac{2 Q}{3}\\right)$"
      ],
      "text/plain": [
       "Q*(3800 - 2*Q/3)"
      ]
     },
     "execution_count": 12,
     "metadata": {},
     "output_type": "execute_result"
    }
   ],
   "source": [
    "# Multipliserer prisen med kvantumet for å finne totalinntekten\n",
    "TR = invers_aggregert*Q\n",
    "TR"
   ]
  },
  {
   "cell_type": "code",
   "execution_count": 13,
   "metadata": {},
   "outputs": [
    {
     "data": {
      "text/latex": [
       "$\\displaystyle 3800 - \\frac{4 Q}{3}$"
      ],
      "text/plain": [
       "3800 - 4*Q/3"
      ]
     },
     "execution_count": 13,
     "metadata": {},
     "output_type": "execute_result"
    }
   ],
   "source": [
    "# Deriverer totalinntekten med hensyn på kvantumet for å finne marginalinntekten\n",
    "MR = TR.diff(Q)\n",
    "MR"
   ]
  },
  {
   "cell_type": "code",
   "execution_count": 14,
   "metadata": {},
   "outputs": [
    {
     "data": {
      "text/latex": [
       "$\\displaystyle 3800 - \\frac{4 Q}{3} = 600$"
      ],
      "text/plain": [
       "Eq(3800 - 4*Q/3, 600)"
      ]
     },
     "metadata": {},
     "output_type": "display_data"
    }
   ],
   "source": [
    "# Setter MR = MC for å finne likevektskvantumet\n",
    "likevekt = sp.Eq(MR, MC)\n",
    "\n",
    "display(likevekt)"
   ]
  },
  {
   "cell_type": "code",
   "execution_count": 15,
   "metadata": {},
   "outputs": [
    {
     "data": {
      "text/plain": [
       "'Likevektskvantumet er 2400, prisen er 2200 og profitten blir 1840000'"
      ]
     },
     "execution_count": 15,
     "metadata": {},
     "output_type": "execute_result"
    }
   ],
   "source": [
    "# Løser for kvantumet\n",
    "likevekt_kv = sp.solve(likevekt, Q)[0]\n",
    "\n",
    "# Setter kvantumet inn i etterspørselsfunksjonen for å finne prisen\n",
    "likevekt_pris = invers_aggregert.subs(Q, likevekt_kv)\n",
    "\n",
    "# Finner profitten\n",
    "profitt = TR.subs(Q, likevekt_kv) - MC*likevekt_kv-FK\n",
    "\n",
    "f'Likevektskvantumet er {round(likevekt_kv,1)}, prisen er {likevekt_pris} og profitten blir {round(profitt,1)}'"
   ]
  },
  {
   "cell_type": "code",
   "execution_count": 16,
   "metadata": {},
   "outputs": [
    {
     "name": "stdout",
     "output_type": "stream",
     "text": [
      "Profitten ved å holde markedene adskilt er 1960000, mens profitten ved å aggregerere markedene er 1840000 og endringen i profitt er 120000\n"
     ]
    }
   ],
   "source": [
    "# Endring i profitt\n",
    "endring_profitt = total_profitt - profitt\n",
    "\n",
    "print(f'Profitten ved å holde markedene adskilt er {total_profitt}, mens profitten ved å aggregerere markedene er {round(profitt,1)} og endringen i profitt er {round(endring_profitt,1)}')"
   ]
  }
 ],
 "metadata": {
  "kernelspec": {
   "display_name": "Python 3",
   "language": "python",
   "name": "python3"
  },
  "language_info": {
   "codemirror_mode": {
    "name": "ipython",
    "version": 3
   },
   "file_extension": ".py",
   "mimetype": "text/x-python",
   "name": "python",
   "nbconvert_exporter": "python",
   "pygments_lexer": "ipython3",
   "version": "3.11.1"
  }
 },
 "nbformat": 4,
 "nbformat_minor": 2
}