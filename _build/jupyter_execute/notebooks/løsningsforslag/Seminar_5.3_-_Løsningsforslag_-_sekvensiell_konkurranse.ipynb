{
 "cells": [
  {
   "cell_type": "markdown",
   "metadata": {},
   "source": [
    "# Oppgave sekvensiell konkurranse (Stackelberg)\n",
    "\n",
    "For å møte fremtidige vekstmuligheter i markedet har Hurtigruten ASA valgt å spisse de ulike delene av konsernet. Selskapet har opprettet enhetene Hurtigruten Norge, som skal drive ordinær rutetrafikk langs norskekysten, og Hurtigruten Expeditions, som skal drive den internasjonale ekspedisjonscruise-virksomheten.\n",
    "\n",
    "I markedet for ekspedisjonscruise vil Hurtigruten Expeditions være en ledende aktør, hvor de vil ha mulighet til å gjøre sine valg av kapasitet før en eventuell konkurrent kommer inn i markedet.\n",
    "\n",
    "I markedet for ekspedisjonscruise vil total invers etterspørsel være gitt ved:\n",
    "\n",
    "$$\n",
    "P = 5000 - \\frac{1}{10} \\cdot (q_E + q_N)\n",
    "$$\n",
    "\n",
    "hvor $q_E$ er antall passasjerer som vil reise med Hurtigruten Expeditions, $q_N$ er antall passasjerer som vil reise med nykommeren og $P$ er pris på cruise. På ekspedisjonscruise vil marginalkostnadene per passasjer være noe høyere siden det her er lagt opp til flere utflukter under seilasen. Hurtigruten Expeditions vil ha konstante marginalkostnader på 1500 per passasjer, mens nykommeren er noe mindre effektiv i sin drift og vil ha marginalkostnader på 1800 per\n",
    "passasjer. \n",
    "\n",
    "Faste kostnader for de nye cruiseskipene er på 3 millioner.\n",
    "\n",
    "a) Hva blir optimal tilpasning i dette markedet når Hurtigruten Expeditions kan gjøre sitt valg av kapasitet før nykommeren velger sitt kvantum.\n",
    "\n",
    "Vil det være en fordel for Hurtigruten Expeditions å ha mulighet til å gjøre valg av kvantum før konkurrenten?"
   ]
  },
  {
   "cell_type": "code",
   "execution_count": 1,
   "metadata": {},
   "outputs": [],
   "source": [
    "import numpy as np\n",
    "import sympy as sp"
   ]
  },
  {
   "cell_type": "code",
   "execution_count": 2,
   "metadata": {},
   "outputs": [
    {
     "data": {
      "text/latex": [
       "$\\displaystyle q_{1} + q_{2} = 50000.0 - 10.0 P$"
      ],
      "text/plain": [
       "Eq(q_1 + q_2, 50000.0 - 10.0*P)"
      ]
     },
     "metadata": {},
     "output_type": "display_data"
    },
    {
     "data": {
      "text/latex": [
       "$\\displaystyle - 0.1 q_{1} - 0.1 q_{2} + 5000.0$"
      ],
      "text/plain": [
       "-0.1*q_1 - 0.1*q_2 + 5000.0"
      ]
     },
     "metadata": {},
     "output_type": "display_data"
    }
   ],
   "source": [
    "# Definerer symbol\n",
    "P,Q,q_1,q_2,a,b,c,FK = sp.symbols('P Q q_1 q_2 a b c FK')\n",
    "\n",
    "# Q = q_1 + q_2\n",
    "Q = q_1 + q_2\n",
    "\n",
    "a = 5000\n",
    "b = 1/10\n",
    "c_1 = 1500\n",
    "c_2 = 1800\n",
    "Faste_kostnader = 3000000\n",
    "\n",
    "# Definerer etterspørselsfunksjonen\n",
    "Etterspørsel = sp.Eq(Q, (a-P)/b)\n",
    "\n",
    "# Løser for P\n",
    "Invers_etterspørsel = sp.solve(Etterspørsel, P)[0]\n",
    "\n",
    "# Viser løsningene\n",
    "display(Etterspørsel, Invers_etterspørsel)"
   ]
  },
  {
   "cell_type": "code",
   "execution_count": 3,
   "metadata": {},
   "outputs": [
    {
     "data": {
      "text/latex": [
       "$\\displaystyle q_{1} \\left(- 0.1 q_{1} - 0.1 q_{2} + 5000.0\\right)$"
      ],
      "text/plain": [
       "q_1*(-0.1*q_1 - 0.1*q_2 + 5000.0)"
      ]
     },
     "metadata": {},
     "output_type": "display_data"
    },
    {
     "data": {
      "text/latex": [
       "$\\displaystyle q_{2} \\left(- 0.1 q_{1} - 0.1 q_{2} + 5000.0\\right)$"
      ],
      "text/plain": [
       "q_2*(-0.1*q_1 - 0.1*q_2 + 5000.0)"
      ]
     },
     "metadata": {},
     "output_type": "display_data"
    }
   ],
   "source": [
    "# Multipliserer prisen med kvantumet for å finne totalinntekten\n",
    "Totalinntekt = Invers_etterspørsel*q_1\n",
    "Totalinntekt2 = Invers_etterspørsel*q_2\n",
    "\n",
    "# Viser totalinntekten\n",
    "display(Totalinntekt, Totalinntekt2)"
   ]
  },
  {
   "cell_type": "code",
   "execution_count": 4,
   "metadata": {},
   "outputs": [
    {
     "data": {
      "text/latex": [
       "$\\displaystyle - 0.1 q_{1} - 0.2 q_{2} + 5000.0$"
      ],
      "text/plain": [
       "-0.1*q_1 - 0.2*q_2 + 5000.0"
      ]
     },
     "metadata": {},
     "output_type": "display_data"
    }
   ],
   "source": [
    "# Deriverer totalinntekten for å finne marginalinntekten\n",
    "Marginalinntekt_q2 = sp.diff(Totalinntekt2, q_2)\n",
    "\n",
    "# Viser marginalinntekten\n",
    "display(Marginalinntekt_q2)"
   ]
  },
  {
   "cell_type": "code",
   "execution_count": 5,
   "metadata": {},
   "outputs": [
    {
     "data": {
      "text/latex": [
       "$\\displaystyle 0.1 q_{1} + 0.2 q_{2} = 3200.0$"
      ],
      "text/plain": [
       "Eq(0.1*q_1 + 0.2*q_2, 3200.0)"
      ]
     },
     "metadata": {},
     "output_type": "display_data"
    }
   ],
   "source": [
    "# Trinn 1\n",
    "\n",
    "# Setter marginalinntekten lik kostnaden\n",
    "likevekt_q2 = sp.Eq(Marginalinntekt_q2, c_2)\n",
    "\n",
    "display(sp.simplify(likevekt_q2))"
   ]
  },
  {
   "cell_type": "code",
   "execution_count": 6,
   "metadata": {},
   "outputs": [
    {
     "data": {
      "text/latex": [
       "$\\displaystyle 16000.0 - 0.5 q_{1}$"
      ],
      "text/plain": [
       "16000.0 - 0.5*q_1"
      ]
     },
     "metadata": {},
     "output_type": "display_data"
    }
   ],
   "source": [
    "# Løser for q2 for å finne reaksjonsfunksjon til bedrift 2\n",
    "q2 = sp.solve(likevekt_q2, q_2)[0]\n",
    "\n",
    "display(q2)"
   ]
  },
  {
   "cell_type": "code",
   "execution_count": 7,
   "metadata": {},
   "outputs": [
    {
     "data": {
      "text/latex": [
       "$\\displaystyle 3400.0 - 0.1 q_{1}$"
      ],
      "text/plain": [
       "3400.0 - 0.1*q_1"
      ]
     },
     "metadata": {},
     "output_type": "display_data"
    }
   ],
   "source": [
    "# Trinn 2\n",
    "\n",
    "# Vi setter så reaksjonsfunksjonen til bedrift 2 inn i bedrift 1 sin Totalinntekt og deriverer med hensyn på q1\n",
    "profitt_1_q = sp.diff(Totalinntekt.subs(q_2, q2), q_1)\n",
    "\n",
    "display(profitt_1_q)"
   ]
  },
  {
   "cell_type": "code",
   "execution_count": 8,
   "metadata": {},
   "outputs": [
    {
     "data": {
      "text/latex": [
       "$\\displaystyle 19000.0$"
      ],
      "text/plain": [
       "19000.0000000000"
      ]
     },
     "metadata": {},
     "output_type": "display_data"
    }
   ],
   "source": [
    "# Finner optimalt kvantum for lederbedrift ved å sette profitten lik kostnaden og løse for q1\n",
    "q1_sol = sp.solve(sp.Eq(profitt_1_q, c_1), q_1)[0]\n",
    "\n",
    "display(q1_sol)"
   ]
  },
  {
   "cell_type": "code",
   "execution_count": 9,
   "metadata": {},
   "outputs": [
    {
     "data": {
      "text/latex": [
       "$\\displaystyle 6500.0$"
      ],
      "text/plain": [
       "6500.00000000000"
      ]
     },
     "metadata": {},
     "output_type": "display_data"
    }
   ],
   "source": [
    "# Finner optimalt kvantum for følgerbedrift ved å sette q1_sol inn i reaksjonsfunksjonen til bedrift 2\n",
    "q2_sol = q2.subs(q_1, q1_sol)\n",
    "\n",
    "display(q2_sol)"
   ]
  },
  {
   "cell_type": "code",
   "execution_count": 10,
   "metadata": {},
   "outputs": [
    {
     "data": {
      "text/latex": [
       "$\\displaystyle 2450.0$"
      ],
      "text/plain": [
       "2450.00000000000"
      ]
     },
     "metadata": {},
     "output_type": "display_data"
    }
   ],
   "source": [
    "# Optimal pris i likevekt (sluttmarkedet)\n",
    "optimal_pris = Invers_etterspørsel.subs({q_1: q1_sol, q_2: q2_sol})\n",
    "\n",
    "display(optimal_pris)"
   ]
  },
  {
   "cell_type": "markdown",
   "metadata": {},
   "source": [
    "Vi finner at optimalt kvantum for lederbedriften blir 19 000, mens for følgerbedriften blir optimalt kvantum 6 500.\n",
    "\n",
    "I sluttmarkedet vil markedsprisen bli 2450."
   ]
  },
  {
   "cell_type": "code",
   "execution_count": 11,
   "metadata": {},
   "outputs": [
    {
     "data": {
      "text/latex": [
       "$\\displaystyle 15050000.0$"
      ],
      "text/plain": [
       "15050000.0000000"
      ]
     },
     "metadata": {},
     "output_type": "display_data"
    }
   ],
   "source": [
    "# Profitt for lederbedrift\n",
    "profitt_1 = (optimal_pris - c_1)*q1_sol-Faste_kostnader\n",
    "\n",
    "display(sp.simplify(profitt_1))"
   ]
  },
  {
   "cell_type": "code",
   "execution_count": 12,
   "metadata": {},
   "outputs": [
    {
     "data": {
      "text/latex": [
       "$\\displaystyle 1225000.0$"
      ],
      "text/plain": [
       "1225000.00000000"
      ]
     },
     "metadata": {},
     "output_type": "display_data"
    }
   ],
   "source": [
    "# Profitt for følgerbedrift\n",
    "profitt_2 = (optimal_pris - c_2)*q2_sol-Faste_kostnader\n",
    "\n",
    "display(sp.simplify(profitt_2))"
   ]
  },
  {
   "cell_type": "markdown",
   "metadata": {},
   "source": [
    "Profitten til bedriftene blir:\n",
    "\n",
    "15 050 000 for lederbedriften hurtigruten expeditions og 1 225 000 for følgerbedriften nykommeren."
   ]
  }
 ],
 "metadata": {
  "kernelspec": {
   "display_name": "Python 3",
   "language": "python",
   "name": "python3"
  },
  "language_info": {
   "codemirror_mode": {
    "name": "ipython",
    "version": 3
   },
   "file_extension": ".py",
   "mimetype": "text/x-python",
   "name": "python",
   "nbconvert_exporter": "python",
   "pygments_lexer": "ipython3",
   "version": "3.11.1"
  }
 },
 "nbformat": 4,
 "nbformat_minor": 2
}