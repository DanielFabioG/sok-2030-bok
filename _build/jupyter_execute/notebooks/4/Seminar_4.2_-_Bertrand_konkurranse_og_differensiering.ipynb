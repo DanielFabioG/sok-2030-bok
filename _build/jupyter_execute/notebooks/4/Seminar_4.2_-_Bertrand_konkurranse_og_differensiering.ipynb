{
 "cells": [
  {
   "cell_type": "markdown",
   "metadata": {},
   "source": [
    "# Seminar 4.2: Bertrand konkurranse og differensierte produkter"
   ]
  },
  {
   "cell_type": "code",
   "execution_count": 1,
   "metadata": {},
   "outputs": [],
   "source": [
    "import sympy as sp\n",
    "import numpy as np"
   ]
  },
  {
   "cell_type": "markdown",
   "metadata": {},
   "source": [
    "## Bertrand konkurranse og differensiering\n",
    "\n",
    "Vi skal se på en Bertrand modell hvor to bedrifter diffensierer produktene sine, et eksempel på dette kan være Coca Cola og Pepsi. Vi skal se på hvordan prisen påvirkes av differensiering og hvordan dette påvirker profitten til bedriftene.\n",
    "\n",
    "I motsetning til Cournot, så konkurrerer bedriftene i Bertrand modellen på pris. Dette betyr at bedriftene setter prisen sin og kundene kjøper produktet fra den bedriften som har lavest pris. Dette betyr at bedriftene må sette prisen sin lik grensekostnaden sin for å maksimere profitten.\n",
    "\n",
    "Vi antar vi har en etterspørsel gitt ved:\n",
    "\n",
    "$$\n"
   ]
  },
  {
   "cell_type": "code",
   "execution_count": null,
   "metadata": {},
   "outputs": [],
   "source": []
  },
  {
   "cell_type": "code",
   "execution_count": null,
   "metadata": {},
   "outputs": [],
   "source": []
  },
  {
   "cell_type": "code",
   "execution_count": null,
   "metadata": {},
   "outputs": [],
   "source": []
  },
  {
   "cell_type": "code",
   "execution_count": null,
   "metadata": {},
   "outputs": [],
   "source": []
  },
  {
   "cell_type": "code",
   "execution_count": null,
   "metadata": {},
   "outputs": [],
   "source": []
  },
  {
   "cell_type": "code",
   "execution_count": null,
   "metadata": {},
   "outputs": [],
   "source": []
  },
  {
   "cell_type": "markdown",
   "metadata": {},
   "source": []
  },
  {
   "cell_type": "markdown",
   "metadata": {},
   "source": []
  },
  {
   "cell_type": "markdown",
   "metadata": {},
   "source": []
  },
  {
   "cell_type": "markdown",
   "metadata": {},
   "source": []
  },
  {
   "cell_type": "markdown",
   "metadata": {},
   "source": []
  },
  {
   "cell_type": "code",
   "execution_count": null,
   "metadata": {},
   "outputs": [],
   "source": []
  },
  {
   "cell_type": "code",
   "execution_count": null,
   "metadata": {},
   "outputs": [],
   "source": []
  },
  {
   "cell_type": "code",
   "execution_count": null,
   "metadata": {},
   "outputs": [],
   "source": []
  },
  {
   "cell_type": "code",
   "execution_count": null,
   "metadata": {},
   "outputs": [],
   "source": []
  },
  {
   "cell_type": "markdown",
   "metadata": {},
   "source": [
    "## Oppgave Bertrand konkurranse og differensiering\n",
    "\n",
    "I denne oppgaven skal du anta at den «lineære byen» er ved Strandtorget hvor Kaffebønna er lokalisert i den ene enden av gata og Risø mat & kaffebar er lokalisert i den andre enden av gata.\n",
    "\n",
    "Anta at det er 30 000 kunder (N=30 000) som er jevnt fordelt langs lokaliseringsområdet til utsalgsstedene, og at hver kunde kjøper en kopp kaffe per dag. \n",
    "\n",
    "Kostnaden ved å produsere en kopp kaffe er NOK 5, og bedriftene har faste kostnader per utsalgssted på NOK 25 000.\n",
    "\n",
    "Transportkostnadene for kundene er på NOK 50. \n",
    "\n",
    "a) Bruk en Hotelling modell og vis hvordan disse to kaffebarene vil tilpasse seg i dette markedet. Hva er optimal pris på en kopp kaffe og hva blir profitten til Kaffebønna og Risø?"
   ]
  }
 ],
 "metadata": {
  "kernelspec": {
   "display_name": "Python 3",
   "language": "python",
   "name": "python3"
  },
  "language_info": {
   "codemirror_mode": {
    "name": "ipython",
    "version": 3
   },
   "file_extension": ".py",
   "mimetype": "text/x-python",
   "name": "python",
   "nbconvert_exporter": "python",
   "pygments_lexer": "ipython3",
   "version": "3.11.1"
  }
 },
 "nbformat": 4,
 "nbformat_minor": 2
}