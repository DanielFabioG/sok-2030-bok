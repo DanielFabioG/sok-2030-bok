{
 "cells": [
  {
   "cell_type": "markdown",
   "metadata": {},
   "source": [
    "# Seminar 3.2: Cournot modell med asymmetriske bedrifter"
   ]
  },
  {
   "cell_type": "code",
   "execution_count": 22,
   "metadata": {},
   "outputs": [],
   "source": [
    "import sympy as sp\n",
    "import numpy as np"
   ]
  },
  {
   "cell_type": "markdown",
   "metadata": {},
   "source": [
    "## Cournot modell med asymmetriske bedrifter\n",
    "\n",
    "Vi skal se på en modell der vi har to bedrifter som produserer samme gode. Bedriftene produserer en homogen vare og konkurrerer i mengde. Vi antar at bedriftene har forskjellige kostnader. Vi skal se på hvordan bedriftene vil produsere og prissette varen sin i likevekt.\n",
    "\n",
    "Vi antar at vi har en etterspørsel som er gitt ved:\n",
    "\n",
    "$$\n",
    "Q = \\frac{a - P}{b}\n",
    "$$\n",
    "\n",
    "der $Q$ er mengden som etterspørres, $P$ er prisen, og $a$ og $b$ er positive konstanter.\n",
    "\n",
    "Videre får vi vite at bedrift 1 har en kostnad på $c_1$ per enhet produsert, mens bedrift 2 har en kostnad på $c_2$ per enhet produsert.\n",
    "\n",
    "Q er også lik summen av mengden som produseres av de to bedriftene:\n",
    "\n",
    "$$\n",
    "Q = q_1 + q_2\n",
    "$$\n",
    "\n",
    "Siden vi har to bedrifter i en Cournot-modell, vil hver bedrift maksimere profitten sin gitt at konkurrenten produserer en viss mengde.\n",
    "\n",
    "Vi starter med å finne invers etterspørselfunksjon for å finne prisen som funksjon av mengden som produseres. Denne er gitt ved å løse etterspørselsfunksjonen for $P$:\n",
    "\n",
    "$$\n",
    "a - P = bQ \\Rightarrow P = a - bQ\n",
    "$$\n",
    "\n",
    "Som gir den inverse etterspørselfunksjonen:\n",
    "\n",
    "$$\n",
    "P = a - b(q_1 + q_2)\n",
    "$$\n",
    "\n",
    "## Totalinntekt og marginalinntekt\n",
    "\n",
    "Finner så totalinntekten til hver bedrift, som er gitt ved prisen ganget med kvantum:\n",
    "\n",
    "$$\n",
    "TR_1 = P \\times q_1 = q_1(a-bq_1 -bq_2)\n",
    "$$\n",
    "\n",
    "og for bedrift 2:\n",
    "\n",
    "$$\n",
    "TR_2 = P \\times q_2 = q_2(a-bq_1 -bq_2)\n",
    "$$\n",
    "\n",
    "Finner så marginalinntekten for begge bedriftene, som den deriverte av totalinntekten med henhold til kvantum:\n",
    "\n",
    "$$\n",
    "MR_1 = \\frac{\\partial TR_1}{\\partial q_1} = a-2bq_1 - bq_2\n",
    "$$\n",
    "\n",
    "og for bedrift 2:\n",
    "\n",
    "$$\n",
    "MR_2 = \\frac{\\partial TR_2}{\\partial q_2} = a-2bq_2 - bq_1\n",
    "$$"
   ]
  },
  {
   "cell_type": "code",
   "execution_count": null,
   "metadata": {},
   "outputs": [
    {
     "data": {
      "text/latex": [
       "$\\displaystyle q_{1} + q_{2} = \\frac{- P + a}{b}$"
      ],
      "text/plain": [
       "Eq(q_1 + q_2, (-P + a)/b)"
      ]
     },
     "metadata": {},
     "output_type": "display_data"
    },
    {
     "data": {
      "text/latex": [
       "$\\displaystyle a - b q_{1} - b q_{2}$"
      ],
      "text/plain": [
       "a - b*q_1 - b*q_2"
      ]
     },
     "metadata": {},
     "output_type": "display_data"
    }
   ],
   "source": [
    "# Definerer symbol\n",
    "P,Q,q_1,q_2,a,b,c_1,c_2 = sp.symbols('P Q q_1 q_2 a b c_1 c_2')\n",
    "\n",
    "# Q = q_1 + q_2\n",
    "Q = q_1 + q_2\n",
    "\n",
    "# Definerer etterspørselsfunksjonen\n",
    "Etterspørsel = sp.Eq(Q, (a-P)/b)\n",
    "\n",
    "# Løser for P\n",
    "Invers_etterspørsel = sp.solve(Etterspørsel, P)\n",
    "\n",
    "# Viser løsningene\n",
    "display(Etterspørsel, sp.simplify(Invers_etterspørsel[0]))"
   ]
  },
  {
   "cell_type": "code",
   "execution_count": 24,
   "metadata": {},
   "outputs": [
    {
     "data": {
      "text/latex": [
       "$\\displaystyle q_{1} \\left(a - b q_{1} - b q_{2}\\right)$"
      ],
      "text/plain": [
       "q_1*(a - b*q_1 - b*q_2)"
      ]
     },
     "metadata": {},
     "output_type": "display_data"
    },
    {
     "data": {
      "text/latex": [
       "$\\displaystyle q_{2} \\left(a - b q_{1} - b q_{2}\\right)$"
      ],
      "text/plain": [
       "q_2*(a - b*q_1 - b*q_2)"
      ]
     },
     "metadata": {},
     "output_type": "display_data"
    }
   ],
   "source": [
    "# Multipliserer prisen med kvantumet for å finne totalinntekten\n",
    "Totalinntekt = Invers_etterspørsel[0]*q_1\n",
    "Totalinntekt2 = Invers_etterspørsel[0]*q_2\n",
    "\n",
    "# Viser totalinntekten\n",
    "display(Totalinntekt, Totalinntekt2)"
   ]
  },
  {
   "cell_type": "code",
   "execution_count": 25,
   "metadata": {},
   "outputs": [
    {
     "data": {
      "text/latex": [
       "$\\displaystyle a - 2 b q_{1} - b q_{2}$"
      ],
      "text/plain": [
       "a - 2*b*q_1 - b*q_2"
      ]
     },
     "metadata": {},
     "output_type": "display_data"
    },
    {
     "data": {
      "text/latex": [
       "$\\displaystyle a - b q_{1} - 2 b q_{2}$"
      ],
      "text/plain": [
       "a - b*q_1 - 2*b*q_2"
      ]
     },
     "metadata": {},
     "output_type": "display_data"
    }
   ],
   "source": [
    "# Deriverer totalinntekten for å finne marginalinntekten\n",
    "Marginalinntekt_q1 = sp.diff(Totalinntekt, q_1)\n",
    "Marginalinntekt_q2 = sp.diff(Totalinntekt2, q_2)\n",
    "\n",
    "# Viser marginalinntekten\n",
    "display(sp.simplify(Marginalinntekt_q1), sp.simplify(Marginalinntekt_q2))"
   ]
  },
  {
   "cell_type": "markdown",
   "metadata": {},
   "source": [
    "## Reaksjonsfunksjoner\n",
    "\n",
    "Nå har vi regnet ut marginalinntekten, og vi kan sette denne lik marginalkostnaden for å finne optimal produksjon for hver bedrift. Merk at her har vi forskjellige kostnader for de to bedriftene.\n",
    "\n",
    "Vi starter med å sette $MR_1 = c_1$ for bedrift 1:\n",
    "\n",
    "For bedrift 1:\n",
    "$$\n",
    "a - 2bq_1 - bq_2 = c_1 \\,\\, \\Rightarrow \\,\\, q_1 = \\frac{a - c_{1} - b q_{2}}{2 b}\n",
    "$$\n",
    "\n",
    "For bedrift 2 får vi:\n",
    "\n",
    "$$\n",
    "a - bq_1 - 2bq_2 = c_2 \\,\\, \\Rightarrow \\,\\, q_2 =  \\frac{a - c_2 - b q_{1}}{2b}\n",
    "$$\n",
    "\n",
    "## Asymmetrisk likevekt\n",
    "\n",
    "I asymmetrisk likevekt vil bedriftene produsere forskjellige mengder. Vi må da løse systemet med de to likningene samtidig:\n",
    "\n",
    "$$\n",
    "q_1 =  \\frac{a - c_{1} - b q_{2}}{2 b}\n",
    "$$\n",
    "\n",
    "Vi setter dette urtrykket inn i reaksjonsfunksjonen for bedrift 2:\n",
    "\n",
    "$$\n",
    "q_2 = \\frac{a - c_2 - b\\left(\\frac{a - b q_{2} - c_{1}}{2 b}\\right)}{2b}\n",
    "$$\n",
    "\n",
    "Forenkler uttrykket:\n",
    "\n",
    "$$\n",
    "q_2 =\\frac{a - c_2 - b\\left(\\frac{a - b q_{2} - c_{1}}{2 b}\\right)}{2b} =  \\frac{a + c_{1} - 2 c_{2}}{3 b}\n",
    "$$\n",
    "\n",
    "Setter inn $q_2$ i $q_1$:\n",
    "\n",
    "$$\n",
    "q_1 =  \\frac{a - 2 c_{1} + c_{2}}{3 b}\n",
    "$$\n",
    "\n",
    "Total mengde som produseres i likevekt er da:\n",
    "\n",
    "$$\n",
    "Q = q_1 + q_2 = \\frac{2a-c_1-c_2}{3b}\n",
    "$$\n",
    "\n",
    "\n",
    "## Prisfunksjonen\n",
    "\n",
    "Den inverse etterspørselsfunksjonen er gitt ved\n",
    "\n",
    "$$\n",
    "P = a - b\\,Q.\n",
    "$$\n",
    "\n",
    "Sett inn $Q = \\frac{2a-c_1-c_2}{3b}$:\n",
    "\n",
    "$$\n",
    "P = a - b\\frac{2a-c_1-c_2}{3b} = \\frac{a + c_1 + c_2}{3}\n",
    "$$\n",
    "\n",
    "Dermed er prisen i likevekt:\n",
    "\n",
    "$$\n",
    "P = \\frac{a + c_1 + c_2}{3}\n",
    "$$\n",
    "\n",
    "\n",
    "## Profitten\n",
    "\n",
    "Profitten til bedrift 1 er gitt ved:\n",
    "\n",
    "$$\n",
    "\\pi_1 = (P - c_1) \\cdot q_1 =  \\frac{\\left(a - 2 c_{1} + c_{2}\\right)^{2}}{9 b}\n",
    "$$\n",
    "\n",
    "og for bedrift 2:\n",
    "\n",
    "$$\n",
    "\\pi_2 = (P - c_2) \\cdot q_2 =   \\frac{\\left(a + c_{1} - 2 c_{2}\\right)^{2}}{9 b}\n",
    "$$\n",
    "\n",
    "Dersom du har faste kostnader, trekkes disse fra profitten for å gi netto profit. \n",
    "\n",
    "Hvis faste kostnader $F$ (for eksempel 500) skal trekkes fra, blir netto profitt:\n",
    "\n",
    "$$\n",
    "\\pi_1 = (P - c_1) \\cdot q_1 - F\n",
    "$$\n",
    "\n",
    "og for bedrift 2:\n",
    "\n",
    "$$\n",
    "\\pi_2 = (P - c_2) \\cdot q_2 - F\n",
    "$$\n"
   ]
  },
  {
   "cell_type": "code",
   "execution_count": 26,
   "metadata": {},
   "outputs": [
    {
     "data": {
      "text/latex": [
       "$\\displaystyle c_{1} = a - 2 b q_{1} - b q_{2}$"
      ],
      "text/plain": [
       "Eq(c_1, a - 2*b*q_1 - b*q_2)"
      ]
     },
     "metadata": {},
     "output_type": "display_data"
    },
    {
     "data": {
      "text/latex": [
       "$\\displaystyle c_{2} = a - b q_{1} - 2 b q_{2}$"
      ],
      "text/plain": [
       "Eq(c_2, a - b*q_1 - 2*b*q_2)"
      ]
     },
     "metadata": {},
     "output_type": "display_data"
    }
   ],
   "source": [
    "# Setter marginalinntekten lik kostnaden\n",
    "likevekt_q1 = sp.Eq(Marginalinntekt_q1, c_1)\n",
    "likevekt_q2 = sp.Eq(Marginalinntekt_q2, c_2)\n",
    "\n",
    "display(sp.simplify(likevekt_q1), sp.simplify(likevekt_q2))"
   ]
  },
  {
   "cell_type": "code",
   "execution_count": 27,
   "metadata": {},
   "outputs": [
    {
     "data": {
      "text/latex": [
       "$\\displaystyle \\frac{a - b q_{2} - c_{1}}{2 b}$"
      ],
      "text/plain": [
       "(a - b*q_2 - c_1)/(2*b)"
      ]
     },
     "execution_count": 27,
     "metadata": {},
     "output_type": "execute_result"
    }
   ],
   "source": [
    "# Løser for q1 for å finne reaksjonsfunksjon til bedrift 1, dette er utrykket som ovenfor bare ikke forenklet\n",
    "q1 = sp.solve(likevekt_q1, q_1)\n",
    "q1[0]"
   ]
  },
  {
   "cell_type": "code",
   "execution_count": 28,
   "metadata": {},
   "outputs": [
    {
     "data": {
      "text/latex": [
       "$\\displaystyle \\frac{a - b q_{1} - c_{2}}{2 b}$"
      ],
      "text/plain": [
       "(a - b*q_1 - c_2)/(2*b)"
      ]
     },
     "metadata": {},
     "output_type": "display_data"
    }
   ],
   "source": [
    "# Løser for q2 for å finne reaksjonsfunksjon til bedrift 2, uttrykket er det samme som ovenfor i markdown bare ikke forenklet\n",
    "q2 = sp.solve(likevekt_q2, q_2)\n",
    "\n",
    "display(q2[0])"
   ]
  },
  {
   "cell_type": "code",
   "execution_count": 29,
   "metadata": {},
   "outputs": [
    {
     "data": {
      "text/latex": [
       "$\\displaystyle q_{1} = \\frac{a + b q_{1} - 2 c_{1} + c_{2}}{4 b}$"
      ],
      "text/plain": [
       "Eq(q_1, (a + b*q_1 - 2*c_1 + c_2)/(4*b))"
      ]
     },
     "execution_count": 29,
     "metadata": {},
     "output_type": "execute_result"
    }
   ],
   "source": [
    "# Setter uttrykk for q2 inn i q1 for å finne likevektskvantum\n",
    "likevekt_eq = sp.Eq(q_1, q1[0].subs(q_2, q2[0]))\n",
    "sp.simplify(likevekt_eq)"
   ]
  },
  {
   "cell_type": "code",
   "execution_count": 30,
   "metadata": {},
   "outputs": [
    {
     "data": {
      "text/latex": [
       "$\\displaystyle \\frac{a - 2 c_{1} + c_{2}}{3 b}$"
      ],
      "text/plain": [
       "(a - 2*c_1 + c_2)/(3*b)"
      ]
     },
     "metadata": {},
     "output_type": "display_data"
    },
    {
     "data": {
      "text/latex": [
       "$\\displaystyle \\frac{a + c_{1} - 2 c_{2}}{3 b}$"
      ],
      "text/plain": [
       "(a + c_1 - 2*c_2)/(3*b)"
      ]
     },
     "metadata": {},
     "output_type": "display_data"
    }
   ],
   "source": [
    "# Løser asymmetrisk likevekt for q1 og q2\n",
    "optimal_q1 = sp.solve(likevekt_eq, q_1)[0]\n",
    "\n",
    "optimal_q2 = q2[0].subs(q_1, optimal_q1)\n",
    "\n",
    "\n",
    "display(optimal_q1, sp.simplify(optimal_q2))"
   ]
  },
  {
   "cell_type": "code",
   "execution_count": 31,
   "metadata": {},
   "outputs": [
    {
     "data": {
      "text/latex": [
       "$\\displaystyle \\frac{a}{3} + \\frac{c_{1}}{3} + \\frac{c_{2}}{3}$"
      ],
      "text/plain": [
       "a/3 + c_1/3 + c_2/3"
      ]
     },
     "execution_count": 31,
     "metadata": {},
     "output_type": "execute_result"
    }
   ],
   "source": [
    "# Optimal Pris\n",
    "optimal_P = sp.simplify(Invers_etterspørsel[0].subs({q_1: optimal_q1, q_2: optimal_q2}))\n",
    "optimal_P"
   ]
  },
  {
   "cell_type": "code",
   "execution_count": 32,
   "metadata": {},
   "outputs": [
    {
     "data": {
      "text/latex": [
       "$\\displaystyle \\frac{\\left(a - 2 c_{1} + c_{2}\\right)^{2}}{9 b}$"
      ],
      "text/plain": [
       "(a - 2*c_1 + c_2)**2/(9*b)"
      ]
     },
     "metadata": {},
     "output_type": "display_data"
    },
    {
     "data": {
      "text/latex": [
       "$\\displaystyle \\frac{\\left(a + c_{1} - 2 c_{2}\\right)^{2}}{9 b}$"
      ],
      "text/plain": [
       "(a + c_1 - 2*c_2)**2/(9*b)"
      ]
     },
     "metadata": {},
     "output_type": "display_data"
    }
   ],
   "source": [
    "# Profitt for bedrift 1\n",
    "profitt = (optimal_P - c_1)*optimal_q1\n",
    "\n",
    "# Profitt for bedrift 2\n",
    "profitt2 = (optimal_P - c_2)*optimal_q2\n",
    "\n",
    "display(sp.simplify(profitt), sp.simplify(profitt2))"
   ]
  },
  {
   "cell_type": "markdown",
   "metadata": {},
   "source": [
    "## Eksempel\n",
    "\n",
    "Vi setter inn tallverdier for å finne prisen og mengden som produseres i likevekt. La $a = 120$, $b = 20$, $c_1 = 20$ og $c_2 = 40$.\n",
    "\n",
    "Det vil si at etterspørselsfunksjonen er:\n",
    "\n",
    "$$\n",
    "Q = \\frac{120 - P}{20}\n",
    "$$\n",
    "\n",
    "og invers etterspørselsfunksjonen er:\n",
    "\n",
    "$$\n",
    "P = 120 - 20Q\n",
    "$$\n",
    "\n",
    "\n",
    "Prisen i likevekt blir da:\n",
    "\n",
    "$$\n",
    "P = \\frac{120 + 20 + 40}{3} = 60\n",
    "$$\n",
    "\n",
    "Mengden som produseres for bedrift 1 blir:\n",
    "\n",
    "$$\n",
    "q_1 =  \\frac{120 - 2 \\cdot 20 + 40}{3 \\cdot 20} = 2\n",
    "$$\n",
    "\n",
    "og for bedrift 2:\n",
    "\n",
    "$$\n",
    "q_2 =  \\frac{120 + 20 - 2 \\cdot 40}{3 \\cdot 20} = 1\n",
    "$$\n",
    "\n",
    "Total mengde som produseres i likevekt er da:\n",
    "\n",
    "$$\n",
    "Q = q_1 + q_2 = 3\n",
    "$$\n",
    "\n",
    "Profitten til bedrift 1 blir:\n",
    "\n",
    "$$\n",
    "\\pi_1 =  \\frac{\\left(120 - 2 \\cdot 20 + 40\\right)^{2}}{9 \\cdot 20} = 80\n",
    "$$\n",
    "\n",
    "og for bedrift 2:\n",
    "\n",
    "$$\n",
    "\\pi_2 =  \\frac{\\left(120 + 20 - 2 \\cdot 40\\right)^{2}}{9 \\cdot 20} = 20\n",
    "$$"
   ]
  },
  {
   "cell_type": "code",
   "execution_count": 33,
   "metadata": {},
   "outputs": [
    {
     "data": {
      "text/latex": [
       "$\\displaystyle q_{1} + q_{2} = 6 - \\frac{P}{20}$"
      ],
      "text/plain": [
       "Eq(q_1 + q_2, 6 - P/20)"
      ]
     },
     "metadata": {},
     "output_type": "display_data"
    },
    {
     "data": {
      "text/latex": [
       "$\\displaystyle - 20 q_{1} - 20 q_{2} + 120$"
      ],
      "text/plain": [
       "-20*q_1 - 20*q_2 + 120"
      ]
     },
     "metadata": {},
     "output_type": "display_data"
    }
   ],
   "source": [
    "# Definerer symboler\n",
    "P,Q,q_1,q_2,a,b,c_1,c_2 = sp.symbols('P Q q_1 q_2 a b c_1 c_2')\n",
    "\n",
    "# Q = q_1 + q_2\n",
    "Q = q_1 + q_2\n",
    "\n",
    "a = 120\n",
    "b = 20\n",
    "c_1 = 20\n",
    "c_2 = 40\n",
    "\n",
    "# Definerer etterspørselsfunksjonen\n",
    "Etterspørsel = sp.Eq(Q, (a-P)/b)\n",
    "\n",
    "# Løser for P\n",
    "Invers_etterspørsel = sp.solve(Etterspørsel, P)\n",
    "\n",
    "# Viser løsningene\n",
    "display(Etterspørsel, sp.simplify(Invers_etterspørsel[0]))"
   ]
  },
  {
   "cell_type": "code",
   "execution_count": 34,
   "metadata": {},
   "outputs": [
    {
     "data": {
      "text/latex": [
       "$\\displaystyle q_{1} \\left(- 20 q_{1} - 20 q_{2} + 120\\right)$"
      ],
      "text/plain": [
       "q_1*(-20*q_1 - 20*q_2 + 120)"
      ]
     },
     "metadata": {},
     "output_type": "display_data"
    },
    {
     "data": {
      "text/latex": [
       "$\\displaystyle q_{2} \\left(- 20 q_{1} - 20 q_{2} + 120\\right)$"
      ],
      "text/plain": [
       "q_2*(-20*q_1 - 20*q_2 + 120)"
      ]
     },
     "metadata": {},
     "output_type": "display_data"
    }
   ],
   "source": [
    "# Multipliserer prisen med kvantumet for å finne totalinntekten\n",
    "Totalinntekt = Invers_etterspørsel[0]*q_1\n",
    "Totalinntekt2 = Invers_etterspørsel[0]*q_2\n",
    "\n",
    "# Viser totalinntekten\n",
    "display(Totalinntekt, Totalinntekt2)"
   ]
  },
  {
   "cell_type": "code",
   "execution_count": 35,
   "metadata": {},
   "outputs": [
    {
     "data": {
      "text/latex": [
       "$\\displaystyle - 40 q_{1} - 20 q_{2} + 120$"
      ],
      "text/plain": [
       "-40*q_1 - 20*q_2 + 120"
      ]
     },
     "metadata": {},
     "output_type": "display_data"
    },
    {
     "data": {
      "text/latex": [
       "$\\displaystyle - 20 q_{1} - 40 q_{2} + 120$"
      ],
      "text/plain": [
       "-20*q_1 - 40*q_2 + 120"
      ]
     },
     "metadata": {},
     "output_type": "display_data"
    }
   ],
   "source": [
    "# Deriverer totalinntekten for å finne marginalinntekten\n",
    "Marginalinntekt_q1 = sp.diff(Totalinntekt, q_1)\n",
    "Marginalinntekt_q2 = sp.diff(Totalinntekt2, q_2)\n",
    "\n",
    "# Viser marginalinntekten\n",
    "display(sp.simplify(Marginalinntekt_q1), sp.simplify(Marginalinntekt_q2))"
   ]
  },
  {
   "cell_type": "code",
   "execution_count": 36,
   "metadata": {},
   "outputs": [
    {
     "data": {
      "text/latex": [
       "$\\displaystyle 2 q_{1} + q_{2} = 5$"
      ],
      "text/plain": [
       "Eq(2*q_1 + q_2, 5)"
      ]
     },
     "metadata": {},
     "output_type": "display_data"
    },
    {
     "data": {
      "text/latex": [
       "$\\displaystyle q_{1} + 2 q_{2} = 4$"
      ],
      "text/plain": [
       "Eq(q_1 + 2*q_2, 4)"
      ]
     },
     "metadata": {},
     "output_type": "display_data"
    }
   ],
   "source": [
    "# Setter marginalinntekten lik kostnaden\n",
    "likevekt_q1 = sp.Eq(Marginalinntekt_q1, c_1)\n",
    "likevekt_q2 = sp.Eq(Marginalinntekt_q2, c_2)\n",
    "\n",
    "display(sp.simplify(likevekt_q1), sp.simplify(likevekt_q2))"
   ]
  },
  {
   "cell_type": "code",
   "execution_count": 37,
   "metadata": {},
   "outputs": [
    {
     "data": {
      "text/latex": [
       "$\\displaystyle \\frac{5}{2} - \\frac{q_{2}}{2}$"
      ],
      "text/plain": [
       "5/2 - q_2/2"
      ]
     },
     "execution_count": 37,
     "metadata": {},
     "output_type": "execute_result"
    }
   ],
   "source": [
    "# Løser for q1 for å finne reaksjonsfunksjon til bedrift 1, dette er utrykket som ovenfor bare ikke forenklet\n",
    "q1 = sp.solve(likevekt_q1, q_1)\n",
    "q1[0]"
   ]
  },
  {
   "cell_type": "code",
   "execution_count": 38,
   "metadata": {},
   "outputs": [
    {
     "data": {
      "text/latex": [
       "$\\displaystyle 2 - \\frac{q_{1}}{2}$"
      ],
      "text/plain": [
       "2 - q_1/2"
      ]
     },
     "metadata": {},
     "output_type": "display_data"
    }
   ],
   "source": [
    "# Løser for q2 for å finne reaksjonsfunksjon til bedrift 2, uttrykket er det samme som ovenfor i markdown bare ikke forenklet\n",
    "q2 = sp.solve(likevekt_q2, q_2)\n",
    "\n",
    "display(q2[0])"
   ]
  },
  {
   "cell_type": "code",
   "execution_count": 39,
   "metadata": {},
   "outputs": [
    {
     "data": {
      "text/latex": [
       "$\\displaystyle q_{1} = 2$"
      ],
      "text/plain": [
       "Eq(q_1, 2)"
      ]
     },
     "execution_count": 39,
     "metadata": {},
     "output_type": "execute_result"
    }
   ],
   "source": [
    "# Setter uttrykk for q2 inn i q1 for å finne likevektskvantum\n",
    "likevekt_eq = sp.Eq(q_1, q1[0].subs(q_2, q2[0]))\n",
    "sp.simplify(likevekt_eq)"
   ]
  },
  {
   "cell_type": "code",
   "execution_count": 40,
   "metadata": {},
   "outputs": [
    {
     "data": {
      "text/latex": [
       "$\\displaystyle 2$"
      ],
      "text/plain": [
       "2"
      ]
     },
     "metadata": {},
     "output_type": "display_data"
    },
    {
     "data": {
      "text/latex": [
       "$\\displaystyle 1$"
      ],
      "text/plain": [
       "1"
      ]
     },
     "metadata": {},
     "output_type": "display_data"
    }
   ],
   "source": [
    "# Løser asymmetrisk likevekt for q1 og q2\n",
    "optimal_q1 = sp.solve(likevekt_eq, q_1)[0]\n",
    "\n",
    "optimal_q2 = q2[0].subs(q_1, optimal_q1)\n",
    "\n",
    "\n",
    "display(round(optimal_q1), round(optimal_q2))"
   ]
  },
  {
   "cell_type": "code",
   "execution_count": 41,
   "metadata": {},
   "outputs": [
    {
     "data": {
      "text/latex": [
       "$\\displaystyle 60$"
      ],
      "text/plain": [
       "60"
      ]
     },
     "execution_count": 41,
     "metadata": {},
     "output_type": "execute_result"
    }
   ],
   "source": [
    "# Optimal pris\n",
    "optimal_P = sp.simplify(Invers_etterspørsel[0].subs({q_1: optimal_q1, q_2: optimal_q2}))\n",
    "round(optimal_P,2)"
   ]
  },
  {
   "cell_type": "code",
   "execution_count": 42,
   "metadata": {},
   "outputs": [
    {
     "data": {
      "text/latex": [
       "$\\displaystyle 80$"
      ],
      "text/plain": [
       "80"
      ]
     },
     "metadata": {},
     "output_type": "display_data"
    },
    {
     "data": {
      "text/latex": [
       "$\\displaystyle 20$"
      ],
      "text/plain": [
       "20"
      ]
     },
     "metadata": {},
     "output_type": "display_data"
    }
   ],
   "source": [
    "# Profitt for bedrift 1, om det er faste kostnader trekkes disse fra: profitt = (optimal_P - c_1)*optimal_q1-FK\n",
    "profitt = (optimal_P - c_1)*optimal_q1\n",
    "\n",
    "# Profitt for bedrift 2, om det er faste kostnader trekkes disse fra, profitt2 = (optimal_P - c_2)*optimal_q2-FK\n",
    "profitt2 = (optimal_P - c_2)*optimal_q2\n",
    "\n",
    "display(round(profitt,2), round(profitt2,2))"
   ]
  }
 ],
 "metadata": {
  "kernelspec": {
   "display_name": "Python 3",
   "language": "python",
   "name": "python3"
  },
  "language_info": {
   "codemirror_mode": {
    "name": "ipython",
    "version": 3
   },
   "file_extension": ".py",
   "mimetype": "text/x-python",
   "name": "python",
   "nbconvert_exporter": "python",
   "pygments_lexer": "ipython3",
   "version": "3.11.1"
  }
 },
 "nbformat": 4,
 "nbformat_minor": 2
}
