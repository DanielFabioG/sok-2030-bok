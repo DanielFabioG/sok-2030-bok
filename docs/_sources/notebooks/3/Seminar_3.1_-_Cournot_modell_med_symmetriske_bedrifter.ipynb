{
 "cells": [
  {
   "cell_type": "markdown",
   "metadata": {},
   "source": [
    "# Seminar 3.1: Cournot-modellen med symmetriske bedrifter"
   ]
  },
  {
   "cell_type": "code",
   "execution_count": 1,
   "metadata": {},
   "outputs": [],
   "source": [
    "import sympy as sp\n",
    "import numpy as np"
   ]
  },
  {
   "cell_type": "markdown",
   "metadata": {},
   "source": [
    "## Cournot-modellen med symmetriske bedrifter\n",
    "\n",
    "Vi skal se på en modell der to bedrifter konkurrerer om å selge et homogent produkt. Bedriftene produserer samtidig og uavhengig av hverandre. Vi antar at bedriftene har identiske kostnader, og at de kjenner hverandres kostnader. Vi antar også at bedriftene har full oversikt over markedet, og at de tar hensyn til hvordan konkurrenten vil reagere på endringer i egen produksjon.\n",
    "\n",
    "Vi antar at vi har en etterspørsel som er gitt ved:\n",
    "\n",
    "$$\n",
    "Q = \\frac{a - P}{b}\n",
    "$$\n",
    "\n",
    "der $Q$ er mengden som etterspørres, $P$ er prisen, og $a$ og $b$ er positive konstanter. \n",
    "\n",
    "Q er også lik summen av mengden som produseres av de to bedriftene:\n",
    "\n",
    "$$\n",
    "Q = q_1 + q_2\n",
    "$$\n",
    "\n",
    "Siden vi har to bedrifter i en Cournot-modell, vil hver bedrift maksimere profitten sin gitt at konkurrenten produserer en viss mengde.\n",
    "\n",
    "Videre så antar vi at marginalkostnaden er konstant, og lik $c$ for begge bedriftene.\n",
    "\n",
    "Vi starter med å finne invers etterspørselfunksjon for å finne prisen som funksjon av mengden som produseres. Denne er gitt ved å løse etterspørselsfunksjonen for $P$:\n",
    "\n",
    "$$\n",
    "a - P = bQ \\Rightarrow P = a - bQ\n",
    "$$\n",
    "\n",
    "Som gir den inverse etterspørselfunksjonen:\n",
    "\n",
    "$$\n",
    "P = a - b(q_1 + q_2)\n",
    "$$\n",
    "\n",
    "## Totalinntekt og marginalinntekt\n",
    "\n",
    "Finner så totalinntekten til hver bedrift, som er gitt ved prisen ganget med kvantum:\n",
    "\n",
    "$$\n",
    "TR_1 = P \\times q_1 = q_1(a-bq_1 -bq_2)\n",
    "$$\n",
    "\n",
    "og for bedrift 2:\n",
    "\n",
    "$$\n",
    "TR_2 = P \\times q_2 = q_2(a-bq_1 -bq_2)\n",
    "$$\n",
    "\n",
    "Finner så marginalinntekten for begge bedriftene, som den deriverte av totalinntekten med henhold til kvantum:\n",
    "\n",
    "$$\n",
    "MR_1 = \\frac{\\partial TR_1}{\\partial q_1} = a-2bq_1 - bq_2\n",
    "$$\n",
    "\n",
    "og for bedrift 2:\n",
    "\n",
    "$$\n",
    "MR_2 = \\frac{\\partial TR_2}{\\partial q_2} = a-2bq_2 - bq_1\n",
    "$$"
   ]
  },
  {
   "cell_type": "code",
   "execution_count": 2,
   "metadata": {},
   "outputs": [
    {
     "data": {
      "text/latex": [
       "$\\displaystyle q_{1} + q_{2} = \\frac{- P + a}{b}$"
      ],
      "text/plain": [
       "Eq(q_1 + q_2, (-P + a)/b)"
      ]
     },
     "metadata": {},
     "output_type": "display_data"
    },
    {
     "data": {
      "text/latex": [
       "$\\displaystyle a - b q_{1} - b q_{2}$"
      ],
      "text/plain": [
       "a - b*q_1 - b*q_2"
      ]
     },
     "metadata": {},
     "output_type": "display_data"
    }
   ],
   "source": [
    "# Definerer symboler\n",
    "P,Q,q_1,q_2,a,b,c = sp.symbols('P Q q_1 q_2 a b c')\n",
    "\n",
    "# Q = q_1 + q_2\n",
    "Q = q_1 + q_2\n",
    "\n",
    "# Definerer etterspørselsfunksjonen\n",
    "Etterspørsel = sp.Eq(Q, (a-P)/b)\n",
    "\n",
    "# Løser for P\n",
    "Invers_etterspørsel = sp.solve(Etterspørsel, P)\n",
    "\n",
    "# Viser løsningene\n",
    "display(Etterspørsel, sp.simplify(Invers_etterspørsel[0]))"
   ]
  },
  {
   "cell_type": "code",
   "execution_count": 3,
   "metadata": {},
   "outputs": [
    {
     "data": {
      "text/latex": [
       "$\\displaystyle q_{1} \\left(a - b q_{1} - b q_{2}\\right)$"
      ],
      "text/plain": [
       "q_1*(a - b*q_1 - b*q_2)"
      ]
     },
     "metadata": {},
     "output_type": "display_data"
    },
    {
     "data": {
      "text/latex": [
       "$\\displaystyle q_{2} \\left(a - b q_{1} - b q_{2}\\right)$"
      ],
      "text/plain": [
       "q_2*(a - b*q_1 - b*q_2)"
      ]
     },
     "metadata": {},
     "output_type": "display_data"
    }
   ],
   "source": [
    "# Multipliserer prisen med kvantumet for å finne totalinntekten\n",
    "Totalinntekt = Invers_etterspørsel[0]*q_1\n",
    "Totalinntekt2 = Invers_etterspørsel[0]*q_2\n",
    "\n",
    "# Viser totalinntekten\n",
    "display(Totalinntekt, Totalinntekt2)"
   ]
  },
  {
   "cell_type": "code",
   "execution_count": 4,
   "metadata": {},
   "outputs": [
    {
     "data": {
      "text/latex": [
       "$\\displaystyle a - 2 b q_{1} - b q_{2}$"
      ],
      "text/plain": [
       "a - 2*b*q_1 - b*q_2"
      ]
     },
     "metadata": {},
     "output_type": "display_data"
    },
    {
     "data": {
      "text/latex": [
       "$\\displaystyle a - b q_{1} - 2 b q_{2}$"
      ],
      "text/plain": [
       "a - b*q_1 - 2*b*q_2"
      ]
     },
     "metadata": {},
     "output_type": "display_data"
    }
   ],
   "source": [
    "# Deriverer totalinntekten for å finne marginalinntekten\n",
    "Marginalinntekt_q1 = sp.diff(Totalinntekt, q_1)\n",
    "Marginalinntekt_q2 = sp.diff(Totalinntekt2, q_2)\n",
    "\n",
    "# Viser marginalinntekten\n",
    "display(sp.simplify(Marginalinntekt_q1), sp.simplify(Marginalinntekt_q2))"
   ]
  },
  {
   "cell_type": "markdown",
   "metadata": {},
   "source": [
    "## Reaksjonsfunksjoner\n",
    "\n",
    "Nå har vi regnet ut marginalinntekten, og vi kan sette denne lik marginalkostnaden for å finne optimal produksjon for hver bedrift. Vi setter $MR = c$ og løser for kvantum til bedrift 1:\n",
    "\n",
    "For bedrift 1:\n",
    "$$\n",
    "a - 2bq_1 - bq_2 = c \\,\\, \\Rightarrow \\,\\, q_1 = \\frac{a - c - bq_2}{2b}\n",
    "$$\n",
    "\n",
    "For bedrift 2:\n",
    "$$\n",
    "a - bq_1 - 2bq_2 = c \\,\\, \\Rightarrow \\,\\, q_2 = \\frac{a - c - bq_1}{2b}\n",
    "$$\n",
    "\n",
    "## Symmetrisk likevekt\n",
    "\n",
    "I symmetrisk likevekt antar vi at $q_1 = q_2 = q$. Ved å sette $q_2 = q$ i bedrift 1 sin reaksjonsfunksjon får vi:\n",
    "\n",
    "$$\n",
    "q = \\frac{a - c - bq}{2b}\n",
    "$$\n",
    "\n",
    "Multipliser med $2b$:\n",
    "\n",
    "$$\n",
    "2b\\,q = a - c - bq\n",
    "$$\n",
    "\n",
    "Legg til $bq$ på begge sider:\n",
    "\n",
    "$$\n",
    "2bq + bq = a - c,\n",
    "$$\n",
    "\n",
    "$$\n",
    "3bq = a - c,\n",
    "$$\n",
    "\n",
    "$$\n",
    "q = \\frac{a - c}{3b}\n",
    "$$\n",
    "\n",
    "Dermed er likevektsproduksjonen for hver bedrift\n",
    "\n",
    "$$\n",
    "q_1 = q_2 = \\frac{a - c}{3b}\n",
    "$$\n",
    "\n",
    "Den totale mengden blir da\n",
    "\n",
    "$$\n",
    "Q = q_1 + q_2 = \\frac{2(a - c)}{3b}\n",
    "$$\n",
    "\n",
    "## Prisfunksjonen\n",
    "\n",
    "Den inverse etterspørselsfunksjonen er gitt ved\n",
    "\n",
    "$$\n",
    "P = a - b\\,Q.\n",
    "$$\n",
    "\n",
    "Sett inn $Q = \\frac{2(a-c)}{3b}$:\n",
    "\n",
    "$$\n",
    "P = a - b \\cdot \\frac{2(a-c)}{3b} = a - \\frac{2(a-c)}{3} = \\frac{3a - 2(a-c)}{3} = \\frac{a + 2c}{3}\n",
    "$$\n",
    "\n",
    "Dermed er prisen i likevekt:\n",
    "\n",
    "$$\n",
    "P = \\frac{a + 2c}{3}\n",
    "$$\n",
    "\n",
    "\n",
    "## Profitten\n",
    "\n",
    "Profitten til en bedrift er gitt ved:\n",
    "\n",
    "$$\n",
    "\\pi = \\left(\\frac{a+2c}{3} - c\\right) \\frac{a-c}{3b}\n",
    "$$\n",
    "\n",
    "Forenkle leddet i parentes:\n",
    "$$\n",
    "\\frac{a+2c}{3} - c = \\frac{a+2c - 3c}{3} = \\frac{a-c}{3}\n",
    "$$\n",
    "\n",
    "Så får vi:\n",
    "$$\n",
    "\\pi = \\frac{a-c}{3} \\cdot \\frac{a-c}{3b} = \\frac{(a-c)^2}{9b}\n",
    "$$\n",
    "\n",
    "Dersom du har faste kostnader, trekkes disse fra profitten for å gi netto profit. \n",
    "\n",
    "Hvis faste kostnader $F$ (for eksempel 500) skal trekkes fra, blir netto profitt:\n",
    "\n",
    "$$\n",
    "\\pi_{\\text{netto}} = \\frac{(a-c)^2}{9b} - F.\n",
    "$$"
   ]
  },
  {
   "cell_type": "code",
   "execution_count": 5,
   "metadata": {},
   "outputs": [
    {
     "data": {
      "text/latex": [
       "$\\displaystyle c = a - 2 b q_{1} - b q_{2}$"
      ],
      "text/plain": [
       "Eq(c, a - 2*b*q_1 - b*q_2)"
      ]
     },
     "metadata": {},
     "output_type": "display_data"
    },
    {
     "data": {
      "text/latex": [
       "$\\displaystyle c = a - b q_{1} - 2 b q_{2}$"
      ],
      "text/plain": [
       "Eq(c, a - b*q_1 - 2*b*q_2)"
      ]
     },
     "metadata": {},
     "output_type": "display_data"
    }
   ],
   "source": [
    "# Setter marginalinntekten lik kostnaden\n",
    "likevekt_q1 = sp.Eq(Marginalinntekt_q1, c)\n",
    "likevekt_q2 = sp.Eq(Marginalinntekt_q2, c)\n",
    "\n",
    "display(sp.simplify(likevekt_q1), sp.simplify(likevekt_q2))"
   ]
  },
  {
   "cell_type": "code",
   "execution_count": 6,
   "metadata": {},
   "outputs": [
    {
     "data": {
      "text/latex": [
       "$\\displaystyle \\frac{a - b q_{2} - c}{2 b}$"
      ],
      "text/plain": [
       "(a - b*q_2 - c)/(2*b)"
      ]
     },
     "execution_count": 6,
     "metadata": {},
     "output_type": "execute_result"
    }
   ],
   "source": [
    "# Løser for q1 for å finne reaksjonsfunksjon til bedrift 1, dette er utrykket som ovenfor bare ikke forenklet\n",
    "q1 = sp.solve(likevekt_q1, q_1)\n",
    "q1[0]"
   ]
  },
  {
   "cell_type": "code",
   "execution_count": 7,
   "metadata": {},
   "outputs": [
    {
     "data": {
      "text/latex": [
       "$\\displaystyle \\frac{a - b q_{1} - c}{2 b}$"
      ],
      "text/plain": [
       "(a - b*q_1 - c)/(2*b)"
      ]
     },
     "metadata": {},
     "output_type": "display_data"
    }
   ],
   "source": [
    "# Løser for q2 for å finne reaksjonsfunksjon til bedrift 2, uttrykket er det samme som ovenfor i markdown bare ikke forenklet\n",
    "q2 = sp.solve(likevekt_q2, q_2)\n",
    "\n",
    "display(q2[0])"
   ]
  },
  {
   "cell_type": "code",
   "execution_count": 8,
   "metadata": {},
   "outputs": [
    {
     "data": {
      "text/latex": [
       "$\\displaystyle q_{1} = \\frac{\\frac{a}{2} + \\frac{b q_{1}}{2} - \\frac{c}{2}}{2 b}$"
      ],
      "text/plain": [
       "Eq(q_1, (a/2 + b*q_1/2 - c/2)/(2*b))"
      ]
     },
     "execution_count": 8,
     "metadata": {},
     "output_type": "execute_result"
    }
   ],
   "source": [
    "# Setter uttrykk for q2 inn i q1 for å finne likevektskvantum\n",
    "likevekt_eq = sp.Eq(q_1, q1[0].subs(q_2, q2[0]))\n",
    "likevekt_eq"
   ]
  },
  {
   "cell_type": "code",
   "execution_count": 9,
   "metadata": {},
   "outputs": [
    {
     "data": {
      "text/latex": [
       "$\\displaystyle \\frac{a - c}{3 b}$"
      ],
      "text/plain": [
       "(a - c)/(3*b)"
      ]
     },
     "metadata": {},
     "output_type": "display_data"
    },
    {
     "data": {
      "text/latex": [
       "$\\displaystyle \\frac{a - c}{3 b}$"
      ],
      "text/plain": [
       "(a - c)/(3*b)"
      ]
     },
     "metadata": {},
     "output_type": "display_data"
    }
   ],
   "source": [
    "# Løser symmetrisk likevekt for q1 og q2\n",
    "optimal_q1 = sp.solve(likevekt_eq, q_1)[0]\n",
    "\n",
    "optimal_q2 = q2[0].subs(q_1, optimal_q1)\n",
    "\n",
    "\n",
    "display(optimal_q1, sp.simplify(optimal_q2))"
   ]
  },
  {
   "cell_type": "code",
   "execution_count": 10,
   "metadata": {},
   "outputs": [
    {
     "data": {
      "text/latex": [
       "$\\displaystyle \\frac{a}{3} + \\frac{2 c}{3}$"
      ],
      "text/plain": [
       "a/3 + 2*c/3"
      ]
     },
     "execution_count": 10,
     "metadata": {},
     "output_type": "execute_result"
    }
   ],
   "source": [
    "# Optimal Pris\n",
    "optimal_P = sp.simplify(Invers_etterspørsel[0].subs({q_1: optimal_q1, q_2: optimal_q2}))\n",
    "sp.simplify(optimal_P)"
   ]
  },
  {
   "cell_type": "code",
   "execution_count": 11,
   "metadata": {},
   "outputs": [
    {
     "data": {
      "text/latex": [
       "$\\displaystyle \\frac{\\left(a - c\\right)^{2}}{9 b}$"
      ],
      "text/plain": [
       "(a - c)**2/(9*b)"
      ]
     },
     "execution_count": 11,
     "metadata": {},
     "output_type": "execute_result"
    }
   ],
   "source": [
    "# Profitt\n",
    "profitt = (optimal_P - c)*optimal_q1\n",
    "sp.simplify(profitt)"
   ]
  },
  {
   "cell_type": "markdown",
   "metadata": {},
   "source": [
    "## Oppgave Cournot modell\n",
    "\n",
    "I markedet for mikroøl har vi to bryggerier i Tromsø, Graff Brygghus og Bryggeri 13. I produksjon av øl velger bedriftene produksjonsvolum i god tid før produktene er på markedet. \n",
    "\n",
    "Etterspørselen imarkedet er gitt ved:\n",
    "\n",
    "$$\n",
    "P = 175 – 2Q\n",
    "$$\n",
    "\n",
    "hvor P er markedspris for mikroøl per flaske, Q er totalt kvantum (antall tusen flasker) og Q = qG + qB, der qG er produsert kvantum for Graff Brygghus og qB er produsert kvantum for Bryggeri 13. I produksjon av mikroøl vil Graff Brygghus og Bryggeri 13 ha konstante marginalkostnader på kr 10 per flaske, og begge bedriftene har årlige faste kostnader på kr 500 000.\n",
    "\n",
    "a) Hvor mye mikroøl vil det være optimalt for bryggeriene å produsere, og hva blir\n",
    "markedsprisen?\n"
   ]
  },
  {
   "cell_type": "code",
   "execution_count": 12,
   "metadata": {},
   "outputs": [],
   "source": [
    "# Skriv svaret ditt her"
   ]
  },
  {
   "cell_type": "markdown",
   "metadata": {},
   "source": [
    "Graff Brygghus vurderer å investere i en ny og effektiv tappelinje som vil gi dem reduserte marginalkostnader. Investeringen vil koste bedriften kr 100.000, og vil gi dem marginalkostnad på kr 7 per flaske.\n",
    "\n",
    "b) Vil du anbefale Graff Brygghus å gjennomføre denne investeringen?"
   ]
  },
  {
   "cell_type": "code",
   "execution_count": 13,
   "metadata": {},
   "outputs": [],
   "source": [
    "# Skriv svaret ditt her"
   ]
  }
 ],
 "metadata": {
  "kernelspec": {
   "display_name": "Python 3",
   "language": "python",
   "name": "python3"
  },
  "language_info": {
   "codemirror_mode": {
    "name": "ipython",
    "version": 3
   },
   "file_extension": ".py",
   "mimetype": "text/x-python",
   "name": "python",
   "nbconvert_exporter": "python",
   "pygments_lexer": "ipython3",
   "version": "3.11.1"
  }
 },
 "nbformat": 4,
 "nbformat_minor": 2
}
