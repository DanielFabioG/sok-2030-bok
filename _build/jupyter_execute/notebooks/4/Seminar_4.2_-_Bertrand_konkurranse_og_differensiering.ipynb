{
 "cells": [
  {
   "cell_type": "markdown",
   "metadata": {},
   "source": [
    "# Seminar 4.2: Bertrand konkurranse og differensierte produkter"
   ]
  },
  {
   "cell_type": "code",
   "execution_count": 1,
   "metadata": {},
   "outputs": [],
   "source": [
    "import sympy as sp\n",
    "import numpy as np\n",
    "import matplotlib.pyplot as plt"
   ]
  },
  {
   "cell_type": "markdown",
   "metadata": {},
   "source": [
    "## Bertrand konkurranse og differensiering\n",
    "\n",
    "Vi antar at to bedrifter konkurrerer om forbrukere i en lineær by med jevnt fordelte forbrukere langs intervallet $[0,1]$. Bedrift 1 og bedrift 2 lokaliserer seg henholdsvis ved $x=0$ og $x=1$. For en forbruker med lokalisering $x$ blir nytten ved å kjøpe fra bedrift 1\n",
    "\n",
    "$$\n",
    "U_1 = V - P_1 - t\\,x,\n",
    "$$\n",
    "og fra bedrift 2\n",
    "$$\n",
    "U_2 = V - P_2 - t\\,(1-x),\n",
    "$$\n",
    "\n",
    "der $P_1$ og $P_2$ er prisene, $t$ er transportkostnaden, og $V$ er basisnytten.\n",
    "\n",
    "Den marginale forbrukeren, med lokalisering $X_m$, er den forbrukeren som er likegyldig mellom de to alternativene. Dette gir betingelsen\n",
    "\n",
    "$$\n",
    "V - P_1 - t\\,X_m = V - P_2 - t\\,(1-X_m).\n",
    "$$\n",
    "\n",
    "Ved å fjerne $V$ og forenkle får vi\n",
    "\n",
    "$$\n",
    "-P_1 - t\\,X_m = - P_2 - t + t\\,X_m.\n",
    "$$\n",
    "\n",
    "Legg til $P_2 + t$ på begge sider:\n",
    "\n",
    "$$\n",
    "P_2 + t - P_1 = 2t\\,X_m.\n",
    "$$\n",
    "\n",
    "Dermed blir den marginale forbrukerens lokalisering\n",
    "\n",
    "$$\n",
    "X_m = \\frac{t + P_2 - P_1}{2t}.\n",
    "$$\n",
    "\n",
    "I symmetrisk likevekt, hvor $P_1 = P_2$, forenkles uttrykket til\n",
    "\n",
    "$$\n",
    "X_m = \\frac{t}{2t} = \\frac{1}{2}.\n",
    "$$\n",
    "\n",
    "Markedsandelen til bedrift 1 blir dermed $X_m$, mens bedrift 2 får $1-X_m$ av markedet.\n"
   ]
  },
  {
   "cell_type": "code",
   "execution_count": 2,
   "metadata": {},
   "outputs": [
    {
     "data": {
      "text/latex": [
       "$\\displaystyle - P_{1} + V - X_{m} t = - P_{2} + V - t \\left(1 - X_{m}\\right)$"
      ],
      "text/plain": [
       "Eq(-P_1 + V - X_m*t, -P_2 + V - t*(1 - X_m))"
      ]
     },
     "metadata": {},
     "output_type": "display_data"
    },
    {
     "data": {
      "text/latex": [
       "$\\displaystyle - P_{2} + V - X_{m} t = - P_{1} + V - t \\left(1 - X_{m}\\right)$"
      ],
      "text/plain": [
       "Eq(-P_2 + V - X_m*t, -P_1 + V - t*(1 - X_m))"
      ]
     },
     "metadata": {},
     "output_type": "display_data"
    }
   ],
   "source": [
    "# Definerer symboler\n",
    "V,c, t, N, P_1,P_2,Q_1,Q_2,X_m = sp.symbols('V c t N P_1 P_2 Q_1 Q_2 X_m')\n",
    "\n",
    "# Definerer likevektsbetingelser for bedrift 1\n",
    "eq_1 = sp.Eq(V-P_1-t*X_m, V-P_2-t*(1-X_m))\n",
    "\n",
    "# Definerer likevektsbetingelser for bedrift 2\n",
    "eq_2 = sp.Eq(V-P_2-t*X_m, V-P_1-t*(1-X_m))\n",
    "\n",
    "display(eq_1, eq_2)"
   ]
  },
  {
   "cell_type": "code",
   "execution_count": 3,
   "metadata": {},
   "outputs": [
    {
     "data": {
      "text/latex": [
       "$\\displaystyle \\frac{- P_{1} + P_{2} + t}{2 t}$"
      ],
      "text/plain": [
       "(-P_1 + P_2 + t)/(2*t)"
      ]
     },
     "metadata": {},
     "output_type": "display_data"
    },
    {
     "data": {
      "text/latex": [
       "$\\displaystyle \\frac{P_{1} - P_{2} + t}{2 t}$"
      ],
      "text/plain": [
       "(P_1 - P_2 + t)/(2*t)"
      ]
     },
     "metadata": {},
     "output_type": "display_data"
    }
   ],
   "source": [
    "# Løser for X_m for bedrift 1 og 2\n",
    "X_m_1 = sp.solve(eq_1, X_m)[0]\n",
    "X_m_2 = sp.solve(eq_2, X_m)[0]\n",
    "\n",
    "display(X_m_1, X_m_2)"
   ]
  },
  {
   "cell_type": "markdown",
   "metadata": {},
   "source": [
    "## Visualisering av Hotelling-modellen"
   ]
  },
  {
   "cell_type": "code",
   "execution_count": 4,
   "metadata": {},
   "outputs": [
    {
     "data": {
      "image/png": "[encoded data removed]",
      "text/plain": [
       "<Figure size 800x500 with 1 Axes>"
      ]
     },
     "metadata": {},
     "output_type": "display_data"
    }
   ],
   "source": [
    "def etterspørsel(a, b, Q):\n",
    "    return a + (Q/b)\n",
    "\n",
    "def invers_etterspørsel(a, b, P):\n",
    "    return a - b*P\n",
    "\n",
    "#Q-verdier\n",
    "Q = np.linspace(0.001, 1400, 1000)\n",
    "\n",
    "Q_2 = np.linspace(0, 45, 1000)\n",
    "\n",
    "#funksjon for å skape akse\n",
    "def create_ax():\n",
    "                fig, ax = plt.subplots(figsize=(8, 5))\n",
    "                ax.set_ylabel('Pris (P)', loc='top', rotation=90)\n",
    "                # set Pris label both left and right\n",
    "                ax.yaxis.set_label_position('left')\n",
    "                ax.spines['top'].set_color('none')\n",
    "                ax.spines['right'].set_color('none')\n",
    "                ax.set_xticklabels([])\n",
    "                ax.set_yticklabels([])\n",
    "                return fig, ax\n",
    "            \n",
    "fig, ax = create_ax()\n",
    "ax.plot(Q, etterspørsel(20, 60, Q))\n",
    "ax.plot(invers_etterspørsel(3000, 60, Q_2), Q_2)\n",
    "\n",
    "ax.set(xlim=(0, 2000))\n",
    "ax.set(ylim=(0, 80))\n",
    "\n",
    "# vlines til likevekt\n",
    "ax.vlines(x=900, ymin=0, ymax=35, color='g', linestyle='--')\n",
    "\n",
    "# Symbol for X_m under v_lines linjen\n",
    "ax.text(870, -4, r'$X^m$', fontsize=12, color='black')\n",
    "\n",
    "# Symbol for P_1 og P_2\n",
    "ax.text(-80, 20, r'$P_1$', fontsize=12, color='black')\n",
    "ax.text(2000, 19, r'$P_2$', fontsize=12, color='black')\n",
    "\n",
    "# fix x-ticks\n",
    "ax.set_xticks(np.arange(0, 2200, 200))\n",
    "\n",
    "plt.show()"
   ]
  },
  {
   "cell_type": "markdown",
   "metadata": {},
   "source": [
    "## Bertrand-konkurranse og etterspørsel\n",
    "\n",
    "For å finne markedsandelen, må vi multiplisere $X_{m1}$ for bedrift 1 og $X_{m2}$ for bedrift 2, med det totale antallet konsumenter, $N$, for å finne hvor mange konsumenter som kjøper fra hver bedrift.\n",
    "\n",
    "$$\n",
    "\\text{Etterspørsel}_{B1} = X_{m1} \\times N\n",
    "$$\n",
    "\n",
    "$$\n",
    "\\text{Etterspørsel}_{B2} = X_{m2} \\times N\n",
    "$$\n",
    "\n",
    "Profittfunksjonene beregner vi ved å multiplisere enhetsfortjenesten, $P_1 - c$ eller $P_2 - c$, med mengden solgt (etterspørselen).\n",
    "\n",
    "$$\n",
    "\\pi_{B1} = (P_1 - c) \\times \\text{Etterspørsel}_{B1}\n",
    "$$\n",
    "\n",
    "$$\n",
    "\\pi_{B2} = (P_2 - c) \\times \\text{Etterspørsel}_{B2}\n",
    "$$\n",
    "\n",
    "Vi finner førsteordensbetingelsene for profitmaksimering ved å derivere profittfunksjonene med hensyn til egen pris og sette derivert lik null.\n",
    "\n",
    "$$\n",
    "\\frac{\\partial \\pi_{B1}}{\\partial P_1} = 0 \n",
    "$$\n",
    "\n",
    "$$\n",
    "\\frac{\\partial \\pi_{B2}}{\\partial P_2} = 0\n",
    "$$\n",
    "\n",
    "Og løser ligningene for $P_1$ og $P_2$ får vi reaksjonsfunksjonene, som gir den optimale prisen for en bedrift gitt konkurrentens pris.\n",
    "\n",
    "\n",
    "$$\n",
    "P_1 = R_1(P_2) \n",
    "$$\n",
    "\n",
    "$$\n",
    "P_2 = R_2(P_1)\n",
    "$$\n",
    "\n",
    "Til slutt substitueres den ene bedriftens reaksjonsfunksjon inn i den andres, slik at vi finner de simultane likevektsprisene for begge bedrifter.\n",
    "\n",
    "$$\n",
    "P_1 = R_1\\Bigl(R_2(P_1)\\Bigr)\n",
    "$$\n",
    "\n",
    "$$\n",
    "P_2 = R_2\\Bigl(R_1(P_2)\\Bigr)\n",
    "$$"
   ]
  },
  {
   "cell_type": "code",
   "execution_count": 5,
   "metadata": {},
   "outputs": [
    {
     "data": {
      "text/latex": [
       "$\\displaystyle \\frac{N \\left(- P_{1} + P_{2} + t\\right)}{2 t}$"
      ],
      "text/plain": [
       "N*(-P_1 + P_2 + t)/(2*t)"
      ]
     },
     "metadata": {},
     "output_type": "display_data"
    },
    {
     "data": {
      "text/latex": [
       "$\\displaystyle \\frac{N \\left(P_{1} - P_{2} + t\\right)}{2 t}$"
      ],
      "text/plain": [
       "N*(P_1 - P_2 + t)/(2*t)"
      ]
     },
     "metadata": {},
     "output_type": "display_data"
    }
   ],
   "source": [
    "# Etterspørsel for bedrift 1\n",
    "Etterspørsel_B1 = X_m_1*N\n",
    "\n",
    "# Etterspørsel for bedrift 2\n",
    "Etterspørsel_B2 = X_m_2*N\n",
    "\n",
    "display(Etterspørsel_B1, Etterspørsel_B2)"
   ]
  },
  {
   "cell_type": "code",
   "execution_count": 6,
   "metadata": {},
   "outputs": [
    {
     "data": {
      "text/latex": [
       "$\\displaystyle \\frac{N \\left(P_{1} - c\\right) \\left(- P_{1} + P_{2} + t\\right)}{2 t}$"
      ],
      "text/plain": [
       "N*(P_1 - c)*(-P_1 + P_2 + t)/(2*t)"
      ]
     },
     "metadata": {},
     "output_type": "display_data"
    },
    {
     "data": {
      "text/latex": [
       "$\\displaystyle \\frac{N \\left(P_{2} - c\\right) \\left(P_{1} - P_{2} + t\\right)}{2 t}$"
      ],
      "text/plain": [
       "N*(P_2 - c)*(P_1 - P_2 + t)/(2*t)"
      ]
     },
     "metadata": {},
     "output_type": "display_data"
    }
   ],
   "source": [
    "# Profitt for bedrift 1\n",
    "Profitt_B1 = (P_1-c)*Etterspørsel_B1\n",
    "\n",
    "# Profitt for bedrift 2\n",
    "Profitt_B2 = (P_2-c)*Etterspørsel_B2\n",
    "\n",
    "display(Profitt_B1, Profitt_B2)"
   ]
  },
  {
   "cell_type": "code",
   "execution_count": 7,
   "metadata": {},
   "outputs": [
    {
     "data": {
      "text/latex": [
       "$\\displaystyle - \\frac{N \\left(P_{1} - c\\right)}{2 t} + \\frac{N \\left(- P_{1} + P_{2} + t\\right)}{2 t}$"
      ],
      "text/plain": [
       "-N*(P_1 - c)/(2*t) + N*(-P_1 + P_2 + t)/(2*t)"
      ]
     },
     "metadata": {},
     "output_type": "display_data"
    },
    {
     "data": {
      "text/latex": [
       "$\\displaystyle - \\frac{N \\left(P_{2} - c\\right)}{2 t} + \\frac{N \\left(P_{1} - P_{2} + t\\right)}{2 t}$"
      ],
      "text/plain": [
       "-N*(P_2 - c)/(2*t) + N*(P_1 - P_2 + t)/(2*t)"
      ]
     },
     "metadata": {},
     "output_type": "display_data"
    }
   ],
   "source": [
    "# Finner optimal profitt for bedrift 1\n",
    "Optimal_Profitt_B1 = sp.diff(Profitt_B1, P_1)\n",
    "\n",
    "# Finner optimal profitt for bedrift 2\n",
    "Optimal_Profitt_B2 = sp.diff(Profitt_B2, P_2)\n",
    "\n",
    "display(Optimal_Profitt_B1, Optimal_Profitt_B2)"
   ]
  },
  {
   "cell_type": "code",
   "execution_count": 8,
   "metadata": {},
   "outputs": [
    {
     "data": {
      "text/latex": [
       "$\\displaystyle \\frac{P_{2}}{2} + \\frac{c}{2} + \\frac{t}{2}$"
      ],
      "text/plain": [
       "P_2/2 + c/2 + t/2"
      ]
     },
     "metadata": {},
     "output_type": "display_data"
    },
    {
     "data": {
      "text/latex": [
       "$\\displaystyle \\frac{P_{1}}{2} + \\frac{c}{2} + \\frac{t}{2}$"
      ],
      "text/plain": [
       "P_1/2 + c/2 + t/2"
      ]
     },
     "metadata": {},
     "output_type": "display_data"
    }
   ],
   "source": [
    "# Finner reaksjonsfunksjon til bedrift 1\n",
    "Reaksjonsfunksjon_B1 = sp.solve(Optimal_Profitt_B1, P_1)[0]\n",
    "\n",
    "# Finner reaksjonsfunksjon til bedrift 2\n",
    "Reaksjonsfunksjon_B2 = sp.solve(Optimal_Profitt_B2, P_2)[0]\n",
    "\n",
    "display(Reaksjonsfunksjon_B1, Reaksjonsfunksjon_B2)"
   ]
  },
  {
   "cell_type": "code",
   "execution_count": 9,
   "metadata": {},
   "outputs": [
    {
     "data": {
      "text/latex": [
       "$\\displaystyle P_{1} = c + t$"
      ],
      "text/plain": [
       "Eq(P_1, c + t)"
      ]
     },
     "metadata": {},
     "output_type": "display_data"
    },
    {
     "data": {
      "text/latex": [
       "$\\displaystyle P_{2} = c + t$"
      ],
      "text/plain": [
       "Eq(P_2, c + t)"
      ]
     },
     "metadata": {},
     "output_type": "display_data"
    }
   ],
   "source": [
    "# Setter inn reaksjonsfunksjonen til bedrift 2 i reaksjonsfunksjonen til bedrift 1\n",
    "likevekt_P1 = sp.Eq(P_1, Reaksjonsfunksjon_B1.subs(P_2, Reaksjonsfunksjon_B2))\n",
    "\n",
    "# Setter inn reaksjonsfunksjonen til bedrift 1 i reaksjonsfunksjonen til bedrift 2\n",
    "likevekt_P2 = sp.Eq(P_2, Reaksjonsfunksjon_B2.subs(P_1, Reaksjonsfunksjon_B1))\n",
    "\n",
    "display(sp.simplify(likevekt_P1), sp.simplify(likevekt_P2))"
   ]
  },
  {
   "cell_type": "code",
   "execution_count": 10,
   "metadata": {},
   "outputs": [
    {
     "data": {
      "text/latex": [
       "$\\displaystyle c + t$"
      ],
      "text/plain": [
       "c + t"
      ]
     },
     "metadata": {},
     "output_type": "display_data"
    },
    {
     "data": {
      "text/latex": [
       "$\\displaystyle c + t$"
      ],
      "text/plain": [
       "c + t"
      ]
     },
     "metadata": {},
     "output_type": "display_data"
    }
   ],
   "source": [
    "# Alternativ løsning som gir samme resultat\n",
    "sol = sp.solve([Optimal_Profitt_B1,Optimal_Profitt_B2], [P_1, P_2])\n",
    "\n",
    "display(sol[P_1], sol[P_2])"
   ]
  },
  {
   "cell_type": "markdown",
   "metadata": {},
   "source": [
    "## Eksempel"
   ]
  },
  {
   "cell_type": "code",
   "execution_count": 11,
   "metadata": {},
   "outputs": [
    {
     "data": {
      "text/latex": [
       "$\\displaystyle - P_{1} - X_{m} + 100 = - P_{2} + X_{m} + 99$"
      ],
      "text/plain": [
       "Eq(-P_1 - X_m + 100, -P_2 + X_m + 99)"
      ]
     },
     "metadata": {},
     "output_type": "display_data"
    },
    {
     "data": {
      "text/latex": [
       "$\\displaystyle - P_{2} - X_{m} + 100 = - P_{1} + X_{m} + 99$"
      ],
      "text/plain": [
       "Eq(-P_2 - X_m + 100, -P_1 + X_m + 99)"
      ]
     },
     "metadata": {},
     "output_type": "display_data"
    }
   ],
   "source": [
    "# Eksempelverdier\n",
    "V = 100\n",
    "c = 10\n",
    "t = 1\n",
    "N = 100\n",
    "\n",
    "# Definerer likevektsbetingelser for bedrift 1\n",
    "eq_1 = sp.Eq(V-P_1-t*X_m, V-P_2-t*(1-X_m))\n",
    "\n",
    "# Definerer likevektsbetingelser for bedrift 2\n",
    "eq_2 = sp.Eq(V-P_2-t*X_m, V-P_1-t*(1-X_m))\n",
    "\n",
    "display(eq_1, eq_2)"
   ]
  },
  {
   "cell_type": "code",
   "execution_count": 12,
   "metadata": {},
   "outputs": [
    {
     "data": {
      "text/latex": [
       "$\\displaystyle - \\frac{P_{1}}{2} + \\frac{P_{2}}{2} + \\frac{1}{2}$"
      ],
      "text/plain": [
       "-P_1/2 + P_2/2 + 1/2"
      ]
     },
     "metadata": {},
     "output_type": "display_data"
    },
    {
     "data": {
      "text/latex": [
       "$\\displaystyle \\frac{P_{1}}{2} - \\frac{P_{2}}{2} + \\frac{1}{2}$"
      ],
      "text/plain": [
       "P_1/2 - P_2/2 + 1/2"
      ]
     },
     "metadata": {},
     "output_type": "display_data"
    }
   ],
   "source": [
    "\n",
    "# Løser for X_m for bedrift 1 og 2\n",
    "X_m_1 = sp.solve(eq_1, X_m)[0]\n",
    "X_m_2 = sp.solve(eq_2, X_m)[0]\n",
    "\n",
    "display(X_m_1, X_m_2)"
   ]
  },
  {
   "cell_type": "code",
   "execution_count": 13,
   "metadata": {},
   "outputs": [
    {
     "data": {
      "text/latex": [
       "$\\displaystyle - 50 P_{1} + 50 P_{2} + 50$"
      ],
      "text/plain": [
       "-50*P_1 + 50*P_2 + 50"
      ]
     },
     "metadata": {},
     "output_type": "display_data"
    },
    {
     "data": {
      "text/latex": [
       "$\\displaystyle 50 P_{1} - 50 P_{2} + 50$"
      ],
      "text/plain": [
       "50*P_1 - 50*P_2 + 50"
      ]
     },
     "metadata": {},
     "output_type": "display_data"
    }
   ],
   "source": [
    "# Etterspørsel for bedrift 1\n",
    "Etterspørsel_B1 = X_m_1*N\n",
    "\n",
    "# Etterspørsel for bedrift 2\n",
    "Etterspørsel_B2 = X_m_2*N\n",
    "\n",
    "display(Etterspørsel_B1, Etterspørsel_B2)"
   ]
  },
  {
   "cell_type": "code",
   "execution_count": 14,
   "metadata": {},
   "outputs": [
    {
     "data": {
      "text/latex": [
       "$\\displaystyle \\left(P_{1} - 10\\right) \\left(- 50 P_{1} + 50 P_{2} + 50\\right)$"
      ],
      "text/plain": [
       "(P_1 - 10)*(-50*P_1 + 50*P_2 + 50)"
      ]
     },
     "metadata": {},
     "output_type": "display_data"
    },
    {
     "data": {
      "text/latex": [
       "$\\displaystyle \\left(P_{2} - 10\\right) \\left(50 P_{1} - 50 P_{2} + 50\\right)$"
      ],
      "text/plain": [
       "(P_2 - 10)*(50*P_1 - 50*P_2 + 50)"
      ]
     },
     "metadata": {},
     "output_type": "display_data"
    }
   ],
   "source": [
    "# Profitt for bedrift 1\n",
    "Profitt_B1 = (P_1-c)*Etterspørsel_B1\n",
    "\n",
    "# Profitt for bedrift 2\n",
    "Profitt_B2 = (P_2-c)*Etterspørsel_B2\n",
    "\n",
    "display(Profitt_B1, Profitt_B2)"
   ]
  },
  {
   "cell_type": "code",
   "execution_count": 15,
   "metadata": {},
   "outputs": [
    {
     "data": {
      "text/latex": [
       "$\\displaystyle - 100 P_{1} + 50 P_{2} + 550$"
      ],
      "text/plain": [
       "-100*P_1 + 50*P_2 + 550"
      ]
     },
     "metadata": {},
     "output_type": "display_data"
    },
    {
     "data": {
      "text/latex": [
       "$\\displaystyle 50 P_{1} - 100 P_{2} + 550$"
      ],
      "text/plain": [
       "50*P_1 - 100*P_2 + 550"
      ]
     },
     "metadata": {},
     "output_type": "display_data"
    }
   ],
   "source": [
    "# Finner optimal profitt for bedrift 1\n",
    "Optimal_Profitt_B1 = sp.diff(Profitt_B1, P_1)\n",
    "\n",
    "# Finner optimal profitt for bedrift 2\n",
    "Optimal_Profitt_B2 = sp.diff(Profitt_B2, P_2)\n",
    "\n",
    "display(Optimal_Profitt_B1, Optimal_Profitt_B2)"
   ]
  },
  {
   "cell_type": "code",
   "execution_count": 16,
   "metadata": {},
   "outputs": [
    {
     "data": {
      "text/latex": [
       "$\\displaystyle 11$"
      ],
      "text/plain": [
       "11"
      ]
     },
     "metadata": {},
     "output_type": "display_data"
    },
    {
     "data": {
      "text/latex": [
       "$\\displaystyle 11$"
      ],
      "text/plain": [
       "11"
      ]
     },
     "metadata": {},
     "output_type": "display_data"
    }
   ],
   "source": [
    "# Optimal pris for bedrift 1 og 2\n",
    "sol = sp.solve([Optimal_Profitt_B1,Optimal_Profitt_B2], [P_1, P_2])\n",
    "\n",
    "display(sol[P_1], sol[P_2])"
   ]
  },
  {
   "cell_type": "code",
   "execution_count": 17,
   "metadata": {},
   "outputs": [
    {
     "data": {
      "text/latex": [
       "$\\displaystyle 50$"
      ],
      "text/plain": [
       "50"
      ]
     },
     "metadata": {},
     "output_type": "display_data"
    },
    {
     "data": {
      "text/latex": [
       "$\\displaystyle 50$"
      ],
      "text/plain": [
       "50"
      ]
     },
     "metadata": {},
     "output_type": "display_data"
    }
   ],
   "source": [
    "# Finner profitt for bedrift 1 og 2\n",
    "display(Profitt_B1.subs(sol), Profitt_B2.subs(sol))\n"
   ]
  },
  {
   "cell_type": "markdown",
   "metadata": {},
   "source": [
    "Optimal pris for bedrift 1 og 2 blir 11 kroner per enhet, og profitten deres blir 50."
   ]
  },
  {
   "cell_type": "markdown",
   "metadata": {},
   "source": [
    "## Oppgave Bertrand konkurranse og differensiering\n",
    "\n",
    "I denne oppgaven skal du anta at den «lineære byen» er ved Strandtorget hvor Kaffebønna er lokalisert i den ene enden av gata og Risø mat & kaffebar er lokalisert i den andre enden av gata.\n",
    "\n",
    "Anta at det er 30 000 kunder (N=30 000) som er jevnt fordelt langs lokaliseringsområdet til utsalgsstedene, og at hver kunde kjøper en kopp kaffe per dag. \n",
    "\n",
    "Kostnaden ved å produsere en kopp kaffe er NOK 5, og bedriftene har faste kostnader per utsalgssted på NOK 25 000.\n",
    "\n",
    "Transportkostnadene for kundene er på NOK 50. \n",
    "\n",
    "a) Bruk en Hotelling modell og vis hvordan disse to kaffebarene vil tilpasse seg i dette markedet. Hva er optimal pris på en kopp kaffe og hva blir profitten til Kaffebønna og Risø?"
   ]
  }
 ],
 "metadata": {
  "kernelspec": {
   "display_name": "Python 3",
   "language": "python",
   "name": "python3"
  },
  "language_info": {
   "codemirror_mode": {
    "name": "ipython",
    "version": 3
   },
   "file_extension": ".py",
   "mimetype": "text/x-python",
   "name": "python",
   "nbconvert_exporter": "python",
   "pygments_lexer": "ipython3",
   "version": "3.11.1"
  }
 },
 "nbformat": 4,
 "nbformat_minor": 2
}