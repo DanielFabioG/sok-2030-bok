{
 "cells": [
  {
   "cell_type": "markdown",
   "id": "6326cda8",
   "metadata": {},
   "source": [
    "# Seminar 7.2: Vertikale fusjoner"
   ]
  },
  {
   "cell_type": "code",
   "execution_count": null,
   "id": "4dd1e255",
   "metadata": {},
   "outputs": [],
   "source": [
    "import numpy as np\n",
    "import sympy as sp"
   ]
  },
  {
   "cell_type": "markdown",
   "id": "749caf66",
   "metadata": {},
   "source": [
    "## Vertikale fusjoner og dobbel-marginalisering\n",
    "\n",
    "I det siste seminaret skal vi nå se på hvordan vertikale fusjoner kan være en løsning på problemet med dobbel-marginalisering. Vi skal se på hvordan en vertikal fusjon kan føre til lavere priser og høyere profitt for produsenten, og hvordan dette kan påvirke forbrukerne.\n",
    "\n",
    "Vi antar at vi har to bedrifter, en oppstrømsbedrift som produserer en vare og en nedstrømsbedrift som distribuerer varen.\n",
    "\n"
   ]
  }
 ],
 "metadata": {
  "kernelspec": {
   "display_name": "Python 3",
   "language": "python",
   "name": "python3"
  },
  "language_info": {
   "name": "python",
   "version": "3.11.1"
  }
 },
 "nbformat": 4,
 "nbformat_minor": 5
}
