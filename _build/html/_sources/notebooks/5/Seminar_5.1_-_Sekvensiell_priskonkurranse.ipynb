{
 "cells": [
  {
   "cell_type": "markdown",
   "metadata": {},
   "source": [
    "# Seminar 5.1: Sekvensiell priskonkurranse (Stackelberg med priser)"
   ]
  },
  {
   "cell_type": "code",
   "execution_count": 1,
   "metadata": {},
   "outputs": [],
   "source": [
    "import numpy as np\n",
    "import sympy as sp"
   ]
  },
  {
   "cell_type": "markdown",
   "metadata": {},
   "source": [
    "## Seminar 5.1: Sekvensiell priskonkurranse (Stackelberg med priser)\n",
    "\n",
    "Ved sekvensiell priskonkurranse antar vi to bedrifter, en lederbedrift og en følgerbedrift som produserer et homogent gode. Lederbedriften setter prisen først, og følgerbedriften setter prisen etter at lederbedriften har satt sin pris. Vi antar at lederbedriften har en kostnadsfordel, og at følgerbedriften kjenner lederbedriftens pris når den setter sin egen pris. Derav navnet sekvensiell priskonkurranse.\n",
    "\n",
    "Etterspørselen til bedriftene 1 er gitt ved:\n",
    "\n",
    "$$\n",
    "B_1 = V - P_1 - tx\n",
    "$$\n",
    "\n",
    "og for bedrift 2:\n",
    "\n",
    "$$\n",
    "B_2 = V - P_2 - t(1-x)\n",
    "$$\n",
    "\n",
    "der $V$ er verdien av godet (basisnytte), $P_1$ og $P_2$ er prisene satt av henholdsvis bedrift 1 og 2, $t$ er transportkostnad og $x$ er andelen av markedet som kjøper fra bedrift 1.\n",
    "\n",
    "Den marginale forbrukeren, med lokalisering $X_m$, er den forbrukeren som er likegyldig mellom de to alternativene. Dette gir betingelsen\n",
    "\n",
    "$$\n",
    "V - P_1 - t\\,X_m = V - P_2 - t\\,(1-X_m).\n",
    "$$\n",
    "\n",
    "Ved å fjerne $V$ og forenkle får vi\n",
    "\n",
    "$$\n",
    "-P_1 - t\\,X_m = - P_2 - t + t\\,X_m.\n",
    "$$\n",
    "\n",
    "Legg til $P_2 + t$ på begge sider:\n",
    "\n",
    "$$\n",
    "P_2 + t - P_1 = 2t\\,X_m.\n",
    "$$\n",
    "\n",
    "Dermed blir den marginale forbrukerens lokalisering\n",
    "\n",
    "$$\n",
    "X_m = \\frac{t + P_2 - P_1}{2t}.\n",
    "$$\n",
    "\n",
    "I symmetrisk likevekt, hvor $P_1 = P_2$, forenkles uttrykket til\n",
    "\n",
    "$$\n",
    "X_m = \\frac{t}{2t} = \\frac{1}{2}.\n",
    "$$\n",
    "\n",
    "Markedsandelen til bedrift 1 blir dermed $X_m$, mens bedrift 2 får $1-X_m$ av markedet.\n"
   ]
  },
  {
   "cell_type": "code",
   "execution_count": 25,
   "metadata": {},
   "outputs": [
    {
     "data": {
      "text/latex": [
       "$\\displaystyle - P_{1} + V - X_{m} t_{2} = - P_{2} + V - t_{2} \\cdot \\left(1 - X_{m}\\right)$"
      ],
      "text/plain": [
       "Eq(-P_1 + V - X_m*t_2, -P_2 + V - t_2*(1 - X_m))"
      ]
     },
     "metadata": {},
     "output_type": "display_data"
    },
    {
     "data": {
      "text/latex": [
       "$\\displaystyle - P_{2} + V - X_{m} t_{2} = - P_{1} + V - t_{2} \\cdot \\left(1 - X_{m}\\right)$"
      ],
      "text/plain": [
       "Eq(-P_2 + V - X_m*t_2, -P_1 + V - t_2*(1 - X_m))"
      ]
     },
     "metadata": {},
     "output_type": "display_data"
    }
   ],
   "source": [
    "# Definerer symboler\n",
    "V,c, t, N, P_1,P_2,Q_1,Q_2,X_m,t,t = sp.symbols('V c t N P_1 P_2 Q_1 Q_2 X_m t_1 t_2')\n",
    "\n",
    "# Definerer likevektsbetingelser for bedrift 1\n",
    "eq_1 = sp.Eq(V-P_1-t*X_m, V-P_2-t*(1-X_m))\n",
    "\n",
    "# Definerer likevektsbetingelser for bedrift 2\n",
    "eq_2 = sp.Eq(V-P_2-t*X_m, V-P_1-t*(1-X_m))\n",
    "\n",
    "display(eq_1, eq_2)"
   ]
  },
  {
   "cell_type": "code",
   "execution_count": 3,
   "metadata": {},
   "outputs": [
    {
     "data": {
      "text/latex": [
       "$\\displaystyle \\frac{- P_{1} + P_{2} + t}{2 t}$"
      ],
      "text/plain": [
       "(-P_1 + P_2 + t)/(2*t)"
      ]
     },
     "metadata": {},
     "output_type": "display_data"
    },
    {
     "data": {
      "text/latex": [
       "$\\displaystyle \\frac{P_{1} - P_{2} + t}{2 t}$"
      ],
      "text/plain": [
       "(P_1 - P_2 + t)/(2*t)"
      ]
     },
     "metadata": {},
     "output_type": "display_data"
    }
   ],
   "source": [
    "# Løser for X_m for bedrift 1 og 2\n",
    "X_m_1 = sp.solve(eq_1, X_m)[0]\n",
    "X_m_2 = sp.solve(eq_2, X_m)[0]\n",
    "\n",
    "display(X_m_1, X_m_2)"
   ]
  },
  {
   "cell_type": "markdown",
   "metadata": {},
   "source": [
    "## Litt oppklaring rundt forskjell på Bertrand og sekvensiell priskonkurranse\n",
    "\n",
    "Den viktigste forskjellen mellom Bertrand (simultan) og Stackelberg (sekvensiell) priskonkurranse er ikke selve etterspørselsfunksjonene eller hvordan den marginale konsumenten beregnes, men snarere selve beslutningsprosessen og timing:\n",
    "\n",
    "- I Bertrand-konkurranse setter begge bedriftene prisene samtidig uten kjennskap til hverandres prisvalg.\n",
    "  \n",
    "- I Sekvensiell priskonkurranse (Stackelberg) setter én bedrift (leder) prisen først, og deretter setter den andre bedriften (følger) sin pris etter at den har observert lederens prisvalg. \n",
    "\n",
    "Vi kan dermed fortsette oppsettet likt som i Bertrand konkurranse.\n",
    "\n",
    "## Sekvensiell priskonkurranse og stackelberg-modellen\n",
    "\n",
    "For å finne markedsandelen, må vi multiplisere $X_{m1}$ for bedrift 1 og $X_{m2}$ for bedrift 2, med det totale antallet konsumenter, $N$, for å finne hvor mange konsumenter som kjøper fra hver bedrift. $B_1$ er antall konsumenter som kjøper fra bedrift 1, og $B_2$ er antall konsumenter som kjøper fra bedrift 2.\n",
    "\n",
    "$$\n",
    "B_1 = X_{m1} \\times N =  \\frac{N \\left(- P_{1} + P_{2} + t\\right)}{2 t}\n",
    "$$\n",
    "\n",
    "$$\n",
    "B_2 = X_{m2} \\times N = \\frac{N \\left(P_{1} - P_{2} + t\\right)}{2 t}\n",
    "$$\n",
    "\n",
    "Profittfunksjonene beregner vi ved å multiplisere enhetsfortjenesten, $P_1 - c$ eller $P_2 - c$, med mengden solgt (etterspørselen).\n",
    "\n",
    "$$\n",
    "\\pi_{B_1} = (P_1 - c) \\times B_1 = \\frac{N \\left(P_{1} - c\\right) \\left(- P_{1} + P_{2} + t\\right)}{2 t}\n",
    "$$\n",
    "\n",
    "$$\n",
    "\\pi_{B_2} = (P_2 - c) \\times B_2 = \\frac{N \\left(P_{2} - c\\right) \\left(P_{1} - P_{2} + t\\right)}{2 t}\n",
    "$$\n",
    "\n",
    "Utrykkene vi får kan se noe kompliserte ut men er helt like fra Bertrand-modellen så langt."
   ]
  },
  {
   "cell_type": "code",
   "execution_count": 4,
   "metadata": {},
   "outputs": [
    {
     "data": {
      "text/latex": [
       "$\\displaystyle \\frac{N \\left(- P_{1} + P_{2} + t\\right)}{2 t}$"
      ],
      "text/plain": [
       "N*(-P_1 + P_2 + t)/(2*t)"
      ]
     },
     "metadata": {},
     "output_type": "display_data"
    },
    {
     "data": {
      "text/latex": [
       "$\\displaystyle \\frac{N \\left(P_{1} - P_{2} + t\\right)}{2 t}$"
      ],
      "text/plain": [
       "N*(P_1 - P_2 + t)/(2*t)"
      ]
     },
     "metadata": {},
     "output_type": "display_data"
    }
   ],
   "source": [
    "# Etterspørsel for bedrift 1\n",
    "Etterspørsel_B1 = X_m_1*N\n",
    "\n",
    "# Etterspørsel for bedrift 2\n",
    "Etterspørsel_B2 = X_m_2*N\n",
    "\n",
    "display(Etterspørsel_B1, Etterspørsel_B2)"
   ]
  },
  {
   "cell_type": "code",
   "execution_count": 13,
   "metadata": {},
   "outputs": [
    {
     "data": {
      "text/latex": [
       "$\\displaystyle \\frac{N \\left(P_{1} - c\\right) \\left(- P_{1} + P_{2} + t\\right)}{2 t}$"
      ],
      "text/plain": [
       "N*(P_1 - c)*(-P_1 + P_2 + t)/(2*t)"
      ]
     },
     "metadata": {},
     "output_type": "display_data"
    },
    {
     "data": {
      "text/latex": [
       "$\\displaystyle \\frac{N \\left(P_{2} - c\\right) \\left(P_{1} - P_{2} + t\\right)}{2 t}$"
      ],
      "text/plain": [
       "N*(P_2 - c)*(P_1 - P_2 + t)/(2*t)"
      ]
     },
     "metadata": {},
     "output_type": "display_data"
    }
   ],
   "source": [
    "# Profitt for bedrift 1\n",
    "Profitt_B1 = (P_1-c)*Etterspørsel_B1\n",
    "\n",
    "# Profitt for bedrift 2\n",
    "Profitt_B2 = (P_2-c)*Etterspørsel_B2\n",
    "\n",
    "display(sp.simplify(Profitt_B1), Profitt_B2)"
   ]
  },
  {
   "cell_type": "markdown",
   "metadata": {},
   "source": [
    "## Stackelberg-modellen\n",
    "\n",
    "Videre så siden vi ikke lengre har simultan prissetting, differensieres Stackelberg-modellen fra Bertrand-modellen ved at vi har en lederbedrift og en følgerbedrift. Lederbedriften setter prisen først, og følgerbedriften setter prisen etter at lederbedriften har satt sin pris.\n",
    "\n",
    "Modellen løses ved baklengs induksjon. Først finner vi følgerbedriftens pris, og deretter lederbedriftens pris. Vi starter med følgerbedriften.\n",
    "\n",
    "## Trinn 2\n",
    "\n",
    "Vi finner førsteordensbetingelsene for profitmaksimering ved å derivere profittfunksjonene med hensyn til egen pris og sette derivert lik null.\n",
    "\n",
    "$$\n",
    "\\frac{\\partial \\pi_{B_1}}{\\partial P_1}  =   - \\frac{N \\left(P_{1} - c\\right)}{2 t} + \\frac{N \\left(- P_{1} + P_{2} + t\\right)}{2 t}\n",
    "$$\n",
    "\n",
    "$$\n",
    "\\frac{\\partial \\pi_{B_2}}{\\partial P_2} = - \\frac{N \\left(P_{2} - c\\right)}{2 t} + \\frac{N \\left(P_{1} - P_{2} + t\\right)}{2 t}\n",
    "$$\n",
    "\n",
    "Deretter må vi finne reaksjonsfunksjonen til følgerbedriften. Vi setter den deriverte av profitten til følgerbedriften lik null og løser for $P_2$.\n",
    "\n",
    "$$\n",
    "\\frac{\\partial \\pi_{B_2}}{\\partial P_2} = 0\n",
    "$$\n",
    "\n",
    "$$\n",
    "- \\frac{N \\left(P_{2} - c\\right)}{2 t} + \\frac{N \\left(P_{1} - P_{2} + t\\right)}{2 t} = 0\n",
    "$$\n",
    "\n",
    "$$\n",
    "P_{2} = \\frac{P_{1} + c + t}{2}\n",
    "$$\n",
    "\n",
    "Ovenfor har vi funnet reaksjonsfunksjonen til følgerbedriften. Vi fortsetter med trinn 1.\n",
    "\n",
    "## Trinn 1\n",
    "\n",
    "Nå kan vi sette reaksjonsfunksjonen til følgerbedriften inn i lederbedriften sin profittfunksjon, og deriverer denne med hensyn på $P_1$ for å finne lederbedriftens profittmaksimerende pris.\n",
    "\n",
    "$$\n",
    "\\pi_{B_1} = - \\frac{N \\left(P_{1} - c\\right)}{4 t} + \\frac{N \\left(- \\frac{P_{1}}{2} + \\frac{c}{2} + \\frac{3 t}{2}\\right)}{2 t}\n",
    "$$\n",
    "\n",
    "Så løser vi profittfunksjonen til lederbedriften for $P_1$ og finner optimal pris:\n",
    "\n",
    "$$\n",
    "P_{1}^* = c + \\frac{3 t}{2}\n",
    "$$\n",
    "\n",
    "For å finne optimal pris for følgerbedriften setter vi $P_1^*$ inn i reaksjonsfunksjonen til følgerbedriften:\n",
    "\n",
    "$$\n",
    "P_{2}^* = \\frac{c + \\frac{3 t}{2} + t}{2} = c + \\frac{5 t}{4}\n",
    "$$\n",
    "\n"
   ]
  },
  {
   "cell_type": "code",
   "execution_count": 15,
   "metadata": {},
   "outputs": [
    {
     "data": {
      "text/latex": [
       "$\\displaystyle \\frac{N \\left(- 2 P_{1} + P_{2} + c + t\\right)}{2 t}$"
      ],
      "text/plain": [
       "N*(-2*P_1 + P_2 + c + t)/(2*t)"
      ]
     },
     "metadata": {},
     "output_type": "display_data"
    },
    {
     "data": {
      "text/latex": [
       "$\\displaystyle \\frac{N \\left(P_{1} - 2 P_{2} + c + t\\right)}{2 t}$"
      ],
      "text/plain": [
       "N*(P_1 - 2*P_2 + c + t)/(2*t)"
      ]
     },
     "metadata": {},
     "output_type": "display_data"
    }
   ],
   "source": [
    "# Finner optimal profitt for bedrift 1\n",
    "Optimal_Profitt_B1 = sp.diff(Profitt_B1, P_1)\n",
    "\n",
    "# Finner optimal profitt for bedrift 2\n",
    "Optimal_Profitt_B2 = sp.diff(Profitt_B2, P_2)\n",
    "\n",
    "display(sp.simplify(Optimal_Profitt_B1), sp.simplify(Optimal_Profitt_B2))"
   ]
  },
  {
   "cell_type": "code",
   "execution_count": null,
   "metadata": {},
   "outputs": [
    {
     "data": {
      "text/latex": [
       "$\\displaystyle \\frac{P_{1}}{2} + \\frac{c}{2} + \\frac{t}{2}$"
      ],
      "text/plain": [
       "P_1/2 + c/2 + t/2"
      ]
     },
     "metadata": {},
     "output_type": "display_data"
    }
   ],
   "source": [
    "# Finner reaksjonsfunksjonen for følgerbedriften ved å løse profittfunksjonen til bedrift 2 for P_2\n",
    "Reaksjonsfunksjon_B2 = sp.solve(Optimal_Profitt_B2, P_2)[0]\n",
    "\n",
    "display(Reaksjonsfunksjon_B2)"
   ]
  },
  {
   "cell_type": "code",
   "execution_count": 18,
   "metadata": {},
   "outputs": [
    {
     "data": {
      "text/latex": [
       "$\\displaystyle \\frac{N \\left(- 2 P_{1} + 2 c + 3 t\\right)}{4 t}$"
      ],
      "text/plain": [
       "N*(-2*P_1 + 2*c + 3*t)/(4*t)"
      ]
     },
     "metadata": {},
     "output_type": "display_data"
    }
   ],
   "source": [
    "# Setter inn reaksjonsfunksjonen for bedrift 2 i profittfunksjonen til bedrift 1 og deriverer med hensyn på P_1\n",
    "Reaksjonsfunksjon_B1 = sp.diff(Profitt_B1.subs(P_2, Reaksjonsfunksjon_B2), P_1)\n",
    "\n",
    "display(sp.simplify(Reaksjonsfunksjon_B1))"
   ]
  },
  {
   "cell_type": "code",
   "execution_count": 22,
   "metadata": {},
   "outputs": [
    {
     "data": {
      "text/latex": [
       "$\\displaystyle c + \\frac{3 t}{2}$"
      ],
      "text/plain": [
       "c + 3*t/2"
      ]
     },
     "metadata": {},
     "output_type": "display_data"
    }
   ],
   "source": [
    "# Løser for P_1 for optimal pris for bedrift 1 (lederbedrift)\n",
    "p1_sol = sp.solve(Reaksjonsfunksjon_B1, P_1)[0]\n",
    "\n",
    "display(p1_sol)"
   ]
  },
  {
   "cell_type": "code",
   "execution_count": 10,
   "metadata": {},
   "outputs": [
    {
     "data": {
      "text/latex": [
       "$\\displaystyle c + \\frac{5 t}{4}$"
      ],
      "text/plain": [
       "c + 5*t/4"
      ]
     },
     "metadata": {},
     "output_type": "display_data"
    }
   ],
   "source": [
    "# Løser for P_2 for optimal pris for bedrift 2 (følgerbedrift)\n",
    "p2_sol = Reaksjonsfunksjon_B2.subs(P_1, p1_sol)\n",
    "\n",
    "display(p2_sol)"
   ]
  },
  {
   "cell_type": "markdown",
   "metadata": {},
   "source": [
    "## Optimalt kvantum og profitt\n",
    "\n",
    "For å finne optimalt kvantum setter vi de optimale prisene inn i etterspørselsfunksjonene.\n",
    "\n",
    "$$\n",
    "B_1^* = \\frac{N \\left(- \\frac{3 t}{2} + \\frac{5 t}{4} + t\\right)}{2 t} = \\frac{3 N}{8}\n",
    "$$\n",
    "\n",
    "$$\n",
    "B_2^* = \\frac{N \\left(\\frac{3 t}{2} - \\frac{5 t}{4} + t\\right)}{2 t} =  \\frac{5 N}{8}\n",
    "$$\n",
    "\n",
    "For å finne profitten til lederbedriften setter vi de optimale prisene og kvantumene inn i profittfunksjonen til lederbedriften.\n",
    "\n",
    "$$\n",
    "\\pi_{B_1}^* = \\frac{N \\left(\\frac{3 t}{2} - c\\right)}{4 t} =  \\frac{9 N t}{16}\n",
    "$$\n",
    "\n",
    "For å finne profitten til følgerbedriften setter vi de optimale prisene og kvantumene inn i profittfunksjonen til følgerbedriften.\n",
    "\n",
    "$$\n",
    "\\pi_{B_2}^* = \\frac{N \\left(\\frac{5 t}{4} - c\\right)}{4 t} =  \\frac{25 N t}{32}\n",
    "$$"
   ]
  },
  {
   "cell_type": "code",
   "execution_count": 26,
   "metadata": {},
   "outputs": [
    {
     "data": {
      "text/latex": [
       "$\\displaystyle \\frac{3 N}{8}$"
      ],
      "text/plain": [
       "3*N/8"
      ]
     },
     "metadata": {},
     "output_type": "display_data"
    },
    {
     "data": {
      "text/latex": [
       "$\\displaystyle \\frac{5 N}{8}$"
      ],
      "text/plain": [
       "5*N/8"
      ]
     },
     "metadata": {},
     "output_type": "display_data"
    }
   ],
   "source": [
    "# Substituerer inn P_1 og P_2 i etterspørselsfunksjonene for å finne kvantum\n",
    "kvantum_b1 = Etterspørsel_B1.subs({P_1: p1_sol, P_2: p2_sol})\n",
    "kvantum_b2 = Etterspørsel_B2.subs({P_1: p1_sol, P_2: p2_sol})\n",
    "\n",
    "display(kvantum_b1, kvantum_b2)"
   ]
  },
  {
   "cell_type": "code",
   "execution_count": 12,
   "metadata": {},
   "outputs": [
    {
     "data": {
      "text/latex": [
       "$\\displaystyle \\frac{9 N t}{16}$"
      ],
      "text/plain": [
       "9*N*t/16"
      ]
     },
     "metadata": {},
     "output_type": "display_data"
    },
    {
     "data": {
      "text/latex": [
       "$\\displaystyle \\frac{25 N t}{32}$"
      ],
      "text/plain": [
       "25*N*t/32"
      ]
     },
     "metadata": {},
     "output_type": "display_data"
    }
   ],
   "source": [
    "# Substituerer inn P_1 og P_2 i profittfunksjonene for å finne profitt\n",
    "profitt_b1 = Profitt_B1.subs(P_1, p1_sol).subs(P_2, p2_sol)\n",
    "profitt_b2 = Profitt_B2.subs(P_1, p1_sol).subs(P_2, p2_sol)\n",
    "\n",
    "display(profitt_b1, profitt_b2)"
   ]
  }
 ],
 "metadata": {
  "kernelspec": {
   "display_name": "Python 3",
   "language": "python",
   "name": "python3"
  },
  "language_info": {
   "codemirror_mode": {
    "name": "ipython",
    "version": 3
   },
   "file_extension": ".py",
   "mimetype": "text/x-python",
   "name": "python",
   "nbconvert_exporter": "python",
   "pygments_lexer": "ipython3",
   "version": "3.11.2"
  }
 },
 "nbformat": 4,
 "nbformat_minor": 2
}
