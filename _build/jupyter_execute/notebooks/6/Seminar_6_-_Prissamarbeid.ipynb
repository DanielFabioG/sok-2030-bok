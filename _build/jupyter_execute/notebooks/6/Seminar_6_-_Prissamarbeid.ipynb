{
 "cells": [
  {
   "cell_type": "markdown",
   "metadata": {},
   "source": [
    "# Seminar 6: Prissamarbeid"
   ]
  },
  {
   "cell_type": "code",
   "execution_count": 1,
   "metadata": {},
   "outputs": [],
   "source": [
    "import numpy as np\n",
    "import sympy as sp"
   ]
  },
  {
   "cell_type": "markdown",
   "metadata": {},
   "source": [
    "## Prissamarbeid med Bertrand-modell\n",
    "\n",
    "For å se om prissamarbeid vil være lønnsomt for bedriftene må vi sammenligne ulike markedstilpasninger. I denne del av seminaret skal vi se hvordan prissamarbeid vil påvirke bedriftenes profitt og hvordan det kan føre til \"fangens dilemma\".\n",
    "\n",
    "Ved prissamarbeid vil bedriftene dele monopolet og maksimere profitt sammen. Vi setter derfor opp i en bertrand monopolmodell for å finne den optimale produksjonen og prisen.\n",
    "\n",
    "Vi husker at den totale etterspørselen er gitt ved:\n",
    "\n",
    "$$\n",
    "Q = 150 - P\n",
    "$$\n",
    "\n",
    "Løser for invers etterspørsel:\n",
    "\n",
    "$$\n",
    "P = 150 - Q\n",
    "$$\n",
    "\n",
    "Siden vi har prissamarbeid, vil bedriftene produsere sammen og maksimere profitt. Den totale inntekten blir da:\n",
    "\n",
    "$$\n",
    "TR = P \\cdot Q = P \\cdot (150 - Q) = 150Q - Q^2\n",
    "$$\n",
    "\n",
    "Deretter finner vi marginalinntekten ved å derivere totalinntekten med hensyn på $Q$:\n",
    "\n",
    "$$\n",
    "MR = \\frac{\\partial TR}{\\partial Q} = 150 - 2Q\n",
    "$$\n",
    "\n",
    "Setter marginalinntekten lik marginalkostnaden:\n",
    "\n",
    "$$\n",
    "150 - 2Q = 30\n",
    "$$\n",
    "\n",
    "Løser for $Q$ for å finne optimal produksjon:\n",
    "\n",
    "$$\n",
    "Q^* = 60\n",
    "$$\n",
    "\n",
    "Setter inn $Q^*$ i den inverse etterspørselen for å finne optimal pris:\n",
    "\n",
    "$$\n",
    "P^* = 150 - Q^* = 150 - 60 = 90\n",
    "$$\n",
    "\n",
    "## Profitt ved prissamarbeid\n",
    "\n",
    "Profitten til bedriftene ved prissamarbeid er gitt ved:\n",
    "\n",
    "$$\n",
    "\\pi = (P^* - c) \\cdot Q^* \\rightarrow \\pi = (90 - 30) \\cdot 60 = 3600\n",
    "$$\n",
    "\n",
    "For hver bedrift blir det:\n",
    "\n",
    "$$\n",
    "\\pi_{\\text{bedrift}} = \\frac{\\pi}{2} = \\frac{3600}{2} = 1800\n",
    "$$\n",
    "\n",
    "Så ved prissamarbeid vil hver bedrift oppnå en profitt på 1800, som er høyere enn 1600 som de oppnår ved Cournot-konkurranse.\n",
    "\n",
    "## Tabell for oppsummering\n",
    "\n",
    "| Situasjon | Samarbeid   | Avvik       |\n",
    "|-----------|-------------|-------------|\n",
    "| Samarbeid | (1800,1800) |  (0,3600)   |\n",
    "| Avvik     | (3600,0)    |  **(0, 0)** $\\leftarrow$ Nash-likevekt |\n",
    "\n",
    "## Fangens dilemma\n",
    "\n",
    "Spillerne har to valg : samarbeide eller avvike. Hvis begge samarbeider, får de en profitt på 1800 hver. Hvis den ene avviker, får den 3600 mens den andre får 0. Hvis begge avviker, får de 0.\n",
    "\n",
    "Derfor blir utfallet:\n",
    "\n",
    "Nash-likevekt: (0,0) - begge avviker\n",
    "\n",
    "Dette eksemplet er et klassisk fangens dilemma, hvor hvor begge spillerne har insentiv til å avvike fra samarbeidet, selv om de ville fått høyere profitt ved å samarbeide. Dette er et eksempel på hvordan prissamarbeid kan føre til \"fangens dilemma\"."
   ]
  },
  {
   "cell_type": "code",
   "execution_count": 2,
   "metadata": {},
   "outputs": [],
   "source": [
    "# Definerer symboler\n",
    "P,Q,q_1,q_2,b,c = sp.symbols('P Q q_1 q_2 b c')"
   ]
  },
  {
   "cell_type": "code",
   "execution_count": 3,
   "metadata": {},
   "outputs": [
    {
     "data": {
      "text/latex": [
       "$\\displaystyle 150 - Q$"
      ],
      "text/plain": [
       "150 - Q"
      ]
     },
     "metadata": {},
     "output_type": "display_data"
    }
   ],
   "source": [
    "# Definerer etterspørselsfunksjonen\n",
    "Etterspørsel = sp.Eq(Q, 150-P)\n",
    "\n",
    "# Løser for P\n",
    "Invers_etterspørsel = sp.solve(Etterspørsel, P)[0]\n",
    "\n",
    "display(Invers_etterspørsel)"
   ]
  },
  {
   "cell_type": "code",
   "execution_count": 4,
   "metadata": {},
   "outputs": [
    {
     "data": {
      "text/latex": [
       "$\\displaystyle Q \\left(150 - Q\\right)$"
      ],
      "text/plain": [
       "Q*(150 - Q)"
      ]
     },
     "execution_count": 4,
     "metadata": {},
     "output_type": "execute_result"
    }
   ],
   "source": [
    "# Ganger etterspørselen med kvantumet for å finne totalinntekten\n",
    "Totalinntekt = Invers_etterspørsel*Q\n",
    "\n",
    "Totalinntekt"
   ]
  },
  {
   "cell_type": "code",
   "execution_count": 5,
   "metadata": {},
   "outputs": [
    {
     "data": {
      "text/latex": [
       "$\\displaystyle 150 - 2 Q$"
      ],
      "text/plain": [
       "150 - 2*Q"
      ]
     },
     "execution_count": 5,
     "metadata": {},
     "output_type": "execute_result"
    }
   ],
   "source": [
    "# Deriverer totalinntekten for å finne marginalinntekten\n",
    "Marginalinntekt = sp.diff(Totalinntekt, Q)\n",
    "\n",
    "Marginalinntekt"
   ]
  },
  {
   "cell_type": "code",
   "execution_count": 6,
   "metadata": {},
   "outputs": [
    {
     "data": {
      "text/latex": [
       "$\\displaystyle 150 - 2 Q = 30$"
      ],
      "text/plain": [
       "Eq(150 - 2*Q, 30)"
      ]
     },
     "metadata": {},
     "output_type": "display_data"
    }
   ],
   "source": [
    "# Vi vet at marginalkostnaden er 30\n",
    "c = 30\n",
    "\n",
    "# Finner optimalt kvantum med å sette marginalinntekten lik marginalkostnaden\n",
    "likevekt = sp.Eq(Marginalinntekt, c)\n",
    "\n",
    "display(likevekt)"
   ]
  },
  {
   "cell_type": "code",
   "execution_count": 7,
   "metadata": {},
   "outputs": [
    {
     "data": {
      "text/latex": [
       "$\\displaystyle 60$"
      ],
      "text/plain": [
       "60"
      ]
     },
     "execution_count": 7,
     "metadata": {},
     "output_type": "execute_result"
    }
   ],
   "source": [
    "# Løser for Q\n",
    "optimal_Q = sp.solve(likevekt, Q)[0]\n",
    "\n",
    "optimal_Q"
   ]
  },
  {
   "cell_type": "code",
   "execution_count": 8,
   "metadata": {},
   "outputs": [
    {
     "data": {
      "text/latex": [
       "$\\displaystyle 90$"
      ],
      "text/plain": [
       "90"
      ]
     },
     "execution_count": 8,
     "metadata": {},
     "output_type": "execute_result"
    }
   ],
   "source": [
    "# Optimal pris med å sette optimalt kvantum inn i invers etterspørsel\n",
    "optimal_P = Invers_etterspørsel.subs(Q, optimal_Q)\n",
    "\n",
    "optimal_P"
   ]
  },
  {
   "cell_type": "code",
   "execution_count": 9,
   "metadata": {},
   "outputs": [
    {
     "data": {
      "text/latex": [
       "$\\displaystyle 3600$"
      ],
      "text/plain": [
       "3600"
      ]
     },
     "execution_count": 9,
     "metadata": {},
     "output_type": "execute_result"
    }
   ],
   "source": [
    "# Finner profitten\n",
    "profitt = (optimal_P - c)*optimal_Q\n",
    "\n",
    "profitt"
   ]
  },
  {
   "cell_type": "code",
   "execution_count": 10,
   "metadata": {},
   "outputs": [
    {
     "data": {
      "text/latex": [
       "$\\displaystyle 1800$"
      ],
      "text/plain": [
       "1800"
      ]
     },
     "metadata": {},
     "output_type": "display_data"
    },
    {
     "data": {
      "text/latex": [
       "$\\displaystyle 1800$"
      ],
      "text/plain": [
       "1800"
      ]
     },
     "metadata": {},
     "output_type": "display_data"
    }
   ],
   "source": [
    "# Profitt for hver bedrift i prissamarbeid\n",
    "profitt_q1 = profitt/2\n",
    "\n",
    "profitt_q2 = profitt/2\n",
    "\n",
    "display(profitt_q1, profitt_q2)"
   ]
  },
  {
   "cell_type": "markdown",
   "metadata": {},
   "source": [
    "## Prissamarbeid cournot-modell\n",
    "\n",
    "Vi starter med å sette opp etterspørselen:\n",
    "\n",
    "$$\n",
    "Q = 150 - P\n",
    "$$\n",
    "\n",
    "der $Q$ er mengden som etterspørres, $P$ er prisen. \n",
    "\n",
    "Q er også lik summen av mengden som produseres av de to bedriftene:\n",
    "\n",
    "$$\n",
    "Q = q_1 + q_2\n",
    "$$\n",
    "\n",
    "Siden vi har to bedrifter i en Cournot-modell, vil hver bedrift maksimere profitten sin gitt at konkurrenten produserer en viss mengde.\n",
    "\n",
    "Videre så antar vi at vi har en marginalkostnad $c = 30$, for begge bedriftene.\n",
    "\n",
    "Vi starter med å finne invers etterspørsel for å finne prisen som funksjon av mengden som produseres. Denne er gitt ved å løse etterspørsel for $P$:\n",
    "\n",
    "$$\n",
    "Q = 150 - P  \\Rightarrow P = 150 - Q\n",
    "$$\n",
    "\n",
    "Som gir den inverse etterspørselfunksjonen:\n",
    "\n",
    "$$\n",
    "P = 150 - (q_1 + q_2)\n",
    "$$\n",
    "\n",
    "## Totalinntekt og marginalinntekt\n",
    "\n",
    "Finner så totalinntekten til hver bedrift, som er gitt ved prisen ganget med kvantum:\n",
    "\n",
    "$$\n",
    "TR_1 = P \\times q_1 = q_1(150-bq_1 -bq_2)\n",
    "$$\n",
    "\n",
    "og for bedrift 2:\n",
    "\n",
    "$$\n",
    "TR_2 = P \\times q_2 = q_2(150-bq_1 -bq_2)\n",
    "$$\n",
    "\n",
    "Finner så marginalinntekten for begge bedriftene, som den deriverte av totalinntekten med henhold til kvantum:\n",
    "\n",
    "$$\n",
    "MR_1 = \\frac{\\partial TR_1}{\\partial q_1} = 150-2bq_1 - bq_2\n",
    "$$\n",
    "\n",
    "og for bedrift 2:\n",
    "\n",
    "$$\n",
    "MR_2 = \\frac{\\partial TR_2}{\\partial q_2} = 150-2bq_2 - bq_1\n",
    "$$"
   ]
  },
  {
   "cell_type": "code",
   "execution_count": 11,
   "metadata": {},
   "outputs": [
    {
     "data": {
      "text/latex": [
       "$\\displaystyle q_{1} + q_{2} = 150 - P$"
      ],
      "text/plain": [
       "Eq(q_1 + q_2, 150 - P)"
      ]
     },
     "metadata": {},
     "output_type": "display_data"
    },
    {
     "data": {
      "text/latex": [
       "$\\displaystyle - q_{1} - q_{2} + 150$"
      ],
      "text/plain": [
       "-q_1 - q_2 + 150"
      ]
     },
     "metadata": {},
     "output_type": "display_data"
    }
   ],
   "source": [
    "# Q = q_1 + q_2\n",
    "Q = (q_1 + q_2)\n",
    "\n",
    "# Definerer etterspørselsfunksjonen\n",
    "Etterspørsel = sp.Eq(Q, 150-P)\n",
    "\n",
    "# Løser for P\n",
    "Invers_etterspørsel = sp.solve(Etterspørsel, P)[0]\n",
    "\n",
    "# Viser løsningene\n",
    "display(Etterspørsel, Invers_etterspørsel)"
   ]
  },
  {
   "cell_type": "code",
   "execution_count": 12,
   "metadata": {},
   "outputs": [
    {
     "data": {
      "text/latex": [
       "$\\displaystyle q_{1} \\left(- q_{1} - q_{2} + 150\\right)$"
      ],
      "text/plain": [
       "q_1*(-q_1 - q_2 + 150)"
      ]
     },
     "metadata": {},
     "output_type": "display_data"
    },
    {
     "data": {
      "text/latex": [
       "$\\displaystyle q_{2} \\left(- q_{1} - q_{2} + 150\\right)$"
      ],
      "text/plain": [
       "q_2*(-q_1 - q_2 + 150)"
      ]
     },
     "metadata": {},
     "output_type": "display_data"
    }
   ],
   "source": [
    "# Multipliserer prisen med kvantumet for å finne totalinntekten\n",
    "Totalinntekt = Invers_etterspørsel*q_1\n",
    "Totalinntekt2 = Invers_etterspørsel*q_2\n",
    "\n",
    "# Viser totalinntekten\n",
    "display(Totalinntekt, Totalinntekt2)"
   ]
  },
  {
   "cell_type": "code",
   "execution_count": 13,
   "metadata": {},
   "outputs": [
    {
     "data": {
      "text/latex": [
       "$\\displaystyle - 2 q_{1} - q_{2} + 150$"
      ],
      "text/plain": [
       "-2*q_1 - q_2 + 150"
      ]
     },
     "metadata": {},
     "output_type": "display_data"
    },
    {
     "data": {
      "text/latex": [
       "$\\displaystyle - q_{1} - 2 q_{2} + 150$"
      ],
      "text/plain": [
       "-q_1 - 2*q_2 + 150"
      ]
     },
     "metadata": {},
     "output_type": "display_data"
    }
   ],
   "source": [
    "# Deriverer totalinntekten for å finne marginalinntekten\n",
    "Marginalinntekt_q1 = sp.diff(Totalinntekt, q_1)\n",
    "Marginalinntekt_q2 = sp.diff(Totalinntekt2, q_2)\n",
    "\n",
    "# Viser marginalinntekten\n",
    "display(sp.simplify(Marginalinntekt_q1), sp.simplify(Marginalinntekt_q2))"
   ]
  },
  {
   "cell_type": "markdown",
   "metadata": {},
   "source": [
    "## Reaksjonsfunksjoner\n",
    "\n",
    "Nå har vi regnet ut marginalinntekten, og vi kan sette denne lik marginalkostnaden for å finne optimal produksjon for hver bedrift. Vi setter $MR = c$, dvs. $MR = 30$, og løser for kvantum til bedrift 1:\n",
    "\n",
    "For bedrift 1:\n",
    "\n",
    "$$\n",
    "150 - 2q_1 - q_2 = 30  \\Rightarrow  q_1 = 60 - \\frac{q_{2}}{2}\n",
    "$$\n",
    "\n",
    "For bedrift 2:\n",
    "\n",
    "$$\n",
    "150 - q_1 - 2q_2 = 30 \\Rightarrow q_2 = 60 - \\frac{q_{1}}{2}\n",
    "$$\n",
    "\n",
    "## Symmetrisk likevekt\n",
    "\n",
    "I symmetrisk likevekt antar vi at $q_1 = q_2 = q$. Ved å sette $q_2 = q$ i bedrift 1 sin reaksjonsfunksjon får vi:\n",
    "\n",
    "$$\n",
    "q_{1} = \\frac{q_{1}}{4} + 30\n",
    "$$\n",
    "\n",
    "og løser for $q_1$:\n",
    "\n",
    "$$\n",
    "q_{1}^* = 40\n",
    "$$\n",
    "\n",
    "Setter så inn $q_{1}^* = 40$ i reaksjonsfunksjonen til bedrift 2:\n",
    "\n",
    "$$\n",
    "q_{2}^* = 60 - \\frac{40}{2} = 40\n",
    "$$\n",
    "\n",
    "\n",
    "Dermed er likevektsproduksjonen for hver bedrift\n",
    "\n",
    "$$\n",
    "q_1^* = q_2^* = 40\n",
    "$$\n",
    "\n",
    "Den totale mengden blir da\n",
    "\n",
    "$$\n",
    "Q^* = q_1^* + q_2^* = 40 + 40 = 80\n",
    "$$\n",
    "\n",
    "## Optimal pris\n",
    "\n",
    "For å finne prisen i likevekt, setter vi inn $Q^*$ i den inverse etterspørselen:\n",
    "\n",
    "Den inverse etterspørselen husker vi at er gitt ved:\n",
    "\n",
    "$$\n",
    "P = 150 - Q\n",
    "$$\n",
    "\n",
    "Hvor vi vet at $Q^* = 80$, så vi får:\n",
    "\n",
    "$$\n",
    "P^* = 150 - 80 = 70\n",
    "$$\n",
    "\n",
    "## Profitt\n",
    "\n",
    "Profitten til en bedrift er gitt ved:\n",
    "\n",
    "$$\n",
    "\\pi = (P^* - c) \\cdot Q^* \\rightarrow \\pi = (70 - 30) \\cdot 40 = 1600\n",
    "$$\n",
    "\n",
    "\n",
    "Dersom du har faste kostnader, trekkes disse fra profitten for å gi netto profit. \n",
    "\n",
    "Hvis faste kostnader $F$ (for eksempel 500) skal trekkes fra, blir netto profitt:\n",
    "\n",
    "$$\n",
    "\\pi_{\\text{netto}} = \\pi - F = 1600 - 500 = 1100\n",
    "$$"
   ]
  },
  {
   "cell_type": "code",
   "execution_count": 14,
   "metadata": {},
   "outputs": [
    {
     "data": {
      "text/latex": [
       "$\\displaystyle - 2 q_{1} - q_{2} + 150 = 30$"
      ],
      "text/plain": [
       "Eq(-2*q_1 - q_2 + 150, 30)"
      ]
     },
     "metadata": {},
     "output_type": "display_data"
    },
    {
     "data": {
      "text/latex": [
       "$\\displaystyle - q_{1} - 2 q_{2} + 150 = 30$"
      ],
      "text/plain": [
       "Eq(-q_1 - 2*q_2 + 150, 30)"
      ]
     },
     "metadata": {},
     "output_type": "display_data"
    }
   ],
   "source": [
    "# Setter marginalinntekten lik kostnaden\n",
    "likevekt_q1 = sp.Eq(Marginalinntekt_q1, c)\n",
    "likevekt_q2 = sp.Eq(Marginalinntekt_q2, c)\n",
    "\n",
    "display(likevekt_q1, likevekt_q2)"
   ]
  },
  {
   "cell_type": "code",
   "execution_count": 15,
   "metadata": {},
   "outputs": [
    {
     "data": {
      "text/latex": [
       "$\\displaystyle 60 - \\frac{q_{2}}{2}$"
      ],
      "text/plain": [
       "60 - q_2/2"
      ]
     },
     "execution_count": 15,
     "metadata": {},
     "output_type": "execute_result"
    }
   ],
   "source": [
    "# Løser for q1 for å finne reaksjonsfunksjon til bedrift 2\n",
    "q1 = sp.solve(likevekt_q1, q_1)[0]\n",
    "q1"
   ]
  },
  {
   "cell_type": "code",
   "execution_count": 16,
   "metadata": {},
   "outputs": [
    {
     "data": {
      "text/latex": [
       "$\\displaystyle 60 - \\frac{q_{1}}{2}$"
      ],
      "text/plain": [
       "60 - q_1/2"
      ]
     },
     "metadata": {},
     "output_type": "display_data"
    }
   ],
   "source": [
    "# Løser for q2 for å finne reaksjonsfunksjon til bedrift 1\n",
    "q2 = sp.solve(likevekt_q2, q_2)[0]\n",
    "\n",
    "display(q2)"
   ]
  },
  {
   "cell_type": "code",
   "execution_count": 17,
   "metadata": {},
   "outputs": [
    {
     "data": {
      "text/latex": [
       "$\\displaystyle q_{1} = \\frac{q_{1}}{4} + 30$"
      ],
      "text/plain": [
       "Eq(q_1, q_1/4 + 30)"
      ]
     },
     "execution_count": 17,
     "metadata": {},
     "output_type": "execute_result"
    }
   ],
   "source": [
    "# Setter uttrykk for q2 inn i q1 for å finne likevektskvantum\n",
    "likevekt_eq = sp.Eq(q_1, q1.subs(q_2, q2))\n",
    "likevekt_eq"
   ]
  },
  {
   "cell_type": "code",
   "execution_count": 18,
   "metadata": {},
   "outputs": [
    {
     "data": {
      "text/latex": [
       "$\\displaystyle 40$"
      ],
      "text/plain": [
       "40"
      ]
     },
     "metadata": {},
     "output_type": "display_data"
    },
    {
     "data": {
      "text/latex": [
       "$\\displaystyle 40$"
      ],
      "text/plain": [
       "40"
      ]
     },
     "metadata": {},
     "output_type": "display_data"
    }
   ],
   "source": [
    "# Løser symmetrisk likevekt for q1 og q2\n",
    "optimal_q1 = sp.solve(likevekt_eq, q_1)[0]\n",
    "\n",
    "optimal_q2 = q2.subs(q_1, optimal_q1)\n",
    "\n",
    "\n",
    "display(optimal_q1, optimal_q2)"
   ]
  },
  {
   "cell_type": "code",
   "execution_count": 19,
   "metadata": {},
   "outputs": [
    {
     "data": {
      "text/latex": [
       "$\\displaystyle 70$"
      ],
      "text/plain": [
       "70"
      ]
     },
     "execution_count": 19,
     "metadata": {},
     "output_type": "execute_result"
    }
   ],
   "source": [
    "# Optimal Pris\n",
    "optimal_P = Invers_etterspørsel.subs({q_1: optimal_q1, q_2: optimal_q2})\n",
    "\n",
    "optimal_P"
   ]
  },
  {
   "cell_type": "code",
   "execution_count": 20,
   "metadata": {},
   "outputs": [
    {
     "data": {
      "text/latex": [
       "$\\displaystyle 1600$"
      ],
      "text/plain": [
       "1600"
      ]
     },
     "execution_count": 20,
     "metadata": {},
     "output_type": "execute_result"
    }
   ],
   "source": [
    "# Profitt\n",
    "profitt = (optimal_P - c)*optimal_q1\n",
    "\n",
    "profitt"
   ]
  },
  {
   "cell_type": "code",
   "execution_count": 21,
   "metadata": {},
   "outputs": [
    {
     "data": {
      "text/latex": [
       "$\\displaystyle 1100$"
      ],
      "text/plain": [
       "1100"
      ]
     },
     "execution_count": 21,
     "metadata": {},
     "output_type": "execute_result"
    }
   ],
   "source": [
    "# Profitt med faste kostnader\n",
    "FK = 500\n",
    "\n",
    "# Profitt\n",
    "profitt_fast_kostnad = profitt - FK\n",
    "\n",
    "profitt_fast_kostnad"
   ]
  },
  {
   "cell_type": "markdown",
   "metadata": {},
   "source": [
    "## Optimal tilpasning med avvik i cournot-modellen\n",
    "\n",
    "I cournot-modellen er det antatt at bedriftene har full informasjon om hverandre og at de tar hensyn til hverandres produksjon når de bestemmer sin egen produksjon. Dette kan føre til en situasjon der en av bedriftene velger å avvike fra den avtalte mengden for å maksimere sin egen profitt.\n",
    "\n",
    "La oss se hva som skjer hvis en av bedriftene, for eksempel bedrift 2, velger å avvike fra den avtalte mengden. Vi antar at bedrift 1 fortsatt følger den avtalte mengden på $\\frac{Q^*}{2} =\\frac{60}{2} = 30$. Bedrift 2 vil da maksimere sin egen profitt ved å velge en produksjon som er høyere enn den avtalte mengden ved å bruke reaksjonsfunksjonen og putter inn $q_1 = 30$ i reaksjonsfunksjonen for bedrift 2.\n",
    "\n",
    "Vi har regnet ut reaksjonsfunksjonen for bedrift 2 som:\n",
    "\n",
    "$$\n",
    "q_1 = 60 - \\frac{q_{1}}{2}\n",
    "$$\n",
    "\n",
    "Vi setter da inn $q_1 = 30$ i reaksjonsfunksjonen for bedrift 2:\n",
    "\n",
    "$$\n",
    "q_2 = 60 - \\frac{30}{2} = 45\n",
    "$$\n",
    "\n",
    "Og finner ut at bedrift 2 vil produsere 45 enheter, som er høyere enn den avtalte mengden på 30 enheter.\n",
    "\n",
    "Får ny pris som blir:\n",
    "\n",
    "$$\n",
    "P^* = 150 - Q = 150 - (30 + 45) = 75\n",
    "$$\n",
    "\n",
    "Og bedriftenes profitt blir:\n",
    "\n",
    "$$\n",
    "\\pi_1 = (P^* - c) \\cdot q_1 = (75 - 30) \\cdot 30 = 1350\n",
    "$$\n",
    "\n",
    "$$\n",
    "\\pi_2 = (P^* - c) \\cdot q_2 = (75 - 30) \\cdot 45 = 2025\n",
    "$$\n",
    "\n",
    "## Tabell for oppsummering\n",
    "\n",
    "| Situasjon | Samarbeid   | Avvik       |\n",
    "|-----------|-------------|-------------|\n",
    "| Samarbeid | (1800,1800) |  (1350,2025)   |\n",
    "| Avvik     | (2025,1350)    |  **(1600, 1600)** $\\leftarrow$ Nash-likevekt |\n",
    "\n",
    "## Fangens dilemma\n",
    "\n",
    "Spillerne har to valg : samarbeide eller avvike. Hvis begge samarbeider, får de en profitt på 1800 hver. Hvis den ene avviker, får den 1350 mens den andre får 2025. Hvis begge avviker, får de 1600 hver.\n",
    "\n",
    "Hvis Spiller 2 samarbeider, er det best for Spiller 1 å avvike $(2025 > 1800)$.\n",
    "\n",
    "Hvis Spiller 2 avviker, er det fortsatt best for Spiller 1 å avvike $(1600 > 1350)$\n",
    "\n",
    "Samme for Spiller 2.\n",
    "\n",
    "Pareto-optimalitet: (1800, 1800) - begge samarbeider\n",
    "\n",
    "Likevel er det ikke stabilt, fordi begge har insentiv til å avvike. Hvis en av dem avviker, vil den andre også ha insentiv til å avvike for å maksimere sin egen profitt.\n",
    "\n",
    "Derfor blir utfallet:\n",
    "\n",
    "Nash-likevekt: (1600, 1600) - begge avviker\n",
    "\n",
    "Så fangens dilemma er at selv om det ville vært best for begge å samarbeide og oppnå høyere profitt, vil de ende opp med å avvike og oppnå lavere profitt. Rasjonelle valg fører til et suboptimalt resultat for begge parter."
   ]
  },
  {
   "cell_type": "code",
   "execution_count": 22,
   "metadata": {},
   "outputs": [
    {
     "data": {
      "text/latex": [
       "$\\displaystyle 45$"
      ],
      "text/plain": [
       "45"
      ]
     },
     "execution_count": 22,
     "metadata": {},
     "output_type": "execute_result"
    }
   ],
   "source": [
    "# Setter inn det nye kvantumet i reaksjonsfunksjonen for bedrift 2\n",
    "ny_q1 = 30\n",
    "\n",
    "ny_optimal_q2 = q2.subs(q_1, ny_q1)\n",
    "\n",
    "# Viser ny optimal kvantum for bedrift 2\n",
    "ny_optimal_q2"
   ]
  },
  {
   "cell_type": "code",
   "execution_count": 23,
   "metadata": {},
   "outputs": [
    {
     "data": {
      "text/latex": [
       "$\\displaystyle 75$"
      ],
      "text/plain": [
       "75"
      ]
     },
     "execution_count": 23,
     "metadata": {},
     "output_type": "execute_result"
    }
   ],
   "source": [
    "# Den nye prisen blir\n",
    "optimal_P = Invers_etterspørsel.subs({q_1: ny_q1, q_2:ny_optimal_q2})\n",
    "\n",
    "optimal_P"
   ]
  },
  {
   "cell_type": "code",
   "execution_count": 24,
   "metadata": {},
   "outputs": [
    {
     "data": {
      "text/latex": [
       "$\\displaystyle 1350$"
      ],
      "text/plain": [
       "1350"
      ]
     },
     "execution_count": 24,
     "metadata": {},
     "output_type": "execute_result"
    }
   ],
   "source": [
    "# Profitt for bedrift 1\n",
    "profitt = (optimal_P - c)*ny_q1\n",
    "profitt"
   ]
  },
  {
   "cell_type": "code",
   "execution_count": 25,
   "metadata": {},
   "outputs": [
    {
     "data": {
      "text/latex": [
       "$\\displaystyle 2025$"
      ],
      "text/plain": [
       "2025"
      ]
     },
     "execution_count": 25,
     "metadata": {},
     "output_type": "execute_result"
    }
   ],
   "source": [
    "# Profitt for bedrift 2\n",
    "profitt2 = (optimal_P - c)*ny_optimal_q2\n",
    "profitt2"
   ]
  },
  {
   "cell_type": "markdown",
   "metadata": {},
   "source": [
    "## Prissamarbeid med gjentatte spill\n",
    "\n",
    "I gjentatte spill kan det være mulig å oppnå samarbeid mellom bedriftene over tid, selv om det er insentiv til å avvike i hvert enkelt spill. Dette kan oppnås ved å bruke strategier som \"tilbakeholdelse\" eller \"gjensidig straff\" for å oppmuntre til samarbeid.\n",
    "\n",
    "For å se om prissamarbeid vil lønne seg ved gjentatte spill må vi sammenligne nåverdien av samarbeid (deling av profitt ved monopoltilpasning) med nåverdien ved avvik (profitt ved avvik i en periode og profitt ved Cournot-tilpasning resten av periodene)"
   ]
  },
  {
   "cell_type": "code",
   "execution_count": 26,
   "metadata": {},
   "outputs": [],
   "source": [
    "from sympy.solvers.inequalities import reduce_rational_inequalities\n",
    "\n",
    "x,r = sp.symbols('x r', real=True)"
   ]
  },
  {
   "cell_type": "code",
   "execution_count": 27,
   "metadata": {},
   "outputs": [
    {
     "data": {
      "text/latex": [
       "$\\displaystyle \\frac{9}{17} < x \\wedge x < 1$"
      ],
      "text/plain": [
       "(9/17 < x) & (x < 1)"
      ]
     },
     "execution_count": 27,
     "metadata": {},
     "output_type": "execute_result"
    }
   ],
   "source": [
    "# Nåverdi ved sammarbeid > nåverdi ved avvik - med p=1\n",
    "reduce_rational_inequalities([[1800/(1-x) > 2025+(x*1600)/(1-x)]], x)"
   ]
  },
  {
   "cell_type": "code",
   "execution_count": 28,
   "metadata": {},
   "outputs": [
    {
     "data": {
      "text/latex": [
       "$\\displaystyle -1.0 < r \\wedge r < 0.888888888888889$"
      ],
      "text/plain": [
       "(-1.0 < r) & (r < 0.888888888888889)"
      ]
     },
     "execution_count": 28,
     "metadata": {},
     "output_type": "execute_result"
    }
   ],
   "source": [
    "reduce_rational_inequalities([[1/(1+r) > 9/17]], r)"
   ]
  },
  {
   "cell_type": "code",
   "execution_count": 29,
   "metadata": {},
   "outputs": [
    {
     "data": {
      "text/latex": [
       "$\\displaystyle 0.882352941176471 < x \\wedge x < 1.66666666666667$"
      ],
      "text/plain": [
       "(0.882352941176471 < x) & (x < 1.66666666666667)"
      ]
     },
     "execution_count": 29,
     "metadata": {},
     "output_type": "execute_result"
    }
   ],
   "source": [
    "# Nåverdi ved sammarbeid > nåverdi ved avvik - med p=0.6\n",
    "reduce_rational_inequalities([[1800/(1-(0.6*x)) > 2025+((0.6*x)*1600)/(1-(0.6*x))]], x)"
   ]
  },
  {
   "cell_type": "code",
   "execution_count": 30,
   "metadata": {},
   "outputs": [
    {
     "data": {
      "text/latex": [
       "$\\displaystyle -1.0 < r \\wedge r < 0.133337111123704$"
      ],
      "text/plain": [
       "(-1.0 < r) & (r < 0.133337111123704)"
      ]
     },
     "execution_count": 30,
     "metadata": {},
     "output_type": "execute_result"
    }
   ],
   "source": [
    "reduce_rational_inequalities([[1/(1+r) > 0.88235]], r)"
   ]
  },
  {
   "cell_type": "markdown",
   "metadata": {},
   "source": [
    "## Når vil det lønne seg å sammarbeide under Bertrand konkurranse?"
   ]
  },
  {
   "cell_type": "code",
   "execution_count": 31,
   "metadata": {},
   "outputs": [
    {
     "data": {
      "text/latex": [
       "$\\displaystyle \\frac{1}{2} < x \\wedge x < 1$"
      ],
      "text/plain": [
       "(1/2 < x) & (x < 1)"
      ]
     },
     "execution_count": 31,
     "metadata": {},
     "output_type": "execute_result"
    }
   ],
   "source": [
    "# Nåverdi ved sammarbeid > nåverdi ved avvik - \n",
    "reduce_rational_inequalities([[1800/(1-x) > 3600]], x)"
   ]
  },
  {
   "cell_type": "code",
   "execution_count": 32,
   "metadata": {},
   "outputs": [
    {
     "data": {
      "text/latex": [
       "$\\displaystyle -1.0 < r \\wedge r < 1.0$"
      ],
      "text/plain": [
       "(-1.0 < r) & (r < 1.0)"
      ]
     },
     "execution_count": 32,
     "metadata": {},
     "output_type": "execute_result"
    }
   ],
   "source": [
    "reduce_rational_inequalities([[1/(1+r) > 0.5]], r)"
   ]
  },
  {
   "cell_type": "markdown",
   "metadata": {},
   "source": [
    "## Oppgave prissamarbeid\n",
    "\n",
    "Vi skal her se på caset med bryggeriene Graff Brygghus og Bryggeri 13, og se om det vil lønne seg for disse å inngå et samarbeid.\n",
    "\n",
    "Informasjon om markedet:\n",
    "\n",
    "I markedet for mikroøl har vi to bryggerier i Tromsø, Graff Brygghus og Bryggeri 13. I produksjon av øl velger bedriftene produksjonsvolum i god tid før produktene er på markedet. \n",
    "\n",
    "Etterspørselen i markedet er gitt ved:\n",
    "\n",
    "$$\n",
    "P = 175 – 2Q\n",
    "$$\n",
    "\n",
    "hvor $P$ er markedspris for mikroøl per flaske, $Q$ er totalt kvantum (antall tusen flasker) og $Q = q_G + q_B$, der $q_G$ er produsert kvantum for Graff Brygghus og qB er produsert kvantum for Bryggeri 13. I produksjon av mikroøl vil Graff Brygghus og Bryggeri 13 ha konstante marginalkostnader på kr 10 perflaske, og begge bedriftene har årlige faste kostnader på kr 500 000.\n",
    "\n",
    "Ved Cournot konkurranse i dette markedet vil optimal produksjon for hvert av bryggeriene være på 27 500 flasker, til en pris på kr 65 per flaske. Dette vil gi bedriftene en profitt på 1 012 500.\n",
    "\n",
    "Anta at bryggeriene blir enige om å koordinere sin adferd. De avtaler å sette monopolpris og å dele markedet likt mellom seg. Videre avtaler de at hvis en av dem i en periode avviker fra denne avtalen, vil de begge i alle framtidige perioder opptre som konkurrenter.\n",
    "\n",
    "a) Hva vil total produksjon av øl være hvis bryggeriene velger samarbeid og hvor mye vil bryggeriene tjene på dette?"
   ]
  },
  {
   "cell_type": "code",
   "execution_count": 33,
   "metadata": {},
   "outputs": [],
   "source": [
    "# Skriv svar her"
   ]
  },
  {
   "cell_type": "markdown",
   "metadata": {},
   "source": [
    "b) Hvor mye vil Graff Brygghus tjene på å avvike fra samarbeidsavtalen med Bryggeri 13 i en periode?"
   ]
  },
  {
   "cell_type": "code",
   "execution_count": 34,
   "metadata": {},
   "outputs": [],
   "source": [
    "# Skriv svar her"
   ]
  },
  {
   "cell_type": "markdown",
   "metadata": {},
   "source": [
    "c) Hvor stor må diskonteringsfaktoren være for at bryggeriene skal ha incentiver til å opprettholde samarbeidsavtalen over tid?"
   ]
  },
  {
   "cell_type": "code",
   "execution_count": 35,
   "metadata": {},
   "outputs": [],
   "source": [
    "# Skriv svar her"
   ]
  }
 ],
 "metadata": {
  "kernelspec": {
   "display_name": "Python 3",
   "language": "python",
   "name": "python3"
  },
  "language_info": {
   "codemirror_mode": {
    "name": "ipython",
    "version": 3
   },
   "file_extension": ".py",
   "mimetype": "text/x-python",
   "name": "python",
   "nbconvert_exporter": "python",
   "pygments_lexer": "ipython3",
   "version": "3.11.1"
  }
 },
 "nbformat": 4,
 "nbformat_minor": 2
}