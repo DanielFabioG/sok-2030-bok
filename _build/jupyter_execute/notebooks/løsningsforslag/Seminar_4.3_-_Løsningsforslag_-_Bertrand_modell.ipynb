{
 "cells": [
  {
   "cell_type": "markdown",
   "metadata": {},
   "source": [
    "# Løsningsforslag Bertrand konkurranse og differensiering"
   ]
  },
  {
   "cell_type": "markdown",
   "metadata": {},
   "source": [
    "I denne oppgaven skal du anta at den «lineære byen» er ved Strandtorget hvor Kaffebønna er lokalisert i den ene enden av gata og Risø mat & kaffebar er lokalisert i den andre enden av gata.\n",
    "\n",
    "Anta at det er 30 000 kunder (N=30 000) som er jevnt fordelt langs lokaliseringsområdet til utsalgsstedene, og at hver kunde kjøper en kopp kaffe per dag. \n",
    "\n",
    "Kostnaden ved å produsere en kopp kaffe er NOK 5, og bedriftene har faste kostnader per utsalgssted på NOK 25 000.\n",
    "\n",
    "Transportkostnadene for kundene er på NOK 50. \n",
    "\n",
    "a) Bruk en Hotelling modell og vis hvordan disse to kaffebarene vil tilpasse seg i dette markedet. Hva er optimal pris på en kopp kaffe og hva blir profitten til Kaffebønna og Risø?"
   ]
  },
  {
   "cell_type": "code",
   "execution_count": null,
   "metadata": {},
   "outputs": [],
   "source": []
  }
 ],
 "metadata": {
  "kernelspec": {
   "display_name": "Python 3",
   "language": "python",
   "name": "python3"
  },
  "language_info": {
   "codemirror_mode": {
    "name": "ipython",
    "version": 3
   },
   "file_extension": ".py",
   "mimetype": "text/x-python",
   "name": "python",
   "nbconvert_exporter": "python",
   "pygments_lexer": "ipython3",
   "version": "3.11.1"
  }
 },
 "nbformat": 4,
 "nbformat_minor": 2
}