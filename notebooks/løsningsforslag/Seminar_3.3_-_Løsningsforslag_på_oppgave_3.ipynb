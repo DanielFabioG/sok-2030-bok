{
 "cells": [
  {
   "cell_type": "markdown",
   "metadata": {},
   "source": [
    "# Løsningsforslag Cournot modell\n",
    "\n",
    "I markedet for mikroøl har vi to bryggerier i Tromsø, Graff Brygghus og Bryggeri 13. I produksjon av øl velger bedriftene produksjonsvolum i god tid før produktene er på markedet. \n",
    "\n",
    "Etterspørselen imarkedet er gitt ved:\n",
    "\n",
    "$$\n",
    "P = 175 – 2Q\n",
    "$$\n",
    "\n",
    "hvor P er markedspris for mikroøl per flaske, Q er totalt kvantum (antall tusen flasker) og $Q = qG + qB$, der $qG$ er produsert kvantum for Graff Brygghus og $qB$ er produsert kvantum for Bryggeri 13. I produksjon av mikroøl vil Graff Brygghus og Bryggeri 13 ha konstante marginalkostnader på kr 10 per flaske, og begge bedriftene har årlige faste kostnader på kr 500 000.\n",
    "\n",
    "a) Hvor mye mikroøl vil det være optimalt for bryggeriene å produsere, og hva blir\n",
    "markedsprisen?\n"
   ]
  },
  {
   "cell_type": "code",
   "execution_count": 269,
   "metadata": {},
   "outputs": [],
   "source": [
    "import numpy as np\n",
    "import sympy as sp"
   ]
  },
  {
   "cell_type": "code",
   "execution_count": 270,
   "metadata": {},
   "outputs": [
    {
     "data": {
      "text/latex": [
       "$\\displaystyle q_{1} + q_{2} = \\frac{175}{2} - \\frac{P}{2}$"
      ],
      "text/plain": [
       "Eq(q_1 + q_2, 175/2 - P/2)"
      ]
     },
     "metadata": {},
     "output_type": "display_data"
    },
    {
     "data": {
      "text/latex": [
       "$\\displaystyle - 2 q_{1} - 2 q_{2} + 175$"
      ],
      "text/plain": [
       "-2*q_1 - 2*q_2 + 175"
      ]
     },
     "metadata": {},
     "output_type": "display_data"
    }
   ],
   "source": [
    "# Definerer symboler\n",
    "P,Q,q_1,q_2,a,b,c = sp.symbols('P Q q_1 q_2 a b c')\n",
    "\n",
    "# Q = q_1 + q_2\n",
    "Q = q_1 + q_2\n",
    "\n",
    "a = 175\n",
    "b = 2\n",
    "c = 10\n",
    "Faste_kostnader = 500\n",
    "\n",
    "# Definerer etterspørselsfunksjonen\n",
    "Etterspørsel = sp.Eq(Q, (a-P)/b)\n",
    "\n",
    "# Løser for P\n",
    "Invers_etterspørsel = sp.solve(Etterspørsel, P)\n",
    "\n",
    "# Viser løsningene\n",
    "display(Etterspørsel, Invers_etterspørsel[0])"
   ]
  },
  {
   "cell_type": "code",
   "execution_count": 271,
   "metadata": {},
   "outputs": [
    {
     "data": {
      "text/latex": [
       "$\\displaystyle q_{1} \\left(- 2 q_{1} - 2 q_{2} + 175\\right)$"
      ],
      "text/plain": [
       "q_1*(-2*q_1 - 2*q_2 + 175)"
      ]
     },
     "metadata": {},
     "output_type": "display_data"
    },
    {
     "data": {
      "text/latex": [
       "$\\displaystyle q_{2} \\left(- 2 q_{1} - 2 q_{2} + 175\\right)$"
      ],
      "text/plain": [
       "q_2*(-2*q_1 - 2*q_2 + 175)"
      ]
     },
     "metadata": {},
     "output_type": "display_data"
    }
   ],
   "source": [
    "# Multipliserer prisen med kvantumet for å finne totalinntekten\n",
    "Totalinntekt = Invers_etterspørsel[0]*q_1\n",
    "Totalinntekt2 = Invers_etterspørsel[0]*q_2\n",
    "\n",
    "# Viser totalinntekten\n",
    "display(Totalinntekt, Totalinntekt2)"
   ]
  },
  {
   "cell_type": "code",
   "execution_count": 272,
   "metadata": {},
   "outputs": [
    {
     "data": {
      "text/latex": [
       "$\\displaystyle - 4 q_{1} - 2 q_{2} + 175$"
      ],
      "text/plain": [
       "-4*q_1 - 2*q_2 + 175"
      ]
     },
     "metadata": {},
     "output_type": "display_data"
    },
    {
     "data": {
      "text/latex": [
       "$\\displaystyle - 2 q_{1} - 4 q_{2} + 175$"
      ],
      "text/plain": [
       "-2*q_1 - 4*q_2 + 175"
      ]
     },
     "metadata": {},
     "output_type": "display_data"
    }
   ],
   "source": [
    "# Deriverer totalinntekten for å finne marginalinntekten\n",
    "Marginalinntekt_q1 = sp.diff(Totalinntekt, q_1)\n",
    "Marginalinntekt_q2 = sp.diff(Totalinntekt2, q_2)\n",
    "\n",
    "# Viser marginalinntekten\n",
    "display(sp.simplify(Marginalinntekt_q1), sp.simplify(Marginalinntekt_q2))"
   ]
  },
  {
   "cell_type": "code",
   "execution_count": 273,
   "metadata": {},
   "outputs": [
    {
     "data": {
      "text/latex": [
       "$\\displaystyle - 4 q_{1} - 2 q_{2} + 175 = 10$"
      ],
      "text/plain": [
       "Eq(-4*q_1 - 2*q_2 + 175, 10)"
      ]
     },
     "metadata": {},
     "output_type": "display_data"
    },
    {
     "data": {
      "text/latex": [
       "$\\displaystyle - 2 q_{1} - 4 q_{2} + 175 = 10$"
      ],
      "text/plain": [
       "Eq(-2*q_1 - 4*q_2 + 175, 10)"
      ]
     },
     "metadata": {},
     "output_type": "display_data"
    }
   ],
   "source": [
    "# Setter marginalinntekten lik kostnaden\n",
    "likevekt_q1 = sp.Eq(Marginalinntekt_q1, c)\n",
    "likevekt_q2 = sp.Eq(Marginalinntekt_q2, c)\n",
    "\n",
    "display(likevekt_q1,(likevekt_q2))"
   ]
  },
  {
   "cell_type": "code",
   "execution_count": 274,
   "metadata": {},
   "outputs": [
    {
     "data": {
      "text/latex": [
       "$\\displaystyle \\frac{165}{4} - \\frac{q_{2}}{2}$"
      ],
      "text/plain": [
       "165/4 - q_2/2"
      ]
     },
     "execution_count": 274,
     "metadata": {},
     "output_type": "execute_result"
    }
   ],
   "source": [
    "# Løser for q1 for å finne reaksjonsfunksjon til bedrift 1, dette er utrykket som ovenfor bare ikke forenklet\n",
    "q1 = sp.solve(likevekt_q1, q_1)\n",
    "q1[0]"
   ]
  },
  {
   "cell_type": "code",
   "execution_count": 275,
   "metadata": {},
   "outputs": [
    {
     "data": {
      "text/latex": [
       "$\\displaystyle \\frac{165}{4} - \\frac{q_{1}}{2}$"
      ],
      "text/plain": [
       "165/4 - q_1/2"
      ]
     },
     "metadata": {},
     "output_type": "display_data"
    }
   ],
   "source": [
    "# Løser for q2 for å finne reaksjonsfunksjon til bedrift 2, uttrykket er det samme som ovenfor i markdown bare ikke forenklet\n",
    "q2 = sp.solve(likevekt_q2, q_2)\n",
    "\n",
    "display(q2[0])"
   ]
  },
  {
   "cell_type": "code",
   "execution_count": 276,
   "metadata": {},
   "outputs": [
    {
     "data": {
      "text/latex": [
       "$\\displaystyle q_{1} = \\frac{q_{1}}{4} + \\frac{165}{8}$"
      ],
      "text/plain": [
       "Eq(q_1, q_1/4 + 165/8)"
      ]
     },
     "execution_count": 276,
     "metadata": {},
     "output_type": "execute_result"
    }
   ],
   "source": [
    "# Setter uttrykk for q2 inn i q1 for å finne likevektskvantum\n",
    "likevekt_eq = sp.Eq(q_1, q1[0].subs(q_2, q2[0]))\n",
    "likevekt_eq"
   ]
  },
  {
   "cell_type": "code",
   "execution_count": 277,
   "metadata": {},
   "outputs": [
    {
     "data": {
      "text/latex": [
       "$\\displaystyle 27.5$"
      ],
      "text/plain": [
       "27.50"
      ]
     },
     "metadata": {},
     "output_type": "display_data"
    },
    {
     "data": {
      "text/latex": [
       "$\\displaystyle 27.5$"
      ],
      "text/plain": [
       "27.50"
      ]
     },
     "metadata": {},
     "output_type": "display_data"
    }
   ],
   "source": [
    "# Løser symmetrisk likevekt for q1 og q2\n",
    "optimal_q1 = sp.solve(likevekt_eq, q_1)[0]\n",
    "\n",
    "optimal_q2 = q2[0].subs(q_1, optimal_q1)\n",
    "\n",
    "\n",
    "display(round(optimal_q1,2), round(optimal_q2,2))"
   ]
  },
  {
   "cell_type": "code",
   "execution_count": 278,
   "metadata": {},
   "outputs": [
    {
     "data": {
      "text/latex": [
       "$\\displaystyle 65$"
      ],
      "text/plain": [
       "65"
      ]
     },
     "execution_count": 278,
     "metadata": {},
     "output_type": "execute_result"
    }
   ],
   "source": [
    "# Optimal Pris\n",
    "optimal_P = sp.simplify(Invers_etterspørsel[0].subs({q_1: optimal_q1, q_2: optimal_q2}))\n",
    "round(optimal_P,2)"
   ]
  },
  {
   "cell_type": "code",
   "execution_count": 279,
   "metadata": {},
   "outputs": [
    {
     "data": {
      "text/latex": [
       "$\\displaystyle 1012.5$"
      ],
      "text/plain": [
       "1012.50"
      ]
     },
     "execution_count": 279,
     "metadata": {},
     "output_type": "execute_result"
    }
   ],
   "source": [
    "# Profitt minus faste kostnader\n",
    "profitt = (optimal_P - c)*optimal_q1-Faste_kostnader\n",
    "round(profitt,2)"
   ]
  },
  {
   "cell_type": "markdown",
   "metadata": {},
   "source": [
    "Graff Brygghus vurderer å investere i en ny og effektiv tappelinje som vil gi dem reduserte marginalkostnader. Investeringen vil koste bedriften kr 100.000, og vil gi dem marginalkostnad på kr 7 per flaske.\n",
    "\n",
    "b) Vil du anbefale Graff Brygghus å gjennomføre denne investeringen?"
   ]
  },
  {
   "cell_type": "markdown",
   "metadata": {},
   "source": [
    "Ved å investere i ny tappelinje vil marginalkostnader for Graff Brygghus nå være på kr 7 per flaske og for Bryggeri 13 er den på kr 10 per flaske. Bedriftene tilpasser seg simultant, hvor vi finner reaksjonsfunksjonene til hver av bedriftene. "
   ]
  },
  {
   "cell_type": "code",
   "execution_count": 280,
   "metadata": {},
   "outputs": [
    {
     "data": {
      "text/latex": [
       "$\\displaystyle - 4 q_{1} - 2 q_{2} + 175 = 10$"
      ],
      "text/plain": [
       "Eq(-4*q_1 - 2*q_2 + 175, 10)"
      ]
     },
     "metadata": {},
     "output_type": "display_data"
    },
    {
     "data": {
      "text/latex": [
       "$\\displaystyle - 2 q_{1} - 4 q_{2} + 175 = 7$"
      ],
      "text/plain": [
       "Eq(-2*q_1 - 4*q_2 + 175, 7)"
      ]
     },
     "metadata": {},
     "output_type": "display_data"
    }
   ],
   "source": [
    "# Reaksjonsfunksjonen til bedrift 1 ved marginalkostnad c = 10\n",
    "likevekt_q1_ny = sp.Eq(Marginalinntekt_q1, c)\n",
    "\n",
    "# Reaksjonsfunksjonen til bedrift 2 ved marginalkostnad c = 7\n",
    "c_ny = 7\n",
    "likevekt_q2_ny = sp.Eq(Marginalinntekt_q2, c_ny)\n",
    "\n",
    "display(likevekt_q1_ny, likevekt_q2_ny)"
   ]
  },
  {
   "cell_type": "code",
   "execution_count": 281,
   "metadata": {},
   "outputs": [
    {
     "data": {
      "text/latex": [
       "$\\displaystyle \\frac{165}{4} - \\frac{q_{2}}{2}$"
      ],
      "text/plain": [
       "165/4 - q_2/2"
      ]
     },
     "execution_count": 281,
     "metadata": {},
     "output_type": "execute_result"
    }
   ],
   "source": [
    "# Løser for q1 for å finne reaksjonsfunksjon til bedrift 1, dette er utrykket som ovenfor bare ikke forenklet\n",
    "q1 = sp.solve(likevekt_q1_ny, q_1)\n",
    "q1[0]"
   ]
  },
  {
   "cell_type": "code",
   "execution_count": 282,
   "metadata": {},
   "outputs": [
    {
     "data": {
      "text/latex": [
       "$\\displaystyle 42 - \\frac{q_{1}}{2}$"
      ],
      "text/plain": [
       "42 - q_1/2"
      ]
     },
     "metadata": {},
     "output_type": "display_data"
    }
   ],
   "source": [
    "# Løser for q2 for å finne reaksjonsfunksjon til bedrift 2, uttrykket er det samme som ovenfor i markdown bare ikke forenklet\n",
    "q2 = sp.solve(likevekt_q2_ny, q_2)\n",
    "\n",
    "display(q2[0])"
   ]
  },
  {
   "cell_type": "code",
   "execution_count": 283,
   "metadata": {},
   "outputs": [
    {
     "data": {
      "text/latex": [
       "$\\displaystyle q_{1} = \\frac{q_{1}}{4} + \\frac{81}{4}$"
      ],
      "text/plain": [
       "Eq(q_1, q_1/4 + 81/4)"
      ]
     },
     "execution_count": 283,
     "metadata": {},
     "output_type": "execute_result"
    }
   ],
   "source": [
    "# Setter uttrykk for q2 inn i q1 for å finne likevektskvantum\n",
    "likevekt_eq = sp.Eq(q_1, q1[0].subs(q_2, q2[0]))\n",
    "likevekt_eq"
   ]
  },
  {
   "cell_type": "code",
   "execution_count": 284,
   "metadata": {},
   "outputs": [
    {
     "data": {
      "text/latex": [
       "$\\displaystyle 27$"
      ],
      "text/plain": [
       "27"
      ]
     },
     "metadata": {},
     "output_type": "display_data"
    },
    {
     "data": {
      "text/latex": [
       "$\\displaystyle 28.5$"
      ],
      "text/plain": [
       "28.50"
      ]
     },
     "metadata": {},
     "output_type": "display_data"
    }
   ],
   "source": [
    "# Løser symmetrisk likevekt for q1 og q2\n",
    "optimal_q1 = sp.solve(likevekt_eq, q_1)[0]\n",
    "\n",
    "optimal_q2 = q2[0].subs(q_1, optimal_q1)\n",
    "\n",
    "\n",
    "display(round(optimal_q1,2), round(optimal_q2,2))"
   ]
  },
  {
   "cell_type": "code",
   "execution_count": 285,
   "metadata": {},
   "outputs": [
    {
     "data": {
      "text/latex": [
       "$\\displaystyle 64$"
      ],
      "text/plain": [
       "64"
      ]
     },
     "execution_count": 285,
     "metadata": {},
     "output_type": "execute_result"
    }
   ],
   "source": [
    "# Optimal Pris\n",
    "optimal_P = sp.simplify(Invers_etterspørsel[0].subs({q_1: optimal_q1, q_2: optimal_q2}))\n",
    "round(optimal_P,2)"
   ]
  },
  {
   "cell_type": "code",
   "execution_count": 286,
   "metadata": {},
   "outputs": [
    {
     "data": {
      "text/latex": [
       "$\\displaystyle 1012.5$"
      ],
      "text/plain": [
       "1012.50"
      ]
     },
     "metadata": {},
     "output_type": "display_data"
    },
    {
     "data": {
      "text/latex": [
       "$\\displaystyle 1124$"
      ],
      "text/plain": [
       "1124"
      ]
     },
     "metadata": {},
     "output_type": "display_data"
    }
   ],
   "source": [
    "# Profitt minus faste kostnader for ny marginalkostnad\n",
    "profitt_ny = (optimal_P - c_ny)*optimal_q2-Faste_kostnader\n",
    "\n",
    "# Viser gammel profitt før endring i marginalkostnad og ny profitt etter endring i marginalkostnad\n",
    "display(round(profitt,2), round(profitt_ny))"
   ]
  },
  {
   "cell_type": "code",
   "execution_count": 287,
   "metadata": {},
   "outputs": [
    {
     "data": {
      "text/latex": [
       "$\\displaystyle 112$"
      ],
      "text/plain": [
       "112"
      ]
     },
     "metadata": {},
     "output_type": "display_data"
    },
    {
     "data": {
      "text/latex": [
       "$\\displaystyle 12$"
      ],
      "text/plain": [
       "12"
      ]
     },
     "metadata": {},
     "output_type": "display_data"
    }
   ],
   "source": [
    "# Trekker fra gammel profitt fra ny profitt for å finne endring i profitt\n",
    "endring_i_profitt = profitt_ny - profitt\n",
    "\n",
    "inv_kostander = 100\n",
    "\n",
    "# Trekker fra investeringskostnader på 100\n",
    "display(round(endring_i_profitt,2),round(endring_i_profitt-inv_kostander,2))"
   ]
  },
  {
   "cell_type": "markdown",
   "metadata": {},
   "source": [
    "Ja jeg ville anbefalt Graff Brygghus å gjennomføre investeringen. Dette fordi de vil kunne produsere mer øl til en lavere kostnad, og de øker dermed sin profitt selv om de har en investeringskostnad på 100.000 kr."
   ]
  }
 ],
 "metadata": {
  "kernelspec": {
   "display_name": "Python 3",
   "language": "python",
   "name": "python3"
  },
  "language_info": {
   "codemirror_mode": {
    "name": "ipython",
    "version": 3
   },
   "file_extension": ".py",
   "mimetype": "text/x-python",
   "name": "python",
   "nbconvert_exporter": "python",
   "pygments_lexer": "ipython3",
   "version": "3.11.1"
  }
 },
 "nbformat": 4,
 "nbformat_minor": 2
}
