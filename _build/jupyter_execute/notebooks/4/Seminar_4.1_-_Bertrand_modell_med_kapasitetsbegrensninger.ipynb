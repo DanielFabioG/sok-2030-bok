{
 "cells": [
  {
   "cell_type": "markdown",
   "metadata": {},
   "source": [
    "# Seminar 4.1: Bertrand modell med kapasitetsbegrensninger"
   ]
  },
  {
   "cell_type": "code",
   "execution_count": 1,
   "metadata": {},
   "outputs": [],
   "source": [
    "import sympy as sp\n",
    "import numpy as np\n",
    "import matplotlib.pyplot as plt"
   ]
  },
  {
   "cell_type": "markdown",
   "metadata": {},
   "source": [
    "## Bertrand modell med kapasitetsbegrensninger\n",
    "\n",
    "I dette seminaret skal vi se på en variant av Bertrand-modellen hvor vi har kapasitetsbegrensninger. Vi skal se på en modell hvor to bedrifter konkurrerer om å selge et homogent produkt hvor de har en kapasitetsbegrensning på hvor mye de kan produsere. Markedet vi bruker som eksempel er Tromsø Alpinpark og Målselv Fjellandsby.\n",
    "\n",
    "Vi antar vi har en etterspørsel gitt ved:\n",
    "\n",
    "$$\n",
    "Q = 6000 - 60P\n",
    "$$\n",
    "\n",
    "Hvor $Q$ er mengden solgt og $P$ er prisen. Vi antar at bedriftene har en konstant marginalkostnad på 10 og at de har en kapasitetsbegrensning på 1800 for hvert anlegg. Dette betyr at de maksimalt kan produsere 1800 \"enheter\". Og dersom de produserer mer enn dette vil de få en ekstra kostnad på 10 per enhet over 1800. Videre antar vi også at $P$ er lik $c$ for begge bedriftene, dvs at prisen er lik marginalkostnaden, og at vi har en Nash-likevekt."
   ]
  },
  {
   "cell_type": "code",
   "execution_count": 2,
   "metadata": {},
   "outputs": [
    {
     "data": {
      "text/latex": [
       "$\\displaystyle Q = 6000 - 60 P$"
      ],
      "text/plain": [
       "Eq(Q, 6000 - 60*P)"
      ]
     },
     "metadata": {},
     "output_type": "display_data"
    }
   ],
   "source": [
    "# Definerer symboler\n",
    "Q_T,Q_M, P_T,P_M,Q,P = sp.symbols('Q_T Q_T_ P_T P_M Q P', real=True, positive=True)\n",
    "\n",
    "# Definerer etterspørselfunksjonen\n",
    "\n",
    "Etterspørsel = sp.Eq(Q, 6000-60*P)\n",
    "\n",
    "display(Etterspørsel)"
   ]
  },
  {
   "cell_type": "markdown",
   "metadata": {},
   "source": [
    "Siden vi vet at prisen er lik marginalkostnaden kan vi sette $P = MC = 10$ og løse for mengden som produseres av hver bedrift. Da får vi:\n",
    "\n",
    "$$\n",
    "Q = 6000 - 60 \\cdot 10 = 5400\n",
    "$$\n",
    "\n",
    "Optimalt kvantum er langt over kapasitetsbegrensningen, som er på $2 \\cdot 1800 = 3600$, og optimal pris vil være høyere enn 10. Dette betyr at vi må finne en annen måte å løse problemet på."
   ]
  },
  {
   "cell_type": "code",
   "execution_count": 3,
   "metadata": {},
   "outputs": [
    {
     "data": {
      "text/latex": [
       "$\\displaystyle Q = 5400$"
      ],
      "text/plain": [
       "Eq(Q, 5400)"
      ]
     },
     "execution_count": 3,
     "metadata": {},
     "output_type": "execute_result"
    }
   ],
   "source": [
    "c = 10\n",
    "\n",
    "# Substituerer inn MC i etterspørselsfunksjonen\n",
    "P_løsning_uten_kapasitetsbegrensing = Etterspørsel.subs(P,c)\n",
    "\n",
    "P_løsning_uten_kapasitetsbegrensing"
   ]
  },
  {
   "cell_type": "markdown",
   "metadata": {},
   "source": [
    "## Residual etterspørsel\n",
    "\n",
    "Før vi kan løse modellen må vi finne residual etterspørsel. Residual etterspørsel er etterspørselen etter et produkt gitt at prisen på produktet er lik prisen til en av konkurrentene. For å finne residual etterspørsel trekker vi fra etterspørselen til konkurrenten fra total etterspørsel. For Tromsø Alpinpark blir residual etterspørsel:\n",
    "\n",
    "$$\n",
    "Q_{T} = (6000 - Q_{M}) - 60P_{T} \n",
    "$$\n",
    "\n",
    "$$\n",
    "Q_{T} = 6000 - 1800 - 60P_{T}\n",
    "$$\n",
    "\n",
    "$$\n",
    "Q_{T} = 4200 - 60P_{T}\n",
    "$$\n",
    "\n",
    "Vi har nå funnet residual etterspørsel for Tromsø Alpinpark. Hvis vi nå løser for pris får vi:\n",
    "\n",
    "$$\n",
    "P_{T} = \\frac{4200 - Q_{T}}{60}\n",
    "$$\n",
    "\n",
    "$$\n",
    "P_{T} = 70 - \\frac{Q_{T}}{60}\n",
    "$$\n",
    "\n",
    "Nå kan vi gjøre som vi pleier, vi har funnet prisen men må finne total inntekten. Total inntekt er lik pris ganget med kvantum, altså:\n",
    "\n",
    "$$\n",
    "TR_{T} = 70 - \\frac{Q_{T}}{60} \\cdot Q_{T} = 70Q_{T} - \\frac{Q_{T}^2}{60}\n",
    "$$\n",
    "\n",
    "For å finne marginalinntekten deriverer vi total inntekt med hensyn på kvantum:\n",
    "\n",
    "$$\n",
    "MR_{T} = \\frac{dTR_{T}}{dQ_{T}} = 70 - \\frac{2Q_{T}}{60}\n",
    "$$\n",
    "\n",
    "\n",
    "Setter vi marginalinntekten lik marginalkostnaden får vi:\n",
    "\n",
    "$$\n",
    "70 - \\frac{2Q_{T}}{60} = 10\n",
    "$$\n",
    "\n",
    "Løser for $Q$ og optimalt kvantum blir:\n",
    "\n",
    "$$\n",
    "Q_{T}^* = 1800\n",
    "$$\n",
    "\n",
    "Løser for $P$ og optimal pris blir:\n",
    "\n",
    "$$\n",
    "P_{T}^* = 40\n",
    "$$"
   ]
  },
  {
   "cell_type": "code",
   "execution_count": 4,
   "metadata": {},
   "outputs": [
    {
     "data": {
      "text/latex": [
       "$\\displaystyle Q_{T} = - 60 P_{T} - Q_{T } + 6000$"
      ],
      "text/plain": [
       "Eq(Q_T, -60*P_T - Q_T_ + 6000)"
      ]
     },
     "execution_count": 4,
     "metadata": {},
     "output_type": "execute_result"
    }
   ],
   "source": [
    "# Definerer etterspørselsfunksjonen med kapasitetsbegrensing\n",
    "Etterspørsel_med_kapasitetsbegrensing = sp.Eq(Q_T, (6000-Q_M)-60*P_T)\n",
    "\n",
    "Etterspørsel_med_kapasitetsbegrensing"
   ]
  },
  {
   "cell_type": "code",
   "execution_count": 5,
   "metadata": {},
   "outputs": [
    {
     "data": {
      "text/latex": [
       "$\\displaystyle Q_{T} = 4200 - 60 P_{T}$"
      ],
      "text/plain": [
       "Eq(Q_T, 4200 - 60*P_T)"
      ]
     },
     "execution_count": 5,
     "metadata": {},
     "output_type": "execute_result"
    }
   ],
   "source": [
    "# Substituerer inn kapaistetsbegrensing i etterspørselsfunksjonen\n",
    "Q_løsning_med_kapasitetsbegrensing = Etterspørsel_med_kapasitetsbegrensing.subs(Q_M,1800)\n",
    "\n",
    "Q_løsning_med_kapasitetsbegrensing"
   ]
  },
  {
   "cell_type": "code",
   "execution_count": 6,
   "metadata": {},
   "outputs": [
    {
     "data": {
      "text/latex": [
       "$\\displaystyle 70 - \\frac{Q_{T}}{60}$"
      ],
      "text/plain": [
       "70 - Q_T/60"
      ]
     },
     "metadata": {},
     "output_type": "display_data"
    }
   ],
   "source": [
    "# Løser for prisen\n",
    "P_løsning_med_kapasitetsbegrensing = sp.solve(Q_løsning_med_kapasitetsbegrensing,P_T)[0]\n",
    "\n",
    "display(P_løsning_med_kapasitetsbegrensing)"
   ]
  },
  {
   "cell_type": "code",
   "execution_count": 7,
   "metadata": {},
   "outputs": [
    {
     "data": {
      "text/latex": [
       "$\\displaystyle Q_{T} \\left(70 - \\frac{Q_{T}}{60}\\right)$"
      ],
      "text/plain": [
       "Q_T*(70 - Q_T/60)"
      ]
     },
     "execution_count": 7,
     "metadata": {},
     "output_type": "execute_result"
    }
   ],
   "source": [
    "# Finner total inntekt\n",
    "TR = P_løsning_med_kapasitetsbegrensing*Q_T\n",
    "TR"
   ]
  },
  {
   "cell_type": "code",
   "execution_count": 8,
   "metadata": {},
   "outputs": [
    {
     "data": {
      "text/latex": [
       "$\\displaystyle 70 - \\frac{Q_{T}}{30}$"
      ],
      "text/plain": [
       "70 - Q_T/30"
      ]
     },
     "execution_count": 8,
     "metadata": {},
     "output_type": "execute_result"
    }
   ],
   "source": [
    "# Deriverer total inntekt for å finne marginal inntekt\n",
    "MR = TR.diff(Q_T)\n",
    "MR"
   ]
  },
  {
   "cell_type": "code",
   "execution_count": 9,
   "metadata": {},
   "outputs": [
    {
     "data": {
      "text/latex": [
       "$\\displaystyle 70 - \\frac{Q_{T}}{30} = 10$"
      ],
      "text/plain": [
       "Eq(70 - Q_T/30, 10)"
      ]
     },
     "execution_count": 9,
     "metadata": {},
     "output_type": "execute_result"
    }
   ],
   "source": [
    "# Setter marginalinntekt lik marginalkostnad, marginalkostnad er lik prisen = 10\n",
    "likevekt_T = sp.Eq(MR,c)\n",
    "\n",
    "likevekt_T"
   ]
  },
  {
   "cell_type": "code",
   "execution_count": 10,
   "metadata": {},
   "outputs": [
    {
     "data": {
      "text/latex": [
       "$\\displaystyle 1800$"
      ],
      "text/plain": [
       "1800"
      ]
     },
     "execution_count": 10,
     "metadata": {},
     "output_type": "execute_result"
    }
   ],
   "source": [
    "# Løser for kvantum\n",
    "Q_løsning_med_kapasitetsbegrensing = sp.solve(likevekt_T,Q_T)[0]\n",
    "\n",
    "Q_løsning_med_kapasitetsbegrensing"
   ]
  },
  {
   "cell_type": "code",
   "execution_count": 11,
   "metadata": {},
   "outputs": [
    {
     "data": {
      "text/latex": [
       "$\\displaystyle 40$"
      ],
      "text/plain": [
       "40"
      ]
     },
     "execution_count": 11,
     "metadata": {},
     "output_type": "execute_result"
    }
   ],
   "source": [
    "# Løser for optimal pris\n",
    "P_løsning_med_kapasitetsbegrensing = P_løsning_med_kapasitetsbegrensing.subs(Q_T,Q_løsning_med_kapasitetsbegrensing)\n",
    "\n",
    "P_løsning_med_kapasitetsbegrensing"
   ]
  },
  {
   "cell_type": "markdown",
   "metadata": {},
   "source": [
    "## Visualisering av modellen"
   ]
  },
  {
   "cell_type": "code",
   "execution_count": 12,
   "metadata": {},
   "outputs": [
    {
     "data": {
      "image/png": "[encoded data removed]",
      "text/plain": [
       "<Figure size 800x500 with 1 Axes>"
      ]
     },
     "metadata": {},
     "output_type": "display_data"
    }
   ],
   "source": [
    "# Invers etterspørsel har vi regnet ut tidligere\n",
    "def invers_etterspørsel(a, b, Q):\n",
    "    return a - (Q/b)\n",
    "# Marginalinntekt er den deriverte av totalinntekten\n",
    "def MR(a, b, Q):\n",
    "    return a - 2*(Q/b)\n",
    "\n",
    "MC = 10\n",
    "#Q-verdier\n",
    "Q = np.linspace(0.001, 1800, 1000)\n",
    "\n",
    "#funksjon for å skape akse\n",
    "def create_ax():\n",
    "                fig, ax = plt.subplots(figsize=(8, 5))\n",
    "                ax.set_ylabel('Pris (P)', loc='top', rotation=90)\n",
    "                ax.set_xlabel('Mengde (Q)', loc='right')\n",
    "                ax.spines['top'].set_color('none')\n",
    "                ax.spines['right'].set_color('none')\n",
    "                return fig, ax\n",
    "            \n",
    "fig, ax = create_ax()\n",
    "ax.plot(Q, invers_etterspørsel(70, 60, Q), label='Etterspørsel')\n",
    "# Plotter marginalkostnaden\n",
    "ax.axhline(y=10, color='r', label='MC')\n",
    "# Plotter marginalinntekt\n",
    "ax.plot(Q, MR(70, 60, Q), label='MR')\n",
    "\n",
    "ax.set(xlim=(0, 2000))\n",
    "ax.set(ylim=(0, 80))\n",
    "\n",
    "# h og vlines til likevekt\n",
    "ax.vlines(x=Q_løsning_med_kapasitetsbegrensing, ymin=0, ymax=P_løsning_med_kapasitetsbegrensing, color='g', linestyle='--')\n",
    "ax.hlines(y=P_løsning_med_kapasitetsbegrensing, xmin=0, xmax=Q_løsning_med_kapasitetsbegrensing, color='g', linestyle='--')\n",
    "\n",
    "# fix x-ticks\n",
    "ax.set_xticks(np.arange(0, 2200, 200))\n",
    "\n",
    "ax.legend();\n"
   ]
  }
 ],
 "metadata": {
  "kernelspec": {
   "display_name": "Python 3",
   "language": "python",
   "name": "python3"
  },
  "language_info": {
   "codemirror_mode": {
    "name": "ipython",
    "version": 3
   },
   "file_extension": ".py",
   "mimetype": "text/x-python",
   "name": "python",
   "nbconvert_exporter": "python",
   "pygments_lexer": "ipython3",
   "version": "3.11.1"
  }
 },
 "nbformat": 4,
 "nbformat_minor": 2
}