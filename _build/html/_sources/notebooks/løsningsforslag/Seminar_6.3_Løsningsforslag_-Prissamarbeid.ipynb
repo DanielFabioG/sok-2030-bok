{
 "cells": [
  {
   "cell_type": "markdown",
   "metadata": {},
   "source": [
    "# Løsningsforslag prissamarbeid\n",
    "\n",
    "Vi skal her se på caset med bryggeriene Graff Brygghus og Bryggeri 13, og se om det vil lønne seg for disse å inngå et samarbeid.\n",
    "\n",
    "Informasjon om markedet:\n",
    "\n",
    "I markedet for mikroøl har vi to bryggerier i Tromsø, Graff Brygghus og Bryggeri 13. I produksjon av øl velger bedriftene produksjonsvolum i god tid før produktene er på markedet. \n",
    "\n",
    "Etterspørselen i markedet er gitt ved:\n",
    "\n",
    "$$\n",
    "P = 175 – 2Q\n",
    "$$\n",
    "\n",
    "hvor $P$ er markedspris for mikroøl per flaske, $Q$ er totalt kvantum (antall tusen flasker) og $Q = q_G + q_B$, der $q_G$ er produsert kvantum for Graff Brygghus og qB er produsert kvantum for Bryggeri 13. I produksjon av mikroøl vil Graff Brygghus og Bryggeri 13 ha konstante marginalkostnader på kr 10 perflaske, og begge bedriftene har årlige faste kostnader på kr 500 000.\n",
    "\n",
    "Ved Cournot konkurranse i dette markedet vil optimal produksjon for hvert av bryggeriene være på 27 500 flasker, til en pris på kr 65 per flaske. Dette vil gi bedriftene en profitt på 1 012 500.\n",
    "\n",
    "Anta at bryggeriene blir enige om å koordinere sin adferd. De avtaler å sette monopolpris og å dele markedet likt mellom seg. Videre avtaler de at hvis en av dem i en periode avviker fra denne avtalen, vil de begge i alle framtidige perioder opptre som konkurrenter."
   ]
  },
  {
   "cell_type": "markdown",
   "metadata": {},
   "source": [
    "a) Hva vil total produksjon av øl være hvis bryggeriene velger samarbeid og hvor mye vil bryggeriene tjene på dette?"
   ]
  },
  {
   "cell_type": "code",
   "execution_count": null,
   "metadata": {},
   "outputs": [],
   "source": [
    "# Skriv svar her"
   ]
  },
  {
   "cell_type": "markdown",
   "metadata": {},
   "source": [
    "b) Hvor mye vil Graff Brygghus tjene på å avvike fra samarbeidsavtalen med Bryggeri 13 i en periode?"
   ]
  },
  {
   "cell_type": "code",
   "execution_count": null,
   "metadata": {},
   "outputs": [],
   "source": [
    "# Skriv svar her"
   ]
  },
  {
   "cell_type": "markdown",
   "metadata": {},
   "source": [
    "c) Hvor stor må diskonteringsfaktoren være for at bryggeriene skal ha incentiver til å opprettholde samarbeidsavtalen over tid?"
   ]
  },
  {
   "cell_type": "code",
   "execution_count": null,
   "metadata": {},
   "outputs": [],
   "source": [
    "# Skriv svar her"
   ]
  }
 ],
 "metadata": {
  "kernelspec": {
   "display_name": "Python 3",
   "language": "python",
   "name": "python3"
  },
  "language_info": {
   "name": "python",
   "version": "3.11.1"
  }
 },
 "nbformat": 4,
 "nbformat_minor": 2
}
