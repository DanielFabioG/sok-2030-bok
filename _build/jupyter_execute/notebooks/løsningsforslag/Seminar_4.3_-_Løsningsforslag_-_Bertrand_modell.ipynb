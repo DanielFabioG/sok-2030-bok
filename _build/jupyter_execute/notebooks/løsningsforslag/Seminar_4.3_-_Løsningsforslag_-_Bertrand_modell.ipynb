{
 "cells": [
  {
   "cell_type": "markdown",
   "metadata": {},
   "source": [
    "# Løsningsforslag Bertrand konkurranse og differensiering"
   ]
  },
  {
   "cell_type": "markdown",
   "metadata": {},
   "source": [
    "I denne oppgaven skal du anta at den «lineære byen» er ved Strandtorget hvor Kaffebønna er lokalisert i den ene enden av gata og Risø mat & kaffebar er lokalisert i den andre enden av gata.\n",
    "\n",
    "Anta at det er 30 000 kunder (N=30 000) som er jevnt fordelt langs lokaliseringsområdet til utsalgsstedene, og at hver kunde kjøper en kopp kaffe per dag. \n",
    "\n",
    "Kostnaden ved å produsere en kopp kaffe er NOK 5, og bedriftene har faste kostnader per utsalgssted på NOK 25 000.\n",
    "\n",
    "Transportkostnadene for kundene er på NOK 50. \n",
    "\n",
    "a) Bruk en Hotelling modell og vis hvordan disse to kaffebarene vil tilpasse seg i dette markedet. Hva er optimal pris på en kopp kaffe og hva blir profitten til Kaffebønna og Risø?"
   ]
  },
  {
   "cell_type": "code",
   "execution_count": 1,
   "metadata": {},
   "outputs": [],
   "source": [
    "import sympy as sp\n",
    "import numpy as np"
   ]
  },
  {
   "cell_type": "code",
   "execution_count": 2,
   "metadata": {},
   "outputs": [
    {
     "data": {
      "text/latex": [
       "$\\displaystyle - P_{1} + V - 50 X_{m} = - P_{2} + V + 50 X_{m} - 50$"
      ],
      "text/plain": [
       "Eq(-P_1 + V - 50*X_m, -P_2 + V + 50*X_m - 50)"
      ]
     },
     "metadata": {},
     "output_type": "display_data"
    },
    {
     "data": {
      "text/latex": [
       "$\\displaystyle - P_{2} + V - 50 X_{m} = - P_{1} + V + 50 X_{m} - 50$"
      ],
      "text/plain": [
       "Eq(-P_2 + V - 50*X_m, -P_1 + V + 50*X_m - 50)"
      ]
     },
     "metadata": {},
     "output_type": "display_data"
    }
   ],
   "source": [
    "# Definerer symbol\n",
    "V,c, t, N, P_1,P_2,Q_1,Q_2,X_m = sp.symbols('V c t N P_1 P_2 Q_1 Q_2 X_m')\n",
    "\n",
    "# Verdier for parametre\n",
    "c = 5\n",
    "t = 50\n",
    "N = 30000\n",
    "\n",
    "# Definerer likevektsbetingelser for bedrift 1\n",
    "eq_1 = sp.Eq(V-P_1-t*X_m, V-P_2-t*(1-X_m))\n",
    "\n",
    "# Definerer likevektsbetingelser for bedrift 2\n",
    "eq_2 = sp.Eq(V-P_2-t*X_m, V-P_1-t*(1-X_m))\n",
    "\n",
    "display(eq_1, eq_2)"
   ]
  },
  {
   "cell_type": "code",
   "execution_count": 3,
   "metadata": {},
   "outputs": [
    {
     "data": {
      "text/latex": [
       "$\\displaystyle - \\frac{P_{1}}{100} + \\frac{P_{2}}{100} + \\frac{1}{2}$"
      ],
      "text/plain": [
       "-P_1/100 + P_2/100 + 1/2"
      ]
     },
     "metadata": {},
     "output_type": "display_data"
    },
    {
     "data": {
      "text/latex": [
       "$\\displaystyle \\frac{P_{1}}{100} - \\frac{P_{2}}{100} + \\frac{1}{2}$"
      ],
      "text/plain": [
       "P_1/100 - P_2/100 + 1/2"
      ]
     },
     "metadata": {},
     "output_type": "display_data"
    }
   ],
   "source": [
    "\n",
    "# Løser for X_m for bedrift 1 og 2\n",
    "X_m_1 = sp.solve(eq_1, X_m)[0]\n",
    "X_m_2 = sp.solve(eq_2, X_m)[0]\n",
    "\n",
    "display(X_m_1, X_m_2)"
   ]
  },
  {
   "cell_type": "code",
   "execution_count": 4,
   "metadata": {},
   "outputs": [
    {
     "data": {
      "text/latex": [
       "$\\displaystyle - 300 P_{1} + 300 P_{2} + 15000$"
      ],
      "text/plain": [
       "-300*P_1 + 300*P_2 + 15000"
      ]
     },
     "metadata": {},
     "output_type": "display_data"
    },
    {
     "data": {
      "text/latex": [
       "$\\displaystyle 300 P_{1} - 300 P_{2} + 15000$"
      ],
      "text/plain": [
       "300*P_1 - 300*P_2 + 15000"
      ]
     },
     "metadata": {},
     "output_type": "display_data"
    }
   ],
   "source": [
    "# Etterspørsel for bedrift 1\n",
    "Etterspørsel_B1 = X_m_1*N\n",
    "\n",
    "# Etterspørsel for bedrift 2\n",
    "Etterspørsel_B2 = X_m_2*N\n",
    "\n",
    "display(Etterspørsel_B1, Etterspørsel_B2)"
   ]
  },
  {
   "cell_type": "code",
   "execution_count": 5,
   "metadata": {},
   "outputs": [
    {
     "data": {
      "text/latex": [
       "$\\displaystyle \\left(P_{1} - 5\\right) \\left(- 300 P_{1} + 300 P_{2} + 15000\\right)$"
      ],
      "text/plain": [
       "(P_1 - 5)*(-300*P_1 + 300*P_2 + 15000)"
      ]
     },
     "metadata": {},
     "output_type": "display_data"
    },
    {
     "data": {
      "text/latex": [
       "$\\displaystyle \\left(P_{2} - 5\\right) \\left(300 P_{1} - 300 P_{2} + 15000\\right)$"
      ],
      "text/plain": [
       "(P_2 - 5)*(300*P_1 - 300*P_2 + 15000)"
      ]
     },
     "metadata": {},
     "output_type": "display_data"
    }
   ],
   "source": [
    "# Profitt for bedrift 1\n",
    "Profitt_B1 = (P_1-c)*Etterspørsel_B1\n",
    "\n",
    "# Profitt for bedrift 2\n",
    "Profitt_B2 = (P_2-c)*Etterspørsel_B2\n",
    "\n",
    "display(Profitt_B1, Profitt_B2)"
   ]
  },
  {
   "cell_type": "code",
   "execution_count": 6,
   "metadata": {},
   "outputs": [
    {
     "data": {
      "text/latex": [
       "$\\displaystyle - 600 P_{1} + 300 P_{2} + 16500$"
      ],
      "text/plain": [
       "-600*P_1 + 300*P_2 + 16500"
      ]
     },
     "metadata": {},
     "output_type": "display_data"
    },
    {
     "data": {
      "text/latex": [
       "$\\displaystyle 300 P_{1} - 600 P_{2} + 16500$"
      ],
      "text/plain": [
       "300*P_1 - 600*P_2 + 16500"
      ]
     },
     "metadata": {},
     "output_type": "display_data"
    }
   ],
   "source": [
    "# Finner optimal profitt for bedrift 1\n",
    "Optimal_Profitt_B1 = sp.diff(Profitt_B1, P_1)\n",
    "\n",
    "# Finner optimal profitt for bedrift 2\n",
    "Optimal_Profitt_B2 = sp.diff(Profitt_B2, P_2)\n",
    "\n",
    "display(Optimal_Profitt_B1, Optimal_Profitt_B2)"
   ]
  },
  {
   "cell_type": "code",
   "execution_count": 7,
   "metadata": {},
   "outputs": [
    {
     "data": {
      "text/latex": [
       "$\\displaystyle 55$"
      ],
      "text/plain": [
       "55"
      ]
     },
     "metadata": {},
     "output_type": "display_data"
    },
    {
     "data": {
      "text/latex": [
       "$\\displaystyle 55$"
      ],
      "text/plain": [
       "55"
      ]
     },
     "metadata": {},
     "output_type": "display_data"
    }
   ],
   "source": [
    "# Optimal pris for bedrift 1 og 2\n",
    "sol = sp.solve([Optimal_Profitt_B1,Optimal_Profitt_B2], [P_1, P_2])\n",
    "\n",
    "display(sol[P_1], sol[P_2])"
   ]
  },
  {
   "cell_type": "code",
   "execution_count": 8,
   "metadata": {},
   "outputs": [
    {
     "data": {
      "text/latex": [
       "$\\displaystyle 750000$"
      ],
      "text/plain": [
       "750000"
      ]
     },
     "metadata": {},
     "output_type": "display_data"
    },
    {
     "data": {
      "text/latex": [
       "$\\displaystyle 750000$"
      ],
      "text/plain": [
       "750000"
      ]
     },
     "metadata": {},
     "output_type": "display_data"
    }
   ],
   "source": [
    "# Finner profitt for bedrift 1 og 2\n",
    "display(Profitt_B1.subs(sol), Profitt_B2.subs(sol))\n"
   ]
  }
 ],
 "metadata": {
  "kernelspec": {
   "display_name": "Python 3",
   "language": "python",
   "name": "python3"
  },
  "language_info": {
   "codemirror_mode": {
    "name": "ipython",
    "version": 3
   },
   "file_extension": ".py",
   "mimetype": "text/x-python",
   "name": "python",
   "nbconvert_exporter": "python",
   "pygments_lexer": "ipython3",
   "version": "3.11.1"
  }
 },
 "nbformat": 4,
 "nbformat_minor": 2
}