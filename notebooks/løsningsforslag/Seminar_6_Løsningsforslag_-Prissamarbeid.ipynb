{
 "cells": [
  {
   "cell_type": "markdown",
   "metadata": {},
   "source": [
    "# Løsningsforslag - prissamarbeid\n",
    "\n",
    "Vi skal her se på caset med bryggeriene Graff Brygghus og Bryggeri 13, og se om det vil lønne seg for disse å inngå et samarbeid.\n",
    "\n",
    "Informasjon om markedet:\n",
    "\n",
    "I markedet for mikroøl har vi to bryggerier i Tromsø, Graff Brygghus og Bryggeri 13. I produksjon av øl velger bedriftene produksjonsvolum i god tid før produktene er på markedet. \n",
    "\n",
    "Etterspørselen i markedet er gitt ved:\n",
    "\n",
    "$$\n",
    "P = 175 – 2Q\n",
    "$$\n",
    "\n",
    "hvor $P$ er markedspris for mikroøl per flaske, $Q$ er totalt kvantum (antall tusen flasker) og $Q = q_G + q_B$, der $q_G$ er produsert kvantum for Graff Brygghus og qB er produsert kvantum for Bryggeri 13. I produksjon av mikroøl vil Graff Brygghus og Bryggeri 13 ha konstante marginalkostnader på kr 10 perflaske, og begge bedriftene har årlige faste kostnader på kr 500 000.\n",
    "\n",
    "Ved Cournot konkurranse i dette markedet vil optimal produksjon for hvert av bryggeriene være på 27 500 flasker, til en pris på kr 65 per flaske. Dette vil gi bedriftene en profitt på 1 012 500.\n",
    "\n",
    "Anta at bryggeriene blir enige om å koordinere sin adferd. De avtaler å sette monopolpris og å dele markedet likt mellom seg. Videre avtaler de at hvis en av dem i en periode avviker fra denne avtalen, vil de begge i alle framtidige perioder opptre som konkurrenter."
   ]
  },
  {
   "cell_type": "markdown",
   "metadata": {},
   "source": [
    "a) Hva vil total produksjon av øl være hvis bryggeriene velger samarbeid og hvor mye vil bryggeriene tjene på dette?"
   ]
  },
  {
   "cell_type": "code",
   "execution_count": 112,
   "metadata": {},
   "outputs": [],
   "source": [
    "import numpy as np\n",
    "import sympy as sp"
   ]
  },
  {
   "cell_type": "code",
   "execution_count": 113,
   "metadata": {},
   "outputs": [
    {
     "data": {
      "text/latex": [
       "$\\displaystyle P = 175 - 2 Q$"
      ],
      "text/plain": [
       "Eq(P, 175 - 2*Q)"
      ]
     },
     "execution_count": 113,
     "metadata": {},
     "output_type": "execute_result"
    }
   ],
   "source": [
    "# Definerer symboler\n",
    "a,b,q_g,q_b,c,Q,P,FK,r = sp.symbols('a b q_g q_b c Q P FK r', real=True, positive=True)\n",
    "\n",
    "# Definerer invers etterspørsel\n",
    "invers_etterspørsel = sp.Eq(P, 175-2*Q)\n",
    "\n",
    "# Viser invers etterspørsel\n",
    "invers_etterspørsel"
   ]
  },
  {
   "cell_type": "code",
   "execution_count": 114,
   "metadata": {},
   "outputs": [
    {
     "data": {
      "text/latex": [
       "$\\displaystyle Q \\left(175 - 2 Q\\right)$"
      ],
      "text/plain": [
       "Q*(175 - 2*Q)"
      ]
     },
     "execution_count": 114,
     "metadata": {},
     "output_type": "execute_result"
    }
   ],
   "source": [
    "# Finner totalinntekt\n",
    "TR = invers_etterspørsel.rhs * Q\n",
    "\n",
    "# Viser totalinntekt\n",
    "TR"
   ]
  },
  {
   "cell_type": "code",
   "execution_count": 115,
   "metadata": {},
   "outputs": [
    {
     "data": {
      "text/latex": [
       "$\\displaystyle 175 - 4 Q$"
      ],
      "text/plain": [
       "175 - 4*Q"
      ]
     },
     "execution_count": 115,
     "metadata": {},
     "output_type": "execute_result"
    }
   ],
   "source": [
    "# Deriverer totalinntekt for å finne marginalinntekt\n",
    "MR = sp.diff(TR, Q)\n",
    "\n",
    "# Viser marginalinntekt\n",
    "MR"
   ]
  },
  {
   "cell_type": "code",
   "execution_count": 116,
   "metadata": {},
   "outputs": [
    {
     "data": {
      "text/latex": [
       "$\\displaystyle 175 - 4 Q = 10$"
      ],
      "text/plain": [
       "Eq(175 - 4*Q, 10)"
      ]
     },
     "execution_count": 116,
     "metadata": {},
     "output_type": "execute_result"
    }
   ],
   "source": [
    "# Definerer marginalkostnaden\n",
    "c = 10\n",
    "\n",
    "# Setter marginalinntekt lik marginalkostnad\n",
    "likevekt = sp.Eq(MR, c)\n",
    "\n",
    "# Viser likevekt\n",
    "likevekt"
   ]
  },
  {
   "cell_type": "code",
   "execution_count": 117,
   "metadata": {},
   "outputs": [
    {
     "data": {
      "text/latex": [
       "$\\displaystyle 41.25$"
      ],
      "text/plain": [
       "41.25"
      ]
     },
     "metadata": {},
     "output_type": "display_data"
    },
    {
     "data": {
      "text/latex": [
       "$\\displaystyle 20.625$"
      ],
      "text/plain": [
       "20.625"
      ]
     },
     "metadata": {},
     "output_type": "display_data"
    }
   ],
   "source": [
    "# Løser for optimalt kvantum for monopol\n",
    "optimal_kvantum = sp.solve(likevekt, Q)[0]\n",
    "\n",
    "# Viser optimalt kvantum for monopol\n",
    "display(round(optimal_kvantum,2))\n",
    "\n",
    "# Viser optimalt kvantum siden vi har to bedrifter som har prissamarbeid og da deler vi på to\n",
    "display(round(optimal_kvantum,3)/2)"
   ]
  },
  {
   "cell_type": "code",
   "execution_count": 118,
   "metadata": {},
   "outputs": [
    {
     "data": {
      "text/latex": [
       "$\\displaystyle 92.5$"
      ],
      "text/plain": [
       "92.50"
      ]
     },
     "metadata": {},
     "output_type": "display_data"
    }
   ],
   "source": [
    "# Finner optimal pris ved å sette inn optimalt kvantum i invers etterspørsel\n",
    "optimal_pris = invers_etterspørsel.subs(Q, optimal_kvantum).rhs\n",
    "\n",
    "# Viser optimal pris, her deler vi ikke på to siden begge blir å sette samme pris\n",
    "display(round(optimal_pris,2))"
   ]
  },
  {
   "cell_type": "code",
   "execution_count": 119,
   "metadata": {},
   "outputs": [
    {
     "data": {
      "text/latex": [
       "$\\displaystyle 3403.1$"
      ],
      "text/plain": [
       "3403.1"
      ]
     },
     "metadata": {},
     "output_type": "display_data"
    },
    {
     "data": {
      "text/latex": [
       "$\\displaystyle 1201.6$"
      ],
      "text/plain": [
       "1201.6"
      ]
     },
     "metadata": {},
     "output_type": "display_data"
    }
   ],
   "source": [
    "# Definerer faste kostnader, de er gitt i oppgaven og er på 500 000\n",
    "FK = 500\n",
    "\n",
    "# Finner profitt ved å bruke formelen for profitt\n",
    "profitt = (invers_etterspørsel.subs(Q, optimal_kvantum).rhs - c) * optimal_kvantum\n",
    "\n",
    "# Viser total profitt\n",
    "display(round(profitt,1))\n",
    "\n",
    "# Finner profitt per bedrift ved å dele på to og trekker fra faste kostnader\n",
    "display(round(profitt/2-FK,1))"
   ]
  },
  {
   "cell_type": "markdown",
   "metadata": {},
   "source": [
    "Merk at når vi regner i kode så har vi verdiene delt på tusener, så når vi skal forklare hva som blir total produksjon så må vi gange med 1000, det samme gjelder for profitt.\n",
    "\n",
    "Det vi får her er at:\n",
    "\n",
    "$$\n",
    "Q^* = 41.25 \\rightarrow 41.25 \\times 1000 = 41250\n",
    "$$\n",
    "\n",
    "Så vi får derfor en total produksjon på 41250 flasker.\n",
    "\n",
    "Prisen blir den samme for begge bryggeriene, og vi får derfor:\n",
    "\n",
    "$$\n",
    "P^* = 175 - 2 \\times Q^* = 175 - 2 \\times 41.25 = 92.5\n",
    "$$\n",
    "\n",
    "I oppgaven så spørres det om hvor mye bryggeriene tjener på å prissamarbeide, og tidligere under cournot konkurranse hadde de en profitt hver på 1 012 500.\n",
    "\n",
    "For å finne profitten til bryggeriene så må vi bruke formelen for profitt:\n",
    "\n",
    "$$\n",
    "\\pi = (P - MC) \\times Q - FK \\rightarrow \\pi = (92.5-10) \\times 41250 - 500000 = 1 201 600\n",
    "$$\n",
    "\n",
    "Derfor vil de tjene på prissamarbeid:\n",
    "\n",
    "$$\n",
    "\\pi = 1 201 600 - 1 012 500 = 189 062.5\n",
    "$$\n",
    "\n",
    "Og fortjenesten per bryggeri blir da 189 062 kr."
   ]
  },
  {
   "cell_type": "markdown",
   "metadata": {},
   "source": [
    "b) Hvor mye vil Bryggeri 13 tjene på å avvike fra samarbeidsavtalen med Graff Brygghus i en periode?"
   ]
  },
  {
   "cell_type": "code",
   "execution_count": 120,
   "metadata": {},
   "outputs": [
    {
     "data": {
      "text/latex": [
       "$\\displaystyle P = - 2 q_{b} - 2 q_{g} + 175$"
      ],
      "text/plain": [
       "Eq(P, -2*q_b - 2*q_g + 175)"
      ]
     },
     "execution_count": 120,
     "metadata": {},
     "output_type": "execute_result"
    }
   ],
   "source": [
    "Q = (q_g + q_b)\n",
    "\n",
    "# Definerer invers etterspørsel\n",
    "invers_etterspørsel = sp.Eq(P, 175-2*Q)\n",
    "\n",
    "# Viser invers etterspørsel\n",
    "invers_etterspørsel"
   ]
  },
  {
   "cell_type": "code",
   "execution_count": 121,
   "metadata": {},
   "outputs": [
    {
     "data": {
      "text/latex": [
       "$\\displaystyle q_{g} \\left(- 2 q_{b} - 2 q_{g} + 175\\right)$"
      ],
      "text/plain": [
       "q_g*(-2*q_b - 2*q_g + 175)"
      ]
     },
     "metadata": {},
     "output_type": "display_data"
    },
    {
     "data": {
      "text/latex": [
       "$\\displaystyle q_{b} \\left(- 2 q_{b} - 2 q_{g} + 175\\right)$"
      ],
      "text/plain": [
       "q_b*(-2*q_b - 2*q_g + 175)"
      ]
     },
     "metadata": {},
     "output_type": "display_data"
    }
   ],
   "source": [
    "# Finner totalinntekt\n",
    "TR_1 = invers_etterspørsel.rhs * q_g\n",
    "TR_2 = invers_etterspørsel.rhs * q_b\n",
    "\n",
    "# Viser totalinntekt\n",
    "display(TR_1, TR_2)"
   ]
  },
  {
   "cell_type": "code",
   "execution_count": 122,
   "metadata": {},
   "outputs": [
    {
     "data": {
      "text/latex": [
       "$\\displaystyle - 2 q_{b} - 4 q_{g} + 175$"
      ],
      "text/plain": [
       "-2*q_b - 4*q_g + 175"
      ]
     },
     "metadata": {},
     "output_type": "display_data"
    },
    {
     "data": {
      "text/latex": [
       "$\\displaystyle - 4 q_{b} - 2 q_{g} + 175$"
      ],
      "text/plain": [
       "-4*q_b - 2*q_g + 175"
      ]
     },
     "metadata": {},
     "output_type": "display_data"
    }
   ],
   "source": [
    "# Deriverer totalinntekt for å finne marginalinntekt\n",
    "MR_1 = sp.diff(TR_1, q_g)\n",
    "MR_2 = sp.diff(TR_2, q_b)\n",
    "\n",
    "# Viser marginalinntekt\n",
    "display(MR_1, MR_2)"
   ]
  },
  {
   "cell_type": "code",
   "execution_count": 123,
   "metadata": {},
   "outputs": [
    {
     "data": {
      "text/latex": [
       "$\\displaystyle - 2 q_{b} - 4 q_{g} + 175 = 10$"
      ],
      "text/plain": [
       "Eq(-2*q_b - 4*q_g + 175, 10)"
      ]
     },
     "metadata": {},
     "output_type": "display_data"
    },
    {
     "data": {
      "text/latex": [
       "$\\displaystyle - 4 q_{b} - 2 q_{g} + 175 = 10$"
      ],
      "text/plain": [
       "Eq(-4*q_b - 2*q_g + 175, 10)"
      ]
     },
     "metadata": {},
     "output_type": "display_data"
    }
   ],
   "source": [
    "# Setter marginalinntekt lik marginalkostnad\n",
    "likevekt_qg = sp.Eq(MR_1, c)\n",
    "likevekt_qb = sp.Eq(MR_2, c)\n",
    "\n",
    "# Viser likevekt\n",
    "display(likevekt_qg, likevekt_qb)"
   ]
  },
  {
   "cell_type": "code",
   "execution_count": 124,
   "metadata": {},
   "outputs": [
    {
     "data": {
      "text/latex": [
       "$\\displaystyle \\frac{165}{4} - \\frac{q_{b}}{2}$"
      ],
      "text/plain": [
       "165/4 - q_b/2"
      ]
     },
     "metadata": {},
     "output_type": "display_data"
    }
   ],
   "source": [
    "# Finner reaksjonsfunksjon for Graff Bryggeri\n",
    "qb = sp.solve(likevekt_qg, q_g)[0]\n",
    "\n",
    "display(qb)"
   ]
  },
  {
   "cell_type": "code",
   "execution_count": 125,
   "metadata": {},
   "outputs": [
    {
     "data": {
      "text/latex": [
       "$\\displaystyle 30.938$"
      ],
      "text/plain": [
       "30.938"
      ]
     },
     "execution_count": 125,
     "metadata": {},
     "output_type": "execute_result"
    }
   ],
   "source": [
    "# Nå har vi funnet reaksjonsfunksjon til Graff bryggeri og da setter vi inn kvantumet\n",
    "# Vi vet at hvis de samarbeider så ville optimalt kvantum være 41.25/2 = 20.625\n",
    "ny_opt_q = qb.subs(q_b, round(optimal_kvantum,3)/2)\n",
    "\n",
    "# Viser ny optimalt kvantum for Graff Bryggeri\n",
    "ny_opt_q"
   ]
  },
  {
   "cell_type": "code",
   "execution_count": 126,
   "metadata": {},
   "outputs": [
    {
     "data": {
      "text/latex": [
       "$\\displaystyle 71.875$"
      ],
      "text/plain": [
       "71.875"
      ]
     },
     "execution_count": 126,
     "metadata": {},
     "output_type": "execute_result"
    }
   ],
   "source": [
    "# For å finne ny pris må vi sette inn ny kvantum i invers etterspørsel for Bryggeri 13, mens Graff beholder sitt kvantum\n",
    "ny_opt_pris = invers_etterspørsel.subs({q_b:ny_opt_q,q_g:optimal_kvantum/2}).rhs\n",
    "\n",
    "# Viser ny pris i markedet\n",
    "ny_opt_pris"
   ]
  },
  {
   "cell_type": "code",
   "execution_count": 127,
   "metadata": {},
   "outputs": [
    {
     "data": {
      "text/latex": [
       "$\\displaystyle 1414.3$"
      ],
      "text/plain": [
       "1414.3"
      ]
     },
     "execution_count": 127,
     "metadata": {},
     "output_type": "execute_result"
    }
   ],
   "source": [
    "# Finner ny profitt for Bryggeri 13\n",
    "ny_profitt = (ny_opt_pris - c) * ny_opt_q-FK\n",
    "\n",
    "# Viser ny profitt for Graff Bryggeri\n",
    "ny_profitt"
   ]
  },
  {
   "cell_type": "code",
   "execution_count": 128,
   "metadata": {},
   "outputs": [
    {
     "data": {
      "text/latex": [
       "$\\displaystyle 776.17$"
      ],
      "text/plain": [
       "776.17"
      ]
     },
     "execution_count": 128,
     "metadata": {},
     "output_type": "execute_result"
    }
   ],
   "source": [
    "# Finner ny profitt for Graff Bryggeri\n",
    "ny_profitt_graff = (ny_opt_pris - c) * (optimal_kvantum/2)-FK\n",
    "\n",
    "# Viser ny profitt for Graff Bryggeri\n",
    "ny_profitt_graff"
   ]
  },
  {
   "cell_type": "markdown",
   "metadata": {},
   "source": [
    "Hvis Bryggeri 13 avviker fra samarbeidsavtalen, så vil de oppføre seg som Cournot konkurrenter.\n",
    "\n",
    "Vi regner ved bruk av Cournot modellen, og finner til slutt reaksjonsfunksjonen til Graff bryggeri.\n",
    "\n",
    "Orignalt ved prissamarbeid vet vi at begge bryggeriene ville produsert 20625 enheter:\n",
    "\n",
    "$$\n",
    "q_b = \\frac{41.25}{2} =  20.625 \\rightarrow 20.625 \\times 1000 = 20625\n",
    "$$\n",
    "\n",
    "Derfor setter vi inn kvantumet i reaksjonsfunksjonen til Graff bryggeri, og da finner Bryggeri 13 ut hvor mye ny produksjon blir når de velger å avvike fra prissamarbeid:\n",
    "\n",
    "$$\n",
    "\\frac{165}{4} - \\frac{q_{b}}{2} \\rightarrow \\frac{165}{4} - \\frac{20.625}{2} = 30.938 \\times 1000 = 30938\n",
    "$$\n",
    "\n",
    "For å finne ny pris setter vi inn nye verdier for kvantum i invers etterspørsel:\n",
    "\n",
    "$$\n",
    "P = 175 (-2 \\times (q_b + q_g)) \\rightarrow P = 175 (-2 \\times (20.625 + 30.938)) = 71.875\n",
    "$$\n",
    "\n",
    "Og den nye profitten for Bryggeri 13:\n",
    "\n",
    "$$\n",
    "\\pi_b = (71.875-10) \\times 30938 - 500000 =  1414288\n",
    "$$\n",
    "\n",
    "Mens Graff Bryggeri får nå:\n",
    "\n",
    "$$\n",
    "\\pi_g = (71.875-10) \\times 20625 - 500000 = 776171\n",
    "$$\n",
    "\n",
    "Merk at python kan noengang runde av tall slik at om du regner for hånd eller med kalkulator kan profitt bli mer presis enn det som kommer ut i python. Det er derfor viktig å være klar over at det kan være små forskjeller i svaret.\n",
    "\n",
    "Om du endrer koden noe eller vil ha et mer presist svar kan du regne profitten med kalkulator, eller for hånd."
   ]
  },
  {
   "cell_type": "markdown",
   "metadata": {},
   "source": [
    "c) Hvor stor må diskonteringsfaktoren være for at bryggeriene skal ha incentiver til å opprettholde samarbeidsavtalen over tid?"
   ]
  },
  {
   "cell_type": "code",
   "execution_count": 129,
   "metadata": {},
   "outputs": [],
   "source": [
    "from sympy import Symbol\n",
    "from sympy.solvers.inequalities import reduce_rational_inequalities\n",
    "\n",
    "x = Symbol('x', real=True)"
   ]
  },
  {
   "cell_type": "code",
   "execution_count": 130,
   "metadata": {},
   "outputs": [
    {
     "data": {
      "text/latex": [
       "$\\displaystyle -2 < x$"
      ],
      "text/plain": [
       "-2 < x"
      ]
     },
     "execution_count": 130,
     "metadata": {},
     "output_type": "execute_result"
    }
   ],
   "source": [
    "reduce_rational_inequalities([[x + 2 > 0]], x)"
   ]
  },
  {
   "cell_type": "code",
   "execution_count": 131,
   "metadata": {},
   "outputs": [
    {
     "data": {
      "text/latex": [
       "$\\displaystyle 0.529318644557171 < x \\wedge x < 1.0$"
      ],
      "text/plain": [
       "(0.529318644557171 < x) & (x < 1.0)"
      ]
     },
     "execution_count": 131,
     "metadata": {},
     "output_type": "execute_result"
    }
   ],
   "source": [
    "# Nåverdi ved sammarbeid > nåverdi ved avvik - med p=1\n",
    "reduce_rational_inequalities([[1201.6/(1-x) > 1414.258+(x*1012.5)/(1-x)]], x)"
   ]
  },
  {
   "cell_type": "code",
   "execution_count": 132,
   "metadata": {},
   "outputs": [
    {
     "data": {
      "text/latex": [
       "$\\displaystyle r < 0.889252045115339$"
      ],
      "text/plain": [
       "r < 0.889252045115339"
      ]
     },
     "execution_count": 132,
     "metadata": {},
     "output_type": "execute_result"
    }
   ],
   "source": [
    "reduce_rational_inequalities([[1/(1+r) > 0.52931]], r)"
   ]
  },
  {
   "cell_type": "code",
   "execution_count": 133,
   "metadata": {},
   "outputs": [
    {
     "data": {
      "text/latex": [
       "$\\displaystyle 0.882352941176471 < x \\wedge x < 1.66666666666667$"
      ],
      "text/plain": [
       "(0.882352941176471 < x) & (x < 1.66666666666667)"
      ]
     },
     "execution_count": 133,
     "metadata": {},
     "output_type": "execute_result"
    }
   ],
   "source": [
    "# Nåverdi ved sammarbeid > nåverdi ved avvik - med p=0.6\n",
    "reduce_rational_inequalities([[1800/(1-(0.6*x)) > 2025+((0.6*x)*1600)/(1-(0.6*x))]], x)"
   ]
  },
  {
   "cell_type": "code",
   "execution_count": 134,
   "metadata": {},
   "outputs": [
    {
     "data": {
      "text/latex": [
       "$\\displaystyle r < 0.133337111123704$"
      ],
      "text/plain": [
       "r < 0.133337111123704"
      ]
     },
     "execution_count": 134,
     "metadata": {},
     "output_type": "execute_result"
    }
   ],
   "source": [
    "reduce_rational_inequalities([[1/(1+r) > 0.88235]], r)"
   ]
  }
 ],
 "metadata": {
  "kernelspec": {
   "display_name": "Python 3",
   "language": "python",
   "name": "python3"
  },
  "language_info": {
   "codemirror_mode": {
    "name": "ipython",
    "version": 3
   },
   "file_extension": ".py",
   "mimetype": "text/x-python",
   "name": "python",
   "nbconvert_exporter": "python",
   "pygments_lexer": "ipython3",
   "version": "3.11.1"
  }
 },
 "nbformat": 4,
 "nbformat_minor": 2
}
