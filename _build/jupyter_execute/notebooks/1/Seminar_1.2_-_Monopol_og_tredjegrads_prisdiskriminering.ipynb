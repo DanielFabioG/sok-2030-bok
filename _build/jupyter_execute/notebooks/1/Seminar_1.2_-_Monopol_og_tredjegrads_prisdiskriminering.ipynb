{
 "cells": [
  {
   "cell_type": "markdown",
   "metadata": {},
   "source": [
    "# Seminar 1.2: Monopol og tredje grads prisdiskriminering\n",
    "\n",
    "Vi skal se på hvordan en monopolist kan maksimere profitten sin ved å diskriminere prisen på produktene sine.\n",
    "\n",
    "Betalingsvilligheten for boken \"Harry Potter and the Deathly Hallows\" vil være forskjellig for ulike grupper av mennesker. La oss anta to forskjellige markeder, USA og Europa."
   ]
  },
  {
   "cell_type": "code",
   "execution_count": 1,
   "metadata": {},
   "outputs": [],
   "source": [
    "import numpy as np\n",
    "import matplotlib.pyplot as plt\n",
    "import sympy as sp"
   ]
  },
  {
   "cell_type": "markdown",
   "metadata": {},
   "source": [
    "Etterpørselen for boken i USA er gitt ved:\n",
    "\n",
    "$$\n",
    "Q_{USA} = 9 - \\frac{P}{4}\n",
    "$$\n",
    "\n",
    "Etterpørselen for boken i Europa er gitt ved:\n",
    "\n",
    "$$\n",
    "Q_{E} = 6 - \\frac{P}{4}\n",
    "$$\n",
    "\n",
    "Først la oss regne ut invers etterspørsel for de to markedene. Dette gjør vi ved å løse for $P$ i både $Q_{U}$ og $Q_{E}$.\n",
    "\n",
    "For USA har vi invers etterspørsel:\n",
    "\n",
    "$$\n",
    "P_{U} = 36 - 4Q\n",
    "$$\n",
    "\n",
    "For Europa er invers etterspørsel gitt ved:\n",
    "\n",
    "$$\n",
    "P_{E} = 24 - 4Q\n",
    "$$"
   ]
  },
  {
   "cell_type": "code",
   "execution_count": 2,
   "metadata": {},
   "outputs": [
    {
     "data": {
      "text/latex": [
       "$\\displaystyle Q_{U} = 9 - \\frac{P_{U}}{4}$"
      ],
      "text/plain": [
       "Eq(Q_U, 9 - P_U/4)"
      ]
     },
     "metadata": {},
     "output_type": "display_data"
    },
    {
     "data": {
      "text/latex": [
       "$\\displaystyle Q_{E} = 6 - \\frac{P_{E}}{4}$"
      ],
      "text/plain": [
       "Eq(Q_E, 6 - P_E/4)"
      ]
     },
     "metadata": {},
     "output_type": "display_data"
    }
   ],
   "source": [
    "# Definerer symbol\n",
    "P_U, P_E, Q_U, Q_E = sp.symbols('P_U P_E Q_U Q_E', real=True, positive=True)\n",
    "\n",
    "# Definerer etterpørselsfunksjonene for begge markeder\n",
    "Etterspørsel_U = sp.Eq(Q_U,9 - (P_U/4))\n",
    "Etterspørsel_E = sp.Eq(Q_E,6 - (P_E/4))\n",
    "\n",
    "display(Etterspørsel_U,Etterspørsel_E)"
   ]
  },
  {
   "cell_type": "code",
   "execution_count": 3,
   "metadata": {},
   "outputs": [
    {
     "data": {
      "text/latex": [
       "$\\displaystyle 36 - 4 Q_{U}$"
      ],
      "text/plain": [
       "36 - 4*Q_U"
      ]
     },
     "metadata": {},
     "output_type": "display_data"
    },
    {
     "data": {
      "text/latex": [
       "$\\displaystyle 24 - 4 Q_{E}$"
      ],
      "text/plain": [
       "24 - 4*Q_E"
      ]
     },
     "metadata": {},
     "output_type": "display_data"
    }
   ],
   "source": [
    "# Løser begge for P\n",
    "invers_U = sp.solve(Etterspørsel_U, P_U)[0]\n",
    "invers_E = sp.solve(Etterspørsel_E, P_E)[0]\n",
    "\n",
    "display(invers_U,invers_E)"
   ]
  },
  {
   "cell_type": "markdown",
   "metadata": {},
   "source": [
    "### Optimal tilpasning ved tredje grads prisdiskriminering USA\n",
    "\n",
    "For å maksimere profitten sin, må monopolisten sette prisen slik at marginalkostnaden (MC) er lik marginalinntekten (MR) , som vi har sett på tidligere. Marginalkostnaden er lik i begge markedene, og er gitt ved:\n",
    "\n",
    "$$\n",
    "MC = 4\n",
    "$$\n",
    "\n",
    "per produsert enhet (bok).\n",
    "\n",
    "Deretter finner vi marginalinntekt til USA ved å multiplisere invers etterspørsel $P_U(Q_U)$ med $Q_U$ og deriverer med hensyn til $Q_U$:\n",
    "\n",
    "$$\n",
    "MR_U = 36 - 8Q_U\n",
    "$$\n"
   ]
  },
  {
   "cell_type": "code",
   "execution_count": 4,
   "metadata": {},
   "outputs": [
    {
     "data": {
      "text/latex": [
       "$\\displaystyle Q_{U} \\left(36 - 4 Q_{U}\\right)$"
      ],
      "text/plain": [
       "Q_U*(36 - 4*Q_U)"
      ]
     },
     "execution_count": 4,
     "metadata": {},
     "output_type": "execute_result"
    }
   ],
   "source": [
    "# Multipliserer prisen med kvantumet for å finne totalinntekten\n",
    "TR_U = invers_U*Q_U\n",
    "TR_U"
   ]
  },
  {
   "cell_type": "code",
   "execution_count": 5,
   "metadata": {},
   "outputs": [
    {
     "data": {
      "text/latex": [
       "$\\displaystyle 36 - 8 Q_{U}$"
      ],
      "text/plain": [
       "36 - 8*Q_U"
      ]
     },
     "execution_count": 5,
     "metadata": {},
     "output_type": "execute_result"
    }
   ],
   "source": [
    "# Deriverer totalinntekten med hensyn på kvantumet for å finne marginalinntekten\n",
    "MR_U = TR_U.diff(Q_U)\n",
    "MR_U"
   ]
  },
  {
   "cell_type": "markdown",
   "metadata": {},
   "source": [
    "Nå har vi regnet ut marginalkostnaden og marginalinntekten for USA. For å finne optimal tilpasning for monopolisten i USA, må vi sette:\n",
    "\n",
    "$$\n",
    "MC_U = MR_U\n",
    "$$\n",
    "\n",
    "$$\n",
    "36 - 8Q_U = 4\n",
    "$$\n",
    "\n",
    "Vi løser for $Q_U$:\n",
    "\n",
    "$$\n",
    "Q{_U^*} = 4\n",
    "$$\n",
    "\n",
    "Nå kan vi finne prisen monopolisten setter i USA ved å sette $Q_U = 4$ inn i invers etterspørsel $P_U(Q_U)$:\n",
    "\n",
    "$$\n",
    "P{_U^*} = 36 - 4 \\cdot 4 = 20\n",
    "$$\n",
    "\n",
    "Profitten til monopolisten i USA finnes ved å sette optimalt kvantum inn i totalinntekten og trekke fra marginalkostnad multiplisert ved optimalt kvantum:\n",
    "\n",
    "$$\n",
    "\\pi_U = TR{_U^*} - MC \\cdot Q{_U^*} = 80 - 4 \\cdot 4 = 64\n",
    "$$"
   ]
  },
  {
   "cell_type": "code",
   "execution_count": 6,
   "metadata": {},
   "outputs": [
    {
     "data": {
      "text/latex": [
       "$\\displaystyle 36 - 8 Q_{U} = 4$"
      ],
      "text/plain": [
       "Eq(36 - 8*Q_U, 4)"
      ]
     },
     "metadata": {},
     "output_type": "display_data"
    }
   ],
   "source": [
    "# MC er konstant og lik 4\n",
    "MC = 4\n",
    "# Setter MR = MC for å finne likevektskvantumet\n",
    "likevekt_U = sp.Eq(MR_U, MC)\n",
    "\n",
    "display(likevekt_U)"
   ]
  },
  {
   "cell_type": "code",
   "execution_count": 7,
   "metadata": {},
   "outputs": [
    {
     "data": {
      "text/plain": [
       "'Likevektskvantumet er 4, prisen er 20 og profitten blir 64'"
      ]
     },
     "execution_count": 7,
     "metadata": {},
     "output_type": "execute_result"
    }
   ],
   "source": [
    "# Løser for kvantumet\n",
    "likevekt_U_kv = sp.solve(likevekt_U, Q_U)[0]\n",
    "\n",
    "# Setter kvantumet inn i etterspørselsfunksjonen for å finne prisen\n",
    "likevekt_U_pris = invers_U.subs(Q_U, likevekt_U_kv)\n",
    "\n",
    "# Finner profitten\n",
    "profitt_U = TR_U.subs(Q_U, likevekt_U_kv) - MC*likevekt_U_kv\n",
    "\n",
    "f'Likevektskvantumet er {likevekt_U_kv}, prisen er {likevekt_U_pris} og profitten blir {profitt_U}'"
   ]
  },
  {
   "cell_type": "markdown",
   "metadata": {},
   "source": [
    "## Visualisering av pris og mengde i USA"
   ]
  },
  {
   "cell_type": "code",
   "execution_count": 8,
   "metadata": {},
   "outputs": [
    {
     "data": {
      "image/png": "[encoded data removed]",
      "text/plain": [
       "<Figure size 800x500 with 1 Axes>"
      ]
     },
     "metadata": {},
     "output_type": "display_data"
    }
   ],
   "source": [
    "# Invers etterspørsel funksjon\n",
    "def invers(a,b,Q):\n",
    "    return a - (b*Q)\n",
    "# Marginalinntekt funksjon\n",
    "def marginal_rev(a,b,Q):\n",
    "    return a - (2*b*Q)\n",
    "\n",
    "Q = np.linspace(0, 40, 100)\n",
    "#funksjon for å skape akse\n",
    "def create_ax():\n",
    "                fig, ax = plt.subplots(figsize=(8, 5))\n",
    "                ax.set_ylabel('Pris (P)', loc='top', rotation=90)\n",
    "                ax.set_xlabel('Mengde (Q)', loc='right')\n",
    "                ax.spines['top'].set_color('none')\n",
    "                ax.spines['right'].set_color('none')\n",
    "                return fig, ax\n",
    "            \n",
    "fig, ax = create_ax()\n",
    "\n",
    "# Plotter etterspørselskurven for USA\n",
    "ax.plot(Q, invers(36,4,Q), label='Etterspørsel USA')\n",
    "# Plotter marginalinntekten for USA\n",
    "ax.plot(Q, marginal_rev(36,4,Q), label='Marginalinntekt USA')\n",
    "# Plotter MC\n",
    "ax.axhline(y=4, color='r', label='MC')\n",
    "\n",
    "# Plotter likevektskvantumet\n",
    "ax.vlines(x=likevekt_U_kv, ymin=0, ymax=likevekt_U_pris, color='b', linestyle='--')\n",
    "# Plotter likevektsprisen\n",
    "ax.hlines(y=likevekt_U_pris, xmin=0, xmax=likevekt_U_kv, color='b', linestyle='--')\n",
    "\n",
    "ax.set(xlim=(0, 10))\n",
    "ax.set(ylim=(0, 40))\n",
    "\n",
    "ax.legend()\n",
    "plt.show();"
   ]
  },
  {
   "cell_type": "markdown",
   "metadata": {},
   "source": [
    "### Optimal tilpasning ved tredje grads prisdiskriminering Europa\n",
    "\n",
    "For Europa har vi allerede regnet ut invers etterspørsel:\n",
    "\n",
    "$$\n",
    "P_E = 24 - 4Q_E\n",
    "$$\n",
    "\n",
    "Marginalkostnaden er lik i begge markedene, så her har Europa også marginalkostnad $MC = 4$.\n",
    "\n",
    "For å finne marginalinntekt til Europa, multipliserer vi invers etterspørsel $P_E(Q_E)$ med $Q_E$ og deriverer med hensyn til $Q_E$:\n",
    "\n",
    "$$\n",
    "MR_E = 24 - 8Q_E\n",
    "$$"
   ]
  },
  {
   "cell_type": "code",
   "execution_count": 9,
   "metadata": {},
   "outputs": [
    {
     "data": {
      "text/latex": [
       "$\\displaystyle Q_{E} \\left(24 - 4 Q_{E}\\right)$"
      ],
      "text/plain": [
       "Q_E*(24 - 4*Q_E)"
      ]
     },
     "execution_count": 9,
     "metadata": {},
     "output_type": "execute_result"
    }
   ],
   "source": [
    "# Multipliserer prisen med kvantumet for å finne totalinntekten for Europa\n",
    "TR_E = invers_E*Q_E\n",
    "TR_E"
   ]
  },
  {
   "cell_type": "code",
   "execution_count": 10,
   "metadata": {},
   "outputs": [
    {
     "data": {
      "text/latex": [
       "$\\displaystyle 24 - 8 Q_{E}$"
      ],
      "text/plain": [
       "24 - 8*Q_E"
      ]
     },
     "execution_count": 10,
     "metadata": {},
     "output_type": "execute_result"
    }
   ],
   "source": [
    "# Deriverer totalinntekten med hensyn på kvantumet for å finne marginalinntekten\n",
    "MR_E = TR_E.diff(Q_E)\n",
    "MR_E"
   ]
  },
  {
   "cell_type": "markdown",
   "metadata": {},
   "source": [
    "Nå har vi regnet ut marginalkostnaden og marginalinntekten for Europa. For å finne optimal tilpasning for monopolisten i Europa, må vi sette $MC_E = MR_E$:\n",
    "\n",
    "$$\n",
    "24 - 8Q_E = 4\n",
    "$$\n",
    "\n",
    "Vi løser for $Q_E$:\n",
    "\n",
    "$$\n",
    "Q{_E^*} = 2.5\n",
    "$$\n",
    "\n",
    "Nå kan vi finne prisen monopolisten setter i Europa ved å sette $Q_E = 2$ inn i invers etterspørsel $P_E(Q_E)$:\n",
    "\n",
    "$$\n",
    "P{_E^*} = 24 - 4 \\cdot 2.5 = 14\n",
    "$$\n",
    "\n",
    "Profitten til monopolisten i Europa er gitt ved å sette inn optimalt kvantum i totalinntekten og trekke fra total kostnad:\n",
    "\n",
    "$$\n",
    "\\pi_E = TR{_E^*} - MC \\cdot Q{_E^*} = 35 - 4 \\cdot 2.5 = 25\n",
    "$$"
   ]
  },
  {
   "cell_type": "code",
   "execution_count": 11,
   "metadata": {},
   "outputs": [
    {
     "data": {
      "text/plain": [
       "'Likevektskvantumet er 2.5, prisen er 14 og profitten blir 25'"
      ]
     },
     "execution_count": 11,
     "metadata": {},
     "output_type": "execute_result"
    }
   ],
   "source": [
    "# Løser for kvantumet til Europa\n",
    "likevekt_E_kv = sp.solve(sp.Eq(MR_E, MC), Q_E)[0]\n",
    "\n",
    "# Setter kvantumet inn i etterspørselsfunksjonen for å finne prisen\n",
    "likevekt_E_pris = invers_E.subs(Q_E, likevekt_E_kv)\n",
    "\n",
    "# Finner profitten\n",
    "profitt_E = TR_E.subs(Q_E, likevekt_E_kv) - MC*likevekt_E_kv\n",
    "\n",
    "f'Likevektskvantumet er {round(likevekt_E_kv,1)}, prisen er {likevekt_E_pris} og profitten blir {profitt_E}'"
   ]
  },
  {
   "cell_type": "markdown",
   "metadata": {},
   "source": [
    "## Visualisering av pris og mengde i Europa"
   ]
  },
  {
   "cell_type": "code",
   "execution_count": 12,
   "metadata": {},
   "outputs": [
    {
     "data": {
      "image/png": "[encoded data removed]",
      "text/plain": [
       "<Figure size 800x500 with 1 Axes>"
      ]
     },
     "metadata": {},
     "output_type": "display_data"
    }
   ],
   "source": [
    "fig, ax = create_ax()\n",
    "\n",
    "# Plotter etterspørselskurven for Europa\n",
    "ax.plot(Q, invers(24,4,Q), label='Etterspørsel Europa')\n",
    "# Plotter marginalinntekten for Europa\n",
    "ax.plot(Q, marginal_rev(24,4,Q), label='Marginalinntekt Europa')\n",
    "# Plotter MC\n",
    "ax.axhline(y=4, color='r', label='MC')\n",
    "\n",
    "# Plotter likevektskvantumet\n",
    "ax.vlines(x=likevekt_E_kv, ymin=0, ymax=likevekt_E_pris, color='b', linestyle='--')\n",
    "# Plotter likevektsprisen\n",
    "ax.hlines(y=likevekt_E_pris, xmin=0, xmax=likevekt_E_kv, color='b', linestyle='--')\n",
    "\n",
    "ax.set(xlim=(0, 6))\n",
    "ax.set(ylim=(0, 25))\n",
    "\n",
    "ax.legend();"
   ]
  },
  {
   "cell_type": "markdown",
   "metadata": {},
   "source": [
    "## Optimal tilpasning ved uniform prising\n",
    "\n",
    "Til slutt ser vi på hvilken pris produsentene vil sette hvis de skal ha lik pris i begge markedene.\n",
    "\n",
    "For å finne optimal tilpasning ved uniform prising må vi aggregere etterspørselen fra USA og Europa. Total etterspørsel er gitt ved:\n",
    "\n",
    "$$\n",
    "Q = Q_U + Q_E = 9 - \\frac{P}{4} + 6 - \\frac{P}{4} = 15 - \\frac{P}{2}\n",
    "$$\n",
    "\n",
    "Vi kan finne total invers etterspørsel ved å løse den aggregerte etterspørsel for USA og Europa for P:\n",
    "\n",
    "$$\n",
    "P = 30 - 2Q\n",
    "$$"
   ]
  },
  {
   "cell_type": "code",
   "execution_count": 13,
   "metadata": {},
   "outputs": [
    {
     "data": {
      "text/latex": [
       "$\\displaystyle 15 - \\frac{P}{2}$"
      ],
      "text/plain": [
       "15 - P/2"
      ]
     },
     "execution_count": 13,
     "metadata": {},
     "output_type": "execute_result"
    }
   ],
   "source": [
    "# I koden når vi aggregerer etterpørselen, så legger vi sammen kvantumet fra USA og Europa. Derfor bruker vi nå Q istedenfor Q U og Q E.\n",
    "Q,P = sp.symbols('Q P', real=True, positive=True)\n",
    "Etterspørsel_USA = sp.Eq(Q,9 - (P/4))\n",
    "Etterspørsel_EU = sp.Eq(Q,6 - (P/4))\n",
    "\n",
    "# Aggregerer etterpørselen\n",
    "Etterspørsel_aggregert = Etterspørsel_USA.rhs + Etterspørsel_EU.rhs\n",
    "\n",
    "Etterspørsel_aggregert"
   ]
  },
  {
   "cell_type": "code",
   "execution_count": 14,
   "metadata": {},
   "outputs": [
    {
     "data": {
      "text/latex": [
       "$\\displaystyle 30 - 2 Q$"
      ],
      "text/plain": [
       "30 - 2*Q"
      ]
     },
     "execution_count": 14,
     "metadata": {},
     "output_type": "execute_result"
    }
   ],
   "source": [
    "# Løser for prisen\n",
    "invers_aggregert = sp.solve(Etterspørsel_aggregert - Q, P)[0]\n",
    "\n",
    "invers_aggregert"
   ]
  },
  {
   "cell_type": "markdown",
   "metadata": {},
   "source": [
    "Marginalkostnader og marginalinntekt for aggregert etterspørsel\n",
    "\n",
    "Vi antar at marginalkostnaden (MC) fortsatt er konstant, altså MC = 4.\n",
    "\n",
    "Totalinntekten (TR) for den aggregerte etterspørselen, med invers etterspørsel \n",
    "$$\n",
    "P = 30 - 2Q\n",
    "$$ \n",
    "blir:\n",
    "$$\n",
    "TR = P \\cdot Q = (30 - 2Q)Q = 30Q - 2Q^2\n",
    "$$\n",
    "\n",
    "Marginalinntekten (MR) oppnås ved å derivere totalinntekten med hensyn på Q:\n",
    "$$\n",
    "MR = \\frac{\\partial (TR)}{\\partial Q} = 30 - 4Q\n",
    "$$\n"
   ]
  },
  {
   "cell_type": "code",
   "execution_count": 15,
   "metadata": {},
   "outputs": [
    {
     "data": {
      "text/latex": [
       "$\\displaystyle Q \\left(30 - 2 Q\\right)$"
      ],
      "text/plain": [
       "Q*(30 - 2*Q)"
      ]
     },
     "execution_count": 15,
     "metadata": {},
     "output_type": "execute_result"
    }
   ],
   "source": [
    "# Multipliserer prisen med kvantumet for å finne totalinntekten\n",
    "TR = invers_aggregert*Q\n",
    "TR"
   ]
  },
  {
   "cell_type": "code",
   "execution_count": 16,
   "metadata": {},
   "outputs": [
    {
     "data": {
      "text/latex": [
       "$\\displaystyle 30 - 4 Q$"
      ],
      "text/plain": [
       "30 - 4*Q"
      ]
     },
     "execution_count": 16,
     "metadata": {},
     "output_type": "execute_result"
    }
   ],
   "source": [
    "# Deriverer totalinntekten med hensyn på kvantumet for å finne marginalinntekten\n",
    "MR = TR.diff(Q)\n",
    "MR"
   ]
  },
  {
   "cell_type": "markdown",
   "metadata": {},
   "source": [
    "Disse uttrykkene setter vi opp mot marginalkostnaden for å finne den optimale mengden som tidligere.\n",
    "\n",
    "For uniform prising (aggregert etterspørsel) setter vi marginalkostnaden lik marginalinntekten og får:\n",
    "\n",
    "$$\n",
    "30 - 4Q = 4\n",
    "$$\n",
    "\n",
    "Vi løser for $Q$:\n",
    "$$\n",
    "4Q = 30 – 4 = 26\n",
    "$$\n",
    "\n",
    "$$\n",
    "Q^* = \\frac{26}{4} = 6.5\n",
    "$$\n",
    "\n",
    "Nå kan vi finne prisen monopolisten setter ved uniform prising ved å sette $Q = 6.5$ inn i invers etterspørsel $P = 30 - 2Q$:\n",
    "\n",
    "$$\n",
    "P^* = 30 - 2 \\cdot 6.5 = 17\n",
    "$$\n",
    "\n",
    "Profitten til monopolisten ved uniform prising er gitt ved å sette inn optimalt kvantum i totalinntekten og trekke fra total kostnad:\n",
    "\n",
    "$$\n",
    "\\pi = TR^* - MC \\cdot Q^* = 110.5 - 4 \\cdot 6.5 = 84.5\n",
    "$$"
   ]
  },
  {
   "cell_type": "code",
   "execution_count": 17,
   "metadata": {},
   "outputs": [
    {
     "data": {
      "text/latex": [
       "$\\displaystyle 30 - 4 Q = 4$"
      ],
      "text/plain": [
       "Eq(30 - 4*Q, 4)"
      ]
     },
     "metadata": {},
     "output_type": "display_data"
    }
   ],
   "source": [
    "# Setter MR = MC for å finne likevektskvantumet\n",
    "likevekt = sp.Eq(MR, MC)\n",
    "\n",
    "display(likevekt)"
   ]
  },
  {
   "cell_type": "code",
   "execution_count": 18,
   "metadata": {},
   "outputs": [
    {
     "data": {
      "text/plain": [
       "'Likevektskvantumet er 6.5, prisen er 17 og profitten blir 84.5'"
      ]
     },
     "execution_count": 18,
     "metadata": {},
     "output_type": "execute_result"
    }
   ],
   "source": [
    "# Løser for kvantumet\n",
    "likevekt_kv = sp.solve(likevekt, Q)[0]\n",
    "\n",
    "# Setter kvantumet inn i etterspørselsfunksjonen for å finne prisen\n",
    "likevekt_pris = invers_aggregert.subs(Q, likevekt_kv)\n",
    "\n",
    "# Finner profitten\n",
    "profitt = TR.subs(Q, likevekt_kv) - MC*likevekt_kv\n",
    "\n",
    "f'Likevektskvantumet er {round(likevekt_kv,1)}, prisen er {likevekt_pris} og profitten blir {round(profitt,1)}'"
   ]
  },
  {
   "cell_type": "code",
   "execution_count": 19,
   "metadata": {},
   "outputs": [
    {
     "name": "stdout",
     "output_type": "stream",
     "text": [
      "Profitten ved å holde markedene adskilt er 89, mens profitten ved å aggregerere markedene er 84.5 og endringen i profitt er 4.5\n"
     ]
    }
   ],
   "source": [
    "# Total profitt\n",
    "total_profitt = profitt_U + profitt_E\n",
    "\n",
    "# Total profitt ved aggregering\n",
    "profitt\n",
    "\n",
    "# Endring i profitt\n",
    "endring_profitt = total_profitt - profitt\n",
    "\n",
    "print(f'Profitten ved å holde markedene adskilt er {profitt_U + profitt_E}, mens profitten ved å aggregerere markedene er {round(profitt,1)} og endringen i profitt er {round(endring_profitt,1)}')"
   ]
  },
  {
   "cell_type": "markdown",
   "metadata": {},
   "source": [
    "## Visualisering av pris og mengde ved uniform prising"
   ]
  },
  {
   "cell_type": "code",
   "execution_count": 20,
   "metadata": {},
   "outputs": [
    {
     "data": {
      "image/png": "[encoded data removed]",
      "text/plain": [
       "<Figure size 800x500 with 1 Axes>"
      ]
     },
     "metadata": {},
     "output_type": "display_data"
    }
   ],
   "source": [
    "# Visualisering av USA vs aggregering\n",
    "\n",
    "# Lager etterspørsel for P < 24\n",
    "Q_1 = np.linspace(0.001, 3, 1000)\n",
    "# Lager etterspørsel for P > 24\n",
    "Q_2 = np.linspace(3.001, 15, 1000)\n",
    "\n",
    "fig, ax = create_ax()\n",
    "\n",
    "# Plotter etterspørselskurven for USA\n",
    "ax.plot(Q_1, invers(36,4,Q_1), color= 'orange')\n",
    "# Plotter aggregert etterspørsel\n",
    "ax.plot(Q_2, invers(30,2,Q_2), label='Aggregert etterspørsel', color= 'orange')\n",
    "\n",
    "# Plotter marginalinntekten for USA\n",
    "ax.plot(Q_1, marginal_rev(36,4,Q_1), color= 'blue')\n",
    "# Plotter marginalinntekten for aggregert etterspørsel\n",
    "ax.plot(Q_2, marginal_rev(30,2,Q_2), label='Marginalinntekt', color= 'blue')\n",
    "\n",
    "\n",
    "# Plotter MC\n",
    "ax.axhline(y=4, color='r', label='MC')\n",
    "\n",
    "# Plotter likevektskvantumet\n",
    "ax.vlines(x=likevekt_kv, ymin=0, ymax=likevekt_pris, color='b', linestyle='--')\n",
    "# Plotter likevektsprisen\n",
    "ax.hlines(y=likevekt_pris, xmin=0, xmax=likevekt_kv, color='b', linestyle='--')\n",
    "\n",
    "# Plotter likevekt for P < 24\n",
    "ax.vlines(x=3, ymin=0, ymax=24, color='g', linestyle='--')\n",
    "# Plotter likevekt for P > 24\n",
    "ax.hlines(y=24, xmin=0, xmax=3, color='g', linestyle='--')\n",
    "\n",
    "ax.set(xlim=(0, 15))\n",
    "ax.set(ylim=(0, 38))\n",
    "\n",
    "ax.legend()\n",
    "\n",
    "plt.show()"
   ]
  },
  {
   "cell_type": "markdown",
   "metadata": {},
   "source": [
    "## Hvorfor prisdiskriminering gir høyere profitt\n",
    "\n",
    "Prisdiskriminering gir høyere profitt fordi det tillater selgeren å fange opp mer av konsumentoverskuddet ved å tilpasse prisen til betalingsvilligheten i hvert marked. \n",
    "\n",
    "Dette fører til at selgeren kan selge flere enheter til høyere priser i markeder med høy betalingsvillighet og fortsatt selge i markeder med lavere betalingsvillighet uten å måtte senke prisen for alle kunder.\n",
    "\n",
    "I dette tilfellet ser vi at profitten ved prisdiskriminering er høyere enn ved uniform prising. Profitten ved prisdiskriminering er 96, mens profitten ved uniform prising er 84.5.\n",
    "\n",
    "En annen ting å legge merke til er at prisen i Europa er lavere enn prisen i USA. Dette er fordi etterspørselen i Europa er lavere enn i USA, og monopolisten må sette en lavere pris for å selge flere enheter i Europa."
   ]
  },
  {
   "cell_type": "code",
   "execution_count": 21,
   "metadata": {},
   "outputs": [
    {
     "name": "stdout",
     "output_type": "stream",
     "text": [
      "Ved prisdiskriminering vil prisen i USA gå opp fra 20 til 17 og prisen i Europa vil gå ned fra 14 til 17\n"
     ]
    }
   ],
   "source": [
    "print(f'Ved prisdiskriminering vil prisen i USA gå opp fra {likevekt_U_pris} til {likevekt_pris} og prisen i Europa vil gå ned fra {likevekt_E_pris} til {likevekt_pris}')"
   ]
  },
  {
   "cell_type": "markdown",
   "metadata": {},
   "source": [
    "## Oppgave monopol og tredjegrads prisdiskriminering\n",
    "\n",
    "a) Vis hvordan en monopolist, som tilbyr sitt produkt til ulike kundesegmenter eller i ulike geografiske områder (med ulik betalingsvillighet), kan bruke prismekanismen til å øke bedriftens lønnsomhet."
   ]
  },
  {
   "cell_type": "markdown",
   "metadata": {},
   "source": [
    "Skriv svaret ditt her."
   ]
  },
  {
   "cell_type": "markdown",
   "metadata": {},
   "source": [
    "b) Forklar hvordan de ulike markedstilpasninger til monopolbedriften vil påvirke det\n",
    "samfunnsøkonomiske overskuddet."
   ]
  },
  {
   "cell_type": "markdown",
   "metadata": {},
   "source": [
    "Skriv svaret ditt her."
   ]
  },
  {
   "cell_type": "markdown",
   "metadata": {},
   "source": [
    "Som styremedlem i hotellet på Sommarøy mener du at bedriften bør bruke prismekanismen til å maksimere sitt overskudd. Erfaringer viser at etterspørselen etter hotellrom er høyere i sommersesongen og noe lavere på vinteren. Hotellet er den eneste tilbyderen av hotellrom i dette området, og står ovenfor følgende etterspørsel: \n",
    "\n",
    "$$\n",
    "Q = 4200 - P_{S}\n",
    "$$\n",
    "\n",
    "$$\n",
    "Q = 1500 - \\frac{P_{V}}{2}\n",
    "$$\n",
    "\n",
    "Som følge av investeringer i nytt hotellbygg har bedriften faste kostander på NOK 2 millioner per år, og konstante variable kostnader på NOK 600 per rom (til vask av rom og sengetøy). Ledelsen ved hotellet skal gjøre en vurdering av sin prisstrategi, hvor de vurderer enten en uniform prising, med lik pris gjennom hele året, eller en diskriminering av pris for de ulike sesongene.\n",
    "\n",
    "c) Hvilken strategi vil du anbefale ledelsen? Hva blir overskuddet til bedriften ved de to ulike prisstrategiene?"
   ]
  },
  {
   "cell_type": "code",
   "execution_count": 22,
   "metadata": {},
   "outputs": [],
   "source": [
    "# Skriv svaret ditt her"
   ]
  }
 ],
 "metadata": {
  "kernelspec": {
   "display_name": "Python 3",
   "language": "python",
   "name": "python3"
  },
  "language_info": {
   "codemirror_mode": {
    "name": "ipython",
    "version": 3
   },
   "file_extension": ".py",
   "mimetype": "text/x-python",
   "name": "python",
   "nbconvert_exporter": "python",
   "pygments_lexer": "ipython3",
   "version": "3.11.1"
  }
 },
 "nbformat": 4,
 "nbformat_minor": 2
}