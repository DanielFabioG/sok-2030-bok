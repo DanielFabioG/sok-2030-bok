{
 "cells": [
  {
   "cell_type": "markdown",
   "id": "6589e93d",
   "metadata": {},
   "source": [
    "## Løsningsforslag- horisontal og vertikal fusjon\n",
    "\n",
    "### Oppgave\n",
    "\n",
    "Bakeribransjen i Nord-Norge består av to bakeri, Bakehuset AS og Bakst AS. Disse to produksjonsbedriftene kjøper mel fra Mølleren AS, som har monopol på salg av mel i Nord-Norge. Både Bakst og Bakehuset selger sine produkter til dagligvarekjedene Norges gruppen, Coop og Rema. \n",
    "\n",
    "Etterspørselen etter ferske bakervarer fra dagligvarekjedene er $P = 50 - (q_1 + q_2)$, hvor $q_1$ er produsert kvantum fra Bakehuset og $q_2$ er kvantum fra Bakst. $P$ er prisen på bakervarene som selges til\n",
    "dagligvarekjedene.\n",
    "\n",
    "Begge bakeriene har konstante marginalkostnader i produksjon på $k$ = 5, i tillegg til kostnader for kjøp av mel fra Mølleren. For produksjon av mel hos Mølleren er marginalkostnaden lik $c$ = 5. I produksjon av bakervarer bestemmes kvantum først og deretter settes markedsprisen.\n",
    "\n",
    "På siste strategisamling i Bakehuset har styret diskutert om de kan gjøre strukturendringer i produksjonen for å forbedre lønnsomheten til bakeriet. Ledelsen i selskapet har lagt frem to forslag:\n",
    "\n",
    "1. For å styrke sin forhandlingsposisjon til dagligvarekjedene, og dermed oppnå høyere pris fra\n",
    "dagligvarebutikkene, vurderer de å fusjonere med sin konkurrent Bakst.\n",
    "\n",
    "2. En annen mulighet for å styrke sin markedsposisjon og samtidig oppnå lavere\n",
    "produksjonskostnader er å fusjonere med leverandørbedriften Mølleren.\n",
    "\n",
    "a) Hvilken av disse to forslagene vil du, som styremedlem i Bakehuset AS, anbefale ledelsen av\n",
    "bedriften å gjennomføre?"
   ]
  },
  {
   "cell_type": "code",
   "execution_count": 1,
   "id": "c01e914b",
   "metadata": {},
   "outputs": [],
   "source": [
    "import numpy as np\n",
    "import sympy as sp"
   ]
  },
  {
   "cell_type": "markdown",
   "id": "f27b22e0",
   "metadata": {},
   "source": [
    "\n",
    "##  Del 1\n",
    "\n",
    "Vi starter med å finne optimal tilpasning i markedet, hvor vi har en oppstrømsbedrift (Mølleren) og to nedstrømsbedrifter (Bakehuset og Bakst). \n",
    "\n",
    "På trinn 2 finner vi likevekt ved Cournot konkurranse, og på trinn 1 finner vi prisen på mel fra Mølleren AS til bakeriene."
   ]
  },
  {
   "cell_type": "code",
   "execution_count": 2,
   "id": "ff0efe1d",
   "metadata": {},
   "outputs": [
    {
     "data": {
      "text/latex": [
       "$\\displaystyle q_{1} + q_{2} = 50 - P$"
      ],
      "text/plain": [
       "Eq(q_1 + q_2, 50 - P)"
      ]
     },
     "metadata": {},
     "output_type": "display_data"
    },
    {
     "data": {
      "text/latex": [
       "$\\displaystyle - q_{1} - q_{2} + 50$"
      ],
      "text/plain": [
       "-q_1 - q_2 + 50"
      ]
     },
     "metadata": {},
     "output_type": "display_data"
    }
   ],
   "source": [
    "# Definerer symboler\n",
    "P,Q,q_1,q_2,q_3,b,c,a,w,k = sp.symbols('P Q q_1 q_2 q_3 b c a w k')\n",
    "\n",
    "# Q = q_1 + q_2\n",
    "Q = (q_1 + q_2)\n",
    "a = 50\n",
    "c = 5\n",
    "k = 5\n",
    "# Definerer etterspørselsfunksjonen\n",
    "Etterspørsel = sp.Eq(Q, a-P)\n",
    "\n",
    "# Løser for P\n",
    "Invers_etterspørsel = sp.solve(Etterspørsel, P)[0]\n",
    "\n",
    "# Viser løsningene\n",
    "display(Etterspørsel, Invers_etterspørsel)"
   ]
  },
  {
   "cell_type": "code",
   "execution_count": 3,
   "id": "c56b3791",
   "metadata": {},
   "outputs": [
    {
     "data": {
      "text/latex": [
       "$\\displaystyle q_{1} \\left(- q_{1} - q_{2} + 50\\right)$"
      ],
      "text/plain": [
       "q_1*(-q_1 - q_2 + 50)"
      ]
     },
     "metadata": {},
     "output_type": "display_data"
    },
    {
     "data": {
      "text/latex": [
       "$\\displaystyle q_{2} \\left(- q_{1} - q_{2} + 50\\right)$"
      ],
      "text/plain": [
       "q_2*(-q_1 - q_2 + 50)"
      ]
     },
     "metadata": {},
     "output_type": "display_data"
    }
   ],
   "source": [
    "# Multipliserer prisen med kvantumet for å finne totalinntekten\n",
    "TR_1 = Invers_etterspørsel*q_1\n",
    "TR_2 = Invers_etterspørsel*q_2\n",
    "\n",
    "# Viser totalinntekten\n",
    "display(TR_1, TR_2)"
   ]
  },
  {
   "cell_type": "code",
   "execution_count": 4,
   "id": "b0f182d9",
   "metadata": {},
   "outputs": [
    {
     "data": {
      "text/latex": [
       "$\\displaystyle - 2 q_{1} - q_{2} + 50$"
      ],
      "text/plain": [
       "-2*q_1 - q_2 + 50"
      ]
     },
     "metadata": {},
     "output_type": "display_data"
    },
    {
     "data": {
      "text/latex": [
       "$\\displaystyle - q_{1} - 2 q_{2} + 50$"
      ],
      "text/plain": [
       "-q_1 - 2*q_2 + 50"
      ]
     },
     "metadata": {},
     "output_type": "display_data"
    }
   ],
   "source": [
    "# Deriverer totalinntekten for å finne marginalinntekten\n",
    "MR_1 = sp.diff(TR_1, q_1)\n",
    "MR_2 = sp.diff(TR_2, q_2)\n",
    "\n",
    "# Viser marginalinntekten\n",
    "display(sp.simplify(MR_1), sp.simplify(MR_2))"
   ]
  },
  {
   "cell_type": "code",
   "execution_count": 5,
   "id": "e22dfc2d",
   "metadata": {},
   "outputs": [
    {
     "data": {
      "text/latex": [
       "$\\displaystyle - 2 q_{1} - q_{2} + 50 = w + 5$"
      ],
      "text/plain": [
       "Eq(-2*q_1 - q_2 + 50, w + 5)"
      ]
     },
     "metadata": {},
     "output_type": "display_data"
    },
    {
     "data": {
      "text/latex": [
       "$\\displaystyle - q_{1} - 2 q_{2} + 50 = w + 5$"
      ],
      "text/plain": [
       "Eq(-q_1 - 2*q_2 + 50, w + 5)"
      ]
     },
     "metadata": {},
     "output_type": "display_data"
    }
   ],
   "source": [
    "# Her trenger vi å sette marginalkostnaden for hver bedrift MC = k + w\n",
    "MC = k + w\n",
    "\n",
    "# Setter marginalinntekten lik kostnaden\n",
    "likevekt_q1 = sp.Eq(MR_1, MC)\n",
    "likevekt_q2 = sp.Eq(MR_2, MC)\n",
    "\n",
    "display(likevekt_q1, likevekt_q2)"
   ]
  },
  {
   "cell_type": "code",
   "execution_count": 6,
   "id": "5f58a8dc",
   "metadata": {},
   "outputs": [
    {
     "data": {
      "text/latex": [
       "$\\displaystyle - \\frac{q_{2}}{2} - \\frac{w}{2} + \\frac{45}{2}$"
      ],
      "text/plain": [
       "-q_2/2 - w/2 + 45/2"
      ]
     },
     "execution_count": 6,
     "metadata": {},
     "output_type": "execute_result"
    }
   ],
   "source": [
    "# Løser for q1 for å finne reaksjonsfunksjon til bedrift 1\n",
    "RF_1 = sp.solve(likevekt_q1, q_1)[0]\n",
    "\n",
    "RF_1"
   ]
  },
  {
   "cell_type": "code",
   "execution_count": 7,
   "id": "ccf1f5f8",
   "metadata": {},
   "outputs": [
    {
     "data": {
      "text/latex": [
       "$\\displaystyle - \\frac{q_{1}}{2} - \\frac{w}{2} + \\frac{45}{2}$"
      ],
      "text/plain": [
       "-q_1/2 - w/2 + 45/2"
      ]
     },
     "execution_count": 7,
     "metadata": {},
     "output_type": "execute_result"
    }
   ],
   "source": [
    "# Løser for q2 for å finne reaksjonsfunksjon til bedrift 2\n",
    "RF_2 = sp.solve(likevekt_q2, q_2)[0]\n",
    "\n",
    "RF_2"
   ]
  },
  {
   "cell_type": "code",
   "execution_count": 8,
   "id": "4b4608e3",
   "metadata": {},
   "outputs": [
    {
     "data": {
      "text/latex": [
       "$\\displaystyle q_{1} = \\frac{q_{1}}{4} - \\frac{w}{4} + \\frac{45}{4}$"
      ],
      "text/plain": [
       "Eq(q_1, q_1/4 - w/4 + 45/4)"
      ]
     },
     "execution_count": 8,
     "metadata": {},
     "output_type": "execute_result"
    }
   ],
   "source": [
    "# Setter uttrykk for RF_2 inn i RF_1 for å finne likevektskvantum\n",
    "likevekt_eq = sp.Eq(q_1, RF_1.subs(q_2, RF_2))\n",
    "likevekt_eq"
   ]
  },
  {
   "cell_type": "code",
   "execution_count": 9,
   "id": "c4a7ec2a",
   "metadata": {},
   "outputs": [
    {
     "data": {
      "text/latex": [
       "$\\displaystyle 15 - \\frac{w}{3}$"
      ],
      "text/plain": [
       "15 - w/3"
      ]
     },
     "metadata": {},
     "output_type": "display_data"
    },
    {
     "data": {
      "text/latex": [
       "$\\displaystyle 15 - \\frac{w}{3}$"
      ],
      "text/plain": [
       "15 - w/3"
      ]
     },
     "metadata": {},
     "output_type": "display_data"
    }
   ],
   "source": [
    "# Løser symmetrisk likevekt for q1 og q2\n",
    "optimal_q1 = sp.solve(likevekt_eq, q_1)[0]\n",
    "\n",
    "optimal_q2 = RF_2.subs(q_1, optimal_q1)\n",
    "\n",
    "\n",
    "display(optimal_q1, optimal_q2)"
   ]
  },
  {
   "cell_type": "code",
   "execution_count": 10,
   "id": "346b2dec",
   "metadata": {},
   "outputs": [
    {
     "data": {
      "text/latex": [
       "$\\displaystyle 45 - \\frac{3 Q}{2}$"
      ],
      "text/plain": [
       "45 - 3*Q/2"
      ]
     },
     "execution_count": 10,
     "metadata": {},
     "output_type": "execute_result"
    }
   ],
   "source": [
    "# Må definere Q på nytt for å løse for w siden orginal Q er definert som q_1 + q_2\n",
    "Q = sp.Symbol('Q')\n",
    "\n",
    "# Løser for w, dette er prisen for for innsatsfaktoren til oppstrømsbedriften Møller\n",
    "\n",
    "# Og dette blir invers etterspørsel for Møller\n",
    "optimal_w = sp.solve(sp.Eq(optimal_q1 + optimal_q2, Q), w)[0]\n",
    "\n",
    "optimal_w"
   ]
  },
  {
   "cell_type": "code",
   "execution_count": 11,
   "id": "1ed4d7c1",
   "metadata": {},
   "outputs": [
    {
     "data": {
      "text/latex": [
       "$\\displaystyle 45 - 3 Q$"
      ],
      "text/plain": [
       "45 - 3*Q"
      ]
     },
     "execution_count": 11,
     "metadata": {},
     "output_type": "execute_result"
    }
   ],
   "source": [
    "# Deriverer totalinntekten for å finne marginalinntekten for møller\n",
    "marginalinntekt_m = sp.diff(optimal_w*Q,Q)\n",
    "\n",
    "marginalinntekt_m"
   ]
  },
  {
   "cell_type": "code",
   "execution_count": 12,
   "id": "8cb8bf99",
   "metadata": {},
   "outputs": [
    {
     "data": {
      "text/latex": [
       "$\\displaystyle 45 - 3 Q = 5$"
      ],
      "text/plain": [
       "Eq(45 - 3*Q, 5)"
      ]
     },
     "metadata": {},
     "output_type": "display_data"
    }
   ],
   "source": [
    "# Setter marginalinntekten lik kostnaden til Møller\n",
    "likevekt_m = sp.Eq(marginalinntekt_m, c)\n",
    "\n",
    "display(likevekt_m)"
   ]
  },
  {
   "cell_type": "code",
   "execution_count": 13,
   "id": "8e695692",
   "metadata": {},
   "outputs": [
    {
     "data": {
      "text/latex": [
       "$\\displaystyle 13.33$"
      ],
      "text/plain": [
       "13.33"
      ]
     },
     "metadata": {},
     "output_type": "display_data"
    },
    {
     "data": {
      "text/latex": [
       "$\\displaystyle 6.67$"
      ],
      "text/plain": [
       "6.67"
      ]
     },
     "metadata": {},
     "output_type": "display_data"
    }
   ],
   "source": [
    "# Nå kan vi finne optimalt kvantum Q, pris fra Møller til bakeriene w, kvantum til hvert av bakeriene og pris fra bakeriene til kundene\n",
    "opt_q_m = sp.solve(likevekt_m, Q)[0]\n",
    "\n",
    "# Totalt optimalt kvantum Q\n",
    "display(round(opt_q_m,2))\n",
    "\n",
    "# Og for hvert bakeri blir optimalt kvantum delt på to\n",
    "kvantum_hvert_bakeri = opt_q_m/2\n",
    "\n",
    "display(round(kvantum_hvert_bakeri,2))"
   ]
  },
  {
   "cell_type": "code",
   "execution_count": 14,
   "id": "dc3632ad",
   "metadata": {},
   "outputs": [
    {
     "data": {
      "text/latex": [
       "$\\displaystyle 25$"
      ],
      "text/plain": [
       "25"
      ]
     },
     "execution_count": 14,
     "metadata": {},
     "output_type": "execute_result"
    }
   ],
   "source": [
    "# Setter inn optimalt kvantum i w for å finne prisen fra Møller til bakeriene\n",
    "opt_w = optimal_w.subs(Q, opt_q_m)\n",
    "\n",
    "round(opt_w,2)"
   ]
  },
  {
   "cell_type": "code",
   "execution_count": 15,
   "id": "0bc97bbe",
   "metadata": {},
   "outputs": [
    {
     "data": {
      "text/latex": [
       "$\\displaystyle 36.67$"
      ],
      "text/plain": [
       "36.67"
      ]
     },
     "execution_count": 15,
     "metadata": {},
     "output_type": "execute_result"
    }
   ],
   "source": [
    "# Setter inn kvantum for hvert bakeri i invers etterspørsel for å finne prisen fra bakeriene til kundene\n",
    "opt_P = Invers_etterspørsel.subs({q_1:kvantum_hvert_bakeri, q_2:kvantum_hvert_bakeri})\n",
    "\n",
    "round(opt_P,2)"
   ]
  },
  {
   "cell_type": "code",
   "execution_count": 16,
   "id": "2c711a4e",
   "metadata": {},
   "outputs": [
    {
     "data": {
      "text/latex": [
       "$\\displaystyle 44.44$"
      ],
      "text/plain": [
       "44.44"
      ]
     },
     "execution_count": 16,
     "metadata": {},
     "output_type": "execute_result"
    }
   ],
   "source": [
    "# Til slutt finner vi profitten til begge bakeriene\n",
    "profitt_per_bakeri = (opt_P - (k+opt_w) )*kvantum_hvert_bakeri\n",
    "\n",
    "# Vi finner at begge bakeriene blir å ha en profitt på (44.44x1000) hver\n",
    "round(profitt_per_bakeri,2)"
   ]
  },
  {
   "cell_type": "markdown",
   "id": "50000ebe",
   "metadata": {},
   "source": [
    "## Del 2\n",
    "\n",
    "Vi ser så på markedstilpasningen ved en fusjon mellom Bakst og Bakehuset; hvor vi da får monopol både i oppstrøms- og nedstrømsmarkedet"
   ]
  },
  {
   "cell_type": "code",
   "execution_count": 17,
   "id": "e3a9ccc6",
   "metadata": {},
   "outputs": [
    {
     "data": {
      "text/latex": [
       "$\\displaystyle Q = 50 - P$"
      ],
      "text/plain": [
       "Eq(Q, 50 - P)"
      ]
     },
     "metadata": {},
     "output_type": "display_data"
    },
    {
     "data": {
      "text/latex": [
       "$\\displaystyle 50 - Q$"
      ],
      "text/plain": [
       "50 - Q"
      ]
     },
     "metadata": {},
     "output_type": "display_data"
    }
   ],
   "source": [
    "# Trinn 2:\n",
    "\n",
    "# Definerer etterspørselsfunksjonen\n",
    "Etterspørsel = sp.Eq(Q, a-P)\n",
    "\n",
    "# Løser for P\n",
    "Invers_etterspørsel = sp.solve(Etterspørsel, P)[0]\n",
    "\n",
    "# Viser løsningene\n",
    "display(Etterspørsel, Invers_etterspørsel)"
   ]
  },
  {
   "cell_type": "code",
   "execution_count": 18,
   "id": "4d9f67af",
   "metadata": {},
   "outputs": [
    {
     "data": {
      "text/latex": [
       "$\\displaystyle Q \\left(50 - Q\\right)$"
      ],
      "text/plain": [
       "Q*(50 - Q)"
      ]
     },
     "metadata": {},
     "output_type": "display_data"
    }
   ],
   "source": [
    "# Multipliserer prisen med kvantumet for å finne totalinntekten\n",
    "TR = Invers_etterspørsel*Q\n",
    "\n",
    "\n",
    "# Viser totalinntekten\n",
    "display(TR)"
   ]
  },
  {
   "cell_type": "code",
   "execution_count": 19,
   "id": "d18970ed",
   "metadata": {},
   "outputs": [
    {
     "data": {
      "text/latex": [
       "$\\displaystyle 50 - 2 Q$"
      ],
      "text/plain": [
       "50 - 2*Q"
      ]
     },
     "execution_count": 19,
     "metadata": {},
     "output_type": "execute_result"
    }
   ],
   "source": [
    "# Deriverer totalinntekten for å finne marginalinntekten\n",
    "MR = sp.diff(TR, Q)\n",
    "\n",
    "# Viser marginalinntekten\n",
    "MR"
   ]
  },
  {
   "cell_type": "code",
   "execution_count": 20,
   "id": "c934a226",
   "metadata": {},
   "outputs": [
    {
     "data": {
      "text/latex": [
       "$\\displaystyle 50 - 2 Q = w + 5$"
      ],
      "text/plain": [
       "Eq(50 - 2*Q, w + 5)"
      ]
     },
     "metadata": {},
     "output_type": "display_data"
    }
   ],
   "source": [
    "# Setter marginalinntekten lik kostnaden\n",
    "likevekt = sp.Eq(MR, MC)\n",
    "\n",
    "display(likevekt)"
   ]
  },
  {
   "cell_type": "code",
   "execution_count": 21,
   "id": "6eafbc24",
   "metadata": {},
   "outputs": [
    {
     "data": {
      "text/latex": [
       "$\\displaystyle \\frac{45}{2} - \\frac{w}{2}$"
      ],
      "text/plain": [
       "45/2 - w/2"
      ]
     },
     "execution_count": 21,
     "metadata": {},
     "output_type": "execute_result"
    }
   ],
   "source": [
    "# Løser likevekt for Q\n",
    "q_M = sp.solve(likevekt, Q)[0]\n",
    "\n",
    "q_M"
   ]
  },
  {
   "cell_type": "code",
   "execution_count": 22,
   "id": "4c4a258b",
   "metadata": {},
   "outputs": [
    {
     "data": {
      "text/latex": [
       "$\\displaystyle 45 - 2 Q$"
      ],
      "text/plain": [
       "45 - 2*Q"
      ]
     },
     "execution_count": 22,
     "metadata": {},
     "output_type": "execute_result"
    }
   ],
   "source": [
    "# Løser for w og finner invers etterspørsel igjen\n",
    "w_sol = sp.solve(likevekt,w)[0]\n",
    "\n",
    "w_sol"
   ]
  },
  {
   "cell_type": "code",
   "execution_count": 23,
   "id": "0248620b",
   "metadata": {},
   "outputs": [
    {
     "data": {
      "text/latex": [
       "$\\displaystyle 45 - 4 Q$"
      ],
      "text/plain": [
       "45 - 4*Q"
      ]
     },
     "execution_count": 23,
     "metadata": {},
     "output_type": "execute_result"
    }
   ],
   "source": [
    "# Deriverer totalinntekten for å finne marginalinntekten for Møller\n",
    "marginalinntekt_monopol = sp.diff(w_sol*Q,Q)\n",
    "\n",
    "marginalinntekt_monopol"
   ]
  },
  {
   "cell_type": "code",
   "execution_count": 24,
   "id": "25383d70",
   "metadata": {},
   "outputs": [
    {
     "data": {
      "text/latex": [
       "$\\displaystyle 45 - 4 Q = 5$"
      ],
      "text/plain": [
       "Eq(45 - 4*Q, 5)"
      ]
     },
     "metadata": {},
     "output_type": "display_data"
    }
   ],
   "source": [
    "# Setter marginalinntekten lik kostnaden til Møller\n",
    "likevekt_monopol = sp.Eq(marginalinntekt_monopol, c)\n",
    "\n",
    "display(likevekt_monopol)"
   ]
  },
  {
   "cell_type": "code",
   "execution_count": 25,
   "id": "8bdb7862",
   "metadata": {},
   "outputs": [
    {
     "data": {
      "text/latex": [
       "$\\displaystyle 10$"
      ],
      "text/plain": [
       "10"
      ]
     },
     "metadata": {},
     "output_type": "display_data"
    }
   ],
   "source": [
    "# Nå kan vi finne optimalt kvantum Q, pris fra Møller til bakeriene w, kvantum til hvert av bakeriene og pris fra bakeriene til kundene\n",
    "opt_q_m = sp.solve(likevekt_monopol, Q)[0]\n",
    "\n",
    "# Totalt optimalt kvantum Q\n",
    "display(round(opt_q_m,2))"
   ]
  },
  {
   "cell_type": "code",
   "execution_count": 26,
   "id": "aba27c81",
   "metadata": {},
   "outputs": [
    {
     "data": {
      "text/latex": [
       "$\\displaystyle 40$"
      ],
      "text/plain": [
       "40"
      ]
     },
     "metadata": {},
     "output_type": "display_data"
    }
   ],
   "source": [
    "# Optimal pris blir\n",
    "opt_P_monopol = Invers_etterspørsel.subs(Q, opt_q_m)\n",
    "\n",
    "display(round(opt_P_monopol,2))"
   ]
  },
  {
   "cell_type": "code",
   "execution_count": 27,
   "id": "510e9656",
   "metadata": {},
   "outputs": [
    {
     "data": {
      "text/latex": [
       "$\\displaystyle 100$"
      ],
      "text/plain": [
       "100"
      ]
     },
     "metadata": {},
     "output_type": "display_data"
    }
   ],
   "source": [
    "# Profitt for etter de to bakeriene blir fusjonert til en monopolist\n",
    "profitt_m = (opt_P_monopol - (k+opt_w) )*opt_q_m\n",
    "\n",
    "display(round(profitt_m,2))"
   ]
  },
  {
   "cell_type": "code",
   "execution_count": 28,
   "id": "07f16dcd",
   "metadata": {},
   "outputs": [
    {
     "data": {
      "text/latex": [
       "$\\displaystyle 200$"
      ],
      "text/plain": [
       "200"
      ]
     },
     "metadata": {},
     "output_type": "display_data"
    }
   ],
   "source": [
    "# Profitt til Møller, oppstrømsbedriften etter monopol i bakeriene\n",
    "profitt_m = (opt_w - c )*opt_q_m\n",
    "\n",
    "display(round(profitt_m,2))"
   ]
  },
  {
   "cell_type": "markdown",
   "id": "c5c41534",
   "metadata": {},
   "source": [
    "## Del 3\n",
    "\n",
    "Vi ser nå på fusjon mellom Bakehuset og leverandørbedriften Mølleren, det vil si vertikal fusjon."
   ]
  },
  {
   "cell_type": "code",
   "execution_count": 29,
   "id": "2bfdfbc5",
   "metadata": {},
   "outputs": [
    {
     "data": {
      "text/latex": [
       "$\\displaystyle 50 - 2 Q = 10$"
      ],
      "text/plain": [
       "Eq(50 - 2*Q, 10)"
      ]
     },
     "metadata": {},
     "output_type": "display_data"
    }
   ],
   "source": [
    "# Vi har regnet ut Marginalkostnadene og marginalinntektene, så vi trenger ikke regne ut det på nytt\n",
    "\n",
    "# Men marginalkostnaden endrer seg til MC = k + c\n",
    "MC = k + c\n",
    "\n",
    "likevekt_vert = sp.Eq(MR, MC)\n",
    "\n",
    "display(likevekt_vert)"
   ]
  },
  {
   "cell_type": "code",
   "execution_count": 30,
   "id": "f0a67141",
   "metadata": {},
   "outputs": [
    {
     "data": {
      "text/latex": [
       "$\\displaystyle 20$"
      ],
      "text/plain": [
       "20"
      ]
     },
     "execution_count": 30,
     "metadata": {},
     "output_type": "execute_result"
    }
   ],
   "source": [
    "# Løser for Q\n",
    "q_M = sp.solve(likevekt_vert, Q)[0]\n",
    "\n",
    "q_M"
   ]
  },
  {
   "cell_type": "code",
   "execution_count": 31,
   "id": "8e78703c",
   "metadata": {},
   "outputs": [
    {
     "data": {
      "text/latex": [
       "$\\displaystyle 30$"
      ],
      "text/plain": [
       "30"
      ]
     },
     "metadata": {},
     "output_type": "display_data"
    }
   ],
   "source": [
    "# Løser for pris\n",
    "opt_P_vert = Invers_etterspørsel.subs(Q, q_M)\n",
    "\n",
    "display(round(opt_P_vert,2))"
   ]
  },
  {
   "cell_type": "code",
   "execution_count": 32,
   "id": "59b38c7f",
   "metadata": {},
   "outputs": [
    {
     "data": {
      "text/latex": [
       "$\\displaystyle 400$"
      ],
      "text/plain": [
       "400"
      ]
     },
     "metadata": {},
     "output_type": "display_data"
    }
   ],
   "source": [
    "# Profitt\n",
    "profitt_vert = (opt_P_vert - (k+c) )*q_M\n",
    "\n",
    "display(round(profitt_vert,2))"
   ]
  },
  {
   "cell_type": "markdown",
   "id": "4b107ae9",
   "metadata": {},
   "source": [
    "Oppsummert finner vi at ved horisontal fusjon får Bakehuset lavere profitt på 100 000, mens ved vertikal fusjon og monopol i oppstrømsmarkedet får Bakehuset en høyere profitt på 400 000. \n",
    "\n",
    "b)\tHva blir de samfunnsøkonomiske effektene av disse to forslagene som ledelsen i Bakehuset har presentert?\n",
    "\n",
    "\n",
    "Til en pris $w = 25$ finner heller ikke Bakst det lønnsomt å være med i markedet.\n",
    "\n",
    "Så den fusjonerte bedriften vil ha monopol i oppstrømsmarkedet og monopol i nedstrømsmarkedet."
   ]
  }
 ],
 "metadata": {
  "kernelspec": {
   "display_name": "Python 3",
   "language": "python",
   "name": "python3"
  },
  "language_info": {
   "codemirror_mode": {
    "name": "ipython",
    "version": 3
   },
   "file_extension": ".py",
   "mimetype": "text/x-python",
   "name": "python",
   "nbconvert_exporter": "python",
   "pygments_lexer": "ipython3",
   "version": "3.11.1"
  }
 },
 "nbformat": 4,
 "nbformat_minor": 5
}