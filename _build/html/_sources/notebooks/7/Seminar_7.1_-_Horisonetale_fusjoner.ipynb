{
 "cells": [
  {
   "cell_type": "markdown",
   "id": "fbf4471d",
   "metadata": {},
   "source": [
    "# Seminar 7.1: Horisontale fusjoner"
   ]
  },
  {
   "cell_type": "code",
   "execution_count": 29,
   "id": "37ec0d7c",
   "metadata": {},
   "outputs": [],
   "source": [
    "import numpy as np\n",
    "import sympy as sp"
   ]
  },
  {
   "cell_type": "markdown",
   "id": "44ca6b12",
   "metadata": {},
   "source": [
    "## Horisontale fusjoner og fusjonsparadokset\n",
    "\n",
    "I dette seminaret skal vi begynne med å se på horisontale fusjoner og fusjonsparadokset. Vi antar at vi har tre bedrifter som konkurrerer med kvantum som strategisk variabel. Når de har kvantum som strategisk variabel, så burde det nå forhåpentligvis falle naturlig å tenke på Cournot-modellen.\n",
    "\n",
    "Vi har en etterspørsel som er gitt ved:\n",
    "\n",
    "$$\n",
    "Q = 150 - P\n",
    "$$\n",
    "\n",
    "der $Q$ er mengden som etterspørres, $P$ er prisen.\n",
    "\n",
    "Tidligere har vi sett på en Cournot-modell med to bedrifter, mens nå skal vi se på en Cournot-modell med tre bedrifter.\n",
    "\n",
    "Marginalkostnaden er konstant og lik $MC = 30$ for alle tre bedrifter. Vi antar at de tre bedriftene har samme kostnadsstruktur, og noen ganger defineres dette også som $c$, eller bare kostnad, så man ikke blir forvirret.\n",
    "\n",
    "Vi starter med å finne invers etterspørsel for å finne prisen som funksjon av mengden som produseres. Denne er gitt ved å løse etterspørsel for $P$:\n",
    "\n",
    "$$\n",
    "Q = 150 - P  \\Rightarrow P = 150 - Q\n",
    "$$\n",
    "\n",
    "Vi må også huske at siden vi har tre bedrifter, så er den totale mengden som produseres $Q = q_1 + q_2 + q_3$, der $q_i$ er mengden produsert av bedrift $i$.\n",
    "\n",
    "Vi kan nå skrive om prisen som funksjon av $q_1$, $q_2$ og $q_3$:\n",
    "\n",
    "$$\n",
    "P = 150 - (q_1 + q_2 + q_3)\n",
    "$$\n",
    "\n",
    "## Totalinntekt og marginalinntekt\n",
    "\n",
    "Finner så totalinntekten til hver bedrift, som er gitt ved prisen ganget med kvantum:\n",
    "\n",
    "$$\n",
    "TR_i = P \\cdot q_i = (150 - (q_1 + q_2 + q_3)) \\cdot q_i \\Rightarrow TR_i = 150 q_i - q_i (q_1 + q_2 + q_3)\n",
    "$$\n",
    "\n",
    "Finner så marginalinntekten, som er den deriverte av totalinntekten med hensyn på $q_i$:\n",
    "\n",
    "$$\n",
    "\\frac{dTR_i}{dq_i} = 150 - (q_1 + q_2 + q_3) - q_i \\Rightarrow MR_i = 150 - (q_1 + q_2 + q_3) - q_i\n",
    "$$\n",
    "\n",
    "For hver bedrift er marginalinntekten lik prisen minus $q_i$, som er mengden produsert av bedrift $i$.\n",
    "\n",
    "Vi kan også skrive dette som:\n",
    "\n",
    "$$\n",
    "MR_i = P - q_i\n",
    "$$\n",
    "\n",
    "Og for hver enkelte bedrift ser det slik ut:\n",
    "\n",
    "$$\n",
    "MR_1 =  - 2 q_{1} - q_{2} - q_{3} + 150\n",
    "$$\n",
    "\n",
    "$$\n",
    "MR_2 =  - q_{1} - 2 q_{2} - q_{3} + 150\n",
    "$$\n",
    "\n",
    "$$\n",
    "MR_3 =  - q_{1} - q_{2} - 2 q_{3} + 150\n",
    "$$\n"
   ]
  },
  {
   "cell_type": "code",
   "execution_count": 30,
   "id": "c460c102",
   "metadata": {},
   "outputs": [
    {
     "data": {
      "text/latex": [
       "$\\displaystyle q_{1} + q_{2} + q_{3} = 150 - P$"
      ],
      "text/plain": [
       "Eq(q_1 + q_2 + q_3, 150 - P)"
      ]
     },
     "metadata": {},
     "output_type": "display_data"
    },
    {
     "data": {
      "text/latex": [
       "$\\displaystyle - q_{1} - q_{2} - q_{3} + 150$"
      ],
      "text/plain": [
       "-q_1 - q_2 - q_3 + 150"
      ]
     },
     "metadata": {},
     "output_type": "display_data"
    }
   ],
   "source": [
    "# Definerer symboler\n",
    "P,Q,q_1,q_2,q_3,b,c = sp.symbols('P Q q_1 q_2 q_3 b c')\n",
    "\n",
    "# Q = q_1 + q_2\n",
    "Q = (q_1 + q_2 + q_3)\n",
    "\n",
    "# Definerer etterspørselsfunksjonen\n",
    "Etterspørsel = sp.Eq(Q, 150-P)\n",
    "\n",
    "# Løser for P\n",
    "Invers_etterspørsel = sp.solve(Etterspørsel, P)[0]\n",
    "\n",
    "# Viser løsningene\n",
    "display(Etterspørsel, Invers_etterspørsel)"
   ]
  },
  {
   "cell_type": "code",
   "execution_count": 31,
   "id": "d9de4764",
   "metadata": {},
   "outputs": [
    {
     "data": {
      "text/latex": [
       "$\\displaystyle q_{1} \\left(- q_{1} - q_{2} - q_{3} + 150\\right)$"
      ],
      "text/plain": [
       "q_1*(-q_1 - q_2 - q_3 + 150)"
      ]
     },
     "metadata": {},
     "output_type": "display_data"
    },
    {
     "data": {
      "text/latex": [
       "$\\displaystyle q_{2} \\left(- q_{1} - q_{2} - q_{3} + 150\\right)$"
      ],
      "text/plain": [
       "q_2*(-q_1 - q_2 - q_3 + 150)"
      ]
     },
     "metadata": {},
     "output_type": "display_data"
    },
    {
     "data": {
      "text/latex": [
       "$\\displaystyle q_{3} \\left(- q_{1} - q_{2} - q_{3} + 150\\right)$"
      ],
      "text/plain": [
       "q_3*(-q_1 - q_2 - q_3 + 150)"
      ]
     },
     "metadata": {},
     "output_type": "display_data"
    }
   ],
   "source": [
    "# Vanlig metode\n",
    "# Multipliserer prisen med kvantumet for å finne totalinntekten\n",
    "Totalinntekt1 = Invers_etterspørsel*q_1\n",
    "Totalinntekt2 = Invers_etterspørsel*q_2\n",
    "Totalinntekt3 = Invers_etterspørsel*q_3\n",
    "\n",
    "# Viser totalinntekten\n",
    "display(Totalinntekt1, Totalinntekt2, Totalinntekt3)"
   ]
  },
  {
   "cell_type": "code",
   "execution_count": 32,
   "id": "9c648d83",
   "metadata": {},
   "outputs": [
    {
     "data": {
      "text/latex": [
       "$\\displaystyle q_{1} \\left(- q_{1} - q_{2} - q_{3} + 150\\right)$"
      ],
      "text/plain": [
       "q_1*(-q_1 - q_2 - q_3 + 150)"
      ]
     },
     "metadata": {},
     "output_type": "display_data"
    },
    {
     "data": {
      "text/latex": [
       "$\\displaystyle q_{2} \\left(- q_{1} - q_{2} - q_{3} + 150\\right)$"
      ],
      "text/plain": [
       "q_2*(-q_1 - q_2 - q_3 + 150)"
      ]
     },
     "metadata": {},
     "output_type": "display_data"
    },
    {
     "data": {
      "text/latex": [
       "$\\displaystyle q_{3} \\left(- q_{1} - q_{2} - q_{3} + 150\\right)$"
      ],
      "text/plain": [
       "q_3*(-q_1 - q_2 - q_3 + 150)"
      ]
     },
     "metadata": {},
     "output_type": "display_data"
    }
   ],
   "source": [
    "# Metode 2\n",
    "# Vi kan også gjøre dette i en liste\n",
    "Totalinntekt = [Invers_etterspørsel*q for q in [q_1, q_2, q_3]]\n",
    "\n",
    "# Viser totalinntekten\n",
    "display(Totalinntekt[0], Totalinntekt[1], Totalinntekt[2])"
   ]
  },
  {
   "cell_type": "code",
   "execution_count": 33,
   "id": "d2307ab8",
   "metadata": {},
   "outputs": [
    {
     "data": {
      "text/latex": [
       "$\\displaystyle - 2 q_{1} - q_{2} - q_{3} + 150$"
      ],
      "text/plain": [
       "-2*q_1 - q_2 - q_3 + 150"
      ]
     },
     "metadata": {},
     "output_type": "display_data"
    },
    {
     "data": {
      "text/latex": [
       "$\\displaystyle - q_{1} - 2 q_{2} - q_{3} + 150$"
      ],
      "text/plain": [
       "-q_1 - 2*q_2 - q_3 + 150"
      ]
     },
     "metadata": {},
     "output_type": "display_data"
    },
    {
     "data": {
      "text/latex": [
       "$\\displaystyle - q_{1} - q_{2} - 2 q_{3} + 150$"
      ],
      "text/plain": [
       "-q_1 - q_2 - 2*q_3 + 150"
      ]
     },
     "metadata": {},
     "output_type": "display_data"
    }
   ],
   "source": [
    "# Vanlig metode\n",
    "# Deriverer totalinntekten for å finne marginalinntekten\n",
    "Marginalinntekt_q1 = sp.diff(Totalinntekt1, q_1)\n",
    "Marginalinntekt_q2 = sp.diff(Totalinntekt2, q_2)\n",
    "Marginalinntekt_q3 = sp.diff(Totalinntekt3, q_3)\n",
    "\n",
    "# Viser marginalinntekten\n",
    "display(sp.simplify(Marginalinntekt_q1), sp.simplify(Marginalinntekt_q2), sp.simplify(Marginalinntekt_q3))"
   ]
  },
  {
   "cell_type": "code",
   "execution_count": 34,
   "id": "18e801ea",
   "metadata": {},
   "outputs": [
    {
     "data": {
      "text/latex": [
       "$\\displaystyle - 2 q_{1} - q_{2} - q_{3} + 150$"
      ],
      "text/plain": [
       "-2*q_1 - q_2 - q_3 + 150"
      ]
     },
     "metadata": {},
     "output_type": "display_data"
    },
    {
     "data": {
      "text/latex": [
       "$\\displaystyle - q_{1} - 2 q_{2} - q_{3} + 150$"
      ],
      "text/plain": [
       "-q_1 - 2*q_2 - q_3 + 150"
      ]
     },
     "metadata": {},
     "output_type": "display_data"
    },
    {
     "data": {
      "text/latex": [
       "$\\displaystyle - q_{1} - q_{2} - 2 q_{3} + 150$"
      ],
      "text/plain": [
       "-q_1 - q_2 - 2*q_3 + 150"
      ]
     },
     "metadata": {},
     "output_type": "display_data"
    }
   ],
   "source": [
    "# Metode 2\n",
    "# Vi kan også derivere totalinntekten i en liste\n",
    "Marginalinntekt = [sp.diff(t, q) for t, q in zip(Totalinntekt, [q_1, q_2, q_3])]\n",
    "\n",
    "# Viser totalinntekten\n",
    "display(sp.simplify(Marginalinntekt[0]), Marginalinntekt[1], Marginalinntekt[2])"
   ]
  },
  {
   "cell_type": "markdown",
   "id": "d7512334",
   "metadata": {},
   "source": [
    "## Reaksjonsfunksjoner\n",
    "\n",
    "Nå har vi regnet ut marginalinntekten, og vi kan sette denne lik marginalkostnaden for å finne optimal produksjon for hver bedrift. Vi setter $MR = c$, dvs. $MR = 30$, og løser for kvantum til bedrift $i$:\n",
    "\n",
    "$$\n",
    "MR_i = 150 - (q_1 + q_2 + q_3) - q_i = 30 \\Rightarrow 120 - (q_1 + q_2 + q_3) = q_i \\Rightarrow q_i = 120 - (q_1 + q_2 + q_3)\n",
    "$$\n",
    "\n",
    "Vi kan nå skrive dette som en reaksjonsfunksjon for hver bedrift:\n",
    "\n",
    "$$\n",
    "q_1 = 120 - (q_2 + q_3)\n",
    "$$\n",
    "\n",
    "$$\n",
    "q_2 = 120 - (q_1 + q_3)\n",
    "$$\n",
    "\n",
    "$$\n",
    "q_3 = 120 - (q_1 + q_2)\n",
    "$$\n",
    "\n",
    "## Symmetrisk likevekt\n",
    "\n",
    "Nå har vi tre reaksjonsfunksjoner, og vi kan bruke disse til å finne den symmetriske likevekten. Vi antar at $q_1 = q_2 = q_3 = q^*$, og setter inn i reaksjonsfunksjonen:\n",
    "\n",
    "$$\n",
    "q^* = 120 - (q^* + q^*) \\Rightarrow q^* = 120 - 2q^* \\Rightarrow 3q^* = 120 \\Rightarrow q^* = 30\n",
    "$$\n",
    "\n",
    "Dermed er likevektsproduksjonen for hver bedrift:\n",
    "\n",
    "$$\n",
    "q_{1}^* = q_{2}^* = q_{3}^* = 30\n",
    "$$\n",
    "\n",
    "Og den totale produksjonen er:\n",
    "\n",
    "$$\n",
    "Q^* = q_1^* + q_2^* + q_3^* = 30 + 30 + 30 = 90\n",
    "$$\n",
    "\n",
    "## Likevektspris\n",
    "\n",
    "For å finne likevektsprisen, setter vi inn den totale produksjonen i etterspørselen:\n",
    "\n",
    "Den inverse etterspørselen husker vi at er gitt ved:\n",
    "\n",
    "$$\n",
    "P = 150 - Q\n",
    "$$\n",
    "\n",
    "Og vi setter inn $Q^*$:\n",
    "\n",
    "$$\n",
    "P^* = 150 - Q^* = 150 - 90 = 60\n",
    "$$\n",
    "\n",
    "## Profitt\n",
    "\n",
    "Profitten til en bedrift er gitt ved:\n",
    "\n",
    "$$\n",
    "\\pi_i = P \\cdot q_i - c \\cdot q_i = (P - c) \\cdot q_i\n",
    "$$\n",
    "\n",
    "Vi setter inn for $P$ og $c$:\n",
    "\n",
    "$$\n",
    "\\pi_i = (150 - Q - c) \\cdot q_i = (150 - (q_1 + q_2 + q_3) - 30) \\cdot q_i\n",
    "$$\n",
    "\n",
    "Vi setter inn for $q_1$, $q_2$ og $q_3$:\n",
    "\n",
    "$$\n",
    "\\pi_i = (150 - (q_1 + q_2 + q_3) - 30) \\cdot q_i = (150 - (30 + 30 + 30) - 30) \\cdot q_i = (150 - 90 - 30) \\cdot q_i = 30 \\cdot q_i\n",
    "$$\n",
    "\n",
    "Dermed er profitten til hver bedrift:\n",
    "\n",
    "$$\n",
    "\\pi_i = 30 \\cdot q_i = 30 \\cdot 30 = 900\n",
    "$$"
   ]
  },
  {
   "cell_type": "code",
   "execution_count": 35,
   "id": "e330e843",
   "metadata": {},
   "outputs": [
    {
     "data": {
      "text/latex": [
       "$\\displaystyle - 2 q_{1} - q_{2} - q_{3} + 150 = 30$"
      ],
      "text/plain": [
       "Eq(-2*q_1 - q_2 - q_3 + 150, 30)"
      ]
     },
     "metadata": {},
     "output_type": "display_data"
    },
    {
     "data": {
      "text/latex": [
       "$\\displaystyle - q_{1} - 2 q_{2} - q_{3} + 150 = 30$"
      ],
      "text/plain": [
       "Eq(-q_1 - 2*q_2 - q_3 + 150, 30)"
      ]
     },
     "metadata": {},
     "output_type": "display_data"
    },
    {
     "data": {
      "text/latex": [
       "$\\displaystyle - q_{1} - q_{2} - 2 q_{3} + 150 = 30$"
      ],
      "text/plain": [
       "Eq(-q_1 - q_2 - 2*q_3 + 150, 30)"
      ]
     },
     "metadata": {},
     "output_type": "display_data"
    }
   ],
   "source": [
    "# Vi vet at marginalkostnaden er 30\n",
    "c = 30\n",
    "\n",
    "# Vanlig metode\n",
    "# Setter marginalinntekten lik kostnaden\n",
    "likevekt_q1 = sp.Eq(Marginalinntekt_q1, c)\n",
    "likevekt_q2 = sp.Eq(Marginalinntekt_q2, c)\n",
    "likevekt_q3 = sp.Eq(Marginalinntekt_q3, c)\n",
    "\n",
    "display(likevekt_q1, likevekt_q2, likevekt_q3)"
   ]
  },
  {
   "cell_type": "code",
   "execution_count": 36,
   "id": "bcecdc48",
   "metadata": {},
   "outputs": [
    {
     "data": {
      "text/latex": [
       "$\\displaystyle - 2 q_{1} - q_{2} - q_{3} + 150 = 30$"
      ],
      "text/plain": [
       "Eq(-2*q_1 - q_2 - q_3 + 150, 30)"
      ]
     },
     "metadata": {},
     "output_type": "display_data"
    },
    {
     "data": {
      "text/latex": [
       "$\\displaystyle - q_{1} - 2 q_{2} - q_{3} + 150 = 30$"
      ],
      "text/plain": [
       "Eq(-q_1 - 2*q_2 - q_3 + 150, 30)"
      ]
     },
     "metadata": {},
     "output_type": "display_data"
    },
    {
     "data": {
      "text/latex": [
       "$\\displaystyle - q_{1} - q_{2} - 2 q_{3} + 150 = 30$"
      ],
      "text/plain": [
       "Eq(-q_1 - q_2 - 2*q_3 + 150, 30)"
      ]
     },
     "metadata": {},
     "output_type": "display_data"
    }
   ],
   "source": [
    "# Metode 2\n",
    "# Vi kan også sette marginalinntekten lik kostnaden i en liste\n",
    "likevekt = [sp.Eq(sp.diff(Totalinntekt[i], q), c) for i, q in enumerate([q_1, q_2, q_3])]\n",
    "\n",
    "# Viser likevektene\n",
    "display(likevekt[0], likevekt[1], likevekt[2])"
   ]
  },
  {
   "cell_type": "code",
   "execution_count": 37,
   "id": "0f209879",
   "metadata": {},
   "outputs": [
    {
     "data": {
      "text/latex": [
       "$\\displaystyle 30$"
      ],
      "text/plain": [
       "30"
      ]
     },
     "metadata": {},
     "output_type": "display_data"
    },
    {
     "data": {
      "text/latex": [
       "$\\displaystyle 30$"
      ],
      "text/plain": [
       "30"
      ]
     },
     "metadata": {},
     "output_type": "display_data"
    },
    {
     "data": {
      "text/latex": [
       "$\\displaystyle 30$"
      ],
      "text/plain": [
       "30"
      ]
     },
     "metadata": {},
     "output_type": "display_data"
    }
   ],
   "source": [
    "# Løser for likevektene og lagrer dem i en liste\n",
    "løsning = sp.solve([likevekt[0], likevekt[1], likevekt[2]], (q_1, q_2, q_3))\n",
    "\n",
    "# Viser løsningene\n",
    "display(løsning[q_1], løsning[q_2], løsning[q_3])"
   ]
  },
  {
   "cell_type": "code",
   "execution_count": 38,
   "id": "2750c362",
   "metadata": {},
   "outputs": [
    {
     "data": {
      "text/latex": [
       "$\\displaystyle 60$"
      ],
      "text/plain": [
       "60"
      ]
     },
     "metadata": {},
     "output_type": "display_data"
    }
   ],
   "source": [
    "# Optimal pris\n",
    "optimal_pris = Invers_etterspørsel.subs(løsning)\n",
    "\n",
    "# Viser optimal pris\n",
    "display(optimal_pris)"
   ]
  },
  {
   "cell_type": "code",
   "execution_count": 39,
   "id": "9d1aea97",
   "metadata": {},
   "outputs": [
    {
     "data": {
      "text/latex": [
       "$\\displaystyle 900$"
      ],
      "text/plain": [
       "900"
      ]
     },
     "metadata": {},
     "output_type": "display_data"
    },
    {
     "data": {
      "text/latex": [
       "$\\displaystyle 2700$"
      ],
      "text/plain": [
       "2700"
      ]
     },
     "metadata": {},
     "output_type": "display_data"
    }
   ],
   "source": [
    "# Profitt for en bedrift\n",
    "profitt = (optimal_pris - c)*løsning[q_1]\n",
    "\n",
    "# Profitt for alle tre bedrifter\n",
    "profitt_alle = (optimal_pris - c)*(løsning[q_1] + løsning[q_2] + løsning[q_3])\n",
    "\n",
    "# Viser profitt for en bedrift og for alle tre bedrifter\n",
    "display(profitt, profitt_alle)"
   ]
  },
  {
   "cell_type": "markdown",
   "id": "d9048e04",
   "metadata": {},
   "source": [
    "## Horisontal fusjon\n",
    "\n",
    "Nå har vi sett på Cournot-modellen med tre bedrifter, og vi har funnet likevektsproduksjonen, prisen og profitten til hver bedrift. Nå skal vi se på hva som skjer hvis to av bedriftene fusjonerer, slik at det kun nå er to bedrifter igjen i markedet.\n",
    "\n",
    "Vi får en ny tilpasning til Cournot-modellen, der vi har to bedrifter som konkurrerer med kvantum som strategisk variabel. Vi antar at de to bedriftene har samme kostnadsstruktur, og at marginalkostnaden er konstant og lik $MC = 30$ for begge bedrifter.\n",
    "\n",
    "Vi har fortsatt den samme inverse etterspørselen:\n",
    "\n",
    "$$\n",
    "P = 150 - Q\n",
    "$$\n",
    "\n",
    "der $Q$ er den totale produksjonen i markedet.\n",
    "\n",
    "Vi har nå to bedrifter, og vi kan skrive den totale produksjonen som:\n",
    "\n",
    "$$\n",
    "Q = q_1 + q_2\n",
    "$$\n",
    "\n",
    "Vi kan nå skrive om prisen som funksjon av $q_1$ og $q_2$:\n",
    "\n",
    "$$\n",
    "P = 150 - (q_1 + q_2)\n",
    "$$\n",
    "\n",
    "## Totalinntekt og marginalinntekt\n",
    "\n",
    "Finner så totalinntekten til hver bedrift, som er gitt ved prisen ganget med kvantum:\n",
    "\n",
    "$$\n",
    "TR_i = P \\cdot q_i = (150 - (q_1 + q_2)) \\cdot q_i \\Rightarrow TR_i = 150q_i - q_i(q_1 + q_2)\n",
    "$$\n",
    "\n",
    "Finner så marginalinntekten, som er den deriverte av totalinntekten med hensyn på $q_i$:\n",
    "\n",
    "$$\n",
    "\\frac{dTR_i}{dq_i} = 150 - (q_1 + q_2) - q_i \\Rightarrow MR_i = 150 - (q_1 + q_2) - q_i\n",
    "$$\n",
    "\n",
    "For hver bedrift er marginalinntekten lik prisen minus $q_i$, som er mengden produsert av bedrift $i$.\n",
    "\n",
    "Vi kan også skrive dette som:\n",
    "\n",
    "$$\n",
    "MR_i = P - q_i\n",
    "$$\n"
   ]
  },
  {
   "cell_type": "code",
   "execution_count": 40,
   "id": "d1026ba7",
   "metadata": {},
   "outputs": [
    {
     "data": {
      "text/latex": [
       "$\\displaystyle q_{1} + q_{2} = 150 - P$"
      ],
      "text/plain": [
       "Eq(q_1 + q_2, 150 - P)"
      ]
     },
     "metadata": {},
     "output_type": "display_data"
    },
    {
     "data": {
      "text/latex": [
       "$\\displaystyle - q_{1} - q_{2} + 150$"
      ],
      "text/plain": [
       "-q_1 - q_2 + 150"
      ]
     },
     "metadata": {},
     "output_type": "display_data"
    }
   ],
   "source": [
    "# Q = q_1 + q_2\n",
    "Q = (q_1 + q_2)\n",
    "\n",
    "# Definerer etterspørselsfunksjonen\n",
    "Etterspørsel = sp.Eq(Q, 150-P)\n",
    "\n",
    "# Løser for P\n",
    "Invers_etterspørsel = sp.solve(Etterspørsel, P)[0]\n",
    "\n",
    "# Viser løsningene\n",
    "display(Etterspørsel, Invers_etterspørsel)"
   ]
  },
  {
   "cell_type": "code",
   "execution_count": 41,
   "id": "938f7ee3",
   "metadata": {},
   "outputs": [
    {
     "data": {
      "text/latex": [
       "$\\displaystyle q_{1} \\left(- q_{1} - q_{2} + 150\\right)$"
      ],
      "text/plain": [
       "q_1*(-q_1 - q_2 + 150)"
      ]
     },
     "metadata": {},
     "output_type": "display_data"
    },
    {
     "data": {
      "text/latex": [
       "$\\displaystyle q_{2} \\left(- q_{1} - q_{2} + 150\\right)$"
      ],
      "text/plain": [
       "q_2*(-q_1 - q_2 + 150)"
      ]
     },
     "metadata": {},
     "output_type": "display_data"
    }
   ],
   "source": [
    "# Multipliserer prisen med kvantumet for å finne totalinntekten\n",
    "Totalinntekt = Invers_etterspørsel*q_1\n",
    "Totalinntekt2 = Invers_etterspørsel*q_2\n",
    "\n",
    "# Viser totalinntekten\n",
    "display(Totalinntekt, Totalinntekt2)"
   ]
  },
  {
   "cell_type": "code",
   "execution_count": 42,
   "id": "9a9d464d",
   "metadata": {},
   "outputs": [
    {
     "data": {
      "text/latex": [
       "$\\displaystyle - 2 q_{1} - q_{2} + 150$"
      ],
      "text/plain": [
       "-2*q_1 - q_2 + 150"
      ]
     },
     "metadata": {},
     "output_type": "display_data"
    },
    {
     "data": {
      "text/latex": [
       "$\\displaystyle - q_{1} - 2 q_{2} + 150$"
      ],
      "text/plain": [
       "-q_1 - 2*q_2 + 150"
      ]
     },
     "metadata": {},
     "output_type": "display_data"
    }
   ],
   "source": [
    "# Deriverer totalinntekten for å finne marginalinntekten\n",
    "Marginalinntekt_q1 = sp.diff(Totalinntekt, q_1)\n",
    "Marginalinntekt_q2 = sp.diff(Totalinntekt2, q_2)\n",
    "\n",
    "# Viser marginalinntekten\n",
    "display(sp.simplify(Marginalinntekt_q1), sp.simplify(Marginalinntekt_q2))"
   ]
  },
  {
   "cell_type": "markdown",
   "id": "e249812d",
   "metadata": {},
   "source": [
    "For fremgangsmåten for to bedrifter i Cournot-modellen er det forklart i seminar 6, så vi skal ikke gå gjennom det her. Vi kan imidlertid oppsummere resultatene fra Cournot-modellen med to bedrifter.\n",
    "\n",
    "## Oppsummering av cournot-modellen med to bedrifter\n",
    "\n",
    "Bedriftene produserer 40 enheter hver, og den totale produksjonen i markedet blir 80 enheter. Prisen i markedet blir 70, og profitten til hver bedrift er 1600.\n",
    "\n",
    "Profitten til hver bedrift er høyere enn i Cournot-modellen med tre bedrifter, der profitten var 900. Dette er et eksempel på fusjonsparadokset, der fusjonen fører til høyere profitt for de gjenværende bedriftene."
   ]
  },
  {
   "cell_type": "code",
   "execution_count": 43,
   "id": "ea253fef",
   "metadata": {},
   "outputs": [
    {
     "data": {
      "text/latex": [
       "$\\displaystyle - 2 q_{1} - q_{2} + 150 = 30$"
      ],
      "text/plain": [
       "Eq(-2*q_1 - q_2 + 150, 30)"
      ]
     },
     "metadata": {},
     "output_type": "display_data"
    },
    {
     "data": {
      "text/latex": [
       "$\\displaystyle - q_{1} - 2 q_{2} + 150 = 30$"
      ],
      "text/plain": [
       "Eq(-q_1 - 2*q_2 + 150, 30)"
      ]
     },
     "metadata": {},
     "output_type": "display_data"
    }
   ],
   "source": [
    "# Definerer marginalkostnaden\n",
    "c_1 = 30\n",
    "# Om marginalkostnaden etter fusjon ikke er 30 så endrer man c_2 til den nye marginalkostnaden, samme gjelder for c_1\n",
    "c_2 = 30\n",
    "\n",
    "# Setter marginalinntekten lik kostnaden\n",
    "likevekt_q1 = sp.Eq(Marginalinntekt_q1, c_1)\n",
    "likevekt_q2 = sp.Eq(Marginalinntekt_q2, c_2)\n",
    "\n",
    "display(likevekt_q1, likevekt_q2)"
   ]
  },
  {
   "cell_type": "code",
   "execution_count": 44,
   "id": "99f5902d",
   "metadata": {},
   "outputs": [
    {
     "data": {
      "text/latex": [
       "$\\displaystyle 60 - \\frac{q_{2}}{2}$"
      ],
      "text/plain": [
       "60 - q_2/2"
      ]
     },
     "execution_count": 44,
     "metadata": {},
     "output_type": "execute_result"
    }
   ],
   "source": [
    "# Løser for q1 for å finne reaksjonsfunksjon til bedrift 1\n",
    "q1 = sp.solve(likevekt_q1, q_1)[0]\n",
    "q1"
   ]
  },
  {
   "cell_type": "code",
   "execution_count": 45,
   "id": "31505672",
   "metadata": {},
   "outputs": [
    {
     "data": {
      "text/latex": [
       "$\\displaystyle 60 - \\frac{q_{1}}{2}$"
      ],
      "text/plain": [
       "60 - q_1/2"
      ]
     },
     "metadata": {},
     "output_type": "display_data"
    }
   ],
   "source": [
    "# Løser for q2 for å finne reaksjonsfunksjon til bedrift 2\n",
    "q2 = sp.solve(likevekt_q2, q_2)[0]\n",
    "\n",
    "display(q2)"
   ]
  },
  {
   "cell_type": "code",
   "execution_count": 46,
   "id": "edbd674b",
   "metadata": {},
   "outputs": [
    {
     "data": {
      "text/latex": [
       "$\\displaystyle q_{1} = \\frac{q_{1}}{4} + 30$"
      ],
      "text/plain": [
       "Eq(q_1, q_1/4 + 30)"
      ]
     },
     "execution_count": 46,
     "metadata": {},
     "output_type": "execute_result"
    }
   ],
   "source": [
    "# Setter uttrykk for q2 inn i q1 for å finne likevektskvantum\n",
    "likevekt_eq = sp.Eq(q_1, q1.subs(q_2, q2))\n",
    "likevekt_eq"
   ]
  },
  {
   "cell_type": "code",
   "execution_count": 47,
   "id": "fbf409d2",
   "metadata": {},
   "outputs": [
    {
     "data": {
      "text/latex": [
       "$\\displaystyle 40$"
      ],
      "text/plain": [
       "40"
      ]
     },
     "metadata": {},
     "output_type": "display_data"
    },
    {
     "data": {
      "text/latex": [
       "$\\displaystyle 40$"
      ],
      "text/plain": [
       "40"
      ]
     },
     "metadata": {},
     "output_type": "display_data"
    }
   ],
   "source": [
    "# Løser symmetrisk likevekt for q1 og q2\n",
    "optimal_q1 = sp.solve(likevekt_eq, q_1)[0]\n",
    "\n",
    "optimal_q2 = q2.subs(q_1, optimal_q1)\n",
    "\n",
    "\n",
    "display(optimal_q1, optimal_q2)"
   ]
  },
  {
   "cell_type": "code",
   "execution_count": 48,
   "id": "feb10d6f",
   "metadata": {},
   "outputs": [
    {
     "data": {
      "text/latex": [
       "$\\displaystyle 70$"
      ],
      "text/plain": [
       "70"
      ]
     },
     "execution_count": 48,
     "metadata": {},
     "output_type": "execute_result"
    }
   ],
   "source": [
    "# Optimal Pris\n",
    "optimal_P = Invers_etterspørsel.subs({q_1: optimal_q1, q_2: optimal_q2})\n",
    "\n",
    "optimal_P"
   ]
  },
  {
   "cell_type": "code",
   "execution_count": 49,
   "id": "8d9bd115",
   "metadata": {},
   "outputs": [
    {
     "data": {
      "text/latex": [
       "$\\displaystyle 1600$"
      ],
      "text/plain": [
       "1600"
      ]
     },
     "execution_count": 49,
     "metadata": {},
     "output_type": "execute_result"
    }
   ],
   "source": [
    "# Profitt\n",
    "profitt = (optimal_P - c)*optimal_q1\n",
    "\n",
    "profitt"
   ]
  },
  {
   "cell_type": "markdown",
   "id": "278fdb46",
   "metadata": {},
   "source": [
    "## Horisontale fusjoner og kostnadssynergier\n",
    "\n",
    "Nå har vi sett på hva som skjer når to bedrifter fusjonerer, og vi har sett at dette kan føre til høyere profitt for de gjenværende bedriftene.\n",
    "\n",
    "Vi antar at vi har tre bedrifter som konkurrerer med kvantum som strategisk variabel. Vi har en etterspørsel som er gitt ved:\n",
    "\n",
    "$$\n",
    "Q = \\frac{a - P}{b}\n",
    "$$\n",
    "\n",
    "der $Q$ er mengden som etterspørres, $P$ er prisen.\n",
    "\n",
    "Marginalkostnaden til to av bedriftene er konstant og lik $MC = 30$, mens den tredje bedriften har høyere kostnader lik $MC = 30b$, der $b > 1$.\n",
    "\n",
    "Vi starter med å finne invers etterspørsel for å finne prisen som funksjon av mengden som produseres. Denne er gitt ved å løse etterspørsel for $P$ som før:\n",
    "\n",
    "$$\n",
    "P = a - bQ\n",
    "$$\n",
    "\n",
    "Vi må også huske at siden vi har tre bedrifter, så er den totale mengden som produseres $Q = q_1 + q_2 + q_3$, der $q_i$ er mengden produsert av bedrift $i$.\n",
    "\n",
    "Løsningsmetoden blir den samme som tidligere, men det eneste vi trenger å vite er at den tredje bedriften har høyere kostnader, og at dette vil påvirke reaksjonsfunksjonen til den tredje bedriften.\n",
    "\n",
    "I koden trenger man bare endre på variabelen $b$ i den tredje bedriften, utifra hvor mye høyere kostnader den har. Det er ikke nødvendig å endre på noe annet i koden, da den vil fungere som før, eksempelvis hvis man lar $b = 1$, så vil marginalkostnaden til den tredje bedriften være lik $MC = 30\\cdot 1$, som er lik 30, og dermed vil den ha samme kostnad som de to andre bedriftene, og utregningen vil bli den samme som før."
   ]
  },
  {
   "cell_type": "code",
   "execution_count": 50,
   "id": "4e736b8d",
   "metadata": {},
   "outputs": [
    {
     "data": {
      "text/latex": [
       "$\\displaystyle q_{1} + q_{2} + q_{3} = \\frac{150 - P}{b}$"
      ],
      "text/plain": [
       "Eq(q_1 + q_2 + q_3, (150 - P)/b)"
      ]
     },
     "metadata": {},
     "output_type": "display_data"
    },
    {
     "data": {
      "text/latex": [
       "$\\displaystyle - b q_{1} - b q_{2} - b q_{3} + 150$"
      ],
      "text/plain": [
       "-b*q_1 - b*q_2 - b*q_3 + 150"
      ]
     },
     "metadata": {},
     "output_type": "display_data"
    }
   ],
   "source": [
    "a,b = sp.symbols('a b', real=True, positive=True)\n",
    "a = 150\n",
    "# Her definerer man bare b til å være hva enn man vil utifra hvor stor forskjellen er i marginalkostnadene til den tredje bedriften\n",
    "#b = 1\n",
    "\n",
    "# Q = q_1 + q_2\n",
    "Q = (q_1 + q_2 + q_3)\n",
    "\n",
    "# Definerer etterspørselsfunksjonen\n",
    "Etterspørsel = sp.Eq(Q, (a-P)/b)\n",
    "\n",
    "# Løser for P\n",
    "Invers_etterspørsel = sp.solve(Etterspørsel, P)[0]\n",
    "\n",
    "# Viser løsningene\n",
    "display(Etterspørsel, Invers_etterspørsel)"
   ]
  },
  {
   "cell_type": "code",
   "execution_count": 51,
   "id": "7ba9077b",
   "metadata": {},
   "outputs": [
    {
     "data": {
      "text/latex": [
       "$\\displaystyle q_{1} \\left(- b q_{1} - b q_{2} - b q_{3} + 150\\right)$"
      ],
      "text/plain": [
       "q_1*(-b*q_1 - b*q_2 - b*q_3 + 150)"
      ]
     },
     "metadata": {},
     "output_type": "display_data"
    },
    {
     "data": {
      "text/latex": [
       "$\\displaystyle q_{2} \\left(- b q_{1} - b q_{2} - b q_{3} + 150\\right)$"
      ],
      "text/plain": [
       "q_2*(-b*q_1 - b*q_2 - b*q_3 + 150)"
      ]
     },
     "metadata": {},
     "output_type": "display_data"
    },
    {
     "data": {
      "text/latex": [
       "$\\displaystyle q_{3} \\left(- b q_{1} - b q_{2} - b q_{3} + 150\\right)$"
      ],
      "text/plain": [
       "q_3*(-b*q_1 - b*q_2 - b*q_3 + 150)"
      ]
     },
     "metadata": {},
     "output_type": "display_data"
    }
   ],
   "source": [
    "# Metode 2\n",
    "Totalinntekt = [Invers_etterspørsel*q for q in [q_1, q_2, q_3]]\n",
    "\n",
    "# Viser totalinntekten\n",
    "display(Totalinntekt[0], Totalinntekt[1], Totalinntekt[2])"
   ]
  },
  {
   "cell_type": "code",
   "execution_count": 52,
   "id": "0b05251f",
   "metadata": {},
   "outputs": [
    {
     "data": {
      "text/latex": [
       "$\\displaystyle - 2 b q_{1} - b q_{2} - b q_{3} + 150$"
      ],
      "text/plain": [
       "-2*b*q_1 - b*q_2 - b*q_3 + 150"
      ]
     },
     "metadata": {},
     "output_type": "display_data"
    },
    {
     "data": {
      "text/latex": [
       "$\\displaystyle - b q_{1} - 2 b q_{2} - b q_{3} + 150$"
      ],
      "text/plain": [
       "-b*q_1 - 2*b*q_2 - b*q_3 + 150"
      ]
     },
     "metadata": {},
     "output_type": "display_data"
    },
    {
     "data": {
      "text/latex": [
       "$\\displaystyle - b q_{1} - b q_{2} - 2 b q_{3} + 150$"
      ],
      "text/plain": [
       "-b*q_1 - b*q_2 - 2*b*q_3 + 150"
      ]
     },
     "metadata": {},
     "output_type": "display_data"
    }
   ],
   "source": [
    "Marginalinntekt = [sp.diff(t, q) for t, q in zip(Totalinntekt, [q_1, q_2, q_3])]\n",
    "\n",
    "# Viser marginalinntekten\n",
    "display(Marginalinntekt[0], Marginalinntekt[1], Marginalinntekt[2])"
   ]
  },
  {
   "cell_type": "code",
   "execution_count": 53,
   "id": "10ca2872",
   "metadata": {},
   "outputs": [
    {
     "data": {
      "text/latex": [
       "$\\displaystyle - 2 b q_{1} - b q_{2} - b q_{3} + 150 = 30$"
      ],
      "text/plain": [
       "Eq(-2*b*q_1 - b*q_2 - b*q_3 + 150, 30)"
      ]
     },
     "metadata": {},
     "output_type": "display_data"
    },
    {
     "data": {
      "text/latex": [
       "$\\displaystyle - b q_{1} - 2 b q_{2} - b q_{3} + 150 = 30$"
      ],
      "text/plain": [
       "Eq(-b*q_1 - 2*b*q_2 - b*q_3 + 150, 30)"
      ]
     },
     "metadata": {},
     "output_type": "display_data"
    },
    {
     "data": {
      "text/latex": [
       "$\\displaystyle - b q_{1} - b q_{2} - 2 b q_{3} + 150 = 30 b$"
      ],
      "text/plain": [
       "Eq(-b*q_1 - b*q_2 - 2*b*q_3 + 150, 30*b)"
      ]
     },
     "metadata": {},
     "output_type": "display_data"
    }
   ],
   "source": [
    "# Vi vet at marginalkostnaden er 30 for to av bedriftene og at den tredje har 30*b\n",
    "# Setter inn verdiene i listen\n",
    "c = [30, 30, 30*b]\n",
    "\n",
    "# Metode 2\n",
    "likevekt = [sp.Eq(sp.diff(Totalinntekt[i], q), c[i]) for i, q in enumerate([q_1, q_2, q_3])]\n",
    "\n",
    "# Viser likevektene\n",
    "display(likevekt[0], likevekt[1], likevekt[2])"
   ]
  },
  {
   "cell_type": "code",
   "execution_count": 54,
   "id": "93c4aec6",
   "metadata": {},
   "outputs": [
    {
     "data": {
      "text/latex": [
       "$\\displaystyle \\frac{15 \\left(b + 3\\right)}{2 b}$"
      ],
      "text/plain": [
       "15*(b + 3)/(2*b)"
      ]
     },
     "metadata": {},
     "output_type": "display_data"
    },
    {
     "data": {
      "text/latex": [
       "$\\displaystyle \\frac{15 b + 45}{2 b}$"
      ],
      "text/plain": [
       "(15*b + 45)/(2*b)"
      ]
     },
     "metadata": {},
     "output_type": "display_data"
    },
    {
     "data": {
      "text/latex": [
       "$\\displaystyle \\frac{105 - 45 b}{2 b}$"
      ],
      "text/plain": [
       "(105 - 45*b)/(2*b)"
      ]
     },
     "metadata": {},
     "output_type": "display_data"
    }
   ],
   "source": [
    "# Løser for likevektene og lagrer dem i en liste\n",
    "løsning = sp.solve([likevekt[0], likevekt[1], likevekt[2]], (q_1, q_2, q_3))\n",
    "\n",
    "# Viser løsningene\n",
    "display(sp.simplify(løsning[q_1]), løsning[q_2], løsning[q_3])"
   ]
  },
  {
   "cell_type": "code",
   "execution_count": 55,
   "id": "0c672bbf",
   "metadata": {},
   "outputs": [
    {
     "data": {
      "text/latex": [
       "$\\displaystyle \\frac{15 b}{2} + \\frac{105}{2}$"
      ],
      "text/plain": [
       "15*b/2 + 105/2"
      ]
     },
     "metadata": {},
     "output_type": "display_data"
    }
   ],
   "source": [
    "# Optimal pris\n",
    "optimal_pris = Invers_etterspørsel.subs(løsning)\n",
    "\n",
    "# Viser optimal pris\n",
    "display(optimal_pris)"
   ]
  },
  {
   "cell_type": "code",
   "execution_count": 56,
   "id": "b7860e4d",
   "metadata": {},
   "outputs": [
    {
     "data": {
      "text/latex": [
       "$\\displaystyle \\frac{\\left(\\frac{15 b}{2} + \\frac{45}{2}\\right) \\left(15 b + 45\\right)}{2 b}$"
      ],
      "text/plain": [
       "(15*b/2 + 45/2)*(15*b + 45)/(2*b)"
      ]
     },
     "metadata": {},
     "output_type": "display_data"
    },
    {
     "data": {
      "text/latex": [
       "$\\displaystyle \\frac{\\left(\\frac{15 b}{2} + \\frac{45}{2}\\right) \\left(15 b + 45\\right)}{2 b}$"
      ],
      "text/plain": [
       "(15*b/2 + 45/2)*(15*b + 45)/(2*b)"
      ]
     },
     "metadata": {},
     "output_type": "display_data"
    },
    {
     "data": {
      "text/latex": [
       "$\\displaystyle \\frac{\\left(\\frac{105}{2} - \\frac{45 b}{2}\\right) \\left(105 - 45 b\\right)}{2 b}$"
      ],
      "text/plain": [
       "(105/2 - 45*b/2)*(105 - 45*b)/(2*b)"
      ]
     },
     "metadata": {},
     "output_type": "display_data"
    },
    {
     "data": {
      "text/latex": [
       "$\\displaystyle \\left(\\frac{15 b}{2} + \\frac{45}{2}\\right) \\left(\\frac{105 - 45 b}{2 b} + \\frac{15 b + 45}{b}\\right)$"
      ],
      "text/plain": [
       "(15*b/2 + 45/2)*((105 - 45*b)/(2*b) + (15*b + 45)/b)"
      ]
     },
     "metadata": {},
     "output_type": "display_data"
    }
   ],
   "source": [
    "# Profitt for en bedrift\n",
    "profitt = (optimal_pris - c[0])*løsning[q_1]\n",
    "profitt_2 = (optimal_pris - c[1])*løsning[q_2]\n",
    "profitt_3 = (optimal_pris - c[2])*løsning[q_3]\n",
    "\n",
    "# Profitt for alle tre bedrifter\n",
    "profitt_alle = (optimal_pris - c[0])*(løsning[q_1] + løsning[q_2] + løsning[q_3])\n",
    "\n",
    "# Viser profitt for en bedrift og for alle tre bedrifter\n",
    "display(profitt, profitt_2, profitt_3, profitt_alle)"
   ]
  },
  {
   "cell_type": "markdown",
   "id": "e0d6e709",
   "metadata": {},
   "source": [
    "## Horisontal fusjon\n",
    "\n",
    "Anta at bedrift 2 og 3 fusjonerer, og at all produksjon flyttes til bedrift 2. Nå har vi kun to bedrifter igjen i markedet, og vi kan bruke Cournot-modellen med to bedrifter for å finne den nye likevekten.\n",
    "\n",
    "Det som skjer da er at den totale produksjonen i markedet blir lik summen av produksjonen til de to bedriftene, og vi kan bruke den samme metoden som før for å finne den nye likevekten.\n",
    "\n",
    "Siden bedrift 2 har lavere marginalkostnad enn bedrift 3, så vil den fusjonerte bedriften ha lavere kostnader enn før, og dette vil føre til høyere profitt for de gjenværende bedriftene.\n",
    "\n",
    "Se oppsummering av Cournot-modellen med to bedrifter for mer hvordan utregningen blir, og eventuelt endre marginalkostnaden til bedrift 2 hvis etter fusjonen den har høyere eller lavere kostnader enn bedrift 3."
   ]
  }
 ],
 "metadata": {
  "kernelspec": {
   "display_name": "Python 3",
   "language": "python",
   "name": "python3"
  },
  "language_info": {
   "codemirror_mode": {
    "name": "ipython",
    "version": 3
   },
   "file_extension": ".py",
   "mimetype": "text/x-python",
   "name": "python",
   "nbconvert_exporter": "python",
   "pygments_lexer": "ipython3",
   "version": "3.11.1"
  }
 },
 "nbformat": 4,
 "nbformat_minor": 5
}
